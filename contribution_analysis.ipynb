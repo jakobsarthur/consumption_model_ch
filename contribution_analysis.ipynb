{
 "cells": [
  {
   "cell_type": "code",
   "execution_count": 1,
   "metadata": {},
   "outputs": [
    {
     "name": "stdout",
     "output_type": "stream",
     "text": [
      "Using environment variable BRIGHTWAY2_DIR for data directory:\n",
      "/data/user/kim_a/Brightway3\n"
     ]
    }
   ],
   "source": [
    "import brightway2 as bw\n",
    "import pandas as pd\n",
    "import numpy as np"
   ]
  },
  {
   "cell_type": "code",
   "execution_count": 2,
   "metadata": {},
   "outputs": [],
   "source": [
    "bw.projects.set_current('GSA for oases')\n",
    "co = bw.Database('CH consumption 1.0')\n",
    "average_consump = co.search('ch hh average consumption')[0]\n",
    "# average_consump = co.search('food')[0]"
   ]
  },
  {
   "cell_type": "code",
   "execution_count": 3,
   "metadata": {},
   "outputs": [],
   "source": [
    "sectors = [act for act in co if 'sector' in act[\"name\"]]"
   ]
  },
  {
   "cell_type": "code",
   "execution_count": 4,
   "metadata": {},
   "outputs": [
    {
     "data": {
      "text/plain": [
       "{'Alcoholic beverages and tobacco sector' (1 month of consumption, CH, None),\n",
       " 'Clothing and footwear sector' (1 month of consumption, CH, None),\n",
       " 'Communication sector' (1 month of consumption, CH, None),\n",
       " 'Durable goods sector' (1 month of consumption, CH, None),\n",
       " 'Education sector' (1 month of consumption, CH, None),\n",
       " 'Fees sector' (1 month of consumption, CH, None),\n",
       " 'Food and non-alcoholic beverages sector' (1 month of consumption, CH, None),\n",
       " 'Furnishings, household equipment and routine household maintenance sector' (1 month of consumption, CH, None),\n",
       " 'Health sector' (1 month of consumption, CH, None),\n",
       " 'Housing, water, electricity, gas and other fuels sector' (1 month of consumption, CH, None),\n",
       " 'Miscellaneous goods and services sector' (1 month of consumption, CH, None),\n",
       " 'Other insurance premiums sector' (1 month of consumption, CH, None),\n",
       " 'Premiums for life insurance sector' (1 month of consumption, CH, None),\n",
       " 'Recreation and culture sector' (1 month of consumption, CH, None),\n",
       " 'Restaurants and hotels sector' (1 month of consumption, CH, None),\n",
       " 'Transport sector' (1 month of consumption, CH, None),\n",
       " 'ch hh all consumption' (1 month of consumption, CH, None),\n",
       " 'ch hh average consumption' (1 month of consumption, CH, None)}"
      ]
     },
     "execution_count": 4,
     "metadata": {},
     "output_type": "execute_result"
    }
   ],
   "source": [
    "set([act for act in co if act.get(\"category_coarse\") is None])"
   ]
  },
  {
   "cell_type": "code",
   "execution_count": 5,
   "metadata": {
    "scrolled": false
   },
   "outputs": [],
   "source": [
    "# list(average_consump.exchanges())"
   ]
  },
  {
   "cell_type": "code",
   "execution_count": 16,
   "metadata": {},
   "outputs": [],
   "source": [
    "list_functional_units = []\n",
    "for exc in average_consump.exchanges():\n",
    "    if exc['type'] != 'production':\n",
    "        list_functional_units.append({exc['input']: exc['amount']})\n",
    "\n",
    "# list_functional_units = []\n",
    "# for act in sectors:\n",
    "#     list_functional_units.append({act: 1})\n",
    "        \n",
    "list_methods = [('IPCC 2013', 'climate change', 'GTP 100a')]"
   ]
  },
  {
   "cell_type": "code",
   "execution_count": 17,
   "metadata": {},
   "outputs": [],
   "source": [
    "bw.calculation_setups['av_consump_contribution_analysis'] = {'inv':list_functional_units, 'ia':list_methods}"
   ]
  },
  {
   "cell_type": "code",
   "execution_count": 18,
   "metadata": {},
   "outputs": [
    {
     "name": "stdout",
     "output_type": "stream",
     "text": [
      "CPU times: user 1min 3s, sys: 5.7 s, total: 1min 8s\n",
      "Wall time: 3.75 s\n"
     ]
    }
   ],
   "source": [
    "%%time\n",
    "myMultiLCA = bw.MultiLCA('av_consump_contribution_analysis')"
   ]
  },
  {
   "cell_type": "code",
   "execution_count": 19,
   "metadata": {},
   "outputs": [],
   "source": [
    "lcia_unit = bw.Method(list_methods[0]).metadata['unit']"
   ]
  },
  {
   "cell_type": "code",
   "execution_count": 20,
   "metadata": {},
   "outputs": [],
   "source": [
    "fus = [bw.get_activity(list(el.keys())[0])['name'][:25] for el in list_functional_units]\n",
    "df = pd.DataFrame(index=fus, columns=[lcia_unit], data=myMultiLCA.results)\n",
    "# df['exchanges'] = [list(fu.values())[0] for fu in list_functional_units]\n",
    "df['units'] = [bw.get_activity(list(el.keys())[0])['unit'] for el in list_functional_units]\n"
   ]
  },
  {
   "cell_type": "code",
   "execution_count": 21,
   "metadata": {},
   "outputs": [],
   "source": [
    "df.sort_values(lcia_unit, ascending=False, inplace=True)"
   ]
  },
  {
   "cell_type": "code",
   "execution_count": 22,
   "metadata": {
    "scrolled": false
   },
   "outputs": [
    {
     "name": "stdout",
     "output_type": "stream",
     "text": [
      "                            kg CO2-Eq                 units\n",
      "Natural gas and other fue  295.471929             megajoule\n",
      "Gasoline                   292.822565                 litre\n",
      "Desktop computers           84.940072                  unit\n",
      "Diesel                      74.600249                 litre\n",
      "Electricity of principal    41.602612         kilowatt hour\n",
      "Portable computers          32.526744                  unit\n",
      "Refuse collection costs a   18.883158  number of waste bags\n",
      "Hard and semi-hard cheese   15.893403              kilogram\n",
      "Sausages, cold meat and p   13.549018              kilogram\n",
      "Printers (incl. multifunc   11.976351                  unit\n",
      "Chocolate                   11.220741              kilogram\n",
      "Beef                        10.039435              kilogram\n",
      "Fresh, soft and melted ch    9.440092              kilogram\n",
      "Whole milk                   8.846425                 litre\n",
      "Pork, fresh or frozen        8.670563              kilogram\n",
      "Pure and ground coffee       7.162286              kilogram\n",
      "Ham, bacon and other cure    6.697646              kilogram\n",
      "Non-alcoholic soft drinks    4.978020                 litre\n",
      "Green salads and other le    4.936070              kilogram\n",
      "Yoghurt                      4.867918              kilogram\n",
      "Wastewater collection fee    4.585342           cubic meter\n",
      "Bakery products (sweet an    4.252693              kilogram\n",
      "Beets and other root vege    3.975700              kilogram\n",
      "Soaps and foam baths         3.749015              kilogram\n",
      "Ready-made foods             3.653505              kilogram\n",
      "Skimmed and low-fat milk     3.619785                 litre\n",
      "Butter                       3.435747              kilogram\n",
      "Other fruiting vegetables    3.367312              kilogram\n",
      "Curd                         3.252509              kilogram\n",
      "Fish                         3.102305              kilogram\n",
      "Veal                         3.059609              kilogram\n",
      "Poultry, fresh or frozen     2.922637              kilogram\n",
      "Other vegetable oils and     2.579996                 litre\n",
      "Other eatable meat produc    2.409019              kilogram\n",
      "Fresh eggs                   2.256467              kilogram\n",
      "Cocoa-based beverages        2.195947              kilogram\n",
      "Cream                        2.114691                 litre\n",
      "Bread                        2.035933              kilogram\n",
      "Tinned or processed veget    1.748219              kilogram\n",
      "Newspapers and periodical    1.736323              kilogram\n",
      "Sauces, seasonings and co    1.556153              kilogram\n",
      "Wine                         1.499863                 litre\n",
      "Other boiled, dried, cure    1.493871              kilogram\n",
      "Water supply fees of prin    1.391022           cubic meter\n",
      "Syrups                       1.330283                 litre\n",
      "Pasta products               1.114838              kilogram\n",
      "Other cereal products        1.094201              kilogram\n",
      "Tinned meat and other mea    0.958681              kilogram\n",
      "Fruit juices                 0.933791                 litre\n",
      "Hare, game and rabbit mea    0.920859              kilogram\n",
      "Rice                         0.885198              kilogram\n",
      "Potatoes-based products a    0.713466              kilogram\n",
      "Apples                       0.697043              kilogram\n",
      "Nuts, other edible nuts a    0.690867              kilogram\n",
      "Ice cream                    0.646316              kilogram\n",
      "Sheep and Goat meat          0.614487              kilogram\n",
      "Horse meat                   0.610059              kilogram\n",
      "Instant coffee and coffee    0.516475              kilogram\n",
      "Tomatoes                     0.498026              kilogram\n",
      "Soups and bouillons          0.432523              kilogram\n",
      "Milk-based beverages and     0.419584                 litre\n",
      "Wheat flour                  0.419476              kilogram\n",
      "Stone fruit                  0.390616              kilogram\n",
      "Sandwich                     0.374646              kilogram\n",
      "Oranges and other citrus     0.372763              kilogram\n",
      "Olive oil                    0.353189                 litre\n",
      "Berries                      0.328297              kilogram\n",
      "Brassicas                    0.315402              kilogram\n",
      "Potatoes                     0.291561              kilogram\n",
      "Tea, herbal tea and surro    0.284023              kilogram\n",
      "Alcoholic and non-alcohol    0.276176                 litre\n",
      "Bus, tickets and travelca    0.274593      person kilometer\n",
      "Pears and quinces            0.256913              kilogram\n",
      "Stem vegetables              0.255870              kilogram\n",
      "Other flours and meals, s    0.235525              kilogram\n",
      "Other tropical fruits        0.223881              kilogram\n",
      "Processed eggs               0.220693              kilogram\n",
      "Other fried fruits           0.207701              kilogram\n",
      "Train, tickets and travel    0.207007      person kilometer\n",
      "Beans and peas               0.192620              kilogram\n",
      "Onions                       0.172726              kilogram\n",
      "Other sugary or cocoa-bas    0.172495              kilogram\n",
      "Poultry, grilled or smoke    0.166414              kilogram\n",
      "Grapes                       0.162347              kilogram\n",
      "Melons and watermelons       0.150812              kilogram\n",
      "Bicycles                     0.136792      person kilometer\n",
      "Margarine                    0.129516              kilogram\n",
      "Tram, tickets and travelc    0.117759      person kilometer\n",
      "Banana                       0.116198              kilogram\n",
      "Spirits                      0.109329                 litre\n",
      "Preserved fruits             0.103908              kilogram\n",
      "Jams, marmalades, compote    0.092683              kilogram\n",
      "Sweets and chewing gum       0.086397              kilogram\n",
      "Culinary herbs               0.055537              kilogram\n",
      "Sugar                        0.048820              kilogram\n",
      "Lemons                       0.037566              kilogram\n",
      "Vegetarian soy products      0.032169              kilogram\n",
      "Honey                        0.031155              kilogram\n",
      "Other vegetable fats         0.030382              kilogram\n",
      "Alcoholic and non-alcohol    0.029208                 litre\n",
      "Mushrooms and vegetables,    0.029082              kilogram\n",
      "Vegetable juices             0.028380                 litre\n",
      "Garlic                       0.015524              kilogram\n",
      "Mineral water                0.007801                 litre\n",
      "Other services and losses    0.000000                   CHF\n",
      "Dues to organisations and    0.000000                   CHF\n",
      "Other insurance premiums     0.000000                   CHF\n",
      "Premiums for life insuran    0.000000                   CHF\n",
      "Social protection service    0.000000                   CHF\n",
      "Financial services           0.000000                   CHF\n",
      "Non-durable products of c    0.000000                   CHF\n",
      "Other personal effects       0.000000                   CHF\n",
      "Plastic or paper refuse b    0.000000                   CHF\n",
      "Repair of household appli    0.000000                   CHF\n",
      "Glassware, tableware         0.000000                   CHF\n",
      "Cutlery                      0.000000                   CHF\n",
      "Kitchen utensils             0.000000                   CHF\n",
      "Other household utensils     0.000000                   CHF\n",
      "Tools and equipment witho    0.000000                   CHF\n",
      "Machines with engines for    0.000000                   CHF\n",
      "Detergents and cleaning p    0.000000                   CHF\n",
      "Cleaning articles            0.000000                   CHF\n",
      "Other non-durable househo    0.000000                   CHF\n",
      "Luggage, leather and baby    0.000000                   CHF\n",
      "Domestic services and hou    0.000000                   CHF\n",
      "Medicines                    0.000000                   CHF\n",
      "Glasses and contact lense    0.000000                   CHF\n",
      "Medical products, therape    0.000000                   CHF\n",
      "Medical services and hosp    0.000000                   CHF\n",
      "Taxi                         0.000000                   CHF\n",
      "Air travels, tickets         0.000000                   CHF\n",
      "Passenger transport by se    0.000000                   CHF\n",
      "Other purchased transport    0.000000                   CHF\n",
      "Small electric household     0.000000                   CHF\n",
      "Cookers, barbecue, space     0.000000                   CHF\n",
      "Refrigerators, dishwasher    0.000000                   CHF\n",
      "Household textiles           0.000000                   CHF\n",
      "Tobacco                      0.000000                   CHF\n",
      "Restaurants, cafés and ba    0.000000                   CHF\n",
      "Self-service restaurants     0.000000                   CHF\n",
      "Canteens                     0.000000                   CHF\n",
      "Accommodation services       0.000000                   CHF\n",
      "Clothing materials           0.000000                   CHF\n",
      "Garments for men             0.000000                   CHF\n",
      "Garments for women           0.000000                   CHF\n",
      "Garments for children (be    0.000000                   CHF\n",
      "Clothing accessories         0.000000                   CHF\n",
      "Sewing and knitting produ    0.000000                   CHF\n",
      "Cleaning, repair and hire    0.000000                   CHF\n",
      "Footwear for men             0.000000                   CHF\n",
      "Footwear for women           0.000000                   CHF\n",
      "Footwear for children and    0.000000                   CHF\n",
      "Repair and hire of footwe    0.000000                   CHF\n",
      "Regular maintenance costs    0.000000                   CHF\n",
      "Maintenance and repair of    0.000000                   CHF\n",
      "Furniture and furnishings    0.000000                   CHF\n",
      "Postal services              0.000000                   CHF\n",
      "Purchases and rent of tel    0.000000                   CHF\n",
      "Fixed line                   0.000000                   CHF\n",
      "Museums, exhibitions, lib    0.000000                   CHF\n",
      "Subscriptions to private     0.000000                   CHF\n",
      "Subscriptions to cable te    0.000000                   CHF\n",
      "Rent for equipment and DV    0.000000                   CHF\n",
      "Dues to cultural associat    0.000000                   CHF\n",
      "Other services in enterta    0.000000                   CHF\n",
      "Stakes                       0.000000                   CHF\n",
      "Books and brochures          0.000000                   CHF\n",
      "Miscellaneous printed mat    0.000000                   CHF\n",
      "Writing and drawing mater    0.000000                   CHF\n",
      "Package holidays             0.000000                   CHF\n",
      "Education                    0.000000                   CHF\n",
      "Electrical appliances for    0.000000                   CHF\n",
      "Non-electrical appliances    0.000000                   CHF\n",
      "Fees                         0.000000                   CHF\n",
      "Hair care products           0.000000                   CHF\n",
      "Dental care products         0.000000                   CHF\n",
      "Other products for person    0.000000                   CHF\n",
      "Services of hairdressers     0.000000                   CHF\n",
      "Jewellery, clocks and wat    0.000000                   CHF\n",
      "Fees for radio and TV rec    0.000000                   CHF\n",
      "Cinema                       0.000000                   CHF\n",
      "Mobile telephony             0.000000                   CHF\n",
      "Theatre and concerts         0.000000                   CHF\n",
      "Services of internet prov    0.000000                   CHF\n",
      "Equipment for the recepti    0.000000                   CHF\n",
      "Photographic and cinemato    0.000000                   CHF\n",
      "Sound carriers, data carr    0.000000                   CHF\n",
      "Durable goods for recreat    0.000000                   CHF\n",
      "Games, toys and hobbies      0.000000                   CHF\n",
      "Equipment for sports and     0.000000                   CHF\n",
      "Plants and other non-dura    0.000000                   CHF\n",
      "Pets and related products    0.000000                   CHF\n",
      "Veterinary and other serv    0.000000                   CHF\n",
      "Entries in sports facilit    0.000000                   CHF\n",
      "Services of sports and re    0.000000                   CHF\n",
      "Tickets and season ticket    0.000000                   CHF\n",
      "Rent of sports and recrea    0.000000                   CHF\n",
      "Sports and crafting class    0.000000                   CHF\n",
      "Music and dance classes      0.000000                   CHF\n",
      "Dues for sports clubs and    0.000000                   CHF\n",
      "Dues for recreational ass    0.000000                   CHF\n",
      "Other leisure-time course    0.000000                   CHF\n",
      "Central heating or distri    0.000000             megajoule\n"
     ]
    }
   ],
   "source": [
    "with pd.option_context('display.max_rows', None, 'display.max_columns', None):  # more options can be specified also\n",
    "    print(df)"
   ]
  },
  {
   "cell_type": "code",
   "execution_count": null,
   "metadata": {},
   "outputs": [],
   "source": [
    "df[\"kg CO2-Eq\"].values.sum()"
   ]
  },
  {
   "cell_type": "code",
   "execution_count": 27,
   "metadata": {},
   "outputs": [],
   "source": [
    "# df_ = df.sort_values(lcia_unit)\n",
    "# df_['kg CO2-Eq'].plot.barh(figsize=(20,40))"
   ]
  },
  {
   "cell_type": "markdown",
   "metadata": {},
   "source": [
    "# Biosphere"
   ]
  },
  {
   "cell_type": "code",
   "execution_count": null,
   "metadata": {},
   "outputs": [],
   "source": [
    "import bw2analyzer"
   ]
  },
  {
   "cell_type": "code",
   "execution_count": null,
   "metadata": {},
   "outputs": [],
   "source": [
    "lca = bw.LCA({average_consump: 1}, list_methods[0])"
   ]
  },
  {
   "cell_type": "code",
   "execution_count": null,
   "metadata": {},
   "outputs": [],
   "source": [
    "lca.lci()\n",
    "lca.lcia()\n",
    "lca.score"
   ]
  },
  {
   "cell_type": "code",
   "execution_count": null,
   "metadata": {},
   "outputs": [],
   "source": [
    "ca = bw2analyzer.ContributionAnalysis()"
   ]
  },
  {
   "cell_type": "code",
   "execution_count": null,
   "metadata": {},
   "outputs": [],
   "source": [
    "ca.annotated_top_processes(lca)"
   ]
  },
  {
   "cell_type": "markdown",
   "metadata": {},
   "source": [
    "# Contribution analysis for sectors"
   ]
  },
  {
   "cell_type": "code",
   "execution_count": null,
   "metadata": {},
   "outputs": [],
   "source": [
    "list_methods = [('IPCC 2013', 'climate change', 'GTP 100a')]\n",
    "list_fus = []\n",
    "for cat_of_interest in category_activities:\n",
    "    list_fus.append({co.search(cat_of_interest)[0]: 1})\n",
    "    \n",
    "bw.calculation_setups['sector_contribution_analysis'] = {'inv':list_fus, 'ia':list_methods}\n",
    "\n",
    "%%time\n",
    "myMultiLCA = bw.MultiLCA('sector_contribution_analysis')\n",
    "\n",
    "lcia_unit = bw.Method(list_methods[0]).metadata['unit']\n",
    "\n",
    "fus = [bw.get_activity(list(el.keys())[0])['name'][:25] for el in list_fus]\n",
    "df = pd.DataFrame(index=fus, columns=[lcia_unit], data=myMultiLCA.results)\n",
    "df['units'] = [bw.get_activity(list(el.keys())[0])['unit'] for el in list_fus]\n",
    "\n",
    "df.sort_values(lcia_unit, ascending=False, inplace=True)\n",
    "\n",
    "with pd.option_context('display.max_rows', None, 'display.max_columns', None):  # more options can be specified also\n",
    "    print(df)"
   ]
  },
  {
   "cell_type": "code",
   "execution_count": null,
   "metadata": {},
   "outputs": [],
   "source": []
  },
  {
   "cell_type": "code",
   "execution_count": null,
   "metadata": {},
   "outputs": [],
   "source": []
  }
 ],
 "metadata": {
  "kernelspec": {
   "display_name": "Python [conda env:bw]",
   "language": "python",
   "name": "conda-env-bw-py"
  },
  "language_info": {
   "codemirror_mode": {
    "name": "ipython",
    "version": 3
   },
   "file_extension": ".py",
   "mimetype": "text/x-python",
   "name": "python",
   "nbconvert_exporter": "python",
   "pygments_lexer": "ipython3",
   "version": "3.7.6"
  },
  "varInspector": {
   "cols": {
    "lenName": 16,
    "lenType": 16,
    "lenVar": 40
   },
   "kernels_config": {
    "python": {
     "delete_cmd_postfix": "",
     "delete_cmd_prefix": "del ",
     "library": "var_list.py",
     "varRefreshCmd": "print(var_dic_list())"
    },
    "r": {
     "delete_cmd_postfix": ") ",
     "delete_cmd_prefix": "rm(",
     "library": "var_list.r",
     "varRefreshCmd": "cat(var_dic_list()) "
    }
   },
   "types_to_exclude": [
    "module",
    "function",
    "builtin_function_or_method",
    "instance",
    "_Feature"
   ],
   "window_display": false
  }
 },
 "nbformat": 4,
 "nbformat_minor": 2
}
