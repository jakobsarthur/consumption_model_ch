{
 "cells": [
  {
   "cell_type": "code",
   "execution_count": 1,
   "metadata": {},
   "outputs": [],
   "source": [
    "import brightway2 as bw\n",
    "import pandas as pd\n",
    "import numpy as np"
   ]
  },
  {
   "cell_type": "code",
   "execution_count": 2,
   "metadata": {},
   "outputs": [],
   "source": [
    "bw.projects.set_current('exiobase_reproduce_results')\n",
    "co = bw.Database('CH consumption 1.0')\n",
    "average_consump = co.search('ch hh average consumption')[0]\n",
    "# average_consump = co.search('food')[0]"
   ]
  },
  {
   "cell_type": "code",
   "execution_count": 3,
   "metadata": {},
   "outputs": [],
   "source": [
    "sectors = [act for act in co if 'sector' in act[\"name\"]]"
   ]
  },
  {
   "cell_type": "code",
   "execution_count": 4,
   "metadata": {},
   "outputs": [
    {
     "data": {
      "text/plain": [
       "{'Alcoholic beverages and tobacco sector' (1 month of consumption, CH, None),\n",
       " 'Clothing and footwear sector' (1 month of consumption, CH, None),\n",
       " 'Communication sector' (1 month of consumption, CH, None),\n",
       " 'Durable goods sector' (1 month of consumption, CH, None),\n",
       " 'Education sector' (1 month of consumption, CH, None),\n",
       " 'Fees sector' (1 month of consumption, CH, None),\n",
       " 'Food and non-alcoholic beverages sector' (1 month of consumption, CH, None),\n",
       " 'Furnishings, household equipment and routine household maintenance sector' (1 month of consumption, CH, None),\n",
       " 'Health sector' (1 month of consumption, CH, None),\n",
       " 'Housing, water, electricity, gas and other fuels sector' (1 month of consumption, CH, None),\n",
       " 'Miscellaneous goods and services sector' (1 month of consumption, CH, None),\n",
       " 'Other insurance premiums sector' (1 month of consumption, CH, None),\n",
       " 'Premiums for life insurance sector' (1 month of consumption, CH, None),\n",
       " 'Recreation and culture sector' (1 month of consumption, CH, None),\n",
       " 'Restaurants and hotels sector' (1 month of consumption, CH, None),\n",
       " 'Transport sector' (1 month of consumption, CH, None),\n",
       " 'ch hh all consumption' (1 month of consumption, CH, None),\n",
       " 'ch hh average consumption' (1 month of consumption, CH, None)}"
      ]
     },
     "execution_count": 4,
     "metadata": {},
     "output_type": "execute_result"
    }
   ],
   "source": [
    "set([act for act in co if act.get(\"category_coarse\") is None])"
   ]
  },
  {
   "cell_type": "code",
   "execution_count": 5,
   "metadata": {},
   "outputs": [
    {
     "data": {
      "text/plain": [
       "{'reference product': 'Desktop computers',\n",
       " 'code': 'cg_nodesktoppcs',\n",
       " 'location': 'CH',\n",
       " 'amount': 1.0,\n",
       " 'unit': 'unit',\n",
       " 'name': 'Desktop computers',\n",
       " 'worksheet name': 'Sheet1',\n",
       " 'database': 'CH consumption 1.0',\n",
       " 'category_coarse': 'Durable goods'}"
      ]
     },
     "execution_count": 5,
     "metadata": {},
     "output_type": "execute_result"
    }
   ],
   "source": [
    "[act for act in co if \"Desktop computers\" in act['name']][0].as_dict()"
   ]
  },
  {
   "cell_type": "code",
   "execution_count": null,
   "metadata": {},
   "outputs": [],
   "source": []
  },
  {
   "cell_type": "code",
   "execution_count": null,
   "metadata": {
    "scrolled": false
   },
   "outputs": [],
   "source": [
    "# list(average_consump.exchanges())"
   ]
  },
  {
   "cell_type": "code",
   "execution_count": 6,
   "metadata": {},
   "outputs": [],
   "source": [
    "# list_functional_units = []\n",
    "# for exc in average_consump.exchanges():\n",
    "#     if exc['type'] != 'production':\n",
    "#         list_functional_units.append({exc['input']: exc['amount']})\n",
    "\n",
    "list_functional_units = []\n",
    "for act in sectors:\n",
    "    list_functional_units.append({act: 1})\n",
    "        \n",
    "list_methods = [('IPCC 2013', 'climate change', 'GTP 100a')]"
   ]
  },
  {
   "cell_type": "code",
   "execution_count": 7,
   "metadata": {},
   "outputs": [],
   "source": [
    "bw.calculation_setups['av_consump_contribution_analysis'] = {'inv':list_functional_units, 'ia':list_methods}"
   ]
  },
  {
   "cell_type": "code",
   "execution_count": 8,
   "metadata": {},
   "outputs": [
    {
     "name": "stdout",
     "output_type": "stream",
     "text": [
      "CPU times: user 1.89 s, sys: 167 ms, total: 2.05 s\n",
      "Wall time: 918 ms\n"
     ]
    }
   ],
   "source": [
    "%%time\n",
    "myMultiLCA = bw.MultiLCA('av_consump_contribution_analysis')"
   ]
  },
  {
   "cell_type": "code",
   "execution_count": 9,
   "metadata": {},
   "outputs": [],
   "source": [
    "lcia_unit = bw.Method(list_methods[0]).metadata['unit']"
   ]
  },
  {
   "cell_type": "code",
   "execution_count": 10,
   "metadata": {},
   "outputs": [],
   "source": [
    "fus = [bw.get_activity(list(el.keys())[0])['name'][:25] for el in list_functional_units]\n",
    "df = pd.DataFrame(index=fus, columns=[lcia_unit], data=myMultiLCA.results)\n",
    "df['exchanges'] = [list(fu.values())[0] for fu in list_functional_units]\n",
    "df['units'] = [bw.get_activity(list(el.keys())[0])['unit'] for el in list_functional_units]\n"
   ]
  },
  {
   "cell_type": "code",
   "execution_count": 11,
   "metadata": {},
   "outputs": [],
   "source": [
    "df.sort_values(lcia_unit, ascending=False, inplace=True)"
   ]
  },
  {
   "cell_type": "code",
   "execution_count": 12,
   "metadata": {
    "scrolled": false
   },
   "outputs": [
    {
     "name": "stdout",
     "output_type": "stream",
     "text": [
      "                            kg CO2-Eq  exchanges                   units\n",
      "Transport sector           409.979029          1  1 month of consumption\n",
      "Housing, water, electrici  389.615730          1  1 month of consumption\n",
      "Food and non-alcoholic be  206.095185          1  1 month of consumption\n",
      "Recreation and culture se  153.272810          1  1 month of consumption\n",
      "Furnishings, household eq  121.576936          1  1 month of consumption\n",
      "Durable goods sector       110.239413          1  1 month of consumption\n",
      "Restaurants and hotels se   87.185604          1  1 month of consumption\n",
      "Miscellaneous goods and s   71.495445          1  1 month of consumption\n",
      "Clothing and footwear sec   57.119692          1  1 month of consumption\n",
      "Health sector               55.609832          1  1 month of consumption\n",
      "Communication sector        23.933041          1  1 month of consumption\n",
      "Premiums for life insuran   13.478634          1  1 month of consumption\n",
      "Other insurance premiums     9.093726          1  1 month of consumption\n",
      "Fees sector                  8.047178          1  1 month of consumption\n",
      "Alcoholic beverages and t    5.640879          1  1 month of consumption\n",
      "Education sector             3.607780          1  1 month of consumption\n"
     ]
    }
   ],
   "source": [
    "with pd.option_context('display.max_rows', None, 'display.max_columns', None):  # more options can be specified also\n",
    "    print(df)"
   ]
  },
  {
   "cell_type": "code",
   "execution_count": 13,
   "metadata": {},
   "outputs": [
    {
     "data": {
      "text/plain": [
       "1725.9909161295304"
      ]
     },
     "execution_count": 13,
     "metadata": {},
     "output_type": "execute_result"
    }
   ],
   "source": [
    "df[\"kg CO2-Eq\"].values.sum()"
   ]
  },
  {
   "cell_type": "code",
   "execution_count": null,
   "metadata": {},
   "outputs": [],
   "source": [
    "# df_ = df.sort_values(lcia_unit)\n",
    "# df_['kg CO2-Eq'].plot.barh(figsize=(20,40))"
   ]
  },
  {
   "cell_type": "markdown",
   "metadata": {},
   "source": [
    "# Biosphere"
   ]
  },
  {
   "cell_type": "code",
   "execution_count": null,
   "metadata": {},
   "outputs": [],
   "source": [
    "import bw2analyzer"
   ]
  },
  {
   "cell_type": "code",
   "execution_count": null,
   "metadata": {},
   "outputs": [],
   "source": [
    "lca = bw.LCA({average_consump: 1}, list_methods[0])"
   ]
  },
  {
   "cell_type": "code",
   "execution_count": null,
   "metadata": {},
   "outputs": [],
   "source": [
    "lca.lci()\n",
    "lca.lcia()\n",
    "lca.score"
   ]
  },
  {
   "cell_type": "code",
   "execution_count": null,
   "metadata": {},
   "outputs": [],
   "source": [
    "ca = bw2analyzer.ContributionAnalysis()"
   ]
  },
  {
   "cell_type": "code",
   "execution_count": null,
   "metadata": {},
   "outputs": [],
   "source": [
    "ca.annotated_top_processes(lca)"
   ]
  },
  {
   "cell_type": "markdown",
   "metadata": {},
   "source": [
    "# Contribution analysis for sectors"
   ]
  },
  {
   "cell_type": "code",
   "execution_count": null,
   "metadata": {},
   "outputs": [],
   "source": [
    "list_methods = [('IPCC 2013', 'climate change', 'GTP 100a')]\n",
    "list_fus = []\n",
    "for cat_of_interest in category_activities:\n",
    "    list_fus.append({co.search(cat_of_interest)[0]: 1})\n",
    "    \n",
    "bw.calculation_setups['sector_contribution_analysis'] = {'inv':list_fus, 'ia':list_methods}\n",
    "\n",
    "%%time\n",
    "myMultiLCA = bw.MultiLCA('sector_contribution_analysis')\n",
    "\n",
    "lcia_unit = bw.Method(list_methods[0]).metadata['unit']\n",
    "\n",
    "fus = [bw.get_activity(list(el.keys())[0])['name'][:25] for el in list_fus]\n",
    "df = pd.DataFrame(index=fus, columns=[lcia_unit], data=myMultiLCA.results)\n",
    "df['units'] = [bw.get_activity(list(el.keys())[0])['unit'] for el in list_fus]\n",
    "\n",
    "df.sort_values(lcia_unit, ascending=False, inplace=True)\n",
    "\n",
    "with pd.option_context('display.max_rows', None, 'display.max_columns', None):  # more options can be specified also\n",
    "    print(df)"
   ]
  },
  {
   "cell_type": "code",
   "execution_count": null,
   "metadata": {},
   "outputs": [],
   "source": []
  },
  {
   "cell_type": "code",
   "execution_count": null,
   "metadata": {},
   "outputs": [],
   "source": []
  }
 ],
 "metadata": {
  "kernelspec": {
   "display_name": "Python 3",
   "language": "python",
   "name": "python3"
  },
  "language_info": {
   "codemirror_mode": {
    "name": "ipython",
    "version": 3
   },
   "file_extension": ".py",
   "mimetype": "text/x-python",
   "name": "python",
   "nbconvert_exporter": "python",
   "pygments_lexer": "ipython3",
   "version": "3.8.5"
  },
  "varInspector": {
   "cols": {
    "lenName": 16,
    "lenType": 16,
    "lenVar": 40
   },
   "kernels_config": {
    "python": {
     "delete_cmd_postfix": "",
     "delete_cmd_prefix": "del ",
     "library": "var_list.py",
     "varRefreshCmd": "print(var_dic_list())"
    },
    "r": {
     "delete_cmd_postfix": ") ",
     "delete_cmd_prefix": "rm(",
     "library": "var_list.r",
     "varRefreshCmd": "cat(var_dic_list()) "
    }
   },
   "types_to_exclude": [
    "module",
    "function",
    "builtin_function_or_method",
    "instance",
    "_Feature"
   ],
   "window_display": false
  }
 },
 "nbformat": 4,
 "nbformat_minor": 2
}
