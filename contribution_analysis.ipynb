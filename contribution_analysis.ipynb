{
 "cells": [
  {
   "cell_type": "code",
   "execution_count": null,
   "metadata": {},
   "outputs": [],
   "source": [
    "import brightway2 as bw\n",
    "import pandas as pd\n",
    "import numpy as np"
   ]
  },
  {
   "cell_type": "code",
   "execution_count": null,
   "metadata": {},
   "outputs": [],
   "source": [
    "# bw.projects.set_current('GSA for oases') #TODO choose project\n",
    "bw.projects.set_current('exiobase_reproduce_results')\n",
    "co = bw.Database('CH consumption 1.0')\n",
    "average_consump = co.search('ch hh average consumption')[0]\n",
    "average_consump"
   ]
  },
  {
   "cell_type": "code",
   "execution_count": null,
   "metadata": {},
   "outputs": [],
   "source": [
    "list_functional_units = []\n",
    "for exc in average_consump.exchanges():\n",
    "    if exc['type'] != 'production':\n",
    "        list_functional_units.append({exc['input']: exc['amount']})\n",
    "        \n",
    "list_methods = [\n",
    "    ('IPCC 2013', 'climate change', 'GWP 100a'),\n",
    "#     ('ReCiPe Endpoint (H,A)', 'resources', 'total'),\n",
    "#     ('ReCiPe Endpoint (H,A)', 'ecosystem quality', 'total'),\n",
    "#     ('ReCiPe Endpoint (H,A)', 'human health', 'total'),\n",
    "#     ('USEtox', 'ecotoxicity', 'total'),\n",
    "#     ('USEtox', 'human toxicity', 'total'),\n",
    "]"
   ]
  },
  {
   "cell_type": "code",
   "execution_count": null,
   "metadata": {
    "scrolled": false
   },
   "outputs": [],
   "source": [
    "%%time\n",
    "bw.calculation_setups['av_consump_contribution_analysis'] = {'inv':list_functional_units, 'ia':list_methods}\n",
    "myMultiLCA = bw.MultiLCA('av_consump_contribution_analysis')\n",
    "lcia_unit = bw.Method(list_methods[0]).metadata['unit']\n",
    "fus = [bw.get_activity(list(el.keys())[0])['name'][:25] for el in list_functional_units]\n",
    "df = pd.DataFrame(index=fus, columns=list_methods, data=myMultiLCA.results)\n",
    "df['exchanges'] = [list(fu.values())[0] for fu in list_functional_units]\n",
    "df['units'] = [bw.get_activity(list(el.keys())[0])['unit'] for el in list_functional_units]\n",
    "# df.sort_values(lcia_unit, ascending=False, inplace=True)\n",
    "# with pd.option_context('display.max_rows', None, 'display.max_columns', None):  # more options can be specified also\n",
    "#     print(df)"
   ]
  },
  {
   "cell_type": "markdown",
   "metadata": {},
   "source": [
    "# Biosphere"
   ]
  },
  {
   "cell_type": "code",
   "execution_count": null,
   "metadata": {},
   "outputs": [],
   "source": [
    "import bw2analyzer"
   ]
  },
  {
   "cell_type": "code",
   "execution_count": null,
   "metadata": {},
   "outputs": [],
   "source": [
    "lca = bw.LCA({average_consump: 1}, list_methods[0])"
   ]
  },
  {
   "cell_type": "code",
   "execution_count": null,
   "metadata": {},
   "outputs": [],
   "source": [
    "lca.lci()\n",
    "lca.lcia()\n",
    "lca.score"
   ]
  },
  {
   "cell_type": "code",
   "execution_count": null,
   "metadata": {},
   "outputs": [],
   "source": [
    "ca = bw2analyzer.ContributionAnalysis()"
   ]
  },
  {
   "cell_type": "code",
   "execution_count": null,
   "metadata": {},
   "outputs": [],
   "source": [
    "ca.annotated_top_processes(lca)"
   ]
  },
  {
   "cell_type": "markdown",
   "metadata": {},
   "source": [
    "# Contribution analysis for sectors"
   ]
  },
  {
   "cell_type": "code",
   "execution_count": null,
   "metadata": {},
   "outputs": [],
   "source": [
    "import brightway2 as bw\n",
    "import pandas as pd\n",
    "import plotly.graph_objects as go"
   ]
  },
  {
   "cell_type": "code",
   "execution_count": null,
   "metadata": {},
   "outputs": [],
   "source": [
    "%%time\n",
    "# project = 'GSA for oases'\n",
    "project = 'exiobase_reproduce_results'\n",
    "bw.projects.set_current(project)\n",
    "co = bw.Database(\"CH consumption 1.0\")\n",
    "demand_act = co.search('ch hh average consumption')\n",
    "assert len(demand_act) == 1\n",
    "demand = {demand_act[0]: 1}\n",
    "list_methods = [\n",
    "    ('IPCC 2013', 'climate change', 'GWP 100a'),\n",
    "    ('ReCiPe Endpoint (H,A)', 'resources', 'total'),\n",
    "    ('ReCiPe Endpoint (H,A)', 'ecosystem quality', 'total'),\n",
    "    ('ReCiPe Endpoint (H,A)', 'human health', 'total'),\n",
    "    ('USEtox', 'ecotoxicity', 'total'),\n",
    "    ('USEtox', 'human toxicity', 'total'),\n",
    "]\n",
    "sectors = [act for act in co if 'sector' in act[\"name\"]]\n",
    "list_fus = []\n",
    "for act in sectors:\n",
    "    list_fus.append({act: 1})\n",
    "    \n",
    "bw.calculation_setups['sector_contribution_analysis'] = {'inv':list_fus, 'ia':list_methods}\n",
    "myMultiLCA = bw.MultiLCA('sector_contribution_analysis')\n",
    "# lcia_unit = bw.Method(list_methods[0]).metadata['unit']\n",
    "fus = [bw.get_activity(list(el.keys())[0])['name'][:] for el in list_fus]\n",
    "df = pd.DataFrame(index=fus, columns=list_methods, data=myMultiLCA.results)\n",
    "df['units'] = [bw.get_activity(list(el.keys())[0])['unit'] for el in list_fus]\n",
    "# df.sort_values(lcia_unit, ascending=False, inplace=True)\n",
    "\n",
    "# with pd.option_context('display.max_rows', None, 'display.max_columns', None):  # more options can be specified also\n",
    "#     print(df)"
   ]
  },
  {
   "cell_type": "code",
   "execution_count": null,
   "metadata": {},
   "outputs": [],
   "source": [
    "df_plot = df.iloc[:7]\n",
    "y = df_plot.index.values\n",
    "y = [el.replace('sector','') for el in y]\n",
    "y[1] = 'Housing, water, electricity, gas'\n",
    "y[3] = 'Durable goods (computers, printers)'\n",
    "x = df_plot['kg CO2-Eq'].values"
   ]
  },
  {
   "cell_type": "code",
   "execution_count": null,
   "metadata": {},
   "outputs": [],
   "source": [
    "fig = go.Figure()\n",
    "fig.add_trace(\n",
    "    go.Bar(x=x,y=y,orientation='h',)\n",
    ")\n",
    "fig.update_layout(\n",
    "    height=200,\n",
    "    width=450,\n",
    "    margin=dict(t=0,b=0,l=250,r=0),\n",
    "    yaxis=dict(autorange=\"reversed\"),\n",
    "    xaxis_title='LCIA scores, [kg CO2-eq]'\n",
    ")\n"
   ]
  },
  {
   "cell_type": "code",
   "execution_count": null,
   "metadata": {},
   "outputs": [],
   "source": [
    "fig.write_image('contribution_analysis_esd.pdf')"
   ]
  },
  {
   "cell_type": "code",
   "execution_count": null,
   "metadata": {},
   "outputs": [],
   "source": []
  },
  {
   "cell_type": "code",
   "execution_count": null,
   "metadata": {},
   "outputs": [],
   "source": []
  },
  {
   "cell_type": "code",
   "execution_count": null,
   "metadata": {},
   "outputs": [],
   "source": []
  },
  {
   "cell_type": "code",
   "execution_count": null,
   "metadata": {},
   "outputs": [],
   "source": [
    "# import brightway2 as bw\n",
    "# bw.projects.set_current(\"GSA for oases\")\n",
    "# co = bw.Database(\"CH consumption 1.0\")\n",
    "# demand_act = co.search('ch hh average consumption')\n",
    "# assert len(demand_act) == 1\n",
    "# demand = {demand_act[0]: 1}\n",
    "# list_methods = [\n",
    "#     ('IPCC 2013', 'climate change', 'GWP 100a'),\n",
    "# ]\n",
    "# lca = bw.LCA(demand, list_methods[0])\n",
    "# lca.lci()\n",
    "# lca.lcia()\n",
    "# lca.score"
   ]
  },
  {
   "cell_type": "code",
   "execution_count": null,
   "metadata": {},
   "outputs": [],
   "source": []
  },
  {
   "cell_type": "code",
   "execution_count": null,
   "metadata": {},
   "outputs": [],
   "source": []
  },
  {
   "cell_type": "code",
   "execution_count": null,
   "metadata": {},
   "outputs": [],
   "source": []
  },
  {
   "cell_type": "code",
   "execution_count": null,
   "metadata": {},
   "outputs": [],
   "source": []
  },
  {
   "cell_type": "code",
   "execution_count": null,
   "metadata": {},
   "outputs": [],
   "source": []
  },
  {
   "cell_type": "markdown",
   "metadata": {},
   "source": [
    "# Maritime shipping for Christian"
   ]
  },
  {
   "cell_type": "code",
   "execution_count": 1,
   "metadata": {},
   "outputs": [],
   "source": [
    "import brightway2 as bw\n",
    "import numpy as np\n",
    "from pypardiso import spsolve"
   ]
  },
  {
   "cell_type": "code",
   "execution_count": 2,
   "metadata": {},
   "outputs": [],
   "source": [
    "bw.projects.set_current(\"GSA for paper\")"
   ]
  },
  {
   "cell_type": "code",
   "execution_count": 3,
   "metadata": {},
   "outputs": [
    {
     "data": {
      "text/plain": [
       "1143.4935851845898"
      ]
     },
     "execution_count": 3,
     "metadata": {},
     "output_type": "execute_result"
    }
   ],
   "source": [
    "ei = bw.Database('ecoinvent 3.6 cutoff')\n",
    "co = bw.Database(\"CH consumption 1.0\")\n",
    "methods = [('IPCC 2013', 'climate change', 'GWP 100a')]\n",
    "co = bw.Database(\"CH consumption 1.0\")\n",
    "demand_act = co.search('ch hh average consumption')\n",
    "assert len(demand_act) == 1\n",
    "demand = {demand_act[0]: 1}\n",
    "\n",
    "lca = bw.LCA(demand, methods[0])\n",
    "lca.lci()\n",
    "lca.lcia()\n",
    "reverse_dict = lca.reverse_dict()\n",
    "lca.score"
   ]
  },
  {
   "cell_type": "code",
   "execution_count": 4,
   "metadata": {},
   "outputs": [],
   "source": [
    "tag = \"freight, sea\"\n",
    "\n",
    "maritime_acts_cols = {\n",
    "    act: lca.activity_dict[( act['database'], act['code'] )] for act in ei if tag in act['name'] \n",
    "}\n",
    "Af = lca.characterization_matrix * lca.biosphere_matrix * \\\n",
    "     np.diag(spsolve(lca.technosphere_matrix, lca.demand_array))\n",
    "score_array = np.sum(Af, axis=0)\n",
    "direct_scores = {k:score_array[v] for k,v in maritime_acts_cols.items()}"
   ]
  },
  {
   "cell_type": "code",
   "execution_count": 5,
   "metadata": {},
   "outputs": [],
   "source": [
    "def get_new_fus(old_fus):\n",
    "    new_fus = {}\n",
    "    k = 0\n",
    "    for fu in old_fus:\n",
    "        act = list(fu.keys())[0]\n",
    "        act_amount = list(fu.values())[0]\n",
    "        for exc in act.exchanges():\n",
    "            if exc['type'] == 'technosphere':\n",
    "                amount_prev = new_fus.get(exc.input, 0)\n",
    "                new_fus[exc.input] = amount_prev + act_amount*exc['amount']\n",
    "    return [{k:v} for k,v in new_fus.items()]"
   ]
  },
  {
   "cell_type": "code",
   "execution_count": 6,
   "metadata": {},
   "outputs": [],
   "source": [
    "mar_list = [act for act in ei if tag in act['name']]\n",
    "\n",
    "mar_dict = {}\n",
    "for i,m in enumerate(mar_list):\n",
    "    all_excs = list(m.exchanges())\n",
    "    excs = []\n",
    "    for exc in all_excs:\n",
    "        if tag in exc.input['name']:\n",
    "            excs.append({exc.input: exc.amount})\n",
    "    mar_dict[i] = {\n",
    "        \"output\": m,\n",
    "        \"inputs\": excs,\n",
    "        \"length\": len(excs)\n",
    "    }"
   ]
  },
  {
   "cell_type": "code",
   "execution_count": 21,
   "metadata": {},
   "outputs": [
    {
     "data": {
      "text/plain": [
       "['transport, freight, sea, tanker for petroleum' (ton kilometer, GLO, None),\n",
       " 'transport, freight, sea, container ship with reefer, freezing' (ton kilometer, GLO, None),\n",
       " 'transport, freight, sea, container ship with reefer, cooling' (ton kilometer, GLO, None),\n",
       " 'market for transport, freight, sea, container ship' (ton kilometer, GLO, None),\n",
       " 'market for transport, freight, sea, ferry' (ton kilometer, GLO, None),\n",
       " 'market for transport, freight, sea, tanker for liquid goods other than petroleum and liquefied natural gas' (ton kilometer, GLO, None),\n",
       " 'transport, freight, sea, tanker for liquefied natural gas' (ton kilometer, GLO, None),\n",
       " 'transport, freight, sea, bulk carrier for dry goods' (ton kilometer, GLO, None),\n",
       " 'transport, freight, sea, tanker for liquid goods other than petroleum and liquefied natural gas' (ton kilometer, GLO, None),\n",
       " 'transport, freight, sea, container ship' (ton kilometer, GLO, None),\n",
       " 'market for transport, freight, sea, tanker for petroleum' (ton kilometer, GLO, None),\n",
       " 'market for transport, freight, sea, tanker for liquefied natural gas' (ton kilometer, GLO, None),\n",
       " 'market for transport, freight, sea, container ship with reefer, freezing' (ton kilometer, GLO, None),\n",
       " 'transport, freight, sea, ferry' (ton kilometer, GLO, None),\n",
       " 'market for transport, freight, sea, bulk carrier for dry goods' (ton kilometer, GLO, None),\n",
       " 'market for transport, freight, sea, container ship with reefer, cooling' (ton kilometer, GLO, None)]"
      ]
     },
     "execution_count": 21,
     "metadata": {},
     "output_type": "execute_result"
    }
   ],
   "source": [
    "mar_list"
   ]
  },
  {
   "cell_type": "code",
   "execution_count": 7,
   "metadata": {},
   "outputs": [],
   "source": [
    "max_level = 10\n",
    "list_functional_units = {1: [demand]}\n",
    "for level in range(2, max_level+1):\n",
    "    acts = get_new_fus(list_functional_units[level-1])\n",
    "    list_functional_units[level] = acts"
   ]
  },
  {
   "cell_type": "code",
   "execution_count": 8,
   "metadata": {
    "scrolled": true
   },
   "outputs": [],
   "source": [
    "list_maritime_fus = {}\n",
    "mask = {}\n",
    "for level in range(2, max_level+1):\n",
    "    acts = list_functional_units[level]\n",
    "    mask[level] = np.array([i for i,a in enumerate(acts) if 'freight, sea' in str(a)])\n",
    "    list_maritime_fus[level] = []\n",
    "    for m in mask[level]:\n",
    "        list_maritime_fus[level].append(\n",
    "            list_functional_units[level][m]\n",
    "        )"
   ]
  },
  {
   "cell_type": "code",
   "execution_count": 9,
   "metadata": {},
   "outputs": [],
   "source": [
    "scores = {}\n",
    "for level, fus in list_maritime_fus.items():\n",
    "    if len(fus)>0:\n",
    "        # Run LCAs\n",
    "        bw.calculation_setups['contribution_analysis'] = {'inv':fus, 'ia':methods}\n",
    "        myMultiLCA = bw.MultiLCA('contribution_analysis')\n",
    "        # Save results\n",
    "        list_fu_acts = [list(fu_act.keys())[0] for fu_act in fus]\n",
    "        scores_dict = {fu: 0 for fu in list_fu_acts}\n",
    "        for i,fu in enumerate(list_fu_acts):\n",
    "            scores_dict[fu] += myMultiLCA.results[i,:][0]\n",
    "        scores[level] = scores_dict"
   ]
  },
  {
   "cell_type": "code",
   "execution_count": 40,
   "metadata": {},
   "outputs": [
    {
     "data": {
      "text/plain": [
       "[Exchange: 1.6025641025641 kg*day 'market for operation, reefer, freezing' (kg*day, GLO, None) to 'transport, freight, sea, container ship with reefer, freezing' (ton kilometer, GLO, None)>,\n",
       " Exchange: 1.0 ton kilometer 'market for transport, freight, sea, container ship' (ton kilometer, GLO, None) to 'transport, freight, sea, container ship with reefer, freezing' (ton kilometer, GLO, None)>,\n",
       " Exchange: 1.0 ton kilometer 'transport, freight, sea, container ship with reefer, freezing' (ton kilometer, GLO, None) to 'transport, freight, sea, container ship with reefer, freezing' (ton kilometer, GLO, None)>]"
      ]
     },
     "execution_count": 40,
     "metadata": {},
     "output_type": "execute_result"
    }
   ],
   "source": [
    "list(mar_dict[1]['output'].exchanges())"
   ]
  },
  {
   "cell_type": "code",
   "execution_count": 41,
   "metadata": {},
   "outputs": [
    {
     "data": {
      "text/plain": [
       "{0: {'output': 'transport, freight, sea, tanker for petroleum' (ton kilometer, GLO, None),\n",
       "  'inputs': [{'transport, freight, sea, tanker for petroleum' (ton kilometer, GLO, None): 1.0}],\n",
       "  'length': 1},\n",
       " 1: {'output': 'transport, freight, sea, container ship with reefer, freezing' (ton kilometer, GLO, None),\n",
       "  'inputs': [{'market for transport, freight, sea, container ship' (ton kilometer, GLO, None): 1.0},\n",
       "   {'transport, freight, sea, container ship with reefer, freezing' (ton kilometer, GLO, None): 1.0}],\n",
       "  'length': 2},\n",
       " 2: {'output': 'transport, freight, sea, container ship with reefer, cooling' (ton kilometer, GLO, None),\n",
       "  'inputs': [{'market for transport, freight, sea, container ship' (ton kilometer, GLO, None): 1.0},\n",
       "   {'transport, freight, sea, container ship with reefer, cooling' (ton kilometer, GLO, None): 1.0}],\n",
       "  'length': 2},\n",
       " 3: {'output': 'market for transport, freight, sea, container ship' (ton kilometer, GLO, None),\n",
       "  'inputs': [{'market for transport, freight, sea, container ship' (ton kilometer, GLO, None): 1.0},\n",
       "   {'transport, freight, sea, container ship' (ton kilometer, GLO, None): 1.0}],\n",
       "  'length': 2},\n",
       " 4: {'output': 'market for transport, freight, sea, ferry' (ton kilometer, GLO, None),\n",
       "  'inputs': [{'market for transport, freight, sea, ferry' (ton kilometer, GLO, None): 1.0},\n",
       "   {'transport, freight, sea, ferry' (ton kilometer, GLO, None): 1.0}],\n",
       "  'length': 2},\n",
       " 5: {'output': 'market for transport, freight, sea, tanker for liquid goods other than petroleum and liquefied natural gas' (ton kilometer, GLO, None),\n",
       "  'inputs': [{'market for transport, freight, sea, tanker for liquid goods other than petroleum and liquefied natural gas' (ton kilometer, GLO, None): 1.0},\n",
       "   {'transport, freight, sea, tanker for liquid goods other than petroleum and liquefied natural gas' (ton kilometer, GLO, None): 1.0}],\n",
       "  'length': 2},\n",
       " 6: {'output': 'transport, freight, sea, tanker for liquefied natural gas' (ton kilometer, GLO, None),\n",
       "  'inputs': [{'transport, freight, sea, tanker for liquefied natural gas' (ton kilometer, GLO, None): 1.0}],\n",
       "  'length': 1},\n",
       " 7: {'output': 'transport, freight, sea, bulk carrier for dry goods' (ton kilometer, GLO, None),\n",
       "  'inputs': [{'transport, freight, sea, bulk carrier for dry goods' (ton kilometer, GLO, None): 1.0}],\n",
       "  'length': 1},\n",
       " 8: {'output': 'transport, freight, sea, tanker for liquid goods other than petroleum and liquefied natural gas' (ton kilometer, GLO, None),\n",
       "  'inputs': [{'transport, freight, sea, tanker for liquid goods other than petroleum and liquefied natural gas' (ton kilometer, GLO, None): 1.0}],\n",
       "  'length': 1},\n",
       " 9: {'output': 'transport, freight, sea, container ship' (ton kilometer, GLO, None),\n",
       "  'inputs': [{'transport, freight, sea, container ship' (ton kilometer, GLO, None): 1.0}],\n",
       "  'length': 1},\n",
       " 10: {'output': 'market for transport, freight, sea, tanker for petroleum' (ton kilometer, GLO, None),\n",
       "  'inputs': [{'market for transport, freight, sea, tanker for petroleum' (ton kilometer, GLO, None): 1.0},\n",
       "   {'transport, freight, sea, tanker for petroleum' (ton kilometer, GLO, None): 1.0}],\n",
       "  'length': 2},\n",
       " 11: {'output': 'market for transport, freight, sea, tanker for liquefied natural gas' (ton kilometer, GLO, None),\n",
       "  'inputs': [{'market for transport, freight, sea, tanker for liquefied natural gas' (ton kilometer, GLO, None): 1.0},\n",
       "   {'transport, freight, sea, tanker for liquefied natural gas' (ton kilometer, GLO, None): 1.0}],\n",
       "  'length': 2},\n",
       " 12: {'output': 'market for transport, freight, sea, container ship with reefer, freezing' (ton kilometer, GLO, None),\n",
       "  'inputs': [{'market for transport, freight, sea, container ship with reefer, freezing' (ton kilometer, GLO, None): 1.0},\n",
       "   {'transport, freight, sea, container ship with reefer, freezing' (ton kilometer, GLO, None): 1.0}],\n",
       "  'length': 2},\n",
       " 13: {'output': 'transport, freight, sea, ferry' (ton kilometer, GLO, None),\n",
       "  'inputs': [{'transport, freight, sea, ferry' (ton kilometer, GLO, None): 1.0}],\n",
       "  'length': 1},\n",
       " 14: {'output': 'market for transport, freight, sea, bulk carrier for dry goods' (ton kilometer, GLO, None),\n",
       "  'inputs': [{'market for transport, freight, sea, bulk carrier for dry goods' (ton kilometer, GLO, None): 1.0},\n",
       "   {'transport, freight, sea, bulk carrier for dry goods' (ton kilometer, GLO, None): 1.0}],\n",
       "  'length': 2},\n",
       " 15: {'output': 'market for transport, freight, sea, container ship with reefer, cooling' (ton kilometer, GLO, None),\n",
       "  'inputs': [{'market for transport, freight, sea, container ship with reefer, cooling' (ton kilometer, GLO, None): 1.0},\n",
       "   {'transport, freight, sea, container ship with reefer, cooling' (ton kilometer, GLO, None): 1.0}],\n",
       "  'length': 2}}"
      ]
     },
     "execution_count": 41,
     "metadata": {},
     "output_type": "execute_result"
    }
   ],
   "source": [
    "mar_dict"
   ]
  },
  {
   "cell_type": "code",
   "execution_count": 11,
   "metadata": {
    "scrolled": false
   },
   "outputs": [
    {
     "data": {
      "text/plain": [
       "{0: {'outputs': ['transport, freight, sea, container ship' (ton kilometer, GLO, None),\n",
       "   'market group for heavy fuel oil' (kilogram, RER, None),\n",
       "   'market for heavy fuel oil' (kilogram, CO, None),\n",
       "   'market for heavy fuel oil' (kilogram, PE, None),\n",
       "   'market for container ship' (unit, GLO, None),\n",
       "   'market for heavy fuel oil' (kilogram, RoW, None),\n",
       "   'market for bilge oil' (kilogram, RoW, None),\n",
       "   'market for heavy fuel oil' (kilogram, ZA, None),\n",
       "   'market for heavy fuel oil' (kilogram, BR, None),\n",
       "   'market for bilge oil' (kilogram, Europe without Switzerland, None),\n",
       "   'market for bilge oil' (kilogram, CH, None),\n",
       "   'market for heavy fuel oil' (kilogram, IN, None),\n",
       "   'market for maintenance, container ship' (unit, GLO, None)],\n",
       "  'input': 'transport, freight, sea, container ship' (ton kilometer, GLO, None),\n",
       "  'length': 13},\n",
       " 1: {'outputs': ['market for transport, freight, sea, container ship with reefer, cooling' (ton kilometer, GLO, None),\n",
       "   'transport, freight, sea, container ship with reefer, cooling' (ton kilometer, GLO, None)],\n",
       "  'input': 'market for transport, freight, sea, container ship with reefer, cooling' (ton kilometer, GLO, None),\n",
       "  'length': 2},\n",
       " 2: {'outputs': ['transport, freight, sea, bulk carrier for dry goods' (ton kilometer, GLO, None),\n",
       "   'market group for heavy fuel oil' (kilogram, RER, None),\n",
       "   'market for heavy fuel oil' (kilogram, CO, None),\n",
       "   'market for heavy fuel oil' (kilogram, PE, None),\n",
       "   'market for bulk carrier, for dry goods' (unit, GLO, None),\n",
       "   'market for maintenance, bulk carrier, for dry goods' (unit, GLO, None),\n",
       "   'market for heavy fuel oil' (kilogram, RoW, None),\n",
       "   'market for bilge oil' (kilogram, RoW, None),\n",
       "   'market for heavy fuel oil' (kilogram, ZA, None),\n",
       "   'market for heavy fuel oil' (kilogram, BR, None),\n",
       "   'market for bilge oil' (kilogram, Europe without Switzerland, None),\n",
       "   'market for bilge oil' (kilogram, CH, None),\n",
       "   'market for heavy fuel oil' (kilogram, IN, None)],\n",
       "  'input': 'transport, freight, sea, bulk carrier for dry goods' (ton kilometer, GLO, None),\n",
       "  'length': 13},\n",
       " 3: {'outputs': ['market for transport, freight, sea, tanker for liquid goods other than petroleum and liquefied natural gas' (ton kilometer, GLO, None),\n",
       "   'transport, freight, sea, tanker for liquid goods other than petroleum and liquefied natural gas' (ton kilometer, GLO, None)],\n",
       "  'input': 'market for transport, freight, sea, tanker for liquid goods other than petroleum and liquefied natural gas' (ton kilometer, GLO, None),\n",
       "  'length': 2},\n",
       " 4: {'outputs': ['transport, freight, sea, tanker for liquefied natural gas' (ton kilometer, GLO, None),\n",
       "   'market for tanker, for liquefied natural gas' (unit, GLO, None),\n",
       "   'market group for heavy fuel oil' (kilogram, RER, None),\n",
       "   'market for heavy fuel oil' (kilogram, CO, None),\n",
       "   'market for heavy fuel oil' (kilogram, PE, None),\n",
       "   'market for heavy fuel oil' (kilogram, RoW, None),\n",
       "   'market for bilge oil' (kilogram, RoW, None),\n",
       "   'market for heavy fuel oil' (kilogram, ZA, None),\n",
       "   'market for heavy fuel oil' (kilogram, BR, None),\n",
       "   'market for maintenance, tanker, for liquefied natural gas' (unit, GLO, None),\n",
       "   'market for bilge oil' (kilogram, Europe without Switzerland, None),\n",
       "   'market for bilge oil' (kilogram, CH, None),\n",
       "   'market for heavy fuel oil' (kilogram, IN, None)],\n",
       "  'input': 'transport, freight, sea, tanker for liquefied natural gas' (ton kilometer, GLO, None),\n",
       "  'length': 13},\n",
       " 5: {'outputs': ['transport, freight, sea, tanker for petroleum' (ton kilometer, GLO, None),\n",
       "   'market group for heavy fuel oil' (kilogram, RER, None),\n",
       "   'market for tanker, for petroleum' (unit, GLO, None),\n",
       "   'market for heavy fuel oil' (kilogram, CO, None),\n",
       "   'market for heavy fuel oil' (kilogram, PE, None),\n",
       "   'market for maintenance, tanker, for petroleum' (unit, GLO, None),\n",
       "   'market for heavy fuel oil' (kilogram, RoW, None),\n",
       "   'market for bilge oil' (kilogram, RoW, None),\n",
       "   'market for heavy fuel oil' (kilogram, ZA, None),\n",
       "   'market for heavy fuel oil' (kilogram, BR, None),\n",
       "   'market for bilge oil' (kilogram, Europe without Switzerland, None),\n",
       "   'market for bilge oil' (kilogram, CH, None),\n",
       "   'market for heavy fuel oil' (kilogram, IN, None)],\n",
       "  'input': 'transport, freight, sea, tanker for petroleum' (ton kilometer, GLO, None),\n",
       "  'length': 13},\n",
       " 6: {'outputs': ['transport, freight, sea, container ship with reefer, cooling' (ton kilometer, GLO, None),\n",
       "   'market for operation, reefer, cooling' (kg*day, GLO, None),\n",
       "   'market for transport, freight, sea, container ship' (ton kilometer, GLO, None)],\n",
       "  'input': 'transport, freight, sea, container ship with reefer, cooling' (ton kilometer, GLO, None),\n",
       "  'length': 3},\n",
       " 7: {'outputs': ['market for transport, freight, sea, tanker for petroleum' (ton kilometer, GLO, None),\n",
       "   'transport, freight, sea, tanker for petroleum' (ton kilometer, GLO, None)],\n",
       "  'input': 'market for transport, freight, sea, tanker for petroleum' (ton kilometer, GLO, None),\n",
       "  'length': 2},\n",
       " 8: {'outputs': ['market for transport, freight, sea, tanker for liquefied natural gas' (ton kilometer, GLO, None),\n",
       "   'transport, freight, sea, tanker for liquefied natural gas' (ton kilometer, GLO, None)],\n",
       "  'input': 'market for transport, freight, sea, tanker for liquefied natural gas' (ton kilometer, GLO, None),\n",
       "  'length': 2},\n",
       " 9: {'outputs': ['market for transport, freight, sea, container ship' (ton kilometer, GLO, None),\n",
       "   'transport, freight, sea, container ship' (ton kilometer, GLO, None)],\n",
       "  'input': 'market for transport, freight, sea, container ship' (ton kilometer, GLO, None),\n",
       "  'length': 2},\n",
       " 10: {'outputs': ['transport, freight, sea, container ship with reefer, freezing' (ton kilometer, GLO, None),\n",
       "   'market for transport, freight, sea, container ship' (ton kilometer, GLO, None),\n",
       "   'market for operation, reefer, freezing' (kg*day, GLO, None)],\n",
       "  'input': 'transport, freight, sea, container ship with reefer, freezing' (ton kilometer, GLO, None),\n",
       "  'length': 3},\n",
       " 11: {'outputs': ['transport, freight, sea, tanker for liquid goods other than petroleum and liquefied natural gas' (ton kilometer, GLO, None),\n",
       "   'market group for heavy fuel oil' (kilogram, RER, None),\n",
       "   'market for heavy fuel oil' (kilogram, CO, None),\n",
       "   'market for heavy fuel oil' (kilogram, PE, None),\n",
       "   'market for heavy fuel oil' (kilogram, RoW, None),\n",
       "   'market for bilge oil' (kilogram, RoW, None),\n",
       "   'market for heavy fuel oil' (kilogram, ZA, None),\n",
       "   'market for heavy fuel oil' (kilogram, BR, None),\n",
       "   'market for bilge oil' (kilogram, Europe without Switzerland, None),\n",
       "   'market for bilge oil' (kilogram, CH, None),\n",
       "   'market for heavy fuel oil' (kilogram, IN, None),\n",
       "   'market for maintenance, tanker for liquid goods other than petroleum and liquefied natural gas' (unit, GLO, None),\n",
       "   'market for tanker, for liquid goods other than petroleum and liquefied natural gas' (unit, GLO, None)],\n",
       "  'input': 'transport, freight, sea, tanker for liquid goods other than petroleum and liquefied natural gas' (ton kilometer, GLO, None),\n",
       "  'length': 13},\n",
       " 12: {'outputs': ['transport, freight, sea, ferry' (ton kilometer, GLO, None),\n",
       "   'market group for heavy fuel oil' (kilogram, RER, None),\n",
       "   'market for heavy fuel oil' (kilogram, CO, None),\n",
       "   'market for heavy fuel oil' (kilogram, PE, None),\n",
       "   'market for heavy fuel oil' (kilogram, RoW, None),\n",
       "   'market for bilge oil' (kilogram, RoW, None),\n",
       "   'market for heavy fuel oil' (kilogram, ZA, None),\n",
       "   'market for heavy fuel oil' (kilogram, BR, None),\n",
       "   'market for bilge oil' (kilogram, Europe without Switzerland, None),\n",
       "   'market for bilge oil' (kilogram, CH, None),\n",
       "   'market for heavy fuel oil' (kilogram, IN, None),\n",
       "   'market for maintenance, ferry' (unit, GLO, None),\n",
       "   'market for ferry' (unit, GLO, None)],\n",
       "  'input': 'transport, freight, sea, ferry' (ton kilometer, GLO, None),\n",
       "  'length': 13},\n",
       " 13: {'outputs': ['market for transport, freight, sea, bulk carrier for dry goods' (ton kilometer, GLO, None),\n",
       "   'transport, freight, sea, bulk carrier for dry goods' (ton kilometer, GLO, None)],\n",
       "  'input': 'market for transport, freight, sea, bulk carrier for dry goods' (ton kilometer, GLO, None),\n",
       "  'length': 2},\n",
       " 14: {'outputs': ['market for transport, freight, sea, ferry' (ton kilometer, GLO, None),\n",
       "   'transport, freight, sea, ferry' (ton kilometer, GLO, None)],\n",
       "  'input': 'market for transport, freight, sea, ferry' (ton kilometer, GLO, None),\n",
       "  'length': 2},\n",
       " 15: {'outputs': ['market for transport, freight, sea, container ship with reefer, freezing' (ton kilometer, GLO, None),\n",
       "   'transport, freight, sea, container ship with reefer, freezing' (ton kilometer, GLO, None)],\n",
       "  'input': 'market for transport, freight, sea, container ship with reefer, freezing' (ton kilometer, GLO, None),\n",
       "  'length': 2}}"
      ]
     },
     "execution_count": 11,
     "metadata": {},
     "output_type": "execute_result"
    }
   ],
   "source": [
    "mar_dict2 = {}\n",
    "i = 0\n",
    "for m,col in maritime_acts_cols.items():\n",
    "    rows = lca.tech_params[lca.tech_params['col']==col]['row']\n",
    "    acts = []\n",
    "    for row in rows:\n",
    "        act = bw.get_activity(lca.reverse_dict()[0][row])\n",
    "        acts.append(act)\n",
    "    mar_dict2[i] = {\n",
    "        \"outputs\": acts,\n",
    "        \"input\": m,\n",
    "        \"length\": len(acts)\n",
    "    }\n",
    "    i += 1\n",
    "mar_dict2"
   ]
  },
  {
   "cell_type": "code",
   "execution_count": 26,
   "metadata": {},
   "outputs": [
    {
     "data": {
      "text/plain": [
       "0.34309883951764003"
      ]
     },
     "execution_count": 26,
     "metadata": {},
     "output_type": "execute_result"
    }
   ],
   "source": [
    "sum(list(direct_scores.values())) / 1850 * 100"
   ]
  },
  {
   "cell_type": "code",
   "execution_count": 42,
   "metadata": {},
   "outputs": [
    {
     "data": {
      "text/plain": [
       "{'transport, freight, sea, container ship' (ton kilometer, GLO, None): 1.0442508751974844,\n",
       " 'market for transport, freight, sea, container ship with reefer, cooling' (ton kilometer, GLO, None): 0.0,\n",
       " 'transport, freight, sea, bulk carrier for dry goods' (ton kilometer, GLO, None): 1.913798370779704,\n",
       " 'market for transport, freight, sea, tanker for liquid goods other than petroleum and liquefied natural gas' (ton kilometer, GLO, None): 0.0,\n",
       " 'transport, freight, sea, tanker for liquefied natural gas' (ton kilometer, GLO, None): 0.10353608688887686,\n",
       " 'transport, freight, sea, tanker for petroleum' (ton kilometer, GLO, None): 3.273808981567363,\n",
       " 'transport, freight, sea, container ship with reefer, cooling' (ton kilometer, GLO, None): 0.0,\n",
       " 'market for transport, freight, sea, tanker for petroleum' (ton kilometer, GLO, None): 0.0,\n",
       " 'market for transport, freight, sea, tanker for liquefied natural gas' (ton kilometer, GLO, None): 0.0,\n",
       " 'market for transport, freight, sea, container ship' (ton kilometer, GLO, None): 0.0,\n",
       " 'transport, freight, sea, container ship with reefer, freezing' (ton kilometer, GLO, None): 0.0,\n",
       " 'transport, freight, sea, tanker for liquid goods other than petroleum and liquefied natural gas' (ton kilometer, GLO, None): 0.011934216642911787,\n",
       " 'transport, freight, sea, ferry' (ton kilometer, GLO, None): 0.0,\n",
       " 'market for transport, freight, sea, bulk carrier for dry goods' (ton kilometer, GLO, None): 0.0,\n",
       " 'market for transport, freight, sea, ferry' (ton kilometer, GLO, None): 0.0,\n",
       " 'market for transport, freight, sea, container ship with reefer, freezing' (ton kilometer, GLO, None): 0.0}"
      ]
     },
     "execution_count": 42,
     "metadata": {},
     "output_type": "execute_result"
    }
   ],
   "source": [
    "direct_scores"
   ]
  },
  {
   "cell_type": "code",
   "execution_count": 12,
   "metadata": {
    "scrolled": false
   },
   "outputs": [
    {
     "data": {
      "text/plain": [
       "[{'market for transport, freight, sea, bulk carrier for dry goods' (ton kilometer, GLO, None): 4.6954924663926345},\n",
       " {'market for transport, freight, sea, container ship with reefer, cooling' (ton kilometer, GLO, None): 16.82804157998949},\n",
       " {'market for transport, freight, sea, container ship' (ton kilometer, GLO, None): 7.161385418843002}]"
      ]
     },
     "execution_count": 12,
     "metadata": {},
     "output_type": "execute_result"
    }
   ],
   "source": [
    "list_maritime_fus[4]"
   ]
  },
  {
   "cell_type": "code",
   "execution_count": 13,
   "metadata": {},
   "outputs": [
    {
     "data": {
      "text/plain": [
       "[{'transport, freight, sea, bulk carrier for dry goods' (ton kilometer, GLO, None): 4.6954924663926345},\n",
       " {'market for transport, freight, sea, container ship' (ton kilometer, GLO, None): 1.4366627499183091},\n",
       " {'market for transport, freight, sea, bulk carrier for dry goods' (ton kilometer, GLO, None): 0.5858700904178393},\n",
       " {'transport, freight, sea, container ship with reefer, cooling' (ton kilometer, GLO, None): 16.82804157998949},\n",
       " {'transport, freight, sea, container ship' (ton kilometer, GLO, None): 7.161385418843002},\n",
       " {'market for transport, freight, sea, container ship with reefer, cooling' (ton kilometer, GLO, None): 1.3437479619301484},\n",
       " {'market for transport, freight, sea, tanker for petroleum' (ton kilometer, GLO, None): 0.0014862821010739537}]"
      ]
     },
     "execution_count": 13,
     "metadata": {},
     "output_type": "execute_result"
    }
   ],
   "source": [
    "list_maritime_fus[5]"
   ]
  },
  {
   "cell_type": "code",
   "execution_count": 14,
   "metadata": {},
   "outputs": [
    {
     "data": {
      "text/plain": [
       "[{'transport, freight, sea, container ship' (ton kilometer, GLO, None): 1.4366627499183091},\n",
       " {'market for transport, freight, sea, container ship' (ton kilometer, GLO, None): 33.56879731726995},\n",
       " {'market for transport, freight, sea, bulk carrier for dry goods' (ton kilometer, GLO, None): 1.9337562511291584},\n",
       " {'transport, freight, sea, bulk carrier for dry goods' (ton kilometer, GLO, None): 0.5858700904178393},\n",
       " {'market for transport, freight, sea, tanker for petroleum' (ton kilometer, GLO, None): 0.020472060022276906},\n",
       " {'market for transport, freight, sea, container ship with reefer, cooling' (ton kilometer, GLO, None): 19.093083921504082},\n",
       " {'market for transport, freight, sea, tanker for liquid goods other than petroleum and liquefied natural gas' (ton kilometer, GLO, None): 0.15628291594007873},\n",
       " {'transport, freight, sea, container ship with reefer, cooling' (ton kilometer, GLO, None): 1.3437479619301484},\n",
       " {'transport, freight, sea, tanker for petroleum' (ton kilometer, GLO, None): 0.0014862821010739537}]"
      ]
     },
     "execution_count": 14,
     "metadata": {},
     "output_type": "execute_result"
    }
   ],
   "source": [
    "list_maritime_fus[6]"
   ]
  },
  {
   "cell_type": "code",
   "execution_count": 15,
   "metadata": {},
   "outputs": [
    {
     "data": {
      "text/plain": [
       "[{'market for transport, freight, sea, tanker for petroleum' (ton kilometer, GLO, None): 63.87090655287512},\n",
       " {'market for transport, freight, sea, container ship' (ton kilometer, GLO, None): 3.501573852291081},\n",
       " {'market for transport, freight, sea, bulk carrier for dry goods' (ton kilometer, GLO, None): 8.159042939203303},\n",
       " {'market for transport, freight, sea, tanker for liquid goods other than petroleum and liquefied natural gas' (ton kilometer, GLO, None): 0.07295530738046224},\n",
       " {'transport, freight, sea, container ship' (ton kilometer, GLO, None): 33.56879731726995},\n",
       " {'transport, freight, sea, bulk carrier for dry goods' (ton kilometer, GLO, None): 1.9337562511291584},\n",
       " {'transport, freight, sea, tanker for petroleum' (ton kilometer, GLO, None): 0.020472060022276906},\n",
       " {'transport, freight, sea, container ship with reefer, cooling' (ton kilometer, GLO, None): 19.093083921504082},\n",
       " {'transport, freight, sea, tanker for liquid goods other than petroleum and liquefied natural gas' (ton kilometer, GLO, None): 0.15628291594007873},\n",
       " {'market for transport, freight, sea, container ship with reefer, cooling' (ton kilometer, GLO, None): 0.08049838875432276},\n",
       " {'market for transport, freight, sea, tanker for liquefied natural gas' (ton kilometer, GLO, None): 0.004673420937208368}]"
      ]
     },
     "execution_count": 15,
     "metadata": {},
     "output_type": "execute_result"
    }
   ],
   "source": [
    "list_maritime_fus[7]"
   ]
  },
  {
   "cell_type": "code",
   "execution_count": 16,
   "metadata": {},
   "outputs": [
    {
     "data": {
      "text/plain": [
       "[{'market for transport, freight, sea, tanker for petroleum' (ton kilometer, GLO, None): 445.2112861998409},\n",
       " {'transport, freight, sea, tanker for petroleum' (ton kilometer, GLO, None): 63.87090655287512},\n",
       " {'market for transport, freight, sea, container ship' (ton kilometer, GLO, None): 38.88072491265728},\n",
       " {'market for transport, freight, sea, bulk carrier for dry goods' (ton kilometer, GLO, None): 15.85324661709054},\n",
       " {'transport, freight, sea, container ship' (ton kilometer, GLO, None): 3.501573852291081},\n",
       " {'transport, freight, sea, bulk carrier for dry goods' (ton kilometer, GLO, None): 8.159042939203303},\n",
       " {'transport, freight, sea, tanker for liquid goods other than petroleum and liquefied natural gas' (ton kilometer, GLO, None): 0.07295530738046224},\n",
       " {'market for transport, freight, sea, tanker for liquid goods other than petroleum and liquefied natural gas' (ton kilometer, GLO, None): 0.205928539113951},\n",
       " {'market for transport, freight, sea, container ship with reefer, cooling' (ton kilometer, GLO, None): 1.3830832871095482},\n",
       " {'market for transport, freight, sea, tanker for liquefied natural gas' (ton kilometer, GLO, None): 0.0007056548575640941},\n",
       " {'transport, freight, sea, container ship with reefer, cooling' (ton kilometer, GLO, None): 0.08049838875432276},\n",
       " {'transport, freight, sea, tanker for liquefied natural gas' (ton kilometer, GLO, None): 0.004673420937208368}]"
      ]
     },
     "execution_count": 16,
     "metadata": {},
     "output_type": "execute_result"
    }
   ],
   "source": [
    "list_maritime_fus[8]"
   ]
  },
  {
   "cell_type": "code",
   "execution_count": 17,
   "metadata": {},
   "outputs": [
    {
     "data": {
      "text/plain": [
       "[{'market for transport, freight, sea, tanker for petroleum' (ton kilometer, GLO, None): 12.254954930519162},\n",
       " {'transport, freight, sea, tanker for petroleum' (ton kilometer, GLO, None): 445.2112861998409},\n",
       " {'market for transport, freight, sea, bulk carrier for dry goods' (ton kilometer, GLO, None): 9.674244402350153},\n",
       " {'market for transport, freight, sea, container ship' (ton kilometer, GLO, None): 3.0970428486356165},\n",
       " {'transport, freight, sea, container ship' (ton kilometer, GLO, None): 38.88072491265728},\n",
       " {'transport, freight, sea, bulk carrier for dry goods' (ton kilometer, GLO, None): 15.85324661709054},\n",
       " {'transport, freight, sea, tanker for liquid goods other than petroleum and liquefied natural gas' (ton kilometer, GLO, None): 0.205928539113951},\n",
       " {'market for transport, freight, sea, tanker for liquid goods other than petroleum and liquefied natural gas' (ton kilometer, GLO, None): 0.11071317208797347},\n",
       " {'market for transport, freight, sea, tanker for liquefied natural gas' (ton kilometer, GLO, None): 0.8186617596851201},\n",
       " {'transport, freight, sea, container ship with reefer, cooling' (ton kilometer, GLO, None): 1.3830832871095482},\n",
       " {'market for transport, freight, sea, container ship with reefer, cooling' (ton kilometer, GLO, None): 0.0011900354029623567},\n",
       " {'transport, freight, sea, tanker for liquefied natural gas' (ton kilometer, GLO, None): 0.0007056548575640941}]"
      ]
     },
     "execution_count": 17,
     "metadata": {},
     "output_type": "execute_result"
    }
   ],
   "source": [
    "list_maritime_fus[9]"
   ]
  },
  {
   "cell_type": "code",
   "execution_count": 18,
   "metadata": {},
   "outputs": [
    {
     "data": {
      "text/plain": [
       "[{'market for transport, freight, sea, container ship' (ton kilometer, GLO, None): 8.274243739202578},\n",
       " {'market for transport, freight, sea, bulk carrier for dry goods' (ton kilometer, GLO, None): 19.055115538119527},\n",
       " {'market for transport, freight, sea, tanker for petroleum' (ton kilometer, GLO, None): 5.803818661648253},\n",
       " {'transport, freight, sea, tanker for petroleum' (ton kilometer, GLO, None): 12.254954930519162},\n",
       " {'market for transport, freight, sea, tanker for liquid goods other than petroleum and liquefied natural gas' (ton kilometer, GLO, None): 0.20531385244104466},\n",
       " {'transport, freight, sea, bulk carrier for dry goods' (ton kilometer, GLO, None): 9.674244402350153},\n",
       " {'transport, freight, sea, container ship' (ton kilometer, GLO, None): 3.0970428486356165},\n",
       " {'market for transport, freight, sea, tanker for liquefied natural gas' (ton kilometer, GLO, None): 0.24795724679718328},\n",
       " {'transport, freight, sea, tanker for liquid goods other than petroleum and liquefied natural gas' (ton kilometer, GLO, None): 0.11071317208797347},\n",
       " {'transport, freight, sea, tanker for liquefied natural gas' (ton kilometer, GLO, None): 0.8186617596851201},\n",
       " {'market for transport, freight, sea, container ship with reefer, cooling' (ton kilometer, GLO, None): 0.06512974515849096},\n",
       " {'transport, freight, sea, container ship with reefer, cooling' (ton kilometer, GLO, None): 0.0011900354029623567}]"
      ]
     },
     "execution_count": 18,
     "metadata": {},
     "output_type": "execute_result"
    }
   ],
   "source": [
    "list_maritime_fus[10]"
   ]
  },
  {
   "cell_type": "code",
   "execution_count": 37,
   "metadata": {},
   "outputs": [],
   "source": [
    "indirect_scores = {}\n",
    "for level in range(2,max_level+1):\n",
    "    list_ = list_maritime_fus[level]\n",
    "    indirect_score = 0\n",
    "    for el in list_:\n",
    "        temp = list(el.values())[0]\n",
    "        indirect_score += temp\n",
    "    indirect_scores[level] = indirect_score"
   ]
  },
  {
   "cell_type": "code",
   "execution_count": 38,
   "metadata": {},
   "outputs": [
    {
     "data": {
      "text/plain": [
       "{2: 0,\n",
       " 3: 0,\n",
       " 4: 28.68491946522513,\n",
       " 5: 32.0526865495925,\n",
       " 6: 58.14015955023293,\n",
       " 7: 130.46204292730704,\n",
       " 8: 577.2246256721115,\n",
       " 9: 527.491782359351,\n",
       " 10: 59.60838593204807}"
      ]
     },
     "execution_count": 38,
     "metadata": {},
     "output_type": "execute_result"
    }
   ],
   "source": [
    "indirect_scores"
   ]
  },
  {
   "cell_type": "code",
   "execution_count": null,
   "metadata": {},
   "outputs": [],
   "source": []
  },
  {
   "cell_type": "code",
   "execution_count": null,
   "metadata": {},
   "outputs": [],
   "source": []
  },
  {
   "cell_type": "code",
   "execution_count": null,
   "metadata": {},
   "outputs": [],
   "source": []
  },
  {
   "cell_type": "code",
   "execution_count": null,
   "metadata": {},
   "outputs": [],
   "source": []
  },
  {
   "cell_type": "code",
   "execution_count": null,
   "metadata": {},
   "outputs": [],
   "source": []
  }
 ],
 "metadata": {
  "kernelspec": {
   "display_name": "Python 3",
   "language": "python",
   "name": "python3"
  },
  "language_info": {
   "codemirror_mode": {
    "name": "ipython",
    "version": 3
   },
   "file_extension": ".py",
   "mimetype": "text/x-python",
   "name": "python",
   "nbconvert_exporter": "python",
   "pygments_lexer": "ipython3",
   "version": "3.8.6"
  },
  "varInspector": {
   "cols": {
    "lenName": 16,
    "lenType": 16,
    "lenVar": 40
   },
   "kernels_config": {
    "python": {
     "delete_cmd_postfix": "",
     "delete_cmd_prefix": "del ",
     "library": "var_list.py",
     "varRefreshCmd": "print(var_dic_list())"
    },
    "r": {
     "delete_cmd_postfix": ") ",
     "delete_cmd_prefix": "rm(",
     "library": "var_list.r",
     "varRefreshCmd": "cat(var_dic_list()) "
    }
   },
   "types_to_exclude": [
    "module",
    "function",
    "builtin_function_or_method",
    "instance",
    "_Feature"
   ],
   "window_display": false
  }
 },
 "nbformat": 4,
 "nbformat_minor": 2
}
