{
 "cells": [
  {
   "cell_type": "code",
   "execution_count": 1,
   "metadata": {},
   "outputs": [],
   "source": [
    "import brightway2 as bw\n",
    "import pandas as pd\n",
    "import numpy as np"
   ]
  },
  {
   "cell_type": "code",
   "execution_count": 2,
   "metadata": {},
   "outputs": [],
   "source": [
    "bw.projects.set_current('GSA for ecoinvent')\n",
    "co = bw.Database('CH consumption 1.0')\n",
    "average_consump = co.search('average consumption')[0]"
   ]
  },
  {
   "cell_type": "code",
   "execution_count": 3,
   "metadata": {},
   "outputs": [
    {
     "data": {
      "text/plain": [
       "'ch hh average consumption' (1 month of consumption, CH, None)"
      ]
     },
     "execution_count": 3,
     "metadata": {},
     "output_type": "execute_result"
    }
   ],
   "source": [
    "average_consump"
   ]
  },
  {
   "cell_type": "code",
   "execution_count": 4,
   "metadata": {},
   "outputs": [],
   "source": [
    "list_functional_units = []\n",
    "for exc in average_consump.exchanges():\n",
    "    list_functional_units.append({exc['input']: exc['amount']})\n",
    "        \n",
    "list_methods = [('IPCC 2013', 'climate change', 'GTP 100a')]"
   ]
  },
  {
   "cell_type": "code",
   "execution_count": 5,
   "metadata": {},
   "outputs": [],
   "source": [
    "bw.calculation_setups['av_consump_contribution_analysis'] = {'inv':list_functional_units, 'ia':list_methods}"
   ]
  },
  {
   "cell_type": "code",
   "execution_count": 6,
   "metadata": {},
   "outputs": [
    {
     "name": "stdout",
     "output_type": "stream",
     "text": [
      "CPU times: user 4min 16s, sys: 17.8 s, total: 4min 34s\n",
      "Wall time: 1min 8s\n"
     ]
    }
   ],
   "source": [
    "%%time\n",
    "myMultiLCA = bw.MultiLCA('av_consump_contribution_analysis')"
   ]
  },
  {
   "cell_type": "code",
   "execution_count": 7,
   "metadata": {},
   "outputs": [],
   "source": [
    "lcia_unit = bw.Method(list_methods[0]).metadata['unit']"
   ]
  },
  {
   "cell_type": "code",
   "execution_count": 8,
   "metadata": {},
   "outputs": [],
   "source": [
    "fus = [bw.get_activity(list(el.keys())[0])['name'][:25] for el in list_functional_units]\n",
    "df = pd.DataFrame(index=fus, columns=[lcia_unit], data=myMultiLCA.results)\n",
    "df['exchanges'] = [list(fu.values())[0] for fu in list_functional_units]\n",
    "df['units'] = [bw.get_activity(list(el.keys())[0])['unit'] for el in list_functional_units]\n"
   ]
  },
  {
   "cell_type": "code",
   "execution_count": 9,
   "metadata": {},
   "outputs": [],
   "source": [
    "df.sort_values(lcia_unit, ascending=False, inplace=True)"
   ]
  },
  {
   "cell_type": "code",
   "execution_count": 10,
   "metadata": {},
   "outputs": [
    {
     "name": "stdout",
     "output_type": "stream",
     "text": [
      "                              kg CO2-Eq   exchanges                   units\n",
      "ch hh average consumption  42241.179760    1.000000  1 month of consumption\n",
      "Medicines                   5730.665010   40.823188                     CHF\n",
      "Other products for person   5049.411053   35.970181                     CHF\n",
      "Detergents and cleaning p   2932.607771   20.890839                     CHF\n",
      "Tools and equipment witho   1221.763986   30.048820                     CHF\n",
      "Refrigerators, dishwasher   1098.131331   17.756131                     CHF\n",
      "Furniture and furnishings   1094.236133  116.197564                     CHF\n",
      "Garments for women          1065.131506  103.789802                     CHF\n",
      "Hair care products          1015.224370    7.232092                     CHF\n",
      "Medical products, therape    997.446101    7.969828                     CHF\n",
      "Premiums for life insuran    952.384666  287.578522                     CHF\n",
      "Cookers, barbecue, space     827.089825   13.373551                     CHF\n",
      "Regular maintenance costs    803.858498   26.904831                     CHF\n",
      "Package holidays             788.892736  165.219600                     CHF\n",
      "Restaurants, cafés and ba    776.693315  304.071590                     CHF\n",
      "Other insurance premiums     642.552166  201.468452                     CHF\n",
      "Small electric household     598.516276    9.677653                     CHF\n",
      "Financial services           598.325332   24.212401                     CHF\n",
      "Household textiles           593.319771   28.849185                     CHF\n",
      "Garments for men             585.062240   57.010326                     CHF\n",
      "Maintenance and repair of    583.285449   83.638861                     CHF\n",
      "Fixed line                   581.870251   67.445904                     CHF\n",
      "Mobile telephony             560.181516   64.931913                     CHF\n",
      "Durable goods for recreat    548.323204   20.749242                     CHF\n",
      "Fees                         543.479907   76.540802                     CHF\n",
      "Dental care products         538.956836    3.839334                     CHF\n",
      "Domestic services and hou    530.383866   17.751741                     CHF\n",
      "Machines with engines for    479.198289    7.748352                     CHF\n",
      "Gasoline                     471.036510  121.328264                   litre\n",
      "Kitchen utensils             390.697327    9.609052                     CHF\n",
      "Equipment for the recepti    381.452475   32.094215                     CHF\n",
      "Glasses and contact lense    319.481384   28.147399                     CHF\n",
      "Hard and semi-hard cheese    307.664373   32.790849                kilogram\n",
      "Sausages, cold meat and p    264.869498   32.736453                kilogram\n",
      "Beef                         261.201262   23.888668                kilogram\n",
      "Games, toys and hobbies      259.674314   27.574965                     CHF\n",
      "Services of internet prov    258.631003   29.978508                     CHF\n",
      "Jewellery, clocks and wat    247.374744   25.372599                     CHF\n",
      "Non-durable products of c    244.439271   14.150848                     CHF\n",
      "Chocolate                    243.246316   20.076453                kilogram\n",
      "Accommodation services       233.388745   91.370539                     CHF\n",
      "Other non-durable househo    232.717641   13.884253                     CHF\n",
      "Footwear for women           223.797530   24.805622                     CHF\n",
      "Garments for children (be    215.955661   21.043407                     CHF\n",
      "Equipment for sports and     214.814475   22.811272                     CHF\n",
      "Electrical appliances for    207.953348    3.362482                     CHF\n",
      "Non-electrical appliances    199.133830    4.897621                     CHF\n",
      "Books and brochures          193.228400   21.005433                     CHF\n",
      "Other household utensils     184.829866    4.545820                     CHF\n",
      "Clothing accessories         179.735198    8.739325                     CHF\n",
      "Self-service restaurants     178.652141   69.941429                     CHF\n",
      "Pork, fresh or frozen        175.311427   19.597377                kilogram\n",
      "Ham, bacon and other cure    174.649962   20.571595                kilogram\n",
      "Medical services and hosp    172.693400  208.087785                     CHF\n",
      "Tickets and season ticket    168.325851   12.638528                     CHF\n",
      "Fresh, soft and melted ch    151.621308   16.159789                kilogram\n",
      "Pure and ground coffee       146.230020   18.044207                kilogram\n",
      "Sewing and knitting produ    134.573412    2.175972                     CHF\n",
      "Footwear for men             129.619780   14.367001                     CHF\n",
      "Diesel                       126.072363   28.568768                   litre\n",
      "Luggage, leather and baby    118.216040   13.103015                     CHF\n",
      "Sound carriers, data carr    113.543166   12.343027                     CHF\n",
      "Veal                         108.447046    9.918235                kilogram\n",
      "Fees for radio and TV rec    105.497449   34.961517                     CHF\n",
      "Plants and other non-dura    105.334466   34.942967                     CHF\n",
      "Canteens                     103.624932   40.568648                     CHF\n",
      "Education                    100.934641   40.803407                     CHF\n",
      "Photographic and cinemato    100.591136    8.862422                     CHF\n",
      "Purchases and rent of tel     94.586339    7.958198                     CHF\n",
      "Air travels, tickets          94.438898   32.708144                     CHF\n",
      "Writing and drawing mater     88.268151    9.373246                     CHF\n",
      "Services of sports and re     87.776120   29.088725                     CHF\n",
      "Cleaning, repair and hire     87.664083    5.230159                     CHF\n",
      "Pets and related products     86.314041   21.550506                     CHF\n",
      "Other boiled, dried, cure     85.065609    6.807338                kilogram\n",
      "Rent of sports and recrea     80.703625    4.814889                     CHF\n",
      "Fish                          74.281200   21.880841                kilogram\n",
      "Footwear for children and     67.736852    7.507924                     CHF\n",
      "Theatre and concerts          58.701033   19.453334                     CHF\n",
      "Repair of household appli     56.617272    3.377864                     CHF\n",
      "Poultry, fresh or frozen      52.604973   21.784385                kilogram\n",
      "Miscellaneous printed mat     52.347793    5.690613                     CHF\n",
      "Other purchased transport     51.319587    3.853264                     CHF\n",
      "Other eatable meat produc     50.621454    9.526424                kilogram\n",
      "Postal services               49.595268    5.748700                     CHF\n",
      "Green salads and other le     46.870299   16.014905                kilogram\n",
      "Butter                        45.655052    8.548184                kilogram\n",
      "Cutlery                       45.231577    1.112453                     CHF\n",
      "Taxi                          43.741805    3.284297                     CHF\n",
      "Sports and crafting class     42.895698   14.215497                     CHF\n",
      "Music and dance classes       40.972443   13.578136                     CHF\n",
      "Glassware, tableware          40.742118    5.939344                     CHF\n",
      "Other leisure-time course     35.539678   11.777735                     CHF\n",
      "Services of hairdressers      34.526022   57.722704                     CHF\n",
      "Stakes                        30.183362   10.002670                     CHF\n",
      "Subscriptions to cable te     28.871419    9.567896                     CHF\n",
      "Repair and hire of footwe     28.270330    1.686647                     CHF\n",
      "Clothing materials            26.304757    1.279025                     CHF\n",
      "Other personal effects        24.058356    2.554771                     CHF\n",
      "Dues for sports clubs and     23.469984    7.777878                     CHF\n",
      "Sheep and Goat meat           22.783627    4.798925                kilogram\n",
      "Cocoa-based beverages         22.231544    1.722407                kilogram\n",
      "Hare, game and rabbit mea     21.787177    1.992589                kilogram\n",
      "Yoghurt                       21.238237   14.916640                kilogram\n",
      "Other services and losses     19.654526   32.859632                     CHF\n",
      "Social protection service     19.477483   23.469492                     CHF\n",
      "Curd                          19.448152    2.072783                kilogram\n",
      "Wine                          19.206090   56.796547                   litre\n",
      "Horse meat                    18.840544    1.723098                kilogram\n",
      "Other services in enterta     18.481555    6.124728                     CHF\n",
      "Tobacco                       18.435276   36.398857                     CHF\n",
      "Plastic or paper refuse b     16.992933    0.531846                     CHF\n",
      "Instant coffee and coffee     16.813834    2.074761                kilogram\n",
      "Beets and other root vege     16.446480    9.632480                kilogram\n",
      "Other fruiting vegetables     15.978042    7.968081                kilogram\n",
      "Museums, exhibitions, lib     15.240511    5.050656                     CHF\n",
      "Cream                         15.207974    7.946576                   litre\n",
      "Cinema                        15.117470    5.009881                     CHF\n",
      "Tinned meat and other mea     14.873537    1.360288                kilogram\n",
      "Bread                         14.084818   31.169177                kilogram\n",
      "Subscriptions to private      13.747111    4.555749                     CHF\n",
      "Other vegetable oils and      13.122383    2.573516                   litre\n",
      "Veterinary and other serv     12.362308   14.896025                     CHF\n",
      "Whole milk                    12.116940   10.183569                   litre\n",
      "Cleaning articles             11.759408    1.248738                     CHF\n",
      "Entries in sports facilit     11.147503    3.694247                     CHF\n",
      "Tea, herbal tea and surro     10.223137    3.530218                kilogram\n",
      "Other cereal products         10.043757   11.610411                kilogram\n",
      "Tinned or processed veget      9.487929    6.891235                kilogram\n",
      "Nuts, other edible nuts a      9.176351    6.165880                kilogram\n",
      "Rent for equipment and DV      7.274510    0.434007                     CHF\n",
      "Dues to organisations and      7.161904   16.608546                     CHF\n",
      "Non-alcoholic soft drinks      6.892864   13.801441                   litre\n",
      "Ice cream                      6.874783    7.197166                kilogram\n",
      "Potatoes-based products a      6.387924    7.880215                kilogram\n",
      "Syrups                         5.789903    1.658436                   litre\n",
      "Pasta products                 5.750712   10.258710                kilogram\n",
      "Skimmed and low-fat milk       4.992367    6.452002                   litre\n",
      "Bakery products (sweet an      4.252693   46.034839                kilogram\n",
      "Olive oil                      3.803975    3.649698                   litre\n",
      "Soaps and foam baths           3.749015    4.671441                kilogram\n",
      "Ready-made foods               3.653505   12.439412                kilogram\n",
      "Passenger transport by se      3.561056    5.050654                     CHF\n",
      "Spirits                        3.474980    5.274649                   litre\n",
      "Poultry, grilled or smoke      3.329959    1.460221                kilogram\n",
      "Berries                        3.284471    6.814401                kilogram\n",
      "Rice                           3.104524    2.652319                kilogram\n",
      "Other fried fruits             2.842530    2.728343                kilogram\n",
      "Tomatoes                       2.490451    7.518466                kilogram\n",
      "Fresh eggs                     2.256467    9.129393                kilogram\n",
      "Milk-based beverages and       2.221379    6.394186                   litre\n",
      "Apples                         2.121876    8.197959                kilogram\n",
      "Fruit juices                   1.933368   10.288257                   litre\n",
      "Stone fruit                    1.802598    8.304700                kilogram\n",
      "Newspapers and periodical      1.736323   35.546939                kilogram\n",
      "Sauces, seasonings and co      1.556153   13.618216                kilogram\n",
      "Other tropical fruits          1.431053    4.928464                kilogram\n",
      "Brassicas                      1.398522    3.663408                kilogram\n",
      "Stem vegetables                1.298907    3.140112                kilogram\n",
      "Beans and peas                 1.208455    2.527965                kilogram\n",
      "Other flours and meals, s      1.125228    2.383889                kilogram\n",
      "Margarine                      1.027949    1.354510                kilogram\n",
      "Oranges and other citrus       0.972919    5.778034                kilogram\n",
      "Pears and quinces              0.914820    2.414580                kilogram\n",
      "Preserved fruits               0.830776    2.089749                kilogram\n",
      "Jams, marmalades, compote      0.817357    4.091443                kilogram\n",
      "Alcoholic and non-alcohol      0.804194    8.947658                   litre\n",
      "Dues to cultural associat      0.796275    1.846571                     CHF\n",
      "Dues for recreational ass      0.737868    1.711125                     CHF\n",
      "Wheat flour                    0.709726    1.563213                kilogram\n",
      "Grapes                         0.688711    2.912906                kilogram\n",
      "Alcoholic and non-alcohol      0.607361    1.796391                   litre\n",
      "Potatoes                       0.525969    6.033823                kilogram\n",
      "Mushrooms and vegetables,      0.507756    1.135207                kilogram\n",
      "Honey                          0.493512    2.470372                kilogram\n",
      "Onions                         0.490724    1.817081                kilogram\n",
      "Soups and bouillons            0.432523    4.106321                kilogram\n",
      "Melons and watermelons         0.418624    2.100057                kilogram\n",
      "Sandwich                       0.374646    2.962036                kilogram\n",
      "Other vegetable fats           0.353855    0.466268                kilogram\n",
      "Banana                         0.330958    4.562909                kilogram\n",
      "Bus, tickets and travelca      0.274593    5.601754        person kilometer\n",
      "Processed eggs                 0.220693    0.892895                kilogram\n",
      "Train, tickets and travel      0.207007   29.259125        person kilometer\n",
      "Other sugary or cocoa-bas      0.172495    0.714122                kilogram\n",
      "Garlic                         0.158655    0.587476                kilogram\n",
      "Lemons                         0.147388    1.174154                kilogram\n",
      "Bicycles                       0.136792   13.634016        person kilometer\n",
      "Tram, tickets and travelc      0.117759    2.172923        person kilometer\n",
      "Vegetable juices               0.106652    0.257436                   litre\n",
      "Sugar                          0.104834    2.283372                kilogram\n",
      "Sweets and chewing gum         0.086397    6.031258                kilogram\n",
      "Culinary herbs                 0.055537    1.955951                kilogram\n",
      "Vegetarian soy products        0.032169    0.741064                kilogram\n",
      "Mineral water                  0.004869    8.822640                   litre\n"
     ]
    }
   ],
   "source": [
    "with pd.option_context('display.max_rows', None, 'display.max_columns', None):  # more options can be specified also\n",
    "    print(df)"
   ]
  },
  {
   "cell_type": "code",
   "execution_count": 11,
   "metadata": {},
   "outputs": [
    {
     "data": {
      "text/plain": [
       "<matplotlib.axes._subplots.AxesSubplot at 0x125045110>"
      ]
     },
     "execution_count": 11,
     "metadata": {},
     "output_type": "execute_result"
    }
   ],
   "source": [
    "df_ = df.drop('ch hh average consumption')\n",
    "df_ = df_.sort_values(lcia_unit)\n",
    "df_['kg CO2-Eq'].plot.barh(figsize=(20,40))"
   ]
  },
  {
   "cell_type": "code",
   "execution_count": 12,
   "metadata": {},
   "outputs": [],
   "source": [
    "df_.plot.barh?"
   ]
  },
  {
   "cell_type": "code",
   "execution_count": null,
   "metadata": {},
   "outputs": [],
   "source": []
  },
  {
   "cell_type": "code",
   "execution_count": null,
   "metadata": {},
   "outputs": [],
   "source": []
  },
  {
   "cell_type": "code",
   "execution_count": null,
   "metadata": {},
   "outputs": [],
   "source": []
  },
  {
   "cell_type": "code",
   "execution_count": null,
   "metadata": {},
   "outputs": [],
   "source": []
  },
  {
   "cell_type": "code",
   "execution_count": null,
   "metadata": {},
   "outputs": [],
   "source": []
  },
  {
   "cell_type": "code",
   "execution_count": null,
   "metadata": {},
   "outputs": [],
   "source": []
  },
  {
   "cell_type": "markdown",
   "metadata": {},
   "source": [
    "# Biosphere"
   ]
  },
  {
   "cell_type": "code",
   "execution_count": 13,
   "metadata": {},
   "outputs": [],
   "source": [
    "import bw2analyzer"
   ]
  },
  {
   "cell_type": "code",
   "execution_count": 14,
   "metadata": {},
   "outputs": [],
   "source": [
    "lca = bw.LCA({average_consump: 1}, list_methods[0])"
   ]
  },
  {
   "cell_type": "code",
   "execution_count": 15,
   "metadata": {},
   "outputs": [
    {
     "data": {
      "text/plain": [
       "42241.17975969168"
      ]
     },
     "execution_count": 15,
     "metadata": {},
     "output_type": "execute_result"
    }
   ],
   "source": [
    "lca.lci()\n",
    "lca.lcia()\n",
    "lca.score"
   ]
  },
  {
   "cell_type": "code",
   "execution_count": 16,
   "metadata": {},
   "outputs": [],
   "source": [
    "ca = bw2analyzer.ContributionAnalysis()"
   ]
  },
  {
   "cell_type": "code",
   "execution_count": 17,
   "metadata": {},
   "outputs": [
    {
     "data": {
      "text/plain": [
       "[(7335.408965414511,\n",
       "  7.367739324662367e-07,\n",
       "  'N-fertiliser' (million €, Bulgaria, None)),\n",
       " (6247.419766045716,\n",
       "  4.317632332047725e-07,\n",
       "  'N-fertiliser' (million €, Sweden, None)),\n",
       " (3402.9263766790614,\n",
       "  1.8436268676138695e-07,\n",
       "  'Steam and hot water supply' (million €, Turkey, None)),\n",
       " (2687.457290525405,\n",
       "  4.1034264789143296e-07,\n",
       "  'Quarrying of stone' (million €, Finland, None)),\n",
       " (2621.565492971314,\n",
       "  1.2357631366243087e-05,\n",
       "  'N-fertiliser' (million €, Switzerland, None)),\n",
       " (2161.42908935684,\n",
       "  4.865890188008351e-07,\n",
       "  'Mining of chemical and fertilizer minerals, production of salt, other mining and quarrying n.e.c.' (million €, Slovenia, None)),\n",
       " (1532.0211479289583,\n",
       "  9.454770625785302e-07,\n",
       "  'Steam and hot water supply' (million €, Italy, None)),\n",
       " (1019.2617680505726,\n",
       "  1.0364014713766106e-07,\n",
       "  'N-fertiliser' (million €, Indonesia, None)),\n",
       " (573.6726715370847,\n",
       "  2.0895820777739797e-07,\n",
       "  'N-fertiliser' (million €, Slovak Republic, None)),\n",
       " (541.475230189202,\n",
       "  6.513070146500642e-07,\n",
       "  'N-fertiliser' (million €, Taiwan, None)),\n",
       " (520.1096404169606,\n",
       "  2.3548585814423784e-05,\n",
       "  'Waste water treatment, food' (million €, Switzerland, None)),\n",
       " (518.9791596650281,\n",
       "  2.357901612638712e-05,\n",
       "  'Waste water treatment, other' (million €, Switzerland, None)),\n",
       " (492.67507928431655,\n",
       "  1.777060444322075e-05,\n",
       "  'Manufacture of bricks, tiles and construction products, in baked clay' (million €, Switzerland, None)),\n",
       " (368.66274505290943,\n",
       "  4.538356386126172e-05,\n",
       "  'Processing of meat cattle' (million €, Switzerland, None)),\n",
       " (331.0112803440898,\n",
       "  5.036947493928321e-07,\n",
       "  'N-fertiliser' (million €, Romania, None)),\n",
       " (249.39820809590006,\n",
       "  5.532157410325524e-07,\n",
       "  'Re-processing of secondary wood material into new wood material' (million €, Latvia, None)),\n",
       " (246.70852695817285,\n",
       "  2.8816135238957257e-07,\n",
       "  'Inland water transport' (million €, Norway, None)),\n",
       " (230.2498597755351,\n",
       "  1.9431226139353744e-05,\n",
       "  'Re-processing of ash into clinker' (million €, Switzerland, None)),\n",
       " (205.18771048407314,\n",
       "  3.7174129458859626e-07,\n",
       "  'Chemicals nec' (million €, Slovak Republic, None)),\n",
       " (191.59911449012841,\n",
       "  2.6094205523451144e-07,\n",
       "  'N-fertiliser' (million €, Mexico, None)),\n",
       " (189.36941467665093,\n",
       "  3.1140874198865087e-07,\n",
       "  'N-fertiliser' (million €, United States, None)),\n",
       " (183.28031218576655,\n",
       "  9.773050699824547e-08,\n",
       "  'Quarrying of sand and clay' (million €, India, None)),\n",
       " (178.11416044064933,\n",
       "  1.908709120426229e-05,\n",
       "  'Quarrying of sand and clay' (million €, Switzerland, None)),\n",
       " (159.7821698595735,\n",
       "  1.8501706628137772e-07,\n",
       "  'Processed rice' (million €, Canada, None)),\n",
       " (156.20783218461656,\n",
       "  3.2211594922662126e-05,\n",
       "  'Processing of meat pigs' (million €, Switzerland, None))]"
      ]
     },
     "execution_count": 17,
     "metadata": {},
     "output_type": "execute_result"
    }
   ],
   "source": [
    "ca.annotated_top_processes(lca)"
   ]
  },
  {
   "cell_type": "code",
   "execution_count": null,
   "metadata": {},
   "outputs": [],
   "source": []
  },
  {
   "cell_type": "code",
   "execution_count": null,
   "metadata": {},
   "outputs": [],
   "source": []
  },
  {
   "cell_type": "code",
   "execution_count": null,
   "metadata": {},
   "outputs": [],
   "source": []
  },
  {
   "cell_type": "code",
   "execution_count": null,
   "metadata": {},
   "outputs": [],
   "source": []
  }
 ],
 "metadata": {
  "kernelspec": {
   "display_name": "Python 3",
   "language": "python",
   "name": "python3"
  },
  "language_info": {
   "codemirror_mode": {
    "name": "ipython",
    "version": 3
   },
   "file_extension": ".py",
   "mimetype": "text/x-python",
   "name": "python",
   "nbconvert_exporter": "python",
   "pygments_lexer": "ipython3",
   "version": "3.7.4"
  }
 },
 "nbformat": 4,
 "nbformat_minor": 2
}
