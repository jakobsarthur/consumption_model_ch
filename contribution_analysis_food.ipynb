{
 "cells": [
  {
   "cell_type": "code",
   "execution_count": 7,
   "metadata": {},
   "outputs": [],
   "source": [
    "import brightway2 as bw\n",
    "import pandas as pd\n",
    "import numpy as np"
   ]
  },
  {
   "cell_type": "code",
   "execution_count": 8,
   "metadata": {},
   "outputs": [],
   "source": [
    "bw.projects.set_current('GSA for setac')\n",
    "co = bw.Database('CH consumption 1.0')\n",
    "food = co.search('food')\n",
    "assert len(food)==1\n",
    "food = food[0]"
   ]
  },
  {
   "cell_type": "code",
   "execution_count": 9,
   "metadata": {},
   "outputs": [],
   "source": [
    "list_functional_units = []\n",
    "for exc in food.exchanges():\n",
    "    if exc['type'] != 'production':\n",
    "        list_functional_units.append({exc['input']: exc['amount']})\n",
    "list_methods = [('IPCC 2013', 'climate change', 'GTP 100a')]"
   ]
  },
  {
   "cell_type": "code",
   "execution_count": 10,
   "metadata": {},
   "outputs": [],
   "source": [
    "bw.calculation_setups['food_contribution_analysis'] = {'inv':list_functional_units, 'ia':list_methods}"
   ]
  },
  {
   "cell_type": "code",
   "execution_count": 11,
   "metadata": {},
   "outputs": [
    {
     "name": "stdout",
     "output_type": "stream",
     "text": [
      "CPU times: user 6.99 s, sys: 169 ms, total: 7.16 s\n",
      "Wall time: 1.55 s\n"
     ]
    }
   ],
   "source": [
    "%%time\n",
    "myMultiLCA = bw.MultiLCA('food_contribution_analysis')"
   ]
  },
  {
   "cell_type": "code",
   "execution_count": 12,
   "metadata": {},
   "outputs": [],
   "source": [
    "lcia_unit = bw.Method(list_methods[0]).metadata['unit']"
   ]
  },
  {
   "cell_type": "code",
   "execution_count": 13,
   "metadata": {},
   "outputs": [],
   "source": [
    "fus = [bw.get_activity(list(el.keys())[0])['name'] for el in list_functional_units]\n",
    "df = pd.DataFrame(index=fus, columns=[lcia_unit], data=myMultiLCA.results)\n",
    "df['exchanges'] = [list(fu.values())[0] for fu in list_functional_units]\n",
    "df['units'] = [bw.get_activity(list(el.keys())[0])['unit'] for el in list_functional_units]"
   ]
  },
  {
   "cell_type": "code",
   "execution_count": 14,
   "metadata": {},
   "outputs": [],
   "source": [
    "df.sort_values(lcia_unit, ascending=False, inplace=True)"
   ]
  },
  {
   "cell_type": "code",
   "execution_count": 15,
   "metadata": {
    "scrolled": false
   },
   "outputs": [
    {
     "name": "stdout",
     "output_type": "stream",
     "text": [
      "                                                     kg CO2-Eq  exchanges  \\\n",
      "Hard and semi-hard cheese                           307.664373  32.790849   \n",
      "Sausages, cold meat and pies                        264.869498  32.736453   \n",
      "Beef                                                261.201262  23.888668   \n",
      "Chocolate                                           243.246316  20.076453   \n",
      "Pork, fresh or frozen                               175.311427  19.597377   \n",
      "Ham, bacon and other cured or smoked pork           174.649962  20.571595   \n",
      "Fresh, soft and melted cheese                       151.621308  16.159789   \n",
      "Pure and ground coffee                              146.230020  18.044207   \n",
      "Veal                                                108.447046   9.918235   \n",
      "Other boiled, dried, cured or smoked meat            85.065609   6.807338   \n",
      "Poultry, fresh or frozen                             52.604973  21.784385   \n",
      "Other eatable meat products incl. offal, fresh ...   50.621454   9.526424   \n",
      "Green salads and other leafy vegetables              46.870299  16.014905   \n",
      "Butter                                               45.655052   8.548184   \n",
      "Sheep and Goat meat                                  22.783627   4.798925   \n",
      "Cocoa-based beverages                                22.231544   1.722407   \n",
      "Hare, game and rabbit meat                           21.787177   1.992589   \n",
      "Yoghurt                                              21.238237  14.916640   \n",
      "Curd                                                 19.448152   2.072783   \n",
      "Horse meat                                           18.840544   1.723098   \n",
      "Instant coffee and coffee surrogates                 16.813834   2.074761   \n",
      "Beets and other root vegetables                      16.446480   9.632480   \n",
      "Other fruiting vegetables                            15.978042   7.968081   \n",
      "Cream                                                15.207974   7.946576   \n",
      "Tinned meat and other meat-based preparations        14.873537   1.360288   \n",
      "Bread                                                14.084818  31.169177   \n",
      "Other vegetable oils and edible animal fats          13.122383   2.573516   \n",
      "Whole milk                                           12.116940  10.183569   \n",
      "Tea, herbal tea and surrogates                       10.223137   3.530218   \n",
      "Other cereal products                                10.043757  11.610411   \n",
      "Tinned or processed vegetables and mushrooms          9.487929   6.891235   \n",
      "Nuts, other edible nuts and seeds oleaginous fr...    9.176351   6.165880   \n",
      "Non-alcoholic soft drinks                             6.892864  13.801441   \n",
      "Potatoes-based products and other tuber vegetables    6.387924   7.880215   \n",
      "Syrups                                                5.789903   1.658436   \n",
      "Ice cream                                             5.617702   7.197166   \n",
      "Skimmed and low-fat milk                              4.992367   6.452002   \n",
      "Pasta products                                        4.192607  10.258710   \n",
      "Olive oil                                             3.803975   3.649698   \n",
      "Bakery products (sweet and salty)                     3.756819  46.034839   \n",
      "Ready-made foods                                      3.653505  12.439412   \n",
      "Poultry, grilled or smoked                            3.329959   1.460221   \n",
      "Berries                                               3.284471   6.814401   \n",
      "Rice                                                  3.104524   2.652319   \n",
      "Other fried fruits                                    2.842530   2.728343   \n",
      "Tomatoes                                              2.490451   7.518466   \n",
      "Milk-based beverages and other similar milk-bas...    2.221379   6.394186   \n",
      "Apples                                                2.121876   8.197959   \n",
      "Fruit juices                                          1.933368  10.288257   \n",
      "Stone fruit                                           1.802598   8.304700   \n",
      "Sauces, seasonings and condiments                     1.556153  13.618216   \n",
      "Other tropical fruits                                 1.431053   4.928464   \n",
      "Brassicas                                             1.398522   3.663408   \n",
      "Stem vegetables                                       1.298907   3.140112   \n",
      "Beans and peas                                        1.208455   2.527965   \n",
      "Other flours and meals, starches, semolina, fla...    1.125228   2.383889   \n",
      "Margarine                                             1.027949   1.354510   \n",
      "Oranges and other citrus fruits                       0.972919   5.778034   \n",
      "Pears and quinces                                     0.914820   2.414580   \n",
      "Preserved fruits                                      0.830776   2.089749   \n",
      "Jams, marmalades, compotes                            0.817357   4.091443   \n",
      "Wheat flour                                           0.709726   1.563213   \n",
      "Grapes                                                0.688711   2.912906   \n",
      "Potatoes                                              0.525969   6.033823   \n",
      "Mushrooms and vegetables, dried                       0.507756   1.135207   \n",
      "Honey                                                 0.493512   2.470372   \n",
      "Onions                                                0.490724   1.817081   \n",
      "Soups and bouillons                                   0.432523   4.106321   \n",
      "Melons and watermelons                                0.418624   2.100057   \n",
      "Other vegetable fats                                  0.353855   0.466268   \n",
      "Sandwich                                              0.340630   2.962036   \n",
      "Banana                                                0.330958   4.562909   \n",
      "Other sugary or cocoa-based foods                     0.172495   0.714122   \n",
      "Garlic                                                0.158655   0.587476   \n",
      "Lemons                                                0.147388   1.174154   \n",
      "Vegetable juices                                      0.106652   0.257436   \n",
      "Sugar                                                 0.104834   2.283372   \n",
      "Sweets and chewing gum                                0.086397   6.031258   \n",
      "Culinary herbs                                        0.055537   1.955951   \n",
      "Vegetarian soy products                               0.032169   0.741064   \n",
      "Mineral water                                         0.004869   8.822640   \n",
      "Processed eggs                                        0.000000   0.892895   \n",
      "Fresh eggs                                            0.000000   9.129393   \n",
      "Fish                                                  0.000000  21.880841   \n",
      "\n",
      "                                                       units  \n",
      "Hard and semi-hard cheese                           kilogram  \n",
      "Sausages, cold meat and pies                        kilogram  \n",
      "Beef                                                kilogram  \n",
      "Chocolate                                           kilogram  \n",
      "Pork, fresh or frozen                               kilogram  \n",
      "Ham, bacon and other cured or smoked pork           kilogram  \n",
      "Fresh, soft and melted cheese                       kilogram  \n",
      "Pure and ground coffee                              kilogram  \n",
      "Veal                                                kilogram  \n",
      "Other boiled, dried, cured or smoked meat           kilogram  \n",
      "Poultry, fresh or frozen                            kilogram  \n",
      "Other eatable meat products incl. offal, fresh ...  kilogram  \n",
      "Green salads and other leafy vegetables             kilogram  \n",
      "Butter                                              kilogram  \n",
      "Sheep and Goat meat                                 kilogram  \n",
      "Cocoa-based beverages                               kilogram  \n",
      "Hare, game and rabbit meat                          kilogram  \n",
      "Yoghurt                                             kilogram  \n",
      "Curd                                                kilogram  \n",
      "Horse meat                                          kilogram  \n",
      "Instant coffee and coffee surrogates                kilogram  \n",
      "Beets and other root vegetables                     kilogram  \n",
      "Other fruiting vegetables                           kilogram  \n",
      "Cream                                                  litre  \n",
      "Tinned meat and other meat-based preparations       kilogram  \n",
      "Bread                                               kilogram  \n",
      "Other vegetable oils and edible animal fats            litre  \n",
      "Whole milk                                             litre  \n",
      "Tea, herbal tea and surrogates                      kilogram  \n",
      "Other cereal products                               kilogram  \n",
      "Tinned or processed vegetables and mushrooms        kilogram  \n",
      "Nuts, other edible nuts and seeds oleaginous fr...  kilogram  \n",
      "Non-alcoholic soft drinks                              litre  \n",
      "Potatoes-based products and other tuber vegetables  kilogram  \n",
      "Syrups                                                 litre  \n",
      "Ice cream                                           kilogram  \n",
      "Skimmed and low-fat milk                               litre  \n",
      "Pasta products                                      kilogram  \n",
      "Olive oil                                              litre  \n",
      "Bakery products (sweet and salty)                   kilogram  \n",
      "Ready-made foods                                    kilogram  \n",
      "Poultry, grilled or smoked                          kilogram  \n",
      "Berries                                             kilogram  \n",
      "Rice                                                kilogram  \n",
      "Other fried fruits                                  kilogram  \n",
      "Tomatoes                                            kilogram  \n",
      "Milk-based beverages and other similar milk-bas...     litre  \n",
      "Apples                                              kilogram  \n",
      "Fruit juices                                           litre  \n",
      "Stone fruit                                         kilogram  \n",
      "Sauces, seasonings and condiments                   kilogram  \n",
      "Other tropical fruits                               kilogram  \n",
      "Brassicas                                           kilogram  \n",
      "Stem vegetables                                     kilogram  \n",
      "Beans and peas                                      kilogram  \n",
      "Other flours and meals, starches, semolina, fla...  kilogram  \n",
      "Margarine                                           kilogram  \n",
      "Oranges and other citrus fruits                     kilogram  \n",
      "Pears and quinces                                   kilogram  \n",
      "Preserved fruits                                    kilogram  \n",
      "Jams, marmalades, compotes                          kilogram  \n",
      "Wheat flour                                         kilogram  \n",
      "Grapes                                              kilogram  \n",
      "Potatoes                                            kilogram  \n",
      "Mushrooms and vegetables, dried                     kilogram  \n",
      "Honey                                               kilogram  \n",
      "Onions                                              kilogram  \n",
      "Soups and bouillons                                 kilogram  \n",
      "Melons and watermelons                              kilogram  \n",
      "Other vegetable fats                                kilogram  \n",
      "Sandwich                                            kilogram  \n",
      "Banana                                              kilogram  \n",
      "Other sugary or cocoa-based foods                   kilogram  \n",
      "Garlic                                              kilogram  \n",
      "Lemons                                              kilogram  \n",
      "Vegetable juices                                       litre  \n",
      "Sugar                                               kilogram  \n",
      "Sweets and chewing gum                              kilogram  \n",
      "Culinary herbs                                      kilogram  \n",
      "Vegetarian soy products                             kilogram  \n",
      "Mineral water                                          litre  \n",
      "Processed eggs                                      kilogram  \n",
      "Fresh eggs                                          kilogram  \n",
      "Fish                                                kilogram  \n"
     ]
    }
   ],
   "source": [
    "with pd.option_context('display.max_rows', None, 'display.max_columns', None):  # more options can be specified also\n",
    "    print(df)"
   ]
  },
  {
   "cell_type": "code",
   "execution_count": 16,
   "metadata": {},
   "outputs": [],
   "source": [
    "df_sorted = df.sort_values(lcia_unit, ascending=False)\n",
    "# df_sorted['kg CO2-Eq'].plot.barh(figsize=(20,40))"
   ]
  },
  {
   "cell_type": "code",
   "execution_count": null,
   "metadata": {},
   "outputs": [],
   "source": []
  },
  {
   "cell_type": "markdown",
   "metadata": {},
   "source": [
    "# Plot contributions"
   ]
  },
  {
   "cell_type": "code",
   "execution_count": 17,
   "metadata": {},
   "outputs": [],
   "source": [
    "import plotly.graph_objects as go"
   ]
  },
  {
   "cell_type": "code",
   "execution_count": 18,
   "metadata": {},
   "outputs": [],
   "source": [
    "product_names_dict = {\n",
    "    \"Hard and semi-hard cheese\": \n",
    "        \"Hard cheese\",\n",
    "    \"Sausages, cold meat and pies\":\n",
    "        \"Sausages\",\n",
    "    \"Fresh, soft and melted cheese\":\n",
    "        \"Soft and melted cheese\",\n",
    "    'Other boiled, dried, cured or smoked meat':\n",
    "        'Dried or smoked meat',\n",
    "    'Other sugary or cocoa-based foods': \n",
    "        'Other sugary or cocoa-based foods', \n",
    "    'Oranges and other citrus fruits': \n",
    "        'Oranges and citrus fruits',\n",
    "    'Other flours and meals, starches, semolina, flakes and grains':\n",
    "        'Other flours, flakes and grains, etc',\n",
    "    'Milk-based beverages and other similar milk-based products':\n",
    "        'Milk-based beverages and products',\n",
    "    'Bakery products':\n",
    "        'Bakery products (sweet and salty)', \n",
    "    'Potatoes-based products and other tuber vegetables':\n",
    "        'Potatoes-based products',\n",
    "    'Nuts, other edible nuts and seeds oleaginous fruits':\n",
    "        'Nuts',\n",
    "    'Tinned or processed vegetables and mushrooms':\n",
    "        'Tinned or processed vegetables', \n",
    "    'Other vegetable oils and edible animal fats':\n",
    "        'Vegetable oils and animal fats',\n",
    "    'Tinned meat and other meat-based preparations':\n",
    "        'Meat-based preparations', \n",
    "    'Beets and other root vegetables':\n",
    "        'Beets and root vegetables',\n",
    "    'Instant coffee and coffee surrogates':\n",
    "        'Instant coffee and surrogates', \n",
    "    'Green salads and other leafy vegetables':\n",
    "        'Green salads',\n",
    "    'Other eatable meat products incl. offal, fresh and frozen':\n",
    "        'Other meat products',\n",
    "    'Ham, bacon and other cured or smoked pork':\n",
    "        'Ham and bacon',\n",
    "    }\n"
   ]
  },
  {
   "cell_type": "code",
   "execution_count": 23,
   "metadata": {},
   "outputs": [],
   "source": [
    "product_names_red = [\"Soft and melted cheese\",]\n",
    "product_names_green = [\"Soft and melted cheese\",]\n",
    "product_names_blue"
   ]
  },
  {
   "cell_type": "code",
   "execution_count": 24,
   "metadata": {},
   "outputs": [],
   "source": [
    "df_plotting = df_sorted[:26]\n",
    "product_names_plot = [product_names_dict.get(name, name) for name in df_plotting.index]\n",
    "n_acts = len(df_plotting)"
   ]
  },
  {
   "cell_type": "code",
   "execution_count": 25,
   "metadata": {},
   "outputs": [],
   "source": [
    "colors = [\"#636EFA\"]*n_acts\n",
    "for i,prod in enumerate(product_names_plot):\n",
    "    if prod in product_names_red:\n",
    "        colors[i] = \"#EF553B\"\n",
    "    elif prod in product_names_green:\n",
    "        colors[i] = \"#00CC96\"\n",
    "    elif prod in product_names_blue:\n",
    "        colors[i] = \"#636EFA\"\n",
    "    elif prod in product_names_purple:\n",
    "        colors[i] = \"#AB63FA\"\n",
    "    elif prod in product_names_orange:\n",
    "        colors[i] = \"#FFA15A\""
   ]
  },
  {
   "cell_type": "code",
   "execution_count": 26,
   "metadata": {
    "scrolled": false
   },
   "outputs": [
    {
     "data": {
      "application/vnd.plotly.v1+json": {
       "config": {
        "plotlyServerURL": "https://plot.ly"
       },
       "data": [
        {
         "marker": {
          "color": [
           "#636EFA",
           "#636EFA",
           "#636EFA",
           "#636EFA",
           "#636EFA",
           "#636EFA",
           "#EF553B",
           "#636EFA",
           "#636EFA",
           "#636EFA",
           "#636EFA",
           "#636EFA",
           "#636EFA",
           "#636EFA",
           "#636EFA",
           "#636EFA",
           "#636EFA",
           "#636EFA",
           "#636EFA",
           "#636EFA",
           "#636EFA",
           "#636EFA",
           "#636EFA",
           "#636EFA",
           "#636EFA",
           "#636EFA"
          ]
         },
         "orientation": "h",
         "type": "bar",
         "x": [
          307.66437266196795,
          264.8694980696688,
          261.20126224598096,
          243.24631584961998,
          175.31142654472805,
          174.64996236837018,
          151.62130771375422,
          146.23002037098573,
          108.44704569884662,
          85.06560912048434,
          52.60497287992719,
          50.62145445573148,
          46.87029862506045,
          45.6550519027016,
          22.78362717993684,
          22.231544067292447,
          21.787176904549675,
          21.23823743495997,
          19.448152269159888,
          18.84054378185807,
          16.813833726060256,
          16.446480292459494,
          15.978041719414882,
          15.207973734450634,
          14.873537445583098,
          14.084817865547864
         ],
         "y": [
          "Hard cheese",
          "Sausages",
          "Beef",
          "Chocolate",
          "Pork, fresh or frozen",
          "Ham and bacon",
          "Soft and melted cheese",
          "Pure and ground coffee",
          "Veal",
          "Dried or smoked meat",
          "Poultry, fresh or frozen",
          "Other meat products",
          "Green salads",
          "Butter",
          "Sheep and Goat meat",
          "Cocoa-based beverages",
          "Hare, game and rabbit meat",
          "Yoghurt",
          "Curd",
          "Horse meat",
          "Instant coffee and surrogates",
          "Beets and root vegetables",
          "Other fruiting vegetables",
          "Cream",
          "Meat-based preparations",
          "Bread"
         ]
        }
       ],
       "layout": {
        "height": 572,
        "template": {
         "data": {
          "bar": [
           {
            "error_x": {
             "color": "#2a3f5f"
            },
            "error_y": {
             "color": "#2a3f5f"
            },
            "marker": {
             "line": {
              "color": "#E5ECF6",
              "width": 0.5
             }
            },
            "type": "bar"
           }
          ],
          "barpolar": [
           {
            "marker": {
             "line": {
              "color": "#E5ECF6",
              "width": 0.5
             }
            },
            "type": "barpolar"
           }
          ],
          "carpet": [
           {
            "aaxis": {
             "endlinecolor": "#2a3f5f",
             "gridcolor": "white",
             "linecolor": "white",
             "minorgridcolor": "white",
             "startlinecolor": "#2a3f5f"
            },
            "baxis": {
             "endlinecolor": "#2a3f5f",
             "gridcolor": "white",
             "linecolor": "white",
             "minorgridcolor": "white",
             "startlinecolor": "#2a3f5f"
            },
            "type": "carpet"
           }
          ],
          "choropleth": [
           {
            "colorbar": {
             "outlinewidth": 0,
             "ticks": ""
            },
            "type": "choropleth"
           }
          ],
          "contour": [
           {
            "colorbar": {
             "outlinewidth": 0,
             "ticks": ""
            },
            "colorscale": [
             [
              0,
              "#0d0887"
             ],
             [
              0.1111111111111111,
              "#46039f"
             ],
             [
              0.2222222222222222,
              "#7201a8"
             ],
             [
              0.3333333333333333,
              "#9c179e"
             ],
             [
              0.4444444444444444,
              "#bd3786"
             ],
             [
              0.5555555555555556,
              "#d8576b"
             ],
             [
              0.6666666666666666,
              "#ed7953"
             ],
             [
              0.7777777777777778,
              "#fb9f3a"
             ],
             [
              0.8888888888888888,
              "#fdca26"
             ],
             [
              1,
              "#f0f921"
             ]
            ],
            "type": "contour"
           }
          ],
          "contourcarpet": [
           {
            "colorbar": {
             "outlinewidth": 0,
             "ticks": ""
            },
            "type": "contourcarpet"
           }
          ],
          "heatmap": [
           {
            "colorbar": {
             "outlinewidth": 0,
             "ticks": ""
            },
            "colorscale": [
             [
              0,
              "#0d0887"
             ],
             [
              0.1111111111111111,
              "#46039f"
             ],
             [
              0.2222222222222222,
              "#7201a8"
             ],
             [
              0.3333333333333333,
              "#9c179e"
             ],
             [
              0.4444444444444444,
              "#bd3786"
             ],
             [
              0.5555555555555556,
              "#d8576b"
             ],
             [
              0.6666666666666666,
              "#ed7953"
             ],
             [
              0.7777777777777778,
              "#fb9f3a"
             ],
             [
              0.8888888888888888,
              "#fdca26"
             ],
             [
              1,
              "#f0f921"
             ]
            ],
            "type": "heatmap"
           }
          ],
          "heatmapgl": [
           {
            "colorbar": {
             "outlinewidth": 0,
             "ticks": ""
            },
            "colorscale": [
             [
              0,
              "#0d0887"
             ],
             [
              0.1111111111111111,
              "#46039f"
             ],
             [
              0.2222222222222222,
              "#7201a8"
             ],
             [
              0.3333333333333333,
              "#9c179e"
             ],
             [
              0.4444444444444444,
              "#bd3786"
             ],
             [
              0.5555555555555556,
              "#d8576b"
             ],
             [
              0.6666666666666666,
              "#ed7953"
             ],
             [
              0.7777777777777778,
              "#fb9f3a"
             ],
             [
              0.8888888888888888,
              "#fdca26"
             ],
             [
              1,
              "#f0f921"
             ]
            ],
            "type": "heatmapgl"
           }
          ],
          "histogram": [
           {
            "marker": {
             "colorbar": {
              "outlinewidth": 0,
              "ticks": ""
             }
            },
            "type": "histogram"
           }
          ],
          "histogram2d": [
           {
            "colorbar": {
             "outlinewidth": 0,
             "ticks": ""
            },
            "colorscale": [
             [
              0,
              "#0d0887"
             ],
             [
              0.1111111111111111,
              "#46039f"
             ],
             [
              0.2222222222222222,
              "#7201a8"
             ],
             [
              0.3333333333333333,
              "#9c179e"
             ],
             [
              0.4444444444444444,
              "#bd3786"
             ],
             [
              0.5555555555555556,
              "#d8576b"
             ],
             [
              0.6666666666666666,
              "#ed7953"
             ],
             [
              0.7777777777777778,
              "#fb9f3a"
             ],
             [
              0.8888888888888888,
              "#fdca26"
             ],
             [
              1,
              "#f0f921"
             ]
            ],
            "type": "histogram2d"
           }
          ],
          "histogram2dcontour": [
           {
            "colorbar": {
             "outlinewidth": 0,
             "ticks": ""
            },
            "colorscale": [
             [
              0,
              "#0d0887"
             ],
             [
              0.1111111111111111,
              "#46039f"
             ],
             [
              0.2222222222222222,
              "#7201a8"
             ],
             [
              0.3333333333333333,
              "#9c179e"
             ],
             [
              0.4444444444444444,
              "#bd3786"
             ],
             [
              0.5555555555555556,
              "#d8576b"
             ],
             [
              0.6666666666666666,
              "#ed7953"
             ],
             [
              0.7777777777777778,
              "#fb9f3a"
             ],
             [
              0.8888888888888888,
              "#fdca26"
             ],
             [
              1,
              "#f0f921"
             ]
            ],
            "type": "histogram2dcontour"
           }
          ],
          "mesh3d": [
           {
            "colorbar": {
             "outlinewidth": 0,
             "ticks": ""
            },
            "type": "mesh3d"
           }
          ],
          "parcoords": [
           {
            "line": {
             "colorbar": {
              "outlinewidth": 0,
              "ticks": ""
             }
            },
            "type": "parcoords"
           }
          ],
          "pie": [
           {
            "automargin": true,
            "type": "pie"
           }
          ],
          "scatter": [
           {
            "marker": {
             "colorbar": {
              "outlinewidth": 0,
              "ticks": ""
             }
            },
            "type": "scatter"
           }
          ],
          "scatter3d": [
           {
            "line": {
             "colorbar": {
              "outlinewidth": 0,
              "ticks": ""
             }
            },
            "marker": {
             "colorbar": {
              "outlinewidth": 0,
              "ticks": ""
             }
            },
            "type": "scatter3d"
           }
          ],
          "scattercarpet": [
           {
            "marker": {
             "colorbar": {
              "outlinewidth": 0,
              "ticks": ""
             }
            },
            "type": "scattercarpet"
           }
          ],
          "scattergeo": [
           {
            "marker": {
             "colorbar": {
              "outlinewidth": 0,
              "ticks": ""
             }
            },
            "type": "scattergeo"
           }
          ],
          "scattergl": [
           {
            "marker": {
             "colorbar": {
              "outlinewidth": 0,
              "ticks": ""
             }
            },
            "type": "scattergl"
           }
          ],
          "scattermapbox": [
           {
            "marker": {
             "colorbar": {
              "outlinewidth": 0,
              "ticks": ""
             }
            },
            "type": "scattermapbox"
           }
          ],
          "scatterpolar": [
           {
            "marker": {
             "colorbar": {
              "outlinewidth": 0,
              "ticks": ""
             }
            },
            "type": "scatterpolar"
           }
          ],
          "scatterpolargl": [
           {
            "marker": {
             "colorbar": {
              "outlinewidth": 0,
              "ticks": ""
             }
            },
            "type": "scatterpolargl"
           }
          ],
          "scatterternary": [
           {
            "marker": {
             "colorbar": {
              "outlinewidth": 0,
              "ticks": ""
             }
            },
            "type": "scatterternary"
           }
          ],
          "surface": [
           {
            "colorbar": {
             "outlinewidth": 0,
             "ticks": ""
            },
            "colorscale": [
             [
              0,
              "#0d0887"
             ],
             [
              0.1111111111111111,
              "#46039f"
             ],
             [
              0.2222222222222222,
              "#7201a8"
             ],
             [
              0.3333333333333333,
              "#9c179e"
             ],
             [
              0.4444444444444444,
              "#bd3786"
             ],
             [
              0.5555555555555556,
              "#d8576b"
             ],
             [
              0.6666666666666666,
              "#ed7953"
             ],
             [
              0.7777777777777778,
              "#fb9f3a"
             ],
             [
              0.8888888888888888,
              "#fdca26"
             ],
             [
              1,
              "#f0f921"
             ]
            ],
            "type": "surface"
           }
          ],
          "table": [
           {
            "cells": {
             "fill": {
              "color": "#EBF0F8"
             },
             "line": {
              "color": "white"
             }
            },
            "header": {
             "fill": {
              "color": "#C8D4E3"
             },
             "line": {
              "color": "white"
             }
            },
            "type": "table"
           }
          ]
         },
         "layout": {
          "annotationdefaults": {
           "arrowcolor": "#2a3f5f",
           "arrowhead": 0,
           "arrowwidth": 1
          },
          "coloraxis": {
           "colorbar": {
            "outlinewidth": 0,
            "ticks": ""
           }
          },
          "colorscale": {
           "diverging": [
            [
             0,
             "#8e0152"
            ],
            [
             0.1,
             "#c51b7d"
            ],
            [
             0.2,
             "#de77ae"
            ],
            [
             0.3,
             "#f1b6da"
            ],
            [
             0.4,
             "#fde0ef"
            ],
            [
             0.5,
             "#f7f7f7"
            ],
            [
             0.6,
             "#e6f5d0"
            ],
            [
             0.7,
             "#b8e186"
            ],
            [
             0.8,
             "#7fbc41"
            ],
            [
             0.9,
             "#4d9221"
            ],
            [
             1,
             "#276419"
            ]
           ],
           "sequential": [
            [
             0,
             "#0d0887"
            ],
            [
             0.1111111111111111,
             "#46039f"
            ],
            [
             0.2222222222222222,
             "#7201a8"
            ],
            [
             0.3333333333333333,
             "#9c179e"
            ],
            [
             0.4444444444444444,
             "#bd3786"
            ],
            [
             0.5555555555555556,
             "#d8576b"
            ],
            [
             0.6666666666666666,
             "#ed7953"
            ],
            [
             0.7777777777777778,
             "#fb9f3a"
            ],
            [
             0.8888888888888888,
             "#fdca26"
            ],
            [
             1,
             "#f0f921"
            ]
           ],
           "sequentialminus": [
            [
             0,
             "#0d0887"
            ],
            [
             0.1111111111111111,
             "#46039f"
            ],
            [
             0.2222222222222222,
             "#7201a8"
            ],
            [
             0.3333333333333333,
             "#9c179e"
            ],
            [
             0.4444444444444444,
             "#bd3786"
            ],
            [
             0.5555555555555556,
             "#d8576b"
            ],
            [
             0.6666666666666666,
             "#ed7953"
            ],
            [
             0.7777777777777778,
             "#fb9f3a"
            ],
            [
             0.8888888888888888,
             "#fdca26"
            ],
            [
             1,
             "#f0f921"
            ]
           ]
          },
          "colorway": [
           "#636efa",
           "#EF553B",
           "#00cc96",
           "#ab63fa",
           "#FFA15A",
           "#19d3f3",
           "#FF6692",
           "#B6E880",
           "#FF97FF",
           "#FECB52"
          ],
          "font": {
           "color": "#2a3f5f"
          },
          "geo": {
           "bgcolor": "white",
           "lakecolor": "white",
           "landcolor": "#E5ECF6",
           "showlakes": true,
           "showland": true,
           "subunitcolor": "white"
          },
          "hoverlabel": {
           "align": "left"
          },
          "hovermode": "closest",
          "mapbox": {
           "style": "light"
          },
          "paper_bgcolor": "white",
          "plot_bgcolor": "#E5ECF6",
          "polar": {
           "angularaxis": {
            "gridcolor": "white",
            "linecolor": "white",
            "ticks": ""
           },
           "bgcolor": "#E5ECF6",
           "radialaxis": {
            "gridcolor": "white",
            "linecolor": "white",
            "ticks": ""
           }
          },
          "scene": {
           "xaxis": {
            "backgroundcolor": "#E5ECF6",
            "gridcolor": "white",
            "gridwidth": 2,
            "linecolor": "white",
            "showbackground": true,
            "ticks": "",
            "zerolinecolor": "white"
           },
           "yaxis": {
            "backgroundcolor": "#E5ECF6",
            "gridcolor": "white",
            "gridwidth": 2,
            "linecolor": "white",
            "showbackground": true,
            "ticks": "",
            "zerolinecolor": "white"
           },
           "zaxis": {
            "backgroundcolor": "#E5ECF6",
            "gridcolor": "white",
            "gridwidth": 2,
            "linecolor": "white",
            "showbackground": true,
            "ticks": "",
            "zerolinecolor": "white"
           }
          },
          "shapedefaults": {
           "line": {
            "color": "#2a3f5f"
           }
          },
          "ternary": {
           "aaxis": {
            "gridcolor": "white",
            "linecolor": "white",
            "ticks": ""
           },
           "baxis": {
            "gridcolor": "white",
            "linecolor": "white",
            "ticks": ""
           },
           "bgcolor": "#E5ECF6",
           "caxis": {
            "gridcolor": "white",
            "linecolor": "white",
            "ticks": ""
           }
          },
          "title": {
           "x": 0.05
          },
          "xaxis": {
           "automargin": true,
           "gridcolor": "white",
           "linecolor": "white",
           "ticks": "",
           "title": {
            "standoff": 15
           },
           "zerolinecolor": "white",
           "zerolinewidth": 2
          },
          "yaxis": {
           "automargin": true,
           "gridcolor": "white",
           "linecolor": "white",
           "ticks": "",
           "title": {
            "standoff": 15
           },
           "zerolinecolor": "white",
           "zerolinewidth": 2
          }
         }
        },
        "width": 500,
        "xaxis": {
         "title": {
          "text": "LCIA scores, [kg CO2-eq]"
         }
        },
        "yaxis": {
         "autorange": "reversed"
        }
       }
      },
      "text/html": [
       "<div>\n",
       "        \n",
       "        \n",
       "            <div id=\"57de85ee-3f39-457a-9e44-3384841810d9\" class=\"plotly-graph-div\" style=\"height:572px; width:500px;\"></div>\n",
       "            <script type=\"text/javascript\">\n",
       "                require([\"plotly\"], function(Plotly) {\n",
       "                    window.PLOTLYENV=window.PLOTLYENV || {};\n",
       "                    \n",
       "                if (document.getElementById(\"57de85ee-3f39-457a-9e44-3384841810d9\")) {\n",
       "                    Plotly.newPlot(\n",
       "                        '57de85ee-3f39-457a-9e44-3384841810d9',\n",
       "                        [{\"marker\": {\"color\": [\"#636EFA\", \"#636EFA\", \"#636EFA\", \"#636EFA\", \"#636EFA\", \"#636EFA\", \"#EF553B\", \"#636EFA\", \"#636EFA\", \"#636EFA\", \"#636EFA\", \"#636EFA\", \"#636EFA\", \"#636EFA\", \"#636EFA\", \"#636EFA\", \"#636EFA\", \"#636EFA\", \"#636EFA\", \"#636EFA\", \"#636EFA\", \"#636EFA\", \"#636EFA\", \"#636EFA\", \"#636EFA\", \"#636EFA\"]}, \"orientation\": \"h\", \"type\": \"bar\", \"x\": [307.66437266196795, 264.8694980696688, 261.20126224598096, 243.24631584961998, 175.31142654472805, 174.64996236837018, 151.62130771375422, 146.23002037098573, 108.44704569884662, 85.06560912048434, 52.60497287992719, 50.62145445573148, 46.87029862506045, 45.6550519027016, 22.78362717993684, 22.231544067292447, 21.787176904549675, 21.23823743495997, 19.448152269159888, 18.84054378185807, 16.813833726060256, 16.446480292459494, 15.978041719414882, 15.207973734450634, 14.873537445583098, 14.084817865547864], \"y\": [\"Hard cheese\", \"Sausages\", \"Beef\", \"Chocolate\", \"Pork, fresh or frozen\", \"Ham and bacon\", \"Soft and melted cheese\", \"Pure and ground coffee\", \"Veal\", \"Dried or smoked meat\", \"Poultry, fresh or frozen\", \"Other meat products\", \"Green salads\", \"Butter\", \"Sheep and Goat meat\", \"Cocoa-based beverages\", \"Hare, game and rabbit meat\", \"Yoghurt\", \"Curd\", \"Horse meat\", \"Instant coffee and surrogates\", \"Beets and root vegetables\", \"Other fruiting vegetables\", \"Cream\", \"Meat-based preparations\", \"Bread\"]}],\n",
       "                        {\"height\": 572, \"template\": {\"data\": {\"bar\": [{\"error_x\": {\"color\": \"#2a3f5f\"}, \"error_y\": {\"color\": \"#2a3f5f\"}, \"marker\": {\"line\": {\"color\": \"#E5ECF6\", \"width\": 0.5}}, \"type\": \"bar\"}], \"barpolar\": [{\"marker\": {\"line\": {\"color\": \"#E5ECF6\", \"width\": 0.5}}, \"type\": \"barpolar\"}], \"carpet\": [{\"aaxis\": {\"endlinecolor\": \"#2a3f5f\", \"gridcolor\": \"white\", \"linecolor\": \"white\", \"minorgridcolor\": \"white\", \"startlinecolor\": \"#2a3f5f\"}, \"baxis\": {\"endlinecolor\": \"#2a3f5f\", \"gridcolor\": \"white\", \"linecolor\": \"white\", \"minorgridcolor\": \"white\", \"startlinecolor\": \"#2a3f5f\"}, \"type\": \"carpet\"}], \"choropleth\": [{\"colorbar\": {\"outlinewidth\": 0, \"ticks\": \"\"}, \"type\": \"choropleth\"}], \"contour\": [{\"colorbar\": {\"outlinewidth\": 0, \"ticks\": \"\"}, \"colorscale\": [[0.0, \"#0d0887\"], [0.1111111111111111, \"#46039f\"], [0.2222222222222222, \"#7201a8\"], [0.3333333333333333, \"#9c179e\"], [0.4444444444444444, \"#bd3786\"], [0.5555555555555556, \"#d8576b\"], [0.6666666666666666, \"#ed7953\"], [0.7777777777777778, \"#fb9f3a\"], [0.8888888888888888, \"#fdca26\"], [1.0, \"#f0f921\"]], \"type\": \"contour\"}], \"contourcarpet\": [{\"colorbar\": {\"outlinewidth\": 0, \"ticks\": \"\"}, \"type\": \"contourcarpet\"}], \"heatmap\": [{\"colorbar\": {\"outlinewidth\": 0, \"ticks\": \"\"}, \"colorscale\": [[0.0, \"#0d0887\"], [0.1111111111111111, \"#46039f\"], [0.2222222222222222, \"#7201a8\"], [0.3333333333333333, \"#9c179e\"], [0.4444444444444444, \"#bd3786\"], [0.5555555555555556, \"#d8576b\"], [0.6666666666666666, \"#ed7953\"], [0.7777777777777778, \"#fb9f3a\"], [0.8888888888888888, \"#fdca26\"], [1.0, \"#f0f921\"]], \"type\": \"heatmap\"}], \"heatmapgl\": [{\"colorbar\": {\"outlinewidth\": 0, \"ticks\": \"\"}, \"colorscale\": [[0.0, \"#0d0887\"], [0.1111111111111111, \"#46039f\"], [0.2222222222222222, \"#7201a8\"], [0.3333333333333333, \"#9c179e\"], [0.4444444444444444, \"#bd3786\"], [0.5555555555555556, \"#d8576b\"], [0.6666666666666666, \"#ed7953\"], [0.7777777777777778, \"#fb9f3a\"], [0.8888888888888888, \"#fdca26\"], [1.0, \"#f0f921\"]], \"type\": \"heatmapgl\"}], \"histogram\": [{\"marker\": {\"colorbar\": {\"outlinewidth\": 0, \"ticks\": \"\"}}, \"type\": \"histogram\"}], \"histogram2d\": [{\"colorbar\": {\"outlinewidth\": 0, \"ticks\": \"\"}, \"colorscale\": [[0.0, \"#0d0887\"], [0.1111111111111111, \"#46039f\"], [0.2222222222222222, \"#7201a8\"], [0.3333333333333333, \"#9c179e\"], [0.4444444444444444, \"#bd3786\"], [0.5555555555555556, \"#d8576b\"], [0.6666666666666666, \"#ed7953\"], [0.7777777777777778, \"#fb9f3a\"], [0.8888888888888888, \"#fdca26\"], [1.0, \"#f0f921\"]], \"type\": \"histogram2d\"}], \"histogram2dcontour\": [{\"colorbar\": {\"outlinewidth\": 0, \"ticks\": \"\"}, \"colorscale\": [[0.0, \"#0d0887\"], [0.1111111111111111, \"#46039f\"], [0.2222222222222222, \"#7201a8\"], [0.3333333333333333, \"#9c179e\"], [0.4444444444444444, \"#bd3786\"], [0.5555555555555556, \"#d8576b\"], [0.6666666666666666, \"#ed7953\"], [0.7777777777777778, \"#fb9f3a\"], [0.8888888888888888, \"#fdca26\"], [1.0, \"#f0f921\"]], \"type\": \"histogram2dcontour\"}], \"mesh3d\": [{\"colorbar\": {\"outlinewidth\": 0, \"ticks\": \"\"}, \"type\": \"mesh3d\"}], \"parcoords\": [{\"line\": {\"colorbar\": {\"outlinewidth\": 0, \"ticks\": \"\"}}, \"type\": \"parcoords\"}], \"pie\": [{\"automargin\": true, \"type\": \"pie\"}], \"scatter\": [{\"marker\": {\"colorbar\": {\"outlinewidth\": 0, \"ticks\": \"\"}}, \"type\": \"scatter\"}], \"scatter3d\": [{\"line\": {\"colorbar\": {\"outlinewidth\": 0, \"ticks\": \"\"}}, \"marker\": {\"colorbar\": {\"outlinewidth\": 0, \"ticks\": \"\"}}, \"type\": \"scatter3d\"}], \"scattercarpet\": [{\"marker\": {\"colorbar\": {\"outlinewidth\": 0, \"ticks\": \"\"}}, \"type\": \"scattercarpet\"}], \"scattergeo\": [{\"marker\": {\"colorbar\": {\"outlinewidth\": 0, \"ticks\": \"\"}}, \"type\": \"scattergeo\"}], \"scattergl\": [{\"marker\": {\"colorbar\": {\"outlinewidth\": 0, \"ticks\": \"\"}}, \"type\": \"scattergl\"}], \"scattermapbox\": [{\"marker\": {\"colorbar\": {\"outlinewidth\": 0, \"ticks\": \"\"}}, \"type\": \"scattermapbox\"}], \"scatterpolar\": [{\"marker\": {\"colorbar\": {\"outlinewidth\": 0, \"ticks\": \"\"}}, \"type\": \"scatterpolar\"}], \"scatterpolargl\": [{\"marker\": {\"colorbar\": {\"outlinewidth\": 0, \"ticks\": \"\"}}, \"type\": \"scatterpolargl\"}], \"scatterternary\": [{\"marker\": {\"colorbar\": {\"outlinewidth\": 0, \"ticks\": \"\"}}, \"type\": \"scatterternary\"}], \"surface\": [{\"colorbar\": {\"outlinewidth\": 0, \"ticks\": \"\"}, \"colorscale\": [[0.0, \"#0d0887\"], [0.1111111111111111, \"#46039f\"], [0.2222222222222222, \"#7201a8\"], [0.3333333333333333, \"#9c179e\"], [0.4444444444444444, \"#bd3786\"], [0.5555555555555556, \"#d8576b\"], [0.6666666666666666, \"#ed7953\"], [0.7777777777777778, \"#fb9f3a\"], [0.8888888888888888, \"#fdca26\"], [1.0, \"#f0f921\"]], \"type\": \"surface\"}], \"table\": [{\"cells\": {\"fill\": {\"color\": \"#EBF0F8\"}, \"line\": {\"color\": \"white\"}}, \"header\": {\"fill\": {\"color\": \"#C8D4E3\"}, \"line\": {\"color\": \"white\"}}, \"type\": \"table\"}]}, \"layout\": {\"annotationdefaults\": {\"arrowcolor\": \"#2a3f5f\", \"arrowhead\": 0, \"arrowwidth\": 1}, \"coloraxis\": {\"colorbar\": {\"outlinewidth\": 0, \"ticks\": \"\"}}, \"colorscale\": {\"diverging\": [[0, \"#8e0152\"], [0.1, \"#c51b7d\"], [0.2, \"#de77ae\"], [0.3, \"#f1b6da\"], [0.4, \"#fde0ef\"], [0.5, \"#f7f7f7\"], [0.6, \"#e6f5d0\"], [0.7, \"#b8e186\"], [0.8, \"#7fbc41\"], [0.9, \"#4d9221\"], [1, \"#276419\"]], \"sequential\": [[0.0, \"#0d0887\"], [0.1111111111111111, \"#46039f\"], [0.2222222222222222, \"#7201a8\"], [0.3333333333333333, \"#9c179e\"], [0.4444444444444444, \"#bd3786\"], [0.5555555555555556, \"#d8576b\"], [0.6666666666666666, \"#ed7953\"], [0.7777777777777778, \"#fb9f3a\"], [0.8888888888888888, \"#fdca26\"], [1.0, \"#f0f921\"]], \"sequentialminus\": [[0.0, \"#0d0887\"], [0.1111111111111111, \"#46039f\"], [0.2222222222222222, \"#7201a8\"], [0.3333333333333333, \"#9c179e\"], [0.4444444444444444, \"#bd3786\"], [0.5555555555555556, \"#d8576b\"], [0.6666666666666666, \"#ed7953\"], [0.7777777777777778, \"#fb9f3a\"], [0.8888888888888888, \"#fdca26\"], [1.0, \"#f0f921\"]]}, \"colorway\": [\"#636efa\", \"#EF553B\", \"#00cc96\", \"#ab63fa\", \"#FFA15A\", \"#19d3f3\", \"#FF6692\", \"#B6E880\", \"#FF97FF\", \"#FECB52\"], \"font\": {\"color\": \"#2a3f5f\"}, \"geo\": {\"bgcolor\": \"white\", \"lakecolor\": \"white\", \"landcolor\": \"#E5ECF6\", \"showlakes\": true, \"showland\": true, \"subunitcolor\": \"white\"}, \"hoverlabel\": {\"align\": \"left\"}, \"hovermode\": \"closest\", \"mapbox\": {\"style\": \"light\"}, \"paper_bgcolor\": \"white\", \"plot_bgcolor\": \"#E5ECF6\", \"polar\": {\"angularaxis\": {\"gridcolor\": \"white\", \"linecolor\": \"white\", \"ticks\": \"\"}, \"bgcolor\": \"#E5ECF6\", \"radialaxis\": {\"gridcolor\": \"white\", \"linecolor\": \"white\", \"ticks\": \"\"}}, \"scene\": {\"xaxis\": {\"backgroundcolor\": \"#E5ECF6\", \"gridcolor\": \"white\", \"gridwidth\": 2, \"linecolor\": \"white\", \"showbackground\": true, \"ticks\": \"\", \"zerolinecolor\": \"white\"}, \"yaxis\": {\"backgroundcolor\": \"#E5ECF6\", \"gridcolor\": \"white\", \"gridwidth\": 2, \"linecolor\": \"white\", \"showbackground\": true, \"ticks\": \"\", \"zerolinecolor\": \"white\"}, \"zaxis\": {\"backgroundcolor\": \"#E5ECF6\", \"gridcolor\": \"white\", \"gridwidth\": 2, \"linecolor\": \"white\", \"showbackground\": true, \"ticks\": \"\", \"zerolinecolor\": \"white\"}}, \"shapedefaults\": {\"line\": {\"color\": \"#2a3f5f\"}}, \"ternary\": {\"aaxis\": {\"gridcolor\": \"white\", \"linecolor\": \"white\", \"ticks\": \"\"}, \"baxis\": {\"gridcolor\": \"white\", \"linecolor\": \"white\", \"ticks\": \"\"}, \"bgcolor\": \"#E5ECF6\", \"caxis\": {\"gridcolor\": \"white\", \"linecolor\": \"white\", \"ticks\": \"\"}}, \"title\": {\"x\": 0.05}, \"xaxis\": {\"automargin\": true, \"gridcolor\": \"white\", \"linecolor\": \"white\", \"ticks\": \"\", \"title\": {\"standoff\": 15}, \"zerolinecolor\": \"white\", \"zerolinewidth\": 2}, \"yaxis\": {\"automargin\": true, \"gridcolor\": \"white\", \"linecolor\": \"white\", \"ticks\": \"\", \"title\": {\"standoff\": 15}, \"zerolinecolor\": \"white\", \"zerolinewidth\": 2}}}, \"width\": 500, \"xaxis\": {\"title\": {\"text\": \"LCIA scores, [kg CO2-eq]\"}}, \"yaxis\": {\"autorange\": \"reversed\"}},\n",
       "                        {\"responsive\": true}\n",
       "                    ).then(function(){\n",
       "                            \n",
       "var gd = document.getElementById('57de85ee-3f39-457a-9e44-3384841810d9');\n",
       "var x = new MutationObserver(function (mutations, observer) {{\n",
       "        var display = window.getComputedStyle(gd).display;\n",
       "        if (!display || display === 'none') {{\n",
       "            console.log([gd, 'removed!']);\n",
       "            Plotly.purge(gd);\n",
       "            observer.disconnect();\n",
       "        }}\n",
       "}});\n",
       "\n",
       "// Listen for the removal of the full notebook cells\n",
       "var notebookContainer = gd.closest('#notebook-container');\n",
       "if (notebookContainer) {{\n",
       "    x.observe(notebookContainer, {childList: true});\n",
       "}}\n",
       "\n",
       "// Listen for the clearing of the current output cell\n",
       "var outputEl = gd.closest('.output');\n",
       "if (outputEl) {{\n",
       "    x.observe(outputEl, {childList: true});\n",
       "}}\n",
       "\n",
       "                        })\n",
       "                };\n",
       "                });\n",
       "            </script>\n",
       "        </div>"
      ]
     },
     "metadata": {},
     "output_type": "display_data"
    }
   ],
   "source": [
    "fig = go.Figure()\n",
    "fig.add_trace(\n",
    "    go.Bar(\n",
    "        y=product_names_plot,\n",
    "        x=df_plotting[lcia_unit].values,\n",
    "        orientation=\"h\",\n",
    "        marker_color=colors,\n",
    "    ),  \n",
    ")\n",
    "fig.update_layout(\n",
    "    width=500,\n",
    "    height=n_acts*22,\n",
    "    yaxis=dict(autorange=\"reversed\"),\n",
    "    xaxis_title=\"LCIA scores, [kg CO2-eq]\",\n",
    ")\n",
    "fig.show()\n",
    "fig.write_image(\"food_contribution.pdf\")"
   ]
  },
  {
   "cell_type": "code",
   "execution_count": null,
   "metadata": {},
   "outputs": [],
   "source": []
  },
  {
   "cell_type": "code",
   "execution_count": null,
   "metadata": {},
   "outputs": [],
   "source": []
  },
  {
   "cell_type": "markdown",
   "metadata": {},
   "source": [
    "# BW2 contribution analysis"
   ]
  },
  {
   "cell_type": "code",
   "execution_count": null,
   "metadata": {},
   "outputs": [],
   "source": [
    "import bw2analyzer"
   ]
  },
  {
   "cell_type": "code",
   "execution_count": null,
   "metadata": {},
   "outputs": [],
   "source": [
    "lca = bw.LCA({food: 1}, list_methods[0])"
   ]
  },
  {
   "cell_type": "code",
   "execution_count": null,
   "metadata": {},
   "outputs": [],
   "source": [
    "lca.lci()\n",
    "lca.lcia()\n",
    "lca.score"
   ]
  },
  {
   "cell_type": "code",
   "execution_count": null,
   "metadata": {},
   "outputs": [],
   "source": [
    "ca = bw2analyzer.ContributionAnalysis()"
   ]
  },
  {
   "cell_type": "code",
   "execution_count": null,
   "metadata": {},
   "outputs": [],
   "source": [
    "ca.annotated_top_processes(lca)"
   ]
  },
  {
   "cell_type": "markdown",
   "metadata": {},
   "source": [
    "# Contribution analysis for sectors"
   ]
  },
  {
   "cell_type": "code",
   "execution_count": null,
   "metadata": {},
   "outputs": [],
   "source": [
    "list_methods = [('IPCC 2013', 'climate change', 'GTP 100a')]\n",
    "list_fus = []\n",
    "for cat_of_interest in category_activities:\n",
    "    list_fus.append({co.search(cat_of_interest)[0]: 1})\n",
    "    \n",
    "bw.calculation_setups['sector_contribution_analysis'] = {'inv':list_fus, 'ia':list_methods}\n",
    "\n",
    "%%time\n",
    "myMultiLCA = bw.MultiLCA('sector_contribution_analysis')\n",
    "\n",
    "lcia_unit = bw.Method(list_methods[0]).metadata['unit']\n",
    "\n",
    "fus = [bw.get_activity(list(el.keys())[0])['name'][:25] for el in list_fus]\n",
    "df = pd.DataFrame(index=fus, columns=[lcia_unit], data=myMultiLCA.results)\n",
    "df['units'] = [bw.get_activity(list(el.keys())[0])['unit'] for el in list_fus]\n",
    "\n",
    "df.sort_values(lcia_unit, ascending=False, inplace=True)\n",
    "\n",
    "with pd.option_context('display.max_rows', None, 'display.max_columns', None):  # more options can be specified also\n",
    "    print(df)"
   ]
  }
 ],
 "metadata": {
  "kernelspec": {
   "display_name": "Python 3",
   "language": "python",
   "name": "python3"
  },
  "language_info": {
   "codemirror_mode": {
    "name": "ipython",
    "version": 3
   },
   "file_extension": ".py",
   "mimetype": "text/x-python",
   "name": "python",
   "nbconvert_exporter": "python",
   "pygments_lexer": "ipython3",
   "version": "3.8.5"
  },
  "varInspector": {
   "cols": {
    "lenName": 16,
    "lenType": 16,
    "lenVar": 40
   },
   "kernels_config": {
    "python": {
     "delete_cmd_postfix": "",
     "delete_cmd_prefix": "del ",
     "library": "var_list.py",
     "varRefreshCmd": "print(var_dic_list())"
    },
    "r": {
     "delete_cmd_postfix": ") ",
     "delete_cmd_prefix": "rm(",
     "library": "var_list.r",
     "varRefreshCmd": "cat(var_dic_list()) "
    }
   },
   "types_to_exclude": [
    "module",
    "function",
    "builtin_function_or_method",
    "instance",
    "_Feature"
   ],
   "window_display": false
  }
 },
 "nbformat": 4,
 "nbformat_minor": 2
}
