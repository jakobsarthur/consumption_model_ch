{
 "cells": [
  {
   "cell_type": "markdown",
   "metadata": {},
   "source": [
    "# Comments to the following code\n",
    "> - #### Parts 1 and 2 can be run separately\n",
    "> - #### Raw data: Excel sheet can be obtained from https://doi.org/10.1021/acs.est.8b01452\n",
    "> - #### Terms `exchange` and `input activity` are used interchangeably\n",
    "> - #### At the moment, only works if ecoinvent 3.3 was also imported as reference product is taken from there"
   ]
  },
  {
   "cell_type": "markdown",
   "metadata": {},
   "source": [
    "# ------------------------------------------ Part 1 ------------------------------------------"
   ]
  },
  {
   "cell_type": "code",
   "execution_count": null,
   "metadata": {},
   "outputs": [],
   "source": [
    "import pandas as pd\n",
    "import numpy as np\n",
    "from copy import copy\n",
    "import os, json\n",
    "import re\n",
    "import brightway2 as bw\n",
    "\n",
    "# Local files\n",
    "from utils_consumption_db import *"
   ]
  },
  {
   "cell_type": "markdown",
   "metadata": {},
   "source": [
    "# Convert data to brightway database format -> main code\n",
    "calls all the functions used above"
   ]
  },
  {
   "cell_type": "code",
   "execution_count": null,
   "metadata": {},
   "outputs": [],
   "source": [
    "with open('global_settings.json', 'rb') as f:\n",
    "    settings = json.load(f)\n",
    "which_pc = settings['which_pc']"
   ]
  },
  {
   "cell_type": "code",
   "execution_count": null,
   "metadata": {},
   "outputs": [],
   "source": [
    "%%time\n",
    "# 0. Set relevant paths\n",
    "if which_pc == 'local':\n",
    "    path_habe = '/Users/akim/Documents/LCA_files/HABE_2017/'\n",
    "    ei33_path = '/Users/akim/Documents/LCA_files/ecoinvent 3.3 cutoff/datasets'  \n",
    "elif which_pc == 'merlin':\n",
    "    path_habe = '/data/user/kim_a/LCA_files/HABE_2017'\n",
    "    ei33_path = '/data/user/kim_a/LCA_files/ecoinvent_33_cutoff/datasets'  \n",
    "    \n",
    "# 1. Create project with ecoinvent 3.3 cutoff only. \n",
    "# This is needed because Andi's activities were given as ecoinvent 3.3 cutoff codes\n",
    "create_ecoinvent_33_project(ei33_path)\n",
    "\n",
    "# Start brightway project that already contains databases\n",
    "project = 'GSA for ecoinvent'\n",
    "bw.projects.set_current(project)\n",
    "\n",
    "# Create dataframe that will be our consumption database after we add activities and exchanges from the raw file\n",
    "df_bw = create_df_bw(CONSUMPTION_DB_NAME)\n",
    "\n",
    "# Read data from Andi's consumption database\n",
    "path = 'data/es8b01452_si_002.xlsx'\n",
    "sheet_name = 'Overview & LCA-Modeling'\n",
    "df_raw = pd.read_excel(path, sheet_name = sheet_name, header=2)\n",
    "\n",
    "# Read data from HABE\n",
    "year = '091011' #121314 or 151617\n",
    "code_unit = get_units_habe(path_habe, year)\n",
    "\n",
    "# Add ON columns\n",
    "df = complete_columns(df_raw)\n",
    "\n",
    "act_indices = df_raw.index[df_raw['ConversionDem2FU'].notna()].tolist() # indices of all activities\n",
    "\n",
    "for ind in act_indices:\n",
    "    # For each row\n",
    "    df_ind = df_raw.iloc[ind]\n",
    "    df_ind = df_ind[df_ind.notna()]\n",
    "    # Add activity\n",
    "    df_bw, df_act = append_activity(df_bw, df_ind[:N_ACT_RELEVANT], code_unit) # only pass columns relevant to this function \n",
    "    # Add exchanges\n",
    "    df_bw = append_exchanges(df_bw, df_ind, df_act)"
   ]
  },
  {
   "cell_type": "code",
   "execution_count": null,
   "metadata": {},
   "outputs": [],
   "source": [
    "# Write the dataframe to excel file\n",
    "write_dir_name = 'write_files'\n",
    "if not os.path.exists(write_dir_name):\n",
    "    os.mkdir(write_dir_name)\n",
    "db_bw_path = write_dir_name + '/' + 'consumption_db.xlsx'\n",
    "df_bw.to_excel(db_bw_path, index=False, header=False)"
   ]
  },
  {
   "cell_type": "markdown",
   "metadata": {},
   "source": [
    "# ------------------------------------------ Part 2 ------------------------------------------"
   ]
  },
  {
   "cell_type": "code",
   "execution_count": null,
   "metadata": {},
   "outputs": [],
   "source": [
    "import pandas as pd\n",
    "import numpy as np\n",
    "import brightway2 as bw\n",
    "import string\n",
    "from copy import copy, deepcopy\n",
    "\n",
    "# Local files\n",
    "from utils import *\n",
    "from utils_consumption_db import *"
   ]
  },
  {
   "cell_type": "code",
   "execution_count": null,
   "metadata": {},
   "outputs": [],
   "source": [
    "# Main code\n",
    "project = 'GSA for ecoinvent'\n",
    "bw.projects.set_current(project)\n",
    "\n",
    "# Read consumption database\n",
    "path = 'write_files/consumption_db.xlsx'\n",
    "df = pd.read_excel(path, header = None)\n",
    "df.columns = list(string.ascii_uppercase[:len(df.columns)])\n",
    "# \n",
    "# Replace\n",
    "df = update_all_db(df)\n",
    "path_new_db = 'write_files/consumption_db_updated.xlsx'\n",
    "df.to_excel(path_new_db, index=False, header=False)"
   ]
  },
  {
   "cell_type": "markdown",
   "metadata": {},
   "source": [
    "# Import consumption database linked to older versions of other databases"
   ]
  },
  {
   "cell_type": "markdown",
   "metadata": {},
   "source": [
    "# 1. Ecoinvent 3.6"
   ]
  },
  {
   "cell_type": "markdown",
   "metadata": {},
   "source": [
    "### TODO Chris -> please check migrations"
   ]
  },
  {
   "cell_type": "code",
   "execution_count": null,
   "metadata": {
    "scrolled": true
   },
   "outputs": [],
   "source": [
    "if CONSUMPTION_DB_NAME in bw.databases:\n",
    "    del bw.databases[CONSUMPTION_DB_NAME]"
   ]
  },
  {
   "cell_type": "code",
   "execution_count": null,
   "metadata": {},
   "outputs": [],
   "source": [
    "co = bw.ExcelImporter(path_new_db)\n",
    "co.apply_strategies()\n",
    "co.match_database('EXIOBASE 2.2', fields=('name','reference product', 'unit','location','categories'))\n",
    "co.match_database('ecoinvent 3.6 cutoff', fields=('name', 'reference product', 'unit','location','categories'))\n",
    "co.match_database('Agribalyse 1.3 - ecoinvent 3.6 cutoff', fields=('name','unit','location'))\n",
    "co.statistics()"
   ]
  },
  {
   "cell_type": "code",
   "execution_count": null,
   "metadata": {},
   "outputs": [],
   "source": [
    "# Define a migration for two particular activities that can only be hardcoded\n",
    "ecoinvent36_change_names_data = {\n",
    "    'fields': ['name', ],\n",
    "    'data': [\n",
    "        (\n",
    "            ['steam production in chemical industry'], \n",
    "            {\n",
    "                'name': 'steam production, in chemical industry',\n",
    "                'reference product': 'steam, in chemical industry',\n",
    "                'unit': 'kilogram',\n",
    "                'multiplier': 1/2.75, # see comment on this activity in ecoinvent\n",
    "            }\n",
    "        ),\n",
    "        (\n",
    "            ['market for green bell pepper'],\n",
    "            {\n",
    "                'name': 'market for bell pepper',\n",
    "                'reference product': 'bell pepper',\n",
    "            }\n",
    "        ),\n",
    "    ]\n",
    "}\n",
    "\n",
    "bw.Migration(\"ecoinvent36-change-names\").write(\n",
    "    ecoinvent36_change_names_data,\n",
    "    description=\"Change names of some activities\"\n",
    ")"
   ]
  },
  {
   "cell_type": "code",
   "execution_count": null,
   "metadata": {},
   "outputs": [],
   "source": [
    "# Define a migration for rice production and specific locations\n",
    "# These locations have only non-basmati rice production\n",
    "ecoinvent36_rice_production_data = {\n",
    "    'fields': ['name', 'location'],\n",
    "    'data': [\n",
    "        (\n",
    "            ['rice production', 'US'],\n",
    "            {\n",
    "                'name': 'rice production, non-basmati',\n",
    "                'reference product': 'rice, non-basmati'\n",
    "            }\n",
    "        ),\n",
    "        (\n",
    "            ['rice production', 'CN'],\n",
    "            {\n",
    "                'name': 'rice production, non-basmati',\n",
    "                'reference product': 'rice, non-basmati'\n",
    "            }\n",
    "        ),\n",
    "    ]\n",
    "}\n",
    "\n",
    "bw.Migration(\"ecoinvent36-rice-production\").write(\n",
    "    ecoinvent36_rice_production_data,\n",
    "    description=\"Change names of some activities\"\n",
    ")"
   ]
  },
  {
   "cell_type": "code",
   "execution_count": null,
   "metadata": {},
   "outputs": [],
   "source": [
    "co.migrate('ecoinvent36-change-names')\n",
    "co.migrate(\"ecoinvent36-rice-production\")\n",
    "co.match_database('ecoinvent 3.6 cutoff', fields=('name','reference product', 'unit','location','categories'))\n",
    "co.statistics()"
   ]
  },
  {
   "cell_type": "markdown",
   "metadata": {},
   "source": [
    "The rest of the unlinked exchanges are not uniquely defined in ecoinvent 3.6 -> 1-to-multiple mapping. <br>\n",
    "For example 'rice production' is now divided into basmati and non-basmati rice. <br>\n",
    "Hence, we split them based on their shares in the production volumes."
   ]
  },
  {
   "cell_type": "code",
   "execution_count": null,
   "metadata": {},
   "outputs": [],
   "source": [
    "# Manually choose which ecoinvent 3.6 exchanges should be taken for each unlinked exchange\n",
    "ei36 = bw.Database('ecoinvent 3.6 cutoff')\n",
    "mapping = [\n",
    "    {('market for rice', 'GLO'): \n",
    "        [act['code'] for act in ei36 if  'market for rice' in act['name'] \n",
    "                                     and act['location']=='GLO'\n",
    "                                     and 'seed' not in act['name']]},\n",
    "    \n",
    "    {('rice production', 'RoW'): \n",
    "        [act['code'] for act in ei36 if  'rice production' in act['name'] \n",
    "                                     and act['location']=='RoW'\n",
    "                                     and 'straw' not in act['reference product']]},\n",
    "    \n",
    "    {('rice production', 'IN'): \n",
    "        [act['code'] for act in ei36 if  'rice production' in act['name'] \n",
    "                                     and act['location']=='IN'\n",
    "                                     and 'straw' not in act['reference product']]},\n",
    "    \n",
    "    {('market for wheat grain', 'GLO'): \n",
    "        [act['code'] for act in ei36 if  'market for wheat grain' in act['name'] \n",
    "                                     and 'feed' not in act['name']]},\n",
    "    \n",
    "    {('market for maize grain', 'GLO'): \n",
    "        [act['code'] for act in ei36 if  'market for maize grain' in act['name'] \n",
    "                                     and 'feed' not in act['name']]},\n",
    "    \n",
    "    {('market for mandarin', 'GLO'): \n",
    "        [act['code'] for act in ei36 if 'market for mandarin' in act['name']]},\n",
    "    \n",
    "    {('market for soybean', 'GLO'): \n",
    "        [act['code'] for act in ei36 if 'market for soybean' in act['name'] \n",
    "                             and all([_ not in act['name'] for _ in ['meal','beverage','seed','feed','oil']] )]},\n",
    "]"
   ]
  },
  {
   "cell_type": "code",
   "execution_count": null,
   "metadata": {},
   "outputs": [],
   "source": [
    "ei_name = 'ecoinvent 3.6 cutoff'"
   ]
  },
  {
   "cell_type": "code",
   "execution_count": null,
   "metadata": {},
   "outputs": [],
   "source": [
    "co = modify_exchanges(co, mapping, 'ecoinvent 3.6 cutoff')\n",
    "co.statistics()"
   ]
  },
  {
   "cell_type": "code",
   "execution_count": null,
   "metadata": {},
   "outputs": [],
   "source": [
    "if CONSUMPTION_DB_NAME in bw.databases:\n",
    "    print(CONSUMPTION_DB_NAME + \" database already present!!! No import is needed\")\n",
    "else:\n",
    "    co.write_database()"
   ]
  },
  {
   "cell_type": "code",
   "execution_count": null,
   "metadata": {},
   "outputs": [],
   "source": [
    "bw.databases"
   ]
  },
  {
   "cell_type": "code",
   "execution_count": null,
   "metadata": {},
   "outputs": [],
   "source": []
  },
  {
   "cell_type": "markdown",
   "metadata": {},
   "source": [
    "# ------------------------------------------ Part 3 ------------------------------------------"
   ]
  },
  {
   "cell_type": "code",
   "execution_count": null,
   "metadata": {},
   "outputs": [],
   "source": [
    "import brightway2 as bw\n",
    "import numpy as np\n",
    "import pandas as pd\n",
    "import os"
   ]
  },
  {
   "cell_type": "code",
   "execution_count": null,
   "metadata": {},
   "outputs": [],
   "source": [
    "bw.projects.set_current('GSA for ecoinvent')"
   ]
  },
  {
   "cell_type": "code",
   "execution_count": null,
   "metadata": {},
   "outputs": [],
   "source": [
    "bw.databases"
   ]
  },
  {
   "cell_type": "code",
   "execution_count": null,
   "metadata": {},
   "outputs": [],
   "source": [
    "co = bw.Database('CH consumption 1.0')"
   ]
  },
  {
   "cell_type": "markdown",
   "metadata": {},
   "source": [
    "# Add consumption activity for all households"
   ]
  },
  {
   "cell_type": "markdown",
   "metadata": {},
   "source": [
    "## 1. Extract total demand from HABE"
   ]
  },
  {
   "cell_type": "code",
   "execution_count": null,
   "metadata": {},
   "outputs": [],
   "source": [
    "if which_pc == 'local':\n",
    "    path = '/Users/akim/Documents/LCA_files/HABE_2017/'\n",
    "elif which_pc == 'merlin':\n",
    "    path = '/data/user/kim_a/LCA_files/HABE_2017'\n",
    "    \n",
    "year = '091011' #11, 14 or 17\n",
    "get_path = lambda which_file: os.path.join( path, [f for f in os.listdir(path) if year in f and which_file in f][0] )\n",
    "path_beschrei = get_path('Datenbeschreibung')\n",
    "path_ausgaben = get_path('Ausgaben')"
   ]
  },
  {
   "cell_type": "code",
   "execution_count": null,
   "metadata": {},
   "outputs": [],
   "source": [
    "# change codes to be consistent with consumption database and Andi's codes\n",
    "bw.projects.set_current('GSA for ecoinvent')\n",
    "co = bw.Database('CH consumption 1.0')\n",
    "\n",
    "ausgaben = pd.read_csv(path_ausgaben, sep='\\t')\n",
    "\n",
    "codes_co_db = sorted([act['code'] for act in co])\n",
    "columns_a = ausgaben.columns.values\n",
    "columns_m = [columns_a[0]]\n",
    "for code_a in columns_a[1:]:\n",
    "    code_m = code_a.replace('A', 'm') \n",
    "    if code_m in codes_co_db:\n",
    "        columns_m.append(code_m)\n",
    "    else:\n",
    "        columns_m.append(code_a.lower())\n",
    "        \n",
    "ausgaben.columns = columns_m"
   ]
  },
  {
   "cell_type": "code",
   "execution_count": null,
   "metadata": {},
   "outputs": [],
   "source": [
    "# Compute total consumption\n",
    "total_consumption = ausgaben.sum()\n",
    "total_consumption = total_consumption.drop('HaushaltID')"
   ]
  },
  {
   "cell_type": "code",
   "execution_count": null,
   "metadata": {},
   "outputs": [],
   "source": [
    "# Add other useful info, eg number of households and number of people\n",
    "meta = pd.read_excel(path_beschrei, sheet_name='Tabellen', skiprows=8, usecols=[0,1,3,4])\n",
    "meta.columns = ['category1', 'category2', 'n_rows', 'n_cols']\n",
    "meta.dropna(subset=['n_rows'], inplace=True)\n",
    "\n",
    "# Combine some columns together\n",
    "temp1 = meta[meta['category1'].notnull()][['category1', 'n_rows', 'n_cols']]\n",
    "temp1.columns = ['category2', 'n_rows', 'n_cols']\n",
    "temp2 = meta[meta['category2'].notnull()][['category2', 'n_rows', 'n_cols']]\n",
    "meta = pd.concat([temp1, temp2])\n",
    "meta.set_index('category2', inplace=True)\n",
    "\n",
    "# Add info\n",
    "total_consumption['n_households'] = meta.loc['HABE091011_Ausgaben']['n_rows']\n",
    "total_consumption['n_people']     = meta.loc['HABE091011_Personen']['n_rows']"
   ]
  },
  {
   "cell_type": "code",
   "execution_count": null,
   "metadata": {},
   "outputs": [],
   "source": [
    "# Save total demand\n",
    "path_demand = 'write_files/habe_totaldemands.xlsx'\n",
    "total_consumption.to_excel(path_demand)"
   ]
  },
  {
   "cell_type": "code",
   "execution_count": null,
   "metadata": {},
   "outputs": [],
   "source": [
    "total_consumption['a5220']"
   ]
  },
  {
   "cell_type": "markdown",
   "metadata": {},
   "source": [
    "#### OPTION 1. Total demands extract directly from HABE raw files\n",
    "Excel file `habe_totaldemands.xlsx` contains sums of all private households in Switzerland for all categories of the HBS. Units are the same as in the HBS (please refer to the SI-excel of Andi's ES&T-paper in order to translate the codenames). The attached vector is in \"per month\" quantities."
   ]
  },
  {
   "cell_type": "markdown",
   "metadata": {},
   "source": [
    "#### OPTION 2. Andi's total demands from his Swiss consumption model\n",
    "Excel file `heia2_totaldemands.xlsx` contains sums of all private households in Switzerland for all categories of the HBS. Please note that the units are basically the same as in the HBS (please refer to the SI-excel of Andi's ES&T-paper in order to translate the codenames). However, the attached vector is in \"per year\" instead of in \"per month\". Furthermore, there are a couple of demands that were computed by the model itself. The codenames for these computed/imputed categories start with \"mx\" and the units are as follows:\n",
    "* kWh per year for electricity\n",
    "* MJ per year for heating\n",
    "* cubic meters per year for water supply and wastewater collection\n",
    "* number of waste bags per year for refuse collection"
   ]
  },
  {
   "cell_type": "code",
   "execution_count": null,
   "metadata": {},
   "outputs": [],
   "source": [
    "option = 'aggregated'\n",
    "if option == 'aggregated':\n",
    "#     path = 'data/heia2_totaldemands.xlsx'm # from Andi's model\n",
    "#     number_households = 3518878\n",
    "    path = 'write_files/habe_totaldemands.xlsx'\n",
    "    df   = pd.read_excel(path)\n",
    "    df.columns = ['code', 'amount']\n",
    "    df.set_index('code', inplace=True)\n",
    "\n",
    "    n_households = int(df.loc['n_households', 'amount'])\n",
    "    n_people     = int(df.loc['n_people', 'amount'])\n",
    "    df = df.drop(['n_households', 'n_people'])\n",
    "    df = df.reset_index()\n",
    "    \n",
    "elif option == 'disaggregated':\n",
    "    path = 'data/habe20092011_hh_prepared_imputed.csv'\n",
    "    df = pd.read_csv(path, low_memory=False)\n",
    "    number_households = df.shape[0]\n",
    "    df = df.drop('haushaltid', axis=1).sum()\n",
    "    df = df.reset_index()\n",
    "    df.columns = ['code', 'amount']\n",
    "\n",
    "# for i in range(len(df)):\n",
    "#     code = df.iloc[i]['code']\n",
    "#     new_code = code\n",
    "#     df.at[i,'code'] = new_code"
   ]
  },
  {
   "cell_type": "code",
   "execution_count": null,
   "metadata": {},
   "outputs": [],
   "source": [
    "# Add total inputs from Andi's model as swiss consumption activity\n",
    "try: co.get('ch hh all consumption').delete()\n",
    "except: pass\n",
    "consumption_all = co.new_activity('ch hh all consumption', name='ch hh all consumption', location='CH', unit='1 month of consumption')\n",
    "consumption_all.save()"
   ]
  },
  {
   "cell_type": "code",
   "execution_count": null,
   "metadata": {},
   "outputs": [],
   "source": [
    "# Add production exchange for the activity `consumption`\n",
    "consumption_all.new_exchange(input = (consumption_all['database'], consumption_all['code']),\n",
    "                         amount = 1,\n",
    "                         type = 'production').save()"
   ]
  },
  {
   "cell_type": "code",
   "execution_count": null,
   "metadata": {
    "scrolled": true
   },
   "outputs": [],
   "source": [
    "codes = [act['code'] for act in co]\n",
    "\n",
    "unlinked_codes = []\n",
    "for i in range(len(df)):\n",
    "    code = df.loc[i]['code']\n",
    "    if code in codes:\n",
    "        consumption_all.new_exchange(input  = (co.name, code), \n",
    "                                     amount = df.loc[i]['amount'], # TODO?? divide by number of months\n",
    "                                     type   = 'technosphere').save()\n",
    "    else:\n",
    "        unlinked_codes.append(code)"
   ]
  },
  {
   "cell_type": "code",
   "execution_count": null,
   "metadata": {},
   "outputs": [],
   "source": [
    "list(consumption_all.exchanges()) # per month for all households"
   ]
  },
  {
   "cell_type": "code",
   "execution_count": null,
   "metadata": {},
   "outputs": [],
   "source": [
    "len(list(consumption_all.exchanges()))"
   ]
  },
  {
   "cell_type": "markdown",
   "metadata": {},
   "source": [
    "### Note that the number of consumption exchanges is the same as the number of activities in the database, but is a lot less than what Andi provided in his total demands."
   ]
  },
  {
   "cell_type": "markdown",
   "metadata": {},
   "source": [
    "# Add consumption activity for an average household"
   ]
  },
  {
   "cell_type": "code",
   "execution_count": null,
   "metadata": {},
   "outputs": [],
   "source": [
    "try: co.get('ch hh average consumption').delete()\n",
    "except: pass\n",
    "consumption_average = consumption_all.copy('ch hh average consumption', name='ch hh average consumption')"
   ]
  },
  {
   "cell_type": "code",
   "execution_count": null,
   "metadata": {},
   "outputs": [],
   "source": [
    "for exc in consumption_average.exchanges():\n",
    "    if exc['type'] != 'production':\n",
    "        exc['amount'] /= n_households\n",
    "        exc.save()"
   ]
  },
  {
   "cell_type": "code",
   "execution_count": null,
   "metadata": {},
   "outputs": [],
   "source": [
    "list(consumption_average.exchanges())"
   ]
  },
  {
   "cell_type": "markdown",
   "metadata": {},
   "source": [
    "# Simple LCA"
   ]
  },
  {
   "cell_type": "code",
   "execution_count": null,
   "metadata": {},
   "outputs": [],
   "source": [
    "import brightway2 as bw"
   ]
  },
  {
   "cell_type": "code",
   "execution_count": null,
   "metadata": {},
   "outputs": [],
   "source": [
    "bw.projects.set_current('GSA for ecoinvent')"
   ]
  },
  {
   "cell_type": "code",
   "execution_count": null,
   "metadata": {},
   "outputs": [],
   "source": [
    "co = bw.Database('CH consumption 1.0')"
   ]
  },
  {
   "cell_type": "code",
   "execution_count": null,
   "metadata": {},
   "outputs": [],
   "source": [
    "consumption_average = co.search('average consumption')[0]"
   ]
  },
  {
   "cell_type": "code",
   "execution_count": null,
   "metadata": {},
   "outputs": [],
   "source": [
    "# demand = {consumption_average: 1}\n",
    "demand = {consumption_average: 1}\n",
    "method = ('IPCC 2013', 'climate change', 'GTP 100a')"
   ]
  },
  {
   "cell_type": "code",
   "execution_count": null,
   "metadata": {},
   "outputs": [],
   "source": [
    "%%time\n",
    "lca = bw.LCA(demand, method)\n",
    "lca.lci()\n",
    "lca.lcia()\n",
    "print(str(lca.score) + ' ' + bw.Method(method).metadata['unit'])"
   ]
  },
  {
   "cell_type": "markdown",
   "metadata": {},
   "source": [
    "### Another exchange"
   ]
  },
  {
   "cell_type": "code",
   "execution_count": null,
   "metadata": {},
   "outputs": [],
   "source": [
    "food = co.search('Ready-made foods')[0]"
   ]
  },
  {
   "cell_type": "code",
   "execution_count": null,
   "metadata": {},
   "outputs": [],
   "source": [
    "%%time\n",
    "lca = bw.LCA({food: 1}, method)\n",
    "lca.lci()\n",
    "lca.lcia()\n",
    "print(str(lca.score) + ' ' + bw.Method(method).metadata['unit'])"
   ]
  },
  {
   "cell_type": "markdown",
   "metadata": {},
   "source": [
    "# ------------------------------------------ Part 4 ------------------------------------------"
   ]
  },
  {
   "cell_type": "markdown",
   "metadata": {},
   "source": [
    "# Add categories for all activities (in English)"
   ]
  },
  {
   "cell_type": "code",
   "execution_count": null,
   "metadata": {},
   "outputs": [],
   "source": [
    "import brightway2 as bw\n",
    "import numpy as np\n",
    "import pandas as pd\n",
    "import re"
   ]
  },
  {
   "cell_type": "code",
   "execution_count": null,
   "metadata": {},
   "outputs": [],
   "source": [
    "bw.projects.set_current('GSA for ecoinvent')"
   ]
  },
  {
   "cell_type": "code",
   "execution_count": null,
   "metadata": {},
   "outputs": [],
   "source": [
    "path = 'data/es8b01452_si_002.xlsx'\n",
    "sheet_name = 'Overview & LCA-Modeling'\n",
    "df_raw = pd.read_excel(path, sheet_name = sheet_name, header=2)"
   ]
  },
  {
   "cell_type": "code",
   "execution_count": null,
   "metadata": {},
   "outputs": [],
   "source": [
    "categories_col_de = 'Original name in Swiss household budget survey'\n",
    "categories_col_en = 'Translated name'\n",
    "categories_raw = df_raw[[categories_col_de, categories_col_en]]"
   ]
  },
  {
   "cell_type": "code",
   "execution_count": null,
   "metadata": {},
   "outputs": [],
   "source": [
    "categories_raw.values"
   ]
  },
  {
   "cell_type": "code",
   "execution_count": null,
   "metadata": {},
   "outputs": [],
   "source": [
    "categories = {}\n",
    "for v in categories_raw.values:\n",
    "    v_list_de = v[0].split(':')\n",
    "    v_list_en = v[1].split(':')\n",
    "    if len(v_list_de)>1 and len(v_list_de[0].split('.')) == 1:\n",
    "        categories[v_list_de[0]] = v_list_en[0]\n",
    "max_code_len = max({len(k) for k in categories.keys()})"
   ]
  },
  {
   "cell_type": "code",
   "execution_count": null,
   "metadata": {},
   "outputs": [],
   "source": [
    "co = bw.Database('CH consumption 1.0')"
   ]
  },
  {
   "cell_type": "code",
   "execution_count": null,
   "metadata": {},
   "outputs": [],
   "source": [
    "%%time\n",
    "category_names_dict = {\n",
    "    2: 'coarse',\n",
    "    3: 'middle',\n",
    "    4: 'fine',\n",
    "}\n",
    "for act in co:    \n",
    "    code = re.sub(r'[a-z]+', '', act['code'], re.I)[:max_code_len]\n",
    "    for i in range(2,max_code_len+1):\n",
    "        try:\n",
    "            category_name = 'category_' + category_names_dict[i]\n",
    "            act[category_name] = categories[code[:i]]\n",
    "            act.save()\n",
    "        except:\n",
    "            pass"
   ]
  },
  {
   "cell_type": "code",
   "execution_count": null,
   "metadata": {},
   "outputs": [],
   "source": [
    "co.random().as_dict()"
   ]
  },
  {
   "cell_type": "code",
   "execution_count": null,
   "metadata": {},
   "outputs": [],
   "source": []
  },
  {
   "cell_type": "markdown",
   "metadata": {},
   "source": [
    "# ------------------------------------------ Part 5 ------------------------------------------"
   ]
  },
  {
   "cell_type": "markdown",
   "metadata": {},
   "source": [
    "# Add sectors as separate activities\n",
    "## 1. Choose sectors"
   ]
  },
  {
   "cell_type": "code",
   "execution_count": null,
   "metadata": {},
   "outputs": [],
   "source": [
    "import brightway2 as bw\n",
    "import pandas as pd"
   ]
  },
  {
   "cell_type": "code",
   "execution_count": null,
   "metadata": {},
   "outputs": [],
   "source": [
    "bw.projects.set_current('GSA for ecoinvent')"
   ]
  },
  {
   "cell_type": "code",
   "execution_count": null,
   "metadata": {},
   "outputs": [],
   "source": [
    "co = bw.Database('CH consumption 1.0')"
   ]
  },
  {
   "cell_type": "code",
   "execution_count": null,
   "metadata": {},
   "outputs": [],
   "source": [
    "cat_option = 'category_coarse'\n",
    "\n",
    "cat_unique = []\n",
    "for act in co:\n",
    "    cat_unique.append(act.get(cat_option) or 0)\n",
    "cat_unique = list(set(cat_unique))\n",
    "\n",
    "category_activities = {}\n",
    "category_activities_len = {}\n",
    "for cat_of_interest in cat_unique: \n",
    "    list_ = []\n",
    "    for act in co:\n",
    "        if act.get(cat_option) == cat_of_interest:\n",
    "            list_.append(act)\n",
    "    if len(list_) > 0:\n",
    "        category_activities[cat_of_interest] = list_\n",
    "        category_activities_len[cat_of_interest] = len(list_)"
   ]
  },
  {
   "cell_type": "code",
   "execution_count": null,
   "metadata": {},
   "outputs": [],
   "source": [
    "dict_ = {}\n",
    "for cat_of_interest, activities in category_activities.items():\n",
    "        \n",
    "    excs_input_ag  = []\n",
    "    excs_input_ex  = []\n",
    "    excs_input_ec  = []\n",
    "\n",
    "    for act in activities:\n",
    "        for exc in act.exchanges():\n",
    "            if 'Agribalyse' in exc.input['database']:\n",
    "                excs_input_ag.append(exc.input)\n",
    "            elif 'EXIOBASE' in exc.input['database']:\n",
    "                excs_input_ex.append(exc.input)\n",
    "            elif 'ecoinvent 3.6 cutoff' == exc.input['database']:\n",
    "                excs_input_ec.append(exc.input)\n",
    "                \n",
    "    dict_[cat_of_interest] = dict(\n",
    "        n_activities = len(activities),\n",
    "        n_agribalyse_exchanges = len(excs_input_ag), \n",
    "        n_exiobase_exchanges   = len(excs_input_ex), \n",
    "        n_ecoinvent_exchanges  = len(excs_input_ec), \n",
    "    )\n",
    "        "
   ]
  },
  {
   "cell_type": "code",
   "execution_count": null,
   "metadata": {},
   "outputs": [],
   "source": [
    "df = pd.DataFrame.from_dict(dict_).T"
   ]
  },
  {
   "cell_type": "code",
   "execution_count": null,
   "metadata": {},
   "outputs": [],
   "source": [
    "category_activities_len"
   ]
  },
  {
   "cell_type": "markdown",
   "metadata": {},
   "source": [
    "## 2. Add sectors"
   ]
  },
  {
   "cell_type": "code",
   "execution_count": null,
   "metadata": {},
   "outputs": [],
   "source": [
    "demand_act = [act for act in co if 'average' in act['name']][0]\n",
    "demand_act"
   ]
  },
  {
   "cell_type": "code",
   "execution_count": null,
   "metadata": {},
   "outputs": [],
   "source": [
    "for cat_of_interest in category_activities:\n",
    "    # Create new bw activity with a specific name\n",
    "    try: co.get(cat_of_interest).delete()\n",
    "    except: pass\n",
    "    new_act = co.new_activity(cat_of_interest, \n",
    "                              name=cat_of_interest, \n",
    "                              location='CH', \n",
    "                              unit='1 month of consumption',\n",
    "                              comment='Average consumption of one household',\n",
    "                             )\n",
    "    new_act.save()\n",
    "    \n",
    "    # Add production exchange\n",
    "    new_act.new_exchange(\n",
    "        input = (new_act['database'], new_act['code']),\n",
    "        amount = 1,\n",
    "        type = 'production'\n",
    "    ).save()\n",
    "    \n",
    "    for exc in demand_act.exchanges():\n",
    "        if exc.input.get('category_coarse')==cat_of_interest:\n",
    "            new_act.new_exchange(\n",
    "                input  = (exc.input['database'], exc.input['code']),\n",
    "                amount = exc.amount,\n",
    "                type   = 'technosphere'\n",
    "            ).save()\n"
   ]
  },
  {
   "cell_type": "markdown",
   "metadata": {},
   "source": [
    "## 3. Contribution analysis for sectors"
   ]
  },
  {
   "cell_type": "code",
   "execution_count": null,
   "metadata": {},
   "outputs": [],
   "source": [
    "list_methods = [('IPCC 2013', 'climate change', 'GTP 100a')]\n",
    "list_fus = []\n",
    "for cat_of_interest in category_activities:\n",
    "    list_fus.append({co.search(cat_of_interest)[0]: 1})"
   ]
  },
  {
   "cell_type": "code",
   "execution_count": null,
   "metadata": {},
   "outputs": [],
   "source": [
    "bw.calculation_setups['sector_contribution_analysis'] = {'inv':list_fus, 'ia':list_methods}"
   ]
  },
  {
   "cell_type": "code",
   "execution_count": null,
   "metadata": {},
   "outputs": [],
   "source": [
    "%%time\n",
    "myMultiLCA = bw.MultiLCA('sector_contribution_analysis')"
   ]
  },
  {
   "cell_type": "code",
   "execution_count": null,
   "metadata": {},
   "outputs": [],
   "source": [
    "lcia_unit = bw.Method(list_methods[0]).metadata['unit']\n",
    "\n",
    "fus = [bw.get_activity(list(el.keys())[0])['name'][:25] for el in list_fus]\n",
    "df = pd.DataFrame(index=fus, columns=[lcia_unit], data=myMultiLCA.results)\n",
    "df['units'] = [bw.get_activity(list(el.keys())[0])['unit'] for el in list_fus]"
   ]
  },
  {
   "cell_type": "code",
   "execution_count": null,
   "metadata": {},
   "outputs": [],
   "source": [
    "df.sort_values(lcia_unit, ascending=False, inplace=True)"
   ]
  },
  {
   "cell_type": "code",
   "execution_count": null,
   "metadata": {},
   "outputs": [],
   "source": [
    "with pd.option_context('display.max_rows', None, 'display.max_columns', None):  # more options can be specified also\n",
    "    print(df)"
   ]
  },
  {
   "cell_type": "code",
   "execution_count": null,
   "metadata": {},
   "outputs": [],
   "source": []
  },
  {
   "cell_type": "code",
   "execution_count": null,
   "metadata": {},
   "outputs": [],
   "source": []
  },
  {
   "cell_type": "code",
   "execution_count": null,
   "metadata": {},
   "outputs": [],
   "source": []
  },
  {
   "cell_type": "code",
   "execution_count": null,
   "metadata": {},
   "outputs": [],
   "source": []
  },
  {
   "cell_type": "code",
   "execution_count": null,
   "metadata": {},
   "outputs": [],
   "source": []
  },
  {
   "cell_type": "code",
   "execution_count": null,
   "metadata": {},
   "outputs": [],
   "source": []
  }
 ],
 "metadata": {
  "kernelspec": {
   "display_name": "Python 3",
   "language": "python",
   "name": "python3"
  },
  "language_info": {
   "codemirror_mode": {
    "name": "ipython",
    "version": 3
   },
   "file_extension": ".py",
   "mimetype": "text/x-python",
   "name": "python",
   "nbconvert_exporter": "python",
   "pygments_lexer": "ipython3",
   "version": "3.7.4"
  },
  "varInspector": {
   "cols": {
    "lenName": 16,
    "lenType": 16,
    "lenVar": 40
   },
   "kernels_config": {
    "python": {
     "delete_cmd_postfix": "",
     "delete_cmd_prefix": "del ",
     "library": "var_list.py",
     "varRefreshCmd": "print(var_dic_list())"
    },
    "r": {
     "delete_cmd_postfix": ") ",
     "delete_cmd_prefix": "rm(",
     "library": "var_list.r",
     "varRefreshCmd": "cat(var_dic_list()) "
    }
   },
   "types_to_exclude": [
    "module",
    "function",
    "builtin_function_or_method",
    "instance",
    "_Feature"
   ],
   "window_display": false
  }
 },
 "nbformat": 4,
 "nbformat_minor": 2
}
