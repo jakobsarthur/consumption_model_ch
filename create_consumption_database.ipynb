{
 "cells": [
  {
   "cell_type": "code",
   "execution_count": null,
   "metadata": {},
   "outputs": [],
   "source": [
    "import pandas as pd\n",
    "import numpy as np\n",
    "from copy import copy\n",
    "import os\n",
    "import re\n",
    "import brightway2 as bw"
   ]
  },
  {
   "cell_type": "markdown",
   "metadata": {},
   "source": [
    "# Read data\n",
    "Excel sheet can be obtained from https://doi.org/10.1021/acs.est.8b01452"
   ]
  },
  {
   "cell_type": "code",
   "execution_count": null,
   "metadata": {},
   "outputs": [],
   "source": [
    "path = 'data/es8b01452_si_002.xlsx'\n",
    "sheet_name = 'Overview & LCA-Modeling'\n",
    "df_raw = pd.read_excel(path, sheet_name = sheet_name, header=2)"
   ]
  },
  {
   "cell_type": "markdown",
   "metadata": {},
   "source": [
    "# Add missing On columns"
   ]
  },
  {
   "cell_type": "code",
   "execution_count": null,
   "metadata": {},
   "outputs": [],
   "source": [
    "def complete_columns(df):\n",
    "    \n",
    "    column_names = list(df.columns)\n",
    "    indices = [i for i,el in enumerate(column_names)  if 'Activity' in el]\n",
    "    column_names_complete = copy(column_names)\n",
    "\n",
    "    n_el_added = 0\n",
    "    for ind in indices:\n",
    "        if 'On' not in column_names[ind-1]:\n",
    "            act_name = column_names[ind]\n",
    "            act_number = act_name[act_name.find(' ')+1:]\n",
    "            column_names_complete.insert(ind+n_el_added, 'On ' + act_number)\n",
    "            n_el_added += 1\n",
    "        \n",
    "    df.columns = column_names_complete[:len(column_names)]\n",
    "    \n",
    "    return df"
   ]
  },
  {
   "cell_type": "code",
   "execution_count": null,
   "metadata": {},
   "outputs": [],
   "source": [
    "df = complete_columns(df_raw)"
   ]
  },
  {
   "cell_type": "markdown",
   "metadata": {},
   "source": [
    "# Convert data to brightway database format"
   ]
  },
  {
   "cell_type": "code",
   "execution_count": null,
   "metadata": {},
   "outputs": [],
   "source": [
    "#Constants\n",
    "# Number of relevant columns in the raw file (df_raw) to extract info about activity\n",
    "N_ACT_RELEVANT = 11\n",
    "# Index of the column where activities start\n",
    "FIRST_ACT_IND = 7\n",
    "# Number of columns that contain info about one activity\n",
    "N_COLUMNS_INPUT_ACTIVITY = 5\n",
    "\n",
    "# Column names for exchanges needed by brightway\n",
    "EXC_COLUMNS_DICT = {\n",
    "        'name': 'A', \n",
    "        'reference product': 'B', \n",
    "        'location': 'C', \n",
    "        'amount': 'D', \n",
    "        'unit': 'E', \n",
    "        'database': 'F', \n",
    "        'type': 'G', \n",
    "        'categories': 'H',\n",
    "        'comment': 'I',\n",
    "    }\n",
    "\n",
    "# Conversion from type in databases to type that should be in excel file to import a new database\n",
    "ACTIVITY_TYPE_DICT = {\n",
    "    'process': 'technosphere',\n",
    "    'emission': 'biosphere',\n",
    "}\n",
    "\n"
   ]
  },
  {
   "cell_type": "code",
   "execution_count": null,
   "metadata": {},
   "outputs": [],
   "source": [
    "def create_df_bw(db_name, n_cutoff_cols = len(EXC_COLUMNS_DICT)+3):\n",
    "    '''\n",
    "    Create dataframe for a new database in the Brightway format and add the necessary meta information\n",
    "    '''\n",
    "    df = pd.DataFrame([['cutoff', n_cutoff_cols], ['Database', db_name]], columns=list('AB'))\n",
    "    df = df.append(pd.Series(), ignore_index=True)\n",
    "    return df"
   ]
  },
  {
   "cell_type": "code",
   "execution_count": null,
   "metadata": {},
   "outputs": [],
   "source": [
    "def compute_act_unit(df):\n",
    "    if 'Quantity code' in df.keys():\n",
    "        return df['DB Act 1'].split('(')[1].split(',')[0]\n",
    "    else:\n",
    "        return 'CHF'"
   ]
  },
  {
   "cell_type": "code",
   "execution_count": null,
   "metadata": {},
   "outputs": [],
   "source": [
    "def append_activity(df, df_ind):\n",
    "    '''\n",
    "    Append activity to the dataframe df in the brightway format\n",
    "    '''\n",
    "    # Append empty row\n",
    "    df = df.append(pd.Series(), ignore_index=True)\n",
    "    \n",
    "    # Extract activity information\n",
    "    act_name = df_ind['Translated name']\n",
    "    act_unit = compute_act_unit(df)\n",
    "    \n",
    "    len_df = len(df)\n",
    "    \n",
    "    act_data = [ ['Activity name', act_name],\n",
    "                 ['reference product',  act_name],\n",
    "                 ['location', 'CH'],\n",
    "                 ['amount', 1],\n",
    "                 ['unit', act_unit] ]\n",
    "    \n",
    "    df_act = pd.DataFrame( act_data, \n",
    "                           columns=list('AB'),\n",
    "                           index = np.arange(len_df,len_df+len(act_data)) )\n",
    "                          \n",
    "    df = df.append(df_act, sort=False)\n",
    "    # Append empty row\n",
    "    df = df.append(pd.Series(), ignore_index=True)\n",
    "    \n",
    "    return df"
   ]
  },
  {
   "cell_type": "code",
   "execution_count": null,
   "metadata": {},
   "outputs": [],
   "source": [
    "def add_exchanges_column_names(df):\n",
    "    col_names = list(EXC_COLUMNS_DICT.keys())\n",
    "    col_excel_literal = [EXC_COLUMNS_DICT[k] for k in col_names]\n",
    "\n",
    "    df = df.append(pd.DataFrame(['Exchanges'], columns=['A'], index=[len(df)]), sort=False)\n",
    "    df = df.append(pd.DataFrame([col_names], columns=col_excel_literal, index=[len(df)]), sort=False)\n",
    "    return df"
   ]
  },
  {
   "cell_type": "code",
   "execution_count": null,
   "metadata": {},
   "outputs": [],
   "source": [
    "def is_pattern_correct(df_ind_j):\n",
    "    list_ = list(df_ind_j.index)\n",
    "    pattern = ['On', 'Activity', 'DB Act', 'CFL Act', 'Amount Act']\n",
    "    check = [pattern[n] in list_[n] for n in range(N_COLUMNS_INPUT_ACTIVITY)]\n",
    "    if np.all(check): \n",
    "        return 1\n",
    "    else: \n",
    "        return 0"
   ]
  },
  {
   "cell_type": "code",
   "execution_count": null,
   "metadata": {},
   "outputs": [],
   "source": [
    "def add_exchanges(df, df_ind):\n",
    "    # Add exchanges column names\n",
    "    df = add_exchanges_column_names(df)\n",
    "    \n",
    "    # TODO Add first exchange: here or before?\n",
    "    \n",
    "    # Add all exchanges\n",
    "    n_exchanges = (len(df_ind)-FIRST_ACT_IND) // N_COLUMNS_INPUT_ACTIVITY\n",
    "    if n_exchanges != (len(df_ind) - FIRST_ACT_IND) / N_COLUMNS_INPUT_ACTIVITY:\n",
    "        print('smth is not right with exchanges of Activity -> ' + str(df_ind['Translated name']))\n",
    "    \n",
    "    ConversionDem2FU = df_ind['ConversionDem2FU']\n",
    "    skip = 0\n",
    "    for j in range(1, n_exchanges+1):\n",
    "        \n",
    "        start = FIRST_ACT_IND + N_COLUMNS_INPUT_ACTIVITY*(j-1) + skip\n",
    "        end = start + N_COLUMNS_INPUT_ACTIVITY\n",
    "        df_ind_j = df_ind[start:end]\n",
    "        \n",
    "        #Check that df_ind_j contains <On 1, Activity 1, DB Act 1, CFL Act 1, Amount Act 1> pattern\n",
    "        flag = 1\n",
    "        while flag:\n",
    "            flag_pattern = is_pattern_correct(df_ind_j) \n",
    "            if flag_pattern == 1: # we don't need to skip if patter is correct\n",
    "                flag = 0\n",
    "            else:\n",
    "                skip += 1\n",
    "                start = FIRST_ACT_IND + N_COLUMNS_INPUT_ACTIVITY*(j-1) + skip\n",
    "                end = start + N_COLUMNS_INPUT_ACTIVITY\n",
    "                df_ind_j = df_ind[start:end]\n",
    "        \n",
    "        df = append_exchange(df, df_ind_j, ConversionDem2FU)\n",
    "        \n",
    "    return df"
   ]
  },
  {
   "cell_type": "code",
   "execution_count": null,
   "metadata": {},
   "outputs": [],
   "source": [
    "def create_input_act_dict(act_bw, input_act_amount):\n",
    "    '''\n",
    "    Create a dictionary with all info about input activities.\n",
    "    '''\n",
    "    input_act_values_dict = {\n",
    "        'name': act_bw['name'], \n",
    "        'reference product': act_bw['reference product'], \n",
    "        'location': act_bw['location'], \n",
    "        'amount': input_act_amount, \n",
    "        'unit': act_bw['unit'], \n",
    "        'database': act_bw['database'], \n",
    "        # We do not expect type biosphere, but assign it via ACTIVITY_TYPE_DICT anyway \n",
    "        # to be sure that we don't encounter them.\n",
    "        'type': ACTIVITY_TYPE_DICT[act_bw['type']],\n",
    "    }\n",
    "    return input_act_values_dict"
   ]
  },
  {
   "cell_type": "code",
   "execution_count": null,
   "metadata": {},
   "outputs": [],
   "source": [
    "def append_exchange(df, df_ind_j, ConversionDem2FU):\n",
    "    '''\n",
    "    Note that we use terms `exchange` and `input activity` interchangeably.\n",
    "    Extract information about the input activity, eg name, unit, location, etc\n",
    "    '''    \n",
    "    # Extract the activity number\n",
    "    k = int(''.join(c for c in df_ind_j.index[0] if c.isdigit()))\n",
    "    \n",
    "    input_act_str = df_ind['DB Act ' + str(k)]\n",
    "    \n",
    "    # Extract the activity name\n",
    "    apostrophes = [(m.start(0), m.end(0)) for m in re.finditer(\"'\", input_act_str)]\n",
    "    if len(apostrophes) == 1:\n",
    "        ap_start = 0\n",
    "        ap_end = apostrophes[0][0]\n",
    "    else:\n",
    "        ap_start = apostrophes[0][1]\n",
    "        ap_end = apostrophes[1][0]\n",
    "    input_act_name = input_act_str[ ap_start:ap_end ]\n",
    "    \n",
    "    input_act_unit_loc = input_act_str[ input_act_str.find(\"(\") : input_act_str.find(\")\")+1 ]\n",
    "#     input_act_unit_loc_split = [ re.sub('\\W+', ' ' , el) for el in input_act_unit_loc.split(',')]\n",
    "    input_act_unit_loc_split = [ re.sub('[^-A-Za-z0-9]', ' ' , el).rstrip().lstrip() \\\n",
    "                                 for el in input_act_unit_loc.split(',')]\n",
    "    input_act_unit = input_act_unit_loc_split[0]\n",
    "    input_act_location = input_act_unit_loc_split[1]\n",
    "    \n",
    "    # Extract input activity amount\n",
    "    input_act_amount = df_ind['CFL Act ' + str(k)] * df_ind['Amount Act ' + str(k)]\n",
    "    \n",
    "    # Find this input activity in brightway databases\n",
    "    input_act_db_code = df_ind['Activity ' + str(k)]\n",
    "    db_name = input_act_db_code.split(\"'\")[1]\n",
    "    db = bw.Database(db_name)\n",
    "    acts_bw = [act for act in db if  input_act_name == act['name'] \\\n",
    "                                 and input_act_unit == act['unit'] \\\n",
    "                                 and input_act_location == act['location']]\n",
    "    \n",
    "    try:\n",
    "        act_bw = acts_bw[0]        \n",
    "        input_act_values_dict = create_input_act_dict(act_bw, input_act_amount)\n",
    "        \n",
    "        # Add comment when activity is not unique\n",
    "        if len(acts_bw) > 1:\n",
    "            input_act_values_dict['comment'] = 'TODO: not unique!'\n",
    "            \n",
    "    except:\n",
    "        # Add comment when activity cannot be found\n",
    "        input_act_values_dict = {}\n",
    "        input_act_values_dict['name'] = input_act_name\n",
    "        input_act_values_dict['unit'] = input_act_unit\n",
    "        input_act_values_dict['location'] = input_act_location\n",
    "        input_act_values_dict['database'] = db_name\n",
    "        input_act_values_dict['comment'] = 'TODO: cannot find this activity'\n",
    "        \n",
    "    # Add exchange to the dataframe with database in brightway format\n",
    "    col_names = list(input_act_values_dict.keys())\n",
    "    col_data  = [input_act_values_dict[m] for m in input_act_values_dict]\n",
    "    col_excel_literal = [EXC_COLUMNS_DICT[m] for m in col_names]\n",
    "    \n",
    "    df = df.append(pd.DataFrame([col_data], columns=col_excel_literal, index=[len(df)]), sort=False)\n",
    "    \n",
    "    return df"
   ]
  },
  {
   "cell_type": "markdown",
   "metadata": {},
   "source": [
    "# Main code"
   ]
  },
  {
   "cell_type": "code",
   "execution_count": null,
   "metadata": {},
   "outputs": [],
   "source": [
    "project = 'GSA for ecoinvent'\n",
    "bw.projects.set_current(project)"
   ]
  },
  {
   "cell_type": "code",
   "execution_count": null,
   "metadata": {},
   "outputs": [],
   "source": [
    "# Start brightway project that already contains databases\n",
    "project = 'GSA for ecoinvent'\n",
    "bw.projects.set_current(project)\n",
    "\n",
    "consumption_db_name = 'CH consumption 1.0'\n",
    "df_bw = create_df_bw(consumption_db_name)\n",
    "\n",
    "act_indices = df_raw.index[df_raw['ConversionDem2FU'].notna()].tolist() # indices of all activities\n",
    "\n",
    "for ind in act_indices[4:5]:\n",
    "    # For each row\n",
    "    df_ind = df_raw.iloc[ind]\n",
    "    df_ind = df_ind[df_ind.notna()]\n",
    "    # Add activity\n",
    "    df_bw = append_activity(df_bw, df_ind[:N_ACT_RELEVANT]) # only pass columns that are relevant to this function \n",
    "    # Add exchanges\n",
    "    df_bw = add_exchanges(df_bw, df_ind)"
   ]
  },
  {
   "cell_type": "code",
   "execution_count": null,
   "metadata": {},
   "outputs": [],
   "source": [
    "write_dir_name = 'write_files'\n",
    "if not os.path.exists(write_dir_name):\n",
    "    os.mkdir(write_dir_name)\n",
    "db_bw_path = write_dir_name + '/' + 'consumption_db.xlsx'\n",
    "df_bw.to_excel(db_bw_path, index=False, header=False)"
   ]
  },
  {
   "cell_type": "code",
   "execution_count": null,
   "metadata": {},
   "outputs": [],
   "source": []
  },
  {
   "cell_type": "code",
   "execution_count": null,
   "metadata": {},
   "outputs": [],
   "source": []
  },
  {
   "cell_type": "code",
   "execution_count": null,
   "metadata": {},
   "outputs": [],
   "source": []
  },
  {
   "cell_type": "code",
   "execution_count": null,
   "metadata": {},
   "outputs": [],
   "source": []
  },
  {
   "cell_type": "code",
   "execution_count": null,
   "metadata": {},
   "outputs": [],
   "source": []
  },
  {
   "cell_type": "code",
   "execution_count": null,
   "metadata": {},
   "outputs": [],
   "source": []
  },
  {
   "cell_type": "markdown",
   "metadata": {},
   "source": [
    "# Playground"
   ]
  },
  {
   "cell_type": "code",
   "execution_count": null,
   "metadata": {},
   "outputs": [],
   "source": []
  },
  {
   "cell_type": "code",
   "execution_count": null,
   "metadata": {},
   "outputs": [],
   "source": []
  },
  {
   "cell_type": "code",
   "execution_count": null,
   "metadata": {},
   "outputs": [],
   "source": []
  },
  {
   "cell_type": "code",
   "execution_count": null,
   "metadata": {},
   "outputs": [],
   "source": []
  },
  {
   "cell_type": "code",
   "execution_count": null,
   "metadata": {},
   "outputs": [],
   "source": []
  },
  {
   "cell_type": "code",
   "execution_count": null,
   "metadata": {},
   "outputs": [],
   "source": []
  },
  {
   "cell_type": "code",
   "execution_count": null,
   "metadata": {},
   "outputs": [],
   "source": []
  },
  {
   "cell_type": "code",
   "execution_count": null,
   "metadata": {},
   "outputs": [],
   "source": []
  },
  {
   "cell_type": "code",
   "execution_count": null,
   "metadata": {},
   "outputs": [],
   "source": []
  },
  {
   "cell_type": "code",
   "execution_count": null,
   "metadata": {},
   "outputs": [],
   "source": []
  },
  {
   "cell_type": "code",
   "execution_count": null,
   "metadata": {},
   "outputs": [],
   "source": []
  },
  {
   "cell_type": "code",
   "execution_count": null,
   "metadata": {},
   "outputs": [],
   "source": []
  },
  {
   "cell_type": "code",
   "execution_count": null,
   "metadata": {},
   "outputs": [],
   "source": []
  },
  {
   "cell_type": "code",
   "execution_count": null,
   "metadata": {},
   "outputs": [],
   "source": []
  },
  {
   "cell_type": "code",
   "execution_count": null,
   "metadata": {},
   "outputs": [],
   "source": []
  },
  {
   "cell_type": "code",
   "execution_count": null,
   "metadata": {},
   "outputs": [],
   "source": []
  }
 ],
 "metadata": {
  "kernelspec": {
   "display_name": "Python 3",
   "language": "python",
   "name": "python3"
  },
  "language_info": {
   "codemirror_mode": {
    "name": "ipython",
    "version": 3
   },
   "file_extension": ".py",
   "mimetype": "text/x-python",
   "name": "python",
   "nbconvert_exporter": "python",
   "pygments_lexer": "ipython3",
   "version": "3.7.4"
  }
 },
 "nbformat": 4,
 "nbformat_minor": 2
}
