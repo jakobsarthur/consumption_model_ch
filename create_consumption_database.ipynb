{
 "cells": [
  {
   "cell_type": "markdown",
   "metadata": {},
   "source": [
    "# Comments to the following code\n",
    "> - #### Parts 1 and 2 can be run separately\n",
    "> - #### Raw data: Excel sheet can be obtained from https://doi.org/10.1021/acs.est.8b01452\n",
    "> - #### Terms `exchange` and `input activity` are used interchangeably\n",
    "> - #### At the moment, only works if ecoinvent 3.3 was also imported as reference product is taken from there"
   ]
  },
  {
   "cell_type": "markdown",
   "metadata": {},
   "source": [
    "# ------------------------------------------ Part 1 ------------------------------------------"
   ]
  },
  {
   "cell_type": "code",
   "execution_count": 1,
   "metadata": {},
   "outputs": [],
   "source": [
    "import pandas as pd\n",
    "import numpy as np\n",
    "from copy import copy\n",
    "import os, json\n",
    "import re\n",
    "import brightway2 as bw\n",
    "\n",
    "# Local files\n",
    "from utils_consumption_db import *"
   ]
  },
  {
   "cell_type": "markdown",
   "metadata": {},
   "source": [
    "# Convert data to brightway database format -> main code\n",
    "calls all the functions used above"
   ]
  },
  {
   "cell_type": "code",
   "execution_count": 2,
   "metadata": {},
   "outputs": [],
   "source": [
    "with open('global_settings.json', 'rb') as f:\n",
    "    settings = json.load(f)\n",
    "which_pc = settings['which_pc']"
   ]
  },
  {
   "cell_type": "code",
   "execution_count": 3,
   "metadata": {},
   "outputs": [
    {
     "name": "stdout",
     "output_type": "stream",
     "text": [
      "Biosphere database already present!!! No setup is needed\n",
      "ecoinvent 3.3 cutoff database already present!!! No import is needed\n",
      "CPU times: user 57.8 s, sys: 8.23 s, total: 1min 6s\n",
      "Wall time: 3min 1s\n"
     ]
    }
   ],
   "source": [
    "%%time\n",
    "# 0. Set relevant paths\n",
    "if which_pc == 'local':\n",
    "    path_habe = '/Users/akim/Documents/LCA_files/HABE_2017/'\n",
    "    ei33_path = '/Users/akim/Documents/LCA_files/ecoinvent 3.3 cutoff/datasets'  \n",
    "elif which_pc == 'merlin':\n",
    "    path_habe = '/data/user/kim_a/LCA_files/HABE_2017'\n",
    "    ei33_path = '/data/user/kim_a/LCA_files/ecoinvent_33_cutoff/datasets'  \n",
    "    \n",
    "# 1. Create project with ecoinvent 3.3 cutoff only. \n",
    "# This is needed because Andi's activities were given as ecoinvent 3.3 cutoff codes\n",
    "create_ecoinvent_33_project(ei33_path)\n",
    "\n",
    "# Start brightway project that already contains databases\n",
    "project = 'GSA for ecoinvent'\n",
    "bw.projects.set_current(project)\n",
    "\n",
    "# Create dataframe that will be our consumption database after we add activities and exchanges from the raw file\n",
    "df_bw = create_df_bw(CONSUMPTION_DB_NAME)\n",
    "\n",
    "# Read data from Andi's consumption database\n",
    "path = 'data/es8b01452_si_002.xlsx'\n",
    "sheet_name = 'Overview & LCA-Modeling'\n",
    "df_raw = pd.read_excel(path, sheet_name = sheet_name, header=2)\n",
    "\n",
    "# Read data from HABE\n",
    "year = '091011' #121314 or 151617\n",
    "code_unit = get_units_habe(path_habe, year)\n",
    "\n",
    "# Add ON columns\n",
    "df = complete_columns(df_raw)\n",
    "\n",
    "act_indices = df_raw.index[df_raw['ConversionDem2FU'].notna()].tolist() # indices of all activities\n",
    "\n",
    "for ind in act_indices:\n",
    "    # For each row\n",
    "    df_ind = df_raw.iloc[ind]\n",
    "    df_ind = df_ind[df_ind.notna()]\n",
    "    # Add activity\n",
    "    df_bw, df_act = append_activity(df_bw, df_ind[:N_ACT_RELEVANT], code_unit) # only pass columns relevant to this function \n",
    "    # Add exchanges\n",
    "    df_bw = append_exchanges(df_bw, df_ind, df_act, append_one_exchange=append_ecoinvent_exchange)"
   ]
  },
  {
   "cell_type": "code",
   "execution_count": 4,
   "metadata": {},
   "outputs": [],
   "source": [
    "# Write the dataframe to excel file\n",
    "write_dir_name = 'write_files'\n",
    "if not os.path.exists(write_dir_name):\n",
    "    os.mkdir(write_dir_name)\n",
    "db_bw_path = write_dir_name + '/' + 'consumption_db.xlsx'\n",
    "df_bw.to_excel(db_bw_path, index=False, header=False)"
   ]
  },
  {
   "cell_type": "markdown",
   "metadata": {},
   "source": [
    "# ------------------------------------------ Part 2 ------------------------------------------"
   ]
  },
  {
   "cell_type": "code",
   "execution_count": 5,
   "metadata": {},
   "outputs": [],
   "source": [
    "import pandas as pd\n",
    "import numpy as np\n",
    "import brightway2 as bw\n",
    "import string\n",
    "from copy import copy, deepcopy\n",
    "\n",
    "# Local files\n",
    "from utils import *\n",
    "from utils_consumption_db import *"
   ]
  },
  {
   "cell_type": "code",
   "execution_count": 6,
   "metadata": {},
   "outputs": [],
   "source": [
    "# Main code\n",
    "project = 'GSA for ecoinvent'\n",
    "bw.projects.set_current(project)\n",
    "\n",
    "# Read consumption database\n",
    "path = 'write_files/consumption_db.xlsx'\n",
    "df = pd.read_excel(path, header = None)\n",
    "df.columns = list(string.ascii_uppercase[:len(df.columns)])\n",
    "# \n",
    "# Replace\n",
    "df = update_all_db(df)\n",
    "path_new_db = 'write_files/consumption_db_updated.xlsx'\n",
    "df.to_excel(path_new_db, index=False, header=False)"
   ]
  },
  {
   "cell_type": "markdown",
   "metadata": {},
   "source": [
    "# Import consumption database linked to older versions of other databases"
   ]
  },
  {
   "cell_type": "markdown",
   "metadata": {},
   "source": [
    "# 1. Ecoinvent 3.6"
   ]
  },
  {
   "cell_type": "markdown",
   "metadata": {},
   "source": [
    "### TODO Chris -> please check migrations"
   ]
  },
  {
   "cell_type": "code",
   "execution_count": 7,
   "metadata": {
    "scrolled": true
   },
   "outputs": [],
   "source": [
    "if CONSUMPTION_DB_NAME in bw.databases:\n",
    "    del bw.databases[CONSUMPTION_DB_NAME]"
   ]
  },
  {
   "cell_type": "code",
   "execution_count": 8,
   "metadata": {},
   "outputs": [
    {
     "name": "stdout",
     "output_type": "stream",
     "text": [
      "Extracted 1 worksheets in 0.12 seconds\n",
      "Applying strategy: csv_restore_tuples\n",
      "Applying strategy: csv_restore_booleans\n",
      "Applying strategy: csv_numerize\n",
      "Applying strategy: csv_drop_unknown\n",
      "Applying strategy: csv_add_missing_exchanges_section\n",
      "Applying strategy: normalize_units\n",
      "Applying strategy: normalize_biosphere_categories\n",
      "Applying strategy: normalize_biosphere_names\n",
      "Applying strategy: strip_biosphere_exc_locations\n",
      "Applying strategy: set_code_by_activity_hash\n",
      "Applying strategy: link_iterable_by_fields\n",
      "Applying strategy: assign_only_product_as_production\n",
      "Applying strategy: link_technosphere_by_activity_hash\n",
      "Applying strategy: drop_falsey_uncertainty_fields_but_keep_zeros\n",
      "Applying strategy: convert_uncertainty_types_to_integers\n",
      "Applying strategy: convert_activity_parameters_to_list\n",
      "Applied 16 strategies in 0.42 seconds\n",
      "Applying strategy: link_iterable_by_fields\n",
      "Applying strategy: link_iterable_by_fields\n",
      "Applying strategy: link_iterable_by_fields\n",
      "203 datasets\n",
      "834 exchanges\n",
      "95 unlinked exchanges\n",
      "  Type technosphere: 11 unique unlinked exchanges\n"
     ]
    },
    {
     "data": {
      "text/plain": [
       "(203, 834, 95)"
      ]
     },
     "execution_count": 8,
     "metadata": {},
     "output_type": "execute_result"
    }
   ],
   "source": [
    "co = bw.ExcelImporter(path_new_db)\n",
    "co.apply_strategies()\n",
    "co.match_database('EXIOBASE 2.2', fields=('name','reference product', 'unit','location','categories'))\n",
    "co.match_database('ecoinvent 3.6 cutoff', fields=('name', 'reference product', 'unit','location','categories'))\n",
    "co.match_database('Agribalyse 1.3 - ecoinvent 3.6 cutoff', fields=('name','unit','location'))\n",
    "co.statistics()"
   ]
  },
  {
   "cell_type": "code",
   "execution_count": 9,
   "metadata": {},
   "outputs": [],
   "source": [
    "# Define a migration for two particular activities that can only be hardcoded\n",
    "ecoinvent36_change_names_data = {\n",
    "    'fields': ['name', ],\n",
    "    'data': [\n",
    "        (\n",
    "            ['steam production in chemical industry'], \n",
    "            {\n",
    "                'name': 'steam production, in chemical industry',\n",
    "                'reference product': 'steam, in chemical industry',\n",
    "                'unit': 'kilogram',\n",
    "                'multiplier': 1/2.75, # see comment on this activity in ecoinvent\n",
    "            }\n",
    "        ),\n",
    "        (\n",
    "            ['market for green bell pepper'],\n",
    "            {\n",
    "                'name': 'market for bell pepper',\n",
    "                'reference product': 'bell pepper',\n",
    "            }\n",
    "        ),\n",
    "    ]\n",
    "}\n",
    "\n",
    "bw.Migration(\"ecoinvent36-change-names\").write(\n",
    "    ecoinvent36_change_names_data,\n",
    "    description=\"Change names of some activities\"\n",
    ")"
   ]
  },
  {
   "cell_type": "code",
   "execution_count": 10,
   "metadata": {},
   "outputs": [],
   "source": [
    "# Define a migration for rice production and specific locations\n",
    "# These locations have only non-basmati rice production\n",
    "ecoinvent36_rice_production_data = {\n",
    "    'fields': ['name', 'location'],\n",
    "    'data': [\n",
    "        (\n",
    "            ['rice production', 'US'],\n",
    "            {\n",
    "                'name': 'rice production, non-basmati',\n",
    "                'reference product': 'rice, non-basmati'\n",
    "            }\n",
    "        ),\n",
    "        (\n",
    "            ['rice production', 'CN'],\n",
    "            {\n",
    "                'name': 'rice production, non-basmati',\n",
    "                'reference product': 'rice, non-basmati'\n",
    "            }\n",
    "        ),\n",
    "    ]\n",
    "}\n",
    "\n",
    "bw.Migration(\"ecoinvent36-rice-production\").write(\n",
    "    ecoinvent36_rice_production_data,\n",
    "    description=\"Change names of some activities\"\n",
    ")"
   ]
  },
  {
   "cell_type": "code",
   "execution_count": 11,
   "metadata": {},
   "outputs": [
    {
     "name": "stdout",
     "output_type": "stream",
     "text": [
      "Applying strategy: migrate_datasets\n",
      "Applying strategy: migrate_exchanges\n",
      "Applying strategy: migrate_datasets\n",
      "Applying strategy: migrate_exchanges\n",
      "Applying strategy: link_iterable_by_fields\n",
      "203 datasets\n",
      "834 exchanges\n",
      "26 unlinked exchanges\n",
      "  Type technosphere: 7 unique unlinked exchanges\n"
     ]
    },
    {
     "data": {
      "text/plain": [
       "(203, 834, 26)"
      ]
     },
     "execution_count": 11,
     "metadata": {},
     "output_type": "execute_result"
    }
   ],
   "source": [
    "co.migrate('ecoinvent36-change-names')\n",
    "co.migrate(\"ecoinvent36-rice-production\")\n",
    "co.match_database('ecoinvent 3.6 cutoff', fields=('name','reference product', 'unit','location','categories'))\n",
    "co.statistics()"
   ]
  },
  {
   "cell_type": "markdown",
   "metadata": {},
   "source": [
    "The rest of the unlinked exchanges are not uniquely defined in ecoinvent 3.6 -> 1-to-multiple mapping. <br>\n",
    "For example 'rice production' is now divided into basmati and non-basmati rice. <br>\n",
    "Hence, we split them based on their shares in the production volumes."
   ]
  },
  {
   "cell_type": "code",
   "execution_count": 12,
   "metadata": {},
   "outputs": [],
   "source": [
    "# Manually choose which ecoinvent 3.6 exchanges should be taken for each unlinked exchange\n",
    "ei36 = bw.Database('ecoinvent 3.6 cutoff')\n",
    "mapping = [\n",
    "    {('market for rice', 'GLO'): \n",
    "        [act['code'] for act in ei36 if  'market for rice' in act['name'] \n",
    "                                     and act['location']=='GLO'\n",
    "                                     and 'seed' not in act['name']]},\n",
    "    \n",
    "    {('rice production', 'RoW'): \n",
    "        [act['code'] for act in ei36 if  'rice production' in act['name'] \n",
    "                                     and act['location']=='RoW'\n",
    "                                     and 'straw' not in act['reference product']]},\n",
    "    \n",
    "    {('rice production', 'IN'): \n",
    "        [act['code'] for act in ei36 if  'rice production' in act['name'] \n",
    "                                     and act['location']=='IN'\n",
    "                                     and 'straw' not in act['reference product']]},\n",
    "    \n",
    "    {('market for wheat grain', 'GLO'): \n",
    "        [act['code'] for act in ei36 if  'market for wheat grain' in act['name'] \n",
    "                                     and 'feed' not in act['name']]},\n",
    "    \n",
    "    {('market for maize grain', 'GLO'): \n",
    "        [act['code'] for act in ei36 if  'market for maize grain' in act['name'] \n",
    "                                     and 'feed' not in act['name']]},\n",
    "    \n",
    "    {('market for mandarin', 'GLO'): \n",
    "        [act['code'] for act in ei36 if 'market for mandarin' in act['name']]},\n",
    "    \n",
    "    {('market for soybean', 'GLO'): \n",
    "        [act['code'] for act in ei36 if 'market for soybean' in act['name'] \n",
    "                             and all([_ not in act['name'] for _ in ['meal','beverage','seed','feed','oil']] )]},\n",
    "]"
   ]
  },
  {
   "cell_type": "code",
   "execution_count": 13,
   "metadata": {},
   "outputs": [],
   "source": [
    "ei_name = 'ecoinvent 3.6 cutoff'"
   ]
  },
  {
   "cell_type": "code",
   "execution_count": 14,
   "metadata": {},
   "outputs": [
    {
     "name": "stdout",
     "output_type": "stream",
     "text": [
      "Applying strategy: link_iterable_by_fields\n",
      "203 datasets\n",
      "895 exchanges\n",
      "0 unlinked exchanges\n",
      "  \n"
     ]
    },
    {
     "data": {
      "text/plain": [
       "(203, 895, 0)"
      ]
     },
     "execution_count": 14,
     "metadata": {},
     "output_type": "execute_result"
    }
   ],
   "source": [
    "co = modify_exchanges(co, mapping, 'ecoinvent 3.6 cutoff')\n",
    "co.statistics()"
   ]
  },
  {
   "cell_type": "code",
   "execution_count": 15,
   "metadata": {},
   "outputs": [
    {
     "name": "stderr",
     "output_type": "stream",
     "text": [
      "Writing activities to SQLite3 database:\n",
      "0% [##############################] 100% | ETA: 00:00:00\n",
      "Total time elapsed: 00:00:00\n"
     ]
    },
    {
     "name": "stdout",
     "output_type": "stream",
     "text": [
      "Title: Writing activities to SQLite3 database:\n",
      "  Started: 07/07/2020 12:27:04\n",
      "  Finished: 07/07/2020 12:27:04\n",
      "  Total time elapsed: 00:00:00\n",
      "  CPU %: 60.90\n",
      "  Memory %: 0.06\n",
      "Created database: CH consumption 1.0\n"
     ]
    }
   ],
   "source": [
    "if CONSUMPTION_DB_NAME in bw.databases:\n",
    "    print(CONSUMPTION_DB_NAME + \" database already present!!! No import is needed\")\n",
    "else:\n",
    "    co.write_database()"
   ]
  },
  {
   "cell_type": "code",
   "execution_count": 16,
   "metadata": {},
   "outputs": [
    {
     "data": {
      "text/plain": [
       "Databases dictionary with 6 object(s):\n",
       "\tAgribalyse 1.3 - ecoinvent 3.6 cutoff\n",
       "\tAgribalyse 1.3 - ecoinvent 3.6 cutoff - new biosphere\n",
       "\tCH consumption 1.0\n",
       "\tEXIOBASE 2.2\n",
       "\tbiosphere3\n",
       "\tecoinvent 3.6 cutoff"
      ]
     },
     "execution_count": 16,
     "metadata": {},
     "output_type": "execute_result"
    }
   ],
   "source": [
    "bw.databases"
   ]
  },
  {
   "cell_type": "code",
   "execution_count": null,
   "metadata": {},
   "outputs": [],
   "source": []
  },
  {
   "cell_type": "markdown",
   "metadata": {},
   "source": [
    "# ------------------------------------------ Part 3 ------------------------------------------"
   ]
  },
  {
   "cell_type": "code",
   "execution_count": 17,
   "metadata": {},
   "outputs": [],
   "source": [
    "import brightway2 as bw\n",
    "import numpy as np\n",
    "import pandas as pd\n",
    "import os"
   ]
  },
  {
   "cell_type": "code",
   "execution_count": 18,
   "metadata": {},
   "outputs": [],
   "source": [
    "bw.projects.set_current('GSA for ecoinvent')"
   ]
  },
  {
   "cell_type": "code",
   "execution_count": 19,
   "metadata": {},
   "outputs": [
    {
     "data": {
      "text/plain": [
       "Databases dictionary with 6 object(s):\n",
       "\tAgribalyse 1.3 - ecoinvent 3.6 cutoff\n",
       "\tAgribalyse 1.3 - ecoinvent 3.6 cutoff - new biosphere\n",
       "\tCH consumption 1.0\n",
       "\tEXIOBASE 2.2\n",
       "\tbiosphere3\n",
       "\tecoinvent 3.6 cutoff"
      ]
     },
     "execution_count": 19,
     "metadata": {},
     "output_type": "execute_result"
    }
   ],
   "source": [
    "bw.databases"
   ]
  },
  {
   "cell_type": "code",
   "execution_count": 20,
   "metadata": {},
   "outputs": [],
   "source": [
    "co = bw.Database('CH consumption 1.0')"
   ]
  },
  {
   "cell_type": "markdown",
   "metadata": {},
   "source": [
    "# Add consumption activity for all households"
   ]
  },
  {
   "cell_type": "markdown",
   "metadata": {},
   "source": [
    "## 1. Extract total demand from HABE"
   ]
  },
  {
   "cell_type": "code",
   "execution_count": 21,
   "metadata": {},
   "outputs": [],
   "source": [
    "if which_pc == 'local':\n",
    "    path = '/Users/akim/Documents/LCA_files/HABE_2017/'\n",
    "elif which_pc == 'merlin':\n",
    "    path = '/data/user/kim_a/LCA_files/HABE_2017'\n",
    "    \n",
    "year = '091011' #11, 14 or 17\n",
    "get_path = lambda which_file: os.path.join( path, [f for f in os.listdir(path) if year in f and which_file in f][0] )\n",
    "path_beschrei = get_path('Datenbeschreibung')\n",
    "path_ausgaben = get_path('Ausgaben')"
   ]
  },
  {
   "cell_type": "code",
   "execution_count": 22,
   "metadata": {},
   "outputs": [],
   "source": [
    "# change codes to be consistent with consumption database and Andi's codes\n",
    "bw.projects.set_current('GSA for ecoinvent')\n",
    "co = bw.Database('CH consumption 1.0')\n",
    "\n",
    "ausgaben = pd.read_csv(path_ausgaben, sep='\\t')\n",
    "\n",
    "codes_co_db = sorted([act['code'] for act in co])\n",
    "columns_a = ausgaben.columns.values\n",
    "columns_m = [columns_a[0]]\n",
    "for code_a in columns_a[1:]:\n",
    "    code_m = code_a.replace('A', 'm') \n",
    "    if code_m in codes_co_db:\n",
    "        columns_m.append(code_m)\n",
    "    else:\n",
    "        columns_m.append(code_a.lower())\n",
    "        \n",
    "ausgaben.columns = columns_m"
   ]
  },
  {
   "cell_type": "code",
   "execution_count": 23,
   "metadata": {},
   "outputs": [],
   "source": [
    "# Compute total consumption\n",
    "total_consumption = ausgaben.sum()\n",
    "total_consumption = total_consumption.drop('HaushaltID')"
   ]
  },
  {
   "cell_type": "code",
   "execution_count": 24,
   "metadata": {},
   "outputs": [],
   "source": [
    "# Add other useful info, eg number of households and number of people\n",
    "meta = pd.read_excel(path_beschrei, sheet_name='Tabellen', skiprows=8, usecols=[0,1,3,4])\n",
    "meta.columns = ['category1', 'category2', 'n_rows', 'n_cols']\n",
    "meta.dropna(subset=['n_rows'], inplace=True)\n",
    "\n",
    "# Combine some columns together\n",
    "temp1 = meta[meta['category1'].notnull()][['category1', 'n_rows', 'n_cols']]\n",
    "temp1.columns = ['category2', 'n_rows', 'n_cols']\n",
    "temp2 = meta[meta['category2'].notnull()][['category2', 'n_rows', 'n_cols']]\n",
    "meta = pd.concat([temp1, temp2])\n",
    "meta.set_index('category2', inplace=True)\n",
    "\n",
    "# Add info\n",
    "total_consumption['n_households'] = meta.loc['HABE091011_Ausgaben']['n_rows']\n",
    "total_consumption['n_people']     = meta.loc['HABE091011_Personen']['n_rows']"
   ]
  },
  {
   "cell_type": "code",
   "execution_count": 25,
   "metadata": {},
   "outputs": [],
   "source": [
    "# Save total demand\n",
    "path_demand = 'write_files/habe_totaldemands.xlsx'\n",
    "total_consumption.to_excel(path_demand)"
   ]
  },
  {
   "cell_type": "code",
   "execution_count": 26,
   "metadata": {},
   "outputs": [
    {
     "data": {
      "text/plain": [
       "354306.4719774653"
      ]
     },
     "execution_count": 26,
     "metadata": {},
     "output_type": "execute_result"
    }
   ],
   "source": [
    "total_consumption['a5220']"
   ]
  },
  {
   "cell_type": "markdown",
   "metadata": {},
   "source": [
    "#### OPTION 1. Total demands extract directly from HABE raw files\n",
    "Excel file `habe_totaldemands.xlsx` contains sums of all private households in Switzerland for all categories of the HBS. Units are the same as in the HBS (please refer to the SI-excel of Andi's ES&T-paper in order to translate the codenames). The attached vector is in \"per month\" quantities."
   ]
  },
  {
   "cell_type": "markdown",
   "metadata": {},
   "source": [
    "#### OPTION 2. Andi's total demands from his Swiss consumption model\n",
    "Excel file `heia2_totaldemands.xlsx` contains sums of all private households in Switzerland for all categories of the HBS. Please note that the units are basically the same as in the HBS (please refer to the SI-excel of Andi's ES&T-paper in order to translate the codenames). However, the attached vector is in \"per year\" instead of in \"per month\". Furthermore, there are a couple of demands that were computed by the model itself. The codenames for these computed/imputed categories start with \"mx\" and the units are as follows:\n",
    "* kWh per year for electricity\n",
    "* MJ per year for heating\n",
    "* cubic meters per year for water supply and wastewater collection\n",
    "* number of waste bags per year for refuse collection"
   ]
  },
  {
   "cell_type": "code",
   "execution_count": 27,
   "metadata": {},
   "outputs": [],
   "source": [
    "option = 'aggregated'\n",
    "if option == 'aggregated':\n",
    "#     path = 'data/heia2_totaldemands.xlsx'm # from Andi's model\n",
    "#     number_households = 3518878\n",
    "    path = 'write_files/habe_totaldemands.xlsx'\n",
    "    df   = pd.read_excel(path)\n",
    "    df.columns = ['code', 'amount']\n",
    "    df.set_index('code', inplace=True)\n",
    "\n",
    "    n_households = int(df.loc['n_households', 'amount'])\n",
    "    n_people     = int(df.loc['n_people', 'amount'])\n",
    "    df = df.drop(['n_households', 'n_people'])\n",
    "    df = df.reset_index()\n",
    "    \n",
    "elif option == 'disaggregated':\n",
    "    path = 'data/habe20092011_hh_prepared_imputed.csv'\n",
    "    df = pd.read_csv(path, low_memory=False)\n",
    "    number_households = df.shape[0]\n",
    "    df = df.drop('haushaltid', axis=1).sum()\n",
    "    df = df.reset_index()\n",
    "    df.columns = ['code', 'amount']\n",
    "\n",
    "# for i in range(len(df)):\n",
    "#     code = df.iloc[i]['code']\n",
    "#     new_code = code\n",
    "#     df.at[i,'code'] = new_code"
   ]
  },
  {
   "cell_type": "code",
   "execution_count": 28,
   "metadata": {},
   "outputs": [],
   "source": [
    "# Add total inputs from Andi's model as swiss consumption activity\n",
    "try: co.get('ch hh all consumption').delete()\n",
    "except: pass\n",
    "consumption_all = co.new_activity('ch hh all consumption', name='ch hh all consumption', location='CH', unit='1 month of consumption')\n",
    "consumption_all.save()"
   ]
  },
  {
   "cell_type": "code",
   "execution_count": 29,
   "metadata": {},
   "outputs": [],
   "source": [
    "# Add production exchange for the activity `consumption`\n",
    "consumption_all.new_exchange(input = (consumption_all['database'], consumption_all['code']),\n",
    "                         amount = 1,\n",
    "                         type = 'production').save()"
   ]
  },
  {
   "cell_type": "code",
   "execution_count": 30,
   "metadata": {
    "scrolled": true
   },
   "outputs": [],
   "source": [
    "codes = [act['code'] for act in co]\n",
    "\n",
    "unlinked_codes = []\n",
    "for i in range(len(df)):\n",
    "    code = df.loc[i]['code']\n",
    "    if code in codes:\n",
    "        consumption_all.new_exchange(input  = (co.name, code), \n",
    "                                     amount = df.loc[i]['amount'], # TODO?? divide by number of months\n",
    "                                     type   = 'technosphere').save()\n",
    "    else:\n",
    "        unlinked_codes.append(code)"
   ]
  },
  {
   "cell_type": "code",
   "execution_count": 31,
   "metadata": {},
   "outputs": [
    {
     "data": {
      "text/plain": [
       "[Exchange: 1 1 month of consumption 'ch hh all consumption' (1 month of consumption, CH, None) to 'ch hh all consumption' (1 month of consumption, CH, None)>,\n",
       " Exchange: 1961093.913276128 CHF 'Other insurance premiums' (CHF, CH, None) to 'ch hh all consumption' (1 month of consumption, CH, None)>,\n",
       " Exchange: 745048.1685118991 CHF 'Fees' (CHF, CH, None) to 'ch hh all consumption' (1 month of consumption, CH, None)>,\n",
       " Exchange: 25817.66898981574 kilogram 'Rice' (kilogram, CH, None) to 'ch hh all consumption' (1 month of consumption, CH, None)>,\n",
       " Exchange: 99858.28575933525 kilogram 'Pasta products' (kilogram, CH, None) to 'ch hh all consumption' (1 month of consumption, CH, None)>,\n",
       " Exchange: 303400.7717455065 kilogram 'Bread' (kilogram, CH, None) to 'ch hh all consumption' (1 month of consumption, CH, None)>,\n",
       " Exchange: 448103.1234104095 kilogram 'Bakery products (sweet and salty)' (kilogram, CH, None) to 'ch hh all consumption' (1 month of consumption, CH, None)>,\n",
       " Exchange: 28832.45499749952 kilogram 'Sandwich' (kilogram, CH, None) to 'ch hh all consumption' (1 month of consumption, CH, None)>,\n",
       " Exchange: 15216.31170223447 kilogram 'Wheat flour' (kilogram, CH, None) to 'ch hh all consumption' (1 month of consumption, CH, None)>,\n",
       " Exchange: 23204.77796855833 kilogram 'Other flours and meals, starches, semolina, flakes and grains' (kilogram, CH, None) to 'ch hh all consumption' (1 month of consumption, CH, None)>,\n",
       " Exchange: 113015.737193981 kilogram 'Other cereal products' (kilogram, CH, None) to 'ch hh all consumption' (1 month of consumption, CH, None)>,\n",
       " Exchange: 232532.2971619733 kilogram 'Beef' (kilogram, CH, None) to 'ch hh all consumption' (1 month of consumption, CH, None)>,\n",
       " Exchange: 96544.09951906877 kilogram 'Veal' (kilogram, CH, None) to 'ch hh all consumption' (1 month of consumption, CH, None)>,\n",
       " Exchange: 190760.8641013094 kilogram 'Pork, fresh or frozen' (kilogram, CH, None) to 'ch hh all consumption' (1 month of consumption, CH, None)>,\n",
       " Exchange: 16772.64071277901 kilogram 'Horse meat' (kilogram, CH, None) to 'ch hh all consumption' (1 month of consumption, CH, None)>,\n",
       " Exchange: 46712.7357119576 kilogram 'Sheep and Goat meat' (kilogram, CH, None) to 'ch hh all consumption' (1 month of consumption, CH, None)>,\n",
       " Exchange: 212049.1989646254 kilogram 'Poultry, fresh or frozen' (kilogram, CH, None) to 'ch hh all consumption' (1 month of consumption, CH, None)>,\n",
       " Exchange: 19395.85686043979 kilogram 'Hare, game and rabbit meat' (kilogram, CH, None) to 'ch hh all consumption' (1 month of consumption, CH, None)>,\n",
       " Exchange: 92730.21026740919 kilogram 'Other eatable meat products incl. offal, fresh and frozen' (kilogram, CH, None) to 'ch hh all consumption' (1 month of consumption, CH, None)>,\n",
       " Exchange: 318656.6322533399 kilogram 'Sausages, cold meat and pies' (kilogram, CH, None) to 'ch hh all consumption' (1 month of consumption, CH, None)>,\n",
       " Exchange: 200243.9037454324 kilogram 'Ham, bacon and other cured or smoked pork' (kilogram, CH, None) to 'ch hh all consumption' (1 month of consumption, CH, None)>,\n",
       " Exchange: 14213.7932604209 kilogram 'Poultry, grilled or smoked' (kilogram, CH, None) to 'ch hh all consumption' (1 month of consumption, CH, None)>,\n",
       " Exchange: 66262.63047812239 kilogram 'Other boiled, dried, cured or smoked meat' (kilogram, CH, None) to 'ch hh all consumption' (1 month of consumption, CH, None)>,\n",
       " Exchange: 13241.04561902548 kilogram 'Tinned meat and other meat-based preparations' (kilogram, CH, None) to 'ch hh all consumption' (1 month of consumption, CH, None)>,\n",
       " Exchange: 212988.109036075 kilogram 'Fish' (kilogram, CH, None) to 'ch hh all consumption' (1 month of consumption, CH, None)>,\n",
       " Exchange: 99126.86241748375 litre 'Whole milk' (litre, CH, None) to 'ch hh all consumption' (1 month of consumption, CH, None)>,\n",
       " Exchange: 62803.78931558889 litre 'Skimmed and low-fat milk' (litre, CH, None) to 'ch hh all consumption' (1 month of consumption, CH, None)>,\n",
       " Exchange: 319186.1256045877 kilogram 'Hard and semi-hard cheese' (kilogram, CH, None) to 'ch hh all consumption' (1 month of consumption, CH, None)>,\n",
       " Exchange: 157299.3887772199 kilogram 'Fresh, soft and melted cheese' (kilogram, CH, None) to 'ch hh all consumption' (1 month of consumption, CH, None)>,\n",
       " Exchange: 77351.97179425828 litre 'Cream' (litre, CH, None) to 'ch hh all consumption' (1 month of consumption, CH, None)>,\n",
       " Exchange: 20176.4680104236 kilogram 'Curd' (kilogram, CH, None) to 'ch hh all consumption' (1 month of consumption, CH, None)>,\n",
       " Exchange: 145198.570866559 kilogram 'Yoghurt' (kilogram, CH, None) to 'ch hh all consumption' (1 month of consumption, CH, None)>,\n",
       " Exchange: 62241.004764413 litre 'Milk-based beverages and other similar milk-based products' (litre, CH, None) to 'ch hh all consumption' (1 month of consumption, CH, None)>,\n",
       " Exchange: 88865.51031371721 kilogram 'Fresh eggs' (kilogram, CH, None) to 'ch hh all consumption' (1 month of consumption, CH, None)>,\n",
       " Exchange: 8691.442402288396 kilogram 'Processed eggs' (kilogram, CH, None) to 'ch hh all consumption' (1 month of consumption, CH, None)>,\n",
       " Exchange: 83208.02497835687 kilogram 'Butter' (kilogram, CH, None) to 'ch hh all consumption' (1 month of consumption, CH, None)>,\n",
       " Exchange: 13184.80434307747 kilogram 'Margarine' (kilogram, CH, None) to 'ch hh all consumption' (1 month of consumption, CH, None)>,\n",
       " Exchange: 4538.654794685698 kilogram 'Other vegetable fats' (kilogram, CH, None) to 'ch hh all consumption' (1 month of consumption, CH, None)>,\n",
       " Exchange: 35526.16292127096 litre 'Olive oil' (litre, CH, None) to 'ch hh all consumption' (1 month of consumption, CH, None)>,\n",
       " Exchange: 25050.60015610515 litre 'Other vegetable oils and edible animal fats' (litre, CH, None) to 'ch hh all consumption' (1 month of consumption, CH, None)>,\n",
       " Exchange: 11429.21933240582 kilogram 'Lemons' (kilogram, CH, None) to 'ch hh all consumption' (1 month of consumption, CH, None)>,\n",
       " Exchange: 56243.38635994812 kilogram 'Oranges and other citrus fruits' (kilogram, CH, None) to 'ch hh all consumption' (1 month of consumption, CH, None)>,\n",
       " Exchange: 44415.35948083911 kilogram 'Banana' (kilogram, CH, None) to 'ch hh all consumption' (1 month of consumption, CH, None)>,\n",
       " Exchange: 79798.93286253733 kilogram 'Apples' (kilogram, CH, None) to 'ch hh all consumption' (1 month of consumption, CH, None)>,\n",
       " Exchange: 23503.52118498899 kilogram 'Pears and quinces' (kilogram, CH, None) to 'ch hh all consumption' (1 month of consumption, CH, None)>,\n",
       " Exchange: 80837.94607250157 kilogram 'Stone fruit' (kilogram, CH, None) to 'ch hh all consumption' (1 month of consumption, CH, None)>,\n",
       " Exchange: 66331.38350863122 kilogram 'Berries' (kilogram, CH, None) to 'ch hh all consumption' (1 month of consumption, CH, None)>,\n",
       " Exchange: 28354.22995151243 kilogram 'Grapes' (kilogram, CH, None) to 'ch hh all consumption' (1 month of consumption, CH, None)>,\n",
       " Exchange: 20441.95493654063 kilogram 'Melons and watermelons' (kilogram, CH, None) to 'ch hh all consumption' (1 month of consumption, CH, None)>,\n",
       " Exchange: 47973.67003388769 kilogram 'Other tropical fruits' (kilogram, CH, None) to 'ch hh all consumption' (1 month of consumption, CH, None)>,\n",
       " Exchange: 60018.67590051591 kilogram 'Nuts, other edible nuts and seeds oleaginous fruits' (kilogram, CH, None) to 'ch hh all consumption' (1 month of consumption, CH, None)>,\n",
       " Exchange: 26557.69155013737 kilogram 'Other fried fruits' (kilogram, CH, None) to 'ch hh all consumption' (1 month of consumption, CH, None)>,\n",
       " Exchange: 20341.62058415885 kilogram 'Preserved fruits' (kilogram, CH, None) to 'ch hh all consumption' (1 month of consumption, CH, None)>,\n",
       " Exchange: 155889.0807182571 kilogram 'Green salads and other leafy vegetables' (kilogram, CH, None) to 'ch hh all consumption' (1 month of consumption, CH, None)>,\n",
       " Exchange: 30565.8477030959 kilogram 'Stem vegetables' (kilogram, CH, None) to 'ch hh all consumption' (1 month of consumption, CH, None)>,\n",
       " Exchange: 19039.22756185173 kilogram 'Culinary herbs' (kilogram, CH, None) to 'ch hh all consumption' (1 month of consumption, CH, None)>,\n",
       " Exchange: 35659.61098944148 kilogram 'Brassicas' (kilogram, CH, None) to 'ch hh all consumption' (1 month of consumption, CH, None)>,\n",
       " Exchange: 73184.74571146134 kilogram 'Tomatoes' (kilogram, CH, None) to 'ch hh all consumption' (1 month of consumption, CH, None)>,\n",
       " Exchange: 24607.21483295204 kilogram 'Beans and peas' (kilogram, CH, None) to 'ch hh all consumption' (1 month of consumption, CH, None)>,\n",
       " Exchange: 77561.3027903524 kilogram 'Other fruiting vegetables' (kilogram, CH, None) to 'ch hh all consumption' (1 month of consumption, CH, None)>,\n",
       " Exchange: 17687.46285714574 kilogram 'Onions' (kilogram, CH, None) to 'ch hh all consumption' (1 month of consumption, CH, None)>,\n",
       " Exchange: 5718.493595292312 kilogram 'Garlic' (kilogram, CH, None) to 'ch hh all consumption' (1 month of consumption, CH, None)>,\n",
       " Exchange: 93762.56156194423 kilogram 'Beets and other root vegetables' (kilogram, CH, None) to 'ch hh all consumption' (1 month of consumption, CH, None)>,\n",
       " Exchange: 11050.10967583069 kilogram 'Mushrooms and vegetables, dried' (kilogram, CH, None) to 'ch hh all consumption' (1 month of consumption, CH, None)>,\n",
       " Exchange: 67079.2820903655 kilogram 'Tinned or processed vegetables and mushrooms' (kilogram, CH, None) to 'ch hh all consumption' (1 month of consumption, CH, None)>,\n",
       " Exchange: 58733.23747867865 kilogram 'Potatoes' (kilogram, CH, None) to 'ch hh all consumption' (1 month of consumption, CH, None)>,\n",
       " Exchange: 76706.01297221478 kilogram 'Potatoes-based products and other tuber vegetables' (kilogram, CH, None) to 'ch hh all consumption' (1 month of consumption, CH, None)>,\n",
       " Exchange: 22226.34463486764 kilogram 'Sugar' (kilogram, CH, None) to 'ch hh all consumption' (1 month of consumption, CH, None)>,\n",
       " Exchange: 39826.11002381235 kilogram 'Jams, marmalades, compotes' (kilogram, CH, None) to 'ch hh all consumption' (1 month of consumption, CH, None)>,\n",
       " Exchange: 24046.60572282759 kilogram 'Honey' (kilogram, CH, None) to 'ch hh all consumption' (1 month of consumption, CH, None)>,\n",
       " Exchange: 195424.1961336084 kilogram 'Chocolate' (kilogram, CH, None) to 'ch hh all consumption' (1 month of consumption, CH, None)>,\n",
       " Exchange: 58708.27004428548 kilogram 'Sweets and chewing gum' (kilogram, CH, None) to 'ch hh all consumption' (1 month of consumption, CH, None)>,\n",
       " Exchange: 70057.21762219309 kilogram 'Ice cream' (kilogram, CH, None) to 'ch hh all consumption' (1 month of consumption, CH, None)>,\n",
       " Exchange: 6951.265230249301 kilogram 'Other sugary or cocoa-based foods' (kilogram, CH, None) to 'ch hh all consumption' (1 month of consumption, CH, None)>,\n",
       " Exchange: 132559.7181839645 kilogram 'Sauces, seasonings and condiments' (kilogram, CH, None) to 'ch hh all consumption' (1 month of consumption, CH, None)>,\n",
       " Exchange: 39970.93312531951 kilogram 'Soups and bouillons' (kilogram, CH, None) to 'ch hh all consumption' (1 month of consumption, CH, None)>,\n",
       " Exchange: 121085.2368553091 kilogram 'Ready-made foods' (kilogram, CH, None) to 'ch hh all consumption' (1 month of consumption, CH, None)>,\n",
       " Exchange: 7213.513560747805 kilogram 'Vegetarian soy products' (kilogram, CH, None) to 'ch hh all consumption' (1 month of consumption, CH, None)>,\n",
       " Exchange: 175642.309287735 kilogram 'Pure and ground coffee' (kilogram, CH, None) to 'ch hh all consumption' (1 month of consumption, CH, None)>,\n",
       " Exchange: 20195.72025041723 kilogram 'Instant coffee and coffee surrogates' (kilogram, CH, None) to 'ch hh all consumption' (1 month of consumption, CH, None)>,\n",
       " Exchange: 34363.13906784309 kilogram 'Tea, herbal tea and surrogates' (kilogram, CH, None) to 'ch hh all consumption' (1 month of consumption, CH, None)>,\n",
       " Exchange: 16765.91195059467 kilogram 'Cocoa-based beverages' (kilogram, CH, None) to 'ch hh all consumption' (1 month of consumption, CH, None)>,\n",
       " Exchange: 85879.57918485694 litre 'Mineral water' (litre, CH, None) to 'ch hh all consumption' (1 month of consumption, CH, None)>,\n",
       " Exchange: 134343.2300270856 litre 'Non-alcoholic soft drinks' (litre, CH, None) to 'ch hh all consumption' (1 month of consumption, CH, None)>,\n",
       " Exchange: 16143.22045021673 litre 'Syrups' (litre, CH, None) to 'ch hh all consumption' (1 month of consumption, CH, None)>,\n",
       " Exchange: 100145.8960844289 litre 'Fruit juices' (litre, CH, None) to 'ch hh all consumption' (1 month of consumption, CH, None)>,\n",
       " Exchange: 2505.886594654101 litre 'Vegetable juices' (litre, CH, None) to 'ch hh all consumption' (1 month of consumption, CH, None)>,\n",
       " Exchange: 51343.42949163685 litre 'Spirits' (litre, CH, None) to 'ch hh all consumption' (1 month of consumption, CH, None)>,\n",
       " Exchange: 17486.0709258079 litre 'Alcoholic and non-alcoholic liqueurs and liqueur-based aperitifs' (litre, CH, None) to 'ch hh all consumption' (1 month of consumption, CH, None)>,\n",
       " Exchange: 552857.5922443641 litre 'Wine' (litre, CH, None) to 'ch hh all consumption' (1 month of consumption, CH, None)>,\n",
       " Exchange: 87096.5047299423 litre 'Alcoholic and non-alcoholic beer' (litre, CH, None) to 'ch hh all consumption' (1 month of consumption, CH, None)>,\n",
       " Exchange: 354306.4719774653 CHF 'Tobacco' (CHF, CH, None) to 'ch hh all consumption' (1 month of consumption, CH, None)>,\n",
       " Exchange: 2959832.855808315 CHF 'Restaurants, cafés and bars' (CHF, CH, None) to 'ch hh all consumption' (1 month of consumption, CH, None)>,\n",
       " Exchange: 680809.8712559588 CHF 'Self-service restaurants and take-aways' (CHF, CH, None) to 'ch hh all consumption' (1 month of consumption, CH, None)>,\n",
       " Exchange: 394895.2214092199 CHF 'Canteens' (CHF, CH, None) to 'ch hh all consumption' (1 month of consumption, CH, None)>,\n",
       " Exchange: 889400.8270847974 CHF 'Accommodation services' (CHF, CH, None) to 'ch hh all consumption' (1 month of consumption, CH, None)>,\n",
       " Exchange: 12450.0291809752 CHF 'Clothing materials' (CHF, CH, None) to 'ch hh all consumption' (1 month of consumption, CH, None)>,\n",
       " Exchange: 554938.5119814478 CHF 'Garments for men' (CHF, CH, None) to 'ch hh all consumption' (1 month of consumption, CH, None)>,\n",
       " Exchange: 1010289.935069158 CHF 'Garments for women' (CHF, CH, None) to 'ch hh all consumption' (1 month of consumption, CH, None)>,\n",
       " Exchange: 204836.5199297619 CHF 'Garments for children (between 0 and 13 years)' (CHF, CH, None) to 'ch hh all consumption' (1 month of consumption, CH, None)>,\n",
       " Exchange: 85068.58468321212 CHF 'Clothing accessories' (CHF, CH, None) to 'ch hh all consumption' (1 month of consumption, CH, None)>,\n",
       " Exchange: 21180.91251132283 CHF 'Sewing and knitting products' (CHF, CH, None) to 'ch hh all consumption' (1 month of consumption, CH, None)>,\n",
       " Exchange: 50910.36810261413 CHF 'Cleaning, repair and hire of clothing' (CHF, CH, None) to 'ch hh all consumption' (1 month of consumption, CH, None)>,\n",
       " Exchange: 139848.3872855043 CHF 'Footwear for men' (CHF, CH, None) to 'ch hh all consumption' (1 month of consumption, CH, None)>,\n",
       " Exchange: 241457.9289617751 CHF 'Footwear for women' (CHF, CH, None) to 'ch hh all consumption' (1 month of consumption, CH, None)>,\n",
       " Exchange: 73082.12933109257 CHF 'Footwear for children and babies' (CHF, CH, None) to 'ch hh all consumption' (1 month of consumption, CH, None)>,\n",
       " Exchange: 16417.81731310132 CHF 'Repair and hire of footwear' (CHF, CH, None) to 'ch hh all consumption' (1 month of consumption, CH, None)>,\n",
       " Exchange: 261891.6231343211 CHF 'Regular maintenance costs of principal residence' (CHF, CH, None) to 'ch hh all consumption' (1 month of consumption, CH, None)>,\n",
       " Exchange: 814140.6762847287 CHF 'Maintenance and repair of the dwelling' (CHF, CH, None) to 'ch hh all consumption' (1 month of consumption, CH, None)>,\n",
       " Exchange: 1131067.085941836 CHF 'Furniture and furnishings, carpets and other floor coverings incl. repairs' (CHF, CH, None) to 'ch hh all consumption' (1 month of consumption, CH, None)>,\n",
       " Exchange: 280817.9678889849 CHF 'Household textiles' (CHF, CH, None) to 'ch hh all consumption' (1 month of consumption, CH, None)>,\n",
       " Exchange: 172838.1804909519 CHF 'Refrigerators, dishwashers, washing machines and dryers' (CHF, CH, None) to 'ch hh all consumption' (1 month of consumption, CH, None)>,\n",
       " Exchange: 130178.1458214004 CHF 'Cookers, barbecue, space heaters and room care appliances' (CHF, CH, None) to 'ch hh all consumption' (1 month of consumption, CH, None)>,\n",
       " Exchange: 94202.26992793324 CHF 'Small electric household appliances' (CHF, CH, None) to 'ch hh all consumption' (1 month of consumption, CH, None)>,\n",
       " Exchange: 32880.1268067027 CHF 'Repair of household appliances' (CHF, CH, None) to 'ch hh all consumption' (1 month of consumption, CH, None)>,\n",
       " Exchange: 57813.57042967898 CHF 'Glassware, tableware' (CHF, CH, None) to 'ch hh all consumption' (1 month of consumption, CH, None)>,\n",
       " Exchange: 10828.6215190113 CHF 'Cutlery' (CHF, CH, None) to 'ch hh all consumption' (1 month of consumption, CH, None)>,\n",
       " Exchange: 93534.51203191832 CHF 'Kitchen utensils' (CHF, CH, None) to 'ch hh all consumption' (1 month of consumption, CH, None)>,\n",
       " Exchange: 44249.01360133162 CHF 'Other household utensils' (CHF, CH, None) to 'ch hh all consumption' (1 month of consumption, CH, None)>,\n",
       " Exchange: 292495.2139409836 CHF 'Tools and equipment without engines for house and garden' (CHF, CH, None) to 'ch hh all consumption' (1 month of consumption, CH, None)>,\n",
       " Exchange: 75422.45449794231 CHF 'Machines with engines for house and garden' (CHF, CH, None) to 'ch hh all consumption' (1 month of consumption, CH, None)>,\n",
       " Exchange: 203351.4241544246 CHF 'Detergents and cleaning products' (CHF, CH, None) to 'ch hh all consumption' (1 month of consumption, CH, None)>,\n",
       " Exchange: 12155.21856755309 CHF 'Cleaning articles' (CHF, CH, None) to 'ch hh all consumption' (1 month of consumption, CH, None)>,\n",
       " Exchange: 5176.985398519905 CHF 'Plastic or paper refuse bags without fees' (CHF, CH, None) to 'ch hh all consumption' (1 month of consumption, CH, None)>,\n",
       " Exchange: 135149.3155498249 CHF 'Other non-durable household articles' (CHF, CH, None) to 'ch hh all consumption' (1 month of consumption, CH, None)>,\n",
       " Exchange: 172795.4508207999 CHF 'Domestic services and household services' (CHF, CH, None) to 'ch hh all consumption' (1 month of consumption, CH, None)>,\n",
       " Exchange: 397372.9124656617 CHF 'Medicines' (CHF, CH, None) to 'ch hh all consumption' (1 month of consumption, CH, None)>,\n",
       " Exchange: 273986.7851446506 CHF 'Glasses and contact lenses' (CHF, CH, None) to 'ch hh all consumption' (1 month of consumption, CH, None)>,\n",
       " Exchange: 77578.30881480007 CHF 'Medical products, therapeutic devices and products' (CHF, CH, None) to 'ch hh all consumption' (1 month of consumption, CH, None)>,\n",
       " Exchange: 2025526.499779657 CHF 'Medical services and hospital services' (CHF, CH, None) to 'ch hh all consumption' (1 month of consumption, CH, None)>,\n",
       " Exchange: 132713.509867926 person kilometer 'Bicycles' (person kilometer, CH, None) to 'ch hh all consumption' (1 month of consumption, CH, None)>,\n",
       " Exchange: 1181009.322349656 litre 'Gasoline' (litre, CH, None) to 'ch hh all consumption' (1 month of consumption, CH, None)>,\n",
       " Exchange: 278088.388432224 litre 'Diesel' (litre, CH, None) to 'ch hh all consumption' (1 month of consumption, CH, None)>,\n",
       " Exchange: 284808.3262732537 person kilometer 'Train, tickets and travelcards' (person kilometer, CH, None) to 'ch hh all consumption' (1 month of consumption, CH, None)>,\n",
       " Exchange: 21151.23691712009 person kilometer 'Tram, tickets and travelcards' (person kilometer, CH, None) to 'ch hh all consumption' (1 month of consumption, CH, None)>,\n",
       " Exchange: 54527.47692874447 person kilometer 'Bus, tickets and travelcards' (person kilometer, CH, None) to 'ch hh all consumption' (1 month of consumption, CH, None)>,\n",
       " Exchange: 31969.34232915404 CHF 'Taxi' (CHF, CH, None) to 'ch hh all consumption' (1 month of consumption, CH, None)>,\n",
       " Exchange: 318381.0785552044 CHF 'Air travels, tickets' (CHF, CH, None) to 'ch hh all consumption' (1 month of consumption, CH, None)>,\n",
       " Exchange: 49163.06306330783 CHF 'Passenger transport by sea and inland waterway' (CHF, CH, None) to 'ch hh all consumption' (1 month of consumption, CH, None)>,\n",
       " Exchange: 37507.67603153893 CHF 'Other purchased transport services' (CHF, CH, None) to 'ch hh all consumption' (1 month of consumption, CH, None)>,\n",
       " Exchange: 55957.84862213751 CHF 'Postal services' (CHF, CH, None) to 'ch hh all consumption' (1 month of consumption, CH, None)>,\n",
       " Exchange: 77465.09762287153 CHF 'Purchases and rent of telephones and telefax machines' (CHF, CH, None) to 'ch hh all consumption' (1 month of consumption, CH, None)>,\n",
       " Exchange: 656518.426009921 CHF 'Fixed line' (CHF, CH, None) to 'ch hh all consumption' (1 month of consumption, CH, None)>,\n",
       " Exchange: 632047.2423178839 CHF 'Mobile telephony' (CHF, CH, None) to 'ch hh all consumption' (1 month of consumption, CH, None)>,\n",
       " Exchange: 291810.7921287232 CHF 'Services of internet providers' (CHF, CH, None) to 'ch hh all consumption' (1 month of consumption, CH, None)>,\n",
       " Exchange: 312405.0840532611 CHF 'Equipment for the reception, recording and reproduction of sound and pictures' (CHF, CH, None) to 'ch hh all consumption' (1 month of consumption, CH, None)>,\n",
       " Exchange: 86266.81707762646 CHF 'Photographic and cinematographic equipment and optical instruments' (CHF, CH, None) to 'ch hh all consumption' (1 month of consumption, CH, None)>,\n",
       " Exchange: 120147.0270680441 CHF 'Sound carriers, data carriers, videotapes and films' (CHF, CH, None) to 'ch hh all consumption' (1 month of consumption, CH, None)>,\n",
       " Exchange: 201973.1255670026 CHF 'Durable goods for recreation and sports' (CHF, CH, None) to 'ch hh all consumption' (1 month of consumption, CH, None)>,\n",
       " Exchange: 268414.7058309906 CHF 'Games, toys and hobbies' (CHF, CH, None) to 'ch hh all consumption' (1 month of consumption, CH, None)>,\n",
       " Exchange: 222044.9265093557 CHF 'Equipment for sports and camping' (CHF, CH, None) to 'ch hh all consumption' (1 month of consumption, CH, None)>,\n",
       " Exchange: 340134.8446284047 CHF 'Plants and other non-durable goods for gardening' (CHF, CH, None) to 'ch hh all consumption' (1 month of consumption, CH, None)>,\n",
       " Exchange: 209772.6226962424 CHF 'Pets and related products' (CHF, CH, None) to 'ch hh all consumption' (1 month of consumption, CH, None)>,\n",
       " Exchange: 144997.9075514855 CHF 'Veterinary and other services for pets' (CHF, CH, None) to 'ch hh all consumption' (1 month of consumption, CH, None)>,\n",
       " Exchange: 35959.79869760752 CHF 'Entries in sports facilities' (CHF, CH, None) to 'ch hh all consumption' (1 month of consumption, CH, None)>,\n",
       " Exchange: 283149.6494303533 CHF 'Services of sports and recreational facilities, without ski lifts' (CHF, CH, None) to 'ch hh all consumption' (1 month of consumption, CH, None)>,\n",
       " Exchange: 123023.4271935567 CHF 'Tickets and season tickets for cable cars, including ski lifts' (CHF, CH, None) to 'ch hh all consumption' (1 month of consumption, CH, None)>,\n",
       " Exchange: 46868.1261450503 CHF 'Rent of sports and recreational goods' (CHF, CH, None) to 'ch hh all consumption' (1 month of consumption, CH, None)>,\n",
       " Exchange: 138373.6485454248 CHF 'Sports and crafting classes' (CHF, CH, None) to 'ch hh all consumption' (1 month of consumption, CH, None)>,\n",
       " Exchange: 132169.5803060308 CHF 'Music and dance classes' (CHF, CH, None) to 'ch hh all consumption' (1 month of consumption, CH, None)>,\n",
       " Exchange: 75709.86029758384 CHF 'Dues for sports clubs and associations' (CHF, CH, None) to 'ch hh all consumption' (1 month of consumption, CH, None)>,\n",
       " Exchange: 16656.08836054742 CHF 'Dues for recreational associations' (CHF, CH, None) to 'ch hh all consumption' (1 month of consumption, CH, None)>,\n",
       " Exchange: 114644.4772193992 CHF 'Other leisure-time courses' (CHF, CH, None) to 'ch hh all consumption' (1 month of consumption, CH, None)>,\n",
       " Exchange: 189358.7567859969 CHF 'Theatre and concerts' (CHF, CH, None) to 'ch hh all consumption' (1 month of consumption, CH, None)>,\n",
       " Exchange: 48766.1821011356 CHF 'Cinema' (CHF, CH, None) to 'ch hh all consumption' (1 month of consumption, CH, None)>,\n",
       " Exchange: 49163.08939815833 CHF 'Museums, exhibitions, libraries, zoological gardens' (CHF, CH, None) to 'ch hh all consumption' (1 month of consumption, CH, None)>,\n",
       " Exchange: 340315.4048053934 CHF 'Fees for radio and TV reception' (CHF, CH, None) to 'ch hh all consumption' (1 month of consumption, CH, None)>,\n",
       " Exchange: 44345.65690761977 CHF 'Subscriptions to private television' (CHF, CH, None) to 'ch hh all consumption' (1 month of consumption, CH, None)>,\n",
       " Exchange: 93133.89750933631 CHF 'Subscriptions to cable television' (CHF, CH, None) to 'ch hh all consumption' (1 month of consumption, CH, None)>,\n",
       " Exchange: 4224.626358616099 CHF 'Rent for equipment and DVDs and CDs' (CHF, CH, None) to 'ch hh all consumption' (1 month of consumption, CH, None)>,\n",
       " Exchange: 17974.52438462683 CHF 'Dues to cultural associations' (CHF, CH, None) to 'ch hh all consumption' (1 month of consumption, CH, None)>,\n",
       " Exchange: 59618.10253327667 CHF 'Other services in entertainment and culture' (CHF, CH, None) to 'ch hh all consumption' (1 month of consumption, CH, None)>,\n",
       " Exchange: 97365.98607259536 CHF 'Stakes' (CHF, CH, None) to 'ch hh all consumption' (1 month of consumption, CH, None)>,\n",
       " Exchange: 204466.8876315561 CHF 'Books and brochures' (CHF, CH, None) to 'ch hh all consumption' (1 month of consumption, CH, None)>,\n",
       " Exchange: 346013.9076112276 kilogram 'Newspapers and periodicals' (kilogram, CH, None) to 'ch hh all consumption' (1 month of consumption, CH, None)>,\n",
       " Exchange: 55392.42798339447 CHF 'Miscellaneous printed matter' (CHF, CH, None) to 'ch hh all consumption' (1 month of consumption, CH, None)>,\n",
       " Exchange: 91239.17387506398 CHF 'Writing and drawing materials' (CHF, CH, None) to 'ch hh all consumption' (1 month of consumption, CH, None)>,\n",
       " Exchange: 1608247.583518051 CHF 'Package holidays' (CHF, CH, None) to 'ch hh all consumption' (1 month of consumption, CH, None)>,\n",
       " Exchange: 397180.359851777 CHF 'Education' (CHF, CH, None) to 'ch hh all consumption' (1 month of consumption, CH, None)>,\n",
       " Exchange: 32730.400530778 CHF 'Electrical appliances for personal care' (CHF, CH, None) to 'ch hh all consumption' (1 month of consumption, CH, None)>,\n",
       " Exchange: 47673.44016991969 CHF 'Non-electrical appliances for personal care' (CHF, CH, None) to 'ch hh all consumption' (1 month of consumption, CH, None)>,\n",
       " Exchange: 137744.3510437176 CHF 'Non-durable products of cotton and paper for personal care' (CHF, CH, None) to 'ch hh all consumption' (1 month of consumption, CH, None)>,\n",
       " Exchange: 45471.80209693521 kilogram 'Soaps and foam baths' (kilogram, CH, None) to 'ch hh all consumption' (1 month of consumption, CH, None)>,\n",
       " Exchange: 70397.18149326969 CHF 'Hair care products' (CHF, CH, None) to 'ch hh all consumption' (1 month of consumption, CH, None)>,\n",
       " Exchange: 37372.07591330146 CHF 'Dental care products' (CHF, CH, None) to 'ch hh all consumption' (1 month of consumption, CH, None)>,\n",
       " Exchange: 350133.7406666916 CHF 'Other products for personal care' (CHF, CH, None) to 'ch hh all consumption' (1 month of consumption, CH, None)>,\n",
       " Exchange: 561872.804729513 CHF 'Services of hairdressers and beauty salons' (CHF, CH, None) to 'ch hh all consumption' (1 month of consumption, CH, None)>,\n",
       " Exchange: 246976.8807819785 CHF 'Jewellery, clocks and watches' (CHF, CH, None) to 'ch hh all consumption' (1 month of consumption, CH, None)>,\n",
       " Exchange: 127544.7502039586 CHF 'Luggage, leather and baby goods' (CHF, CH, None) to 'ch hh all consumption' (1 month of consumption, CH, None)>,\n",
       " Exchange: 24868.13720910563 CHF 'Other personal effects' (CHF, CH, None) to 'ch hh all consumption' (1 month of consumption, CH, None)>,\n",
       " Exchange: 228452.030661453 CHF 'Social protection services' (CHF, CH, None) to 'ch hh all consumption' (1 month of consumption, CH, None)>,\n",
       " Exchange: 235683.5116245818 CHF 'Financial services' (CHF, CH, None) to 'ch hh all consumption' (1 month of consumption, CH, None)>,\n",
       " Exchange: 161667.5856295199 CHF 'Dues to organisations and associations' (CHF, CH, None) to 'ch hh all consumption' (1 month of consumption, CH, None)>,\n",
       " Exchange: 319855.6623905686 CHF 'Other services and losses relating to renting' (CHF, CH, None) to 'ch hh all consumption' (1 month of consumption, CH, None)>,\n",
       " Exchange: 2799289.331254962 CHF 'Premiums for life insurance' (CHF, CH, None) to 'ch hh all consumption' (1 month of consumption, CH, None)>]"
      ]
     },
     "execution_count": 31,
     "metadata": {},
     "output_type": "execute_result"
    }
   ],
   "source": [
    "list(consumption_all.exchanges()) # per month for all households"
   ]
  },
  {
   "cell_type": "code",
   "execution_count": 32,
   "metadata": {},
   "outputs": [
    {
     "data": {
      "text/plain": [
       "195"
      ]
     },
     "execution_count": 32,
     "metadata": {},
     "output_type": "execute_result"
    }
   ],
   "source": [
    "len(list(consumption_all.exchanges()))"
   ]
  },
  {
   "cell_type": "markdown",
   "metadata": {},
   "source": [
    "### Note that the number of consumption exchanges is the same as the number of activities in the database, but is a lot less than what Andi provided in his total demands."
   ]
  },
  {
   "cell_type": "markdown",
   "metadata": {},
   "source": [
    "# Add consumption activity for an average household"
   ]
  },
  {
   "cell_type": "code",
   "execution_count": 33,
   "metadata": {},
   "outputs": [],
   "source": [
    "try: co.get('ch hh average consumption').delete()\n",
    "except: pass\n",
    "consumption_average = consumption_all.copy('ch hh average consumption', name='ch hh average consumption')"
   ]
  },
  {
   "cell_type": "code",
   "execution_count": 34,
   "metadata": {},
   "outputs": [],
   "source": [
    "for exc in consumption_average.exchanges():\n",
    "    if exc['type'] != 'production':\n",
    "        exc['amount'] /= n_households\n",
    "        exc.save()"
   ]
  },
  {
   "cell_type": "code",
   "execution_count": 35,
   "metadata": {},
   "outputs": [
    {
     "data": {
      "text/plain": [
       "[Exchange: 1 1 month of consumption 'ch hh average consumption' (1 month of consumption, CH, None) to 'ch hh average consumption' (1 month of consumption, CH, None)>,\n",
       " Exchange: 201.46845215493406 CHF 'Other insurance premiums' (CHF, CH, None) to 'ch hh average consumption' (1 month of consumption, CH, None)>,\n",
       " Exchange: 76.54080218942872 CHF 'Fees' (CHF, CH, None) to 'ch hh average consumption' (1 month of consumption, CH, None)>,\n",
       " Exchange: 2.6523185730240124 kilogram 'Rice' (kilogram, CH, None) to 'ch hh average consumption' (1 month of consumption, CH, None)>,\n",
       " Exchange: 10.258710269091356 kilogram 'Pasta products' (kilogram, CH, None) to 'ch hh average consumption' (1 month of consumption, CH, None)>,\n",
       " Exchange: 31.169177290477347 kilogram 'Bread' (kilogram, CH, None) to 'ch hh average consumption' (1 month of consumption, CH, None)>,\n",
       " Exchange: 46.03483906003796 kilogram 'Bakery products (sweet and salty)' (kilogram, CH, None) to 'ch hh average consumption' (1 month of consumption, CH, None)>,\n",
       " Exchange: 2.96203564798639 kilogram 'Sandwich' (kilogram, CH, None) to 'ch hh average consumption' (1 month of consumption, CH, None)>,\n",
       " Exchange: 1.5632126260770978 kilogram 'Wheat flour' (kilogram, CH, None) to 'ch hh average consumption' (1 month of consumption, CH, None)>,\n",
       " Exchange: 2.3838892509305865 kilogram 'Other flours and meals, starches, semolina, flakes and grains' (kilogram, CH, None) to 'ch hh average consumption' (1 month of consumption, CH, None)>,\n",
       " Exchange: 11.610410642488288 kilogram 'Other cereal products' (kilogram, CH, None) to 'ch hh average consumption' (1 month of consumption, CH, None)>,\n",
       " Exchange: 23.888668292785425 kilogram 'Beef' (kilogram, CH, None) to 'ch hh average consumption' (1 month of consumption, CH, None)>,\n",
       " Exchange: 9.918235002986313 kilogram 'Veal' (kilogram, CH, None) to 'ch hh average consumption' (1 month of consumption, CH, None)>,\n",
       " Exchange: 19.597376628447645 kilogram 'Pork, fresh or frozen' (kilogram, CH, None) to 'ch hh average consumption' (1 month of consumption, CH, None)>,\n",
       " Exchange: 1.723098491142286 kilogram 'Horse meat' (kilogram, CH, None) to 'ch hh average consumption' (1 month of consumption, CH, None)>,\n",
       " Exchange: 4.798924975545264 kilogram 'Sheep and Goat meat' (kilogram, CH, None) to 'ch hh average consumption' (1 month of consumption, CH, None)>,\n",
       " Exchange: 21.784384524822826 kilogram 'Poultry, fresh or frozen' (kilogram, CH, None) to 'ch hh average consumption' (1 month of consumption, CH, None)>,\n",
       " Exchange: 1.9925885412409894 kilogram 'Hare, game and rabbit meat' (kilogram, CH, None) to 'ch hh average consumption' (1 month of consumption, CH, None)>,\n",
       " Exchange: 9.526423902548714 kilogram 'Other eatable meat products incl. offal, fresh and frozen' (kilogram, CH, None) to 'ch hh average consumption' (1 month of consumption, CH, None)>,\n",
       " Exchange: 32.736452871721795 kilogram 'Sausages, cold meat and pies' (kilogram, CH, None) to 'ch hh average consumption' (1 month of consumption, CH, None)>,\n",
       " Exchange: 20.571594796120035 kilogram 'Ham, bacon and other cured or smoked pork' (kilogram, CH, None) to 'ch hh average consumption' (1 month of consumption, CH, None)>,\n",
       " Exchange: 1.460221210234323 kilogram 'Poultry, grilled or smoked' (kilogram, CH, None) to 'ch hh average consumption' (1 month of consumption, CH, None)>,\n",
       " Exchange: 6.807338245132771 kilogram 'Other boiled, dried, cured or smoked meat' (kilogram, CH, None) to 'ch hh average consumption' (1 month of consumption, CH, None)>,\n",
       " Exchange: 1.3602882287883173 kilogram 'Tinned meat and other meat-based preparations' (kilogram, CH, None) to 'ch hh average consumption' (1 month of consumption, CH, None)>,\n",
       " Exchange: 21.88084128170074 kilogram 'Fish' (kilogram, CH, None) to 'ch hh average consumption' (1 month of consumption, CH, None)>,\n",
       " Exchange: 10.18356918198929 litre 'Whole milk' (litre, CH, None) to 'ch hh average consumption' (1 month of consumption, CH, None)>,\n",
       " Exchange: 6.452002189807776 litre 'Skimmed and low-fat milk' (litre, CH, None) to 'ch hh average consumption' (1 month of consumption, CH, None)>,\n",
       " Exchange: 32.790849147789984 kilogram 'Hard and semi-hard cheese' (kilogram, CH, None) to 'ch hh average consumption' (1 month of consumption, CH, None)>,\n",
       " Exchange: 16.15978927236695 kilogram 'Fresh, soft and melted cheese' (kilogram, CH, None) to 'ch hh average consumption' (1 month of consumption, CH, None)>,\n",
       " Exchange: 7.94657610378655 litre 'Cream' (litre, CH, None) to 'ch hh average consumption' (1 month of consumption, CH, None)>,\n",
       " Exchange: 2.072782824165153 kilogram 'Curd' (kilogram, CH, None) to 'ch hh average consumption' (1 month of consumption, CH, None)>,\n",
       " Exchange: 14.916639702749023 kilogram 'Yoghurt' (kilogram, CH, None) to 'ch hh average consumption' (1 month of consumption, CH, None)>,\n",
       " Exchange: 6.394185819232895 litre 'Milk-based beverages and other similar milk-based products' (litre, CH, None) to 'ch hh average consumption' (1 month of consumption, CH, None)>,\n",
       " Exchange: 9.129392882033821 kilogram 'Fresh eggs' (kilogram, CH, None) to 'ch hh average consumption' (1 month of consumption, CH, None)>,\n",
       " Exchange: 0.8928952539848363 kilogram 'Processed eggs' (kilogram, CH, None) to 'ch hh average consumption' (1 month of consumption, CH, None)>,\n",
       " Exchange: 8.548184197488892 kilogram 'Butter' (kilogram, CH, None) to 'ch hh average consumption' (1 month of consumption, CH, None)>,\n",
       " Exchange: 1.354510411246915 kilogram 'Margarine' (kilogram, CH, None) to 'ch hh average consumption' (1 month of consumption, CH, None)>,\n",
       " Exchange: 0.46626821395990325 kilogram 'Other vegetable fats' (kilogram, CH, None) to 'ch hh average consumption' (1 month of consumption, CH, None)>,\n",
       " Exchange: 3.6496982660027695 litre 'Olive oil' (litre, CH, None) to 'ch hh average consumption' (1 month of consumption, CH, None)>,\n",
       " Exchange: 2.5735155286732225 litre 'Other vegetable oils and edible animal fats' (litre, CH, None) to 'ch hh average consumption' (1 month of consumption, CH, None)>,\n",
       " Exchange: 1.1741544413813254 kilogram 'Lemons' (kilogram, CH, None) to 'ch hh average consumption' (1 month of consumption, CH, None)>,\n",
       " Exchange: 5.778034349696745 kilogram 'Oranges and other citrus fruits' (kilogram, CH, None) to 'ch hh average consumption' (1 month of consumption, CH, None)>,\n",
       " Exchange: 4.56290933643303 kilogram 'Banana' (kilogram, CH, None) to 'ch hh average consumption' (1 month of consumption, CH, None)>,\n",
       " Exchange: 8.197958995534963 kilogram 'Apples' (kilogram, CH, None) to 'ch hh average consumption' (1 month of consumption, CH, None)>,\n",
       " Exchange: 2.41457994503688 kilogram 'Pears and quinces' (kilogram, CH, None) to 'ch hh average consumption' (1 month of consumption, CH, None)>,\n",
       " Exchange: 8.304699617064061 kilogram 'Stone fruit' (kilogram, CH, None) to 'ch hh average consumption' (1 month of consumption, CH, None)>,\n",
       " Exchange: 6.814401428871093 kilogram 'Berries' (kilogram, CH, None) to 'ch hh average consumption' (1 month of consumption, CH, None)>,\n",
       " Exchange: 2.9129063028058795 kilogram 'Grapes' (kilogram, CH, None) to 'ch hh average consumption' (1 month of consumption, CH, None)>,\n",
       " Exchange: 2.100057010123344 kilogram 'Melons and watermelons' (kilogram, CH, None) to 'ch hh average consumption' (1 month of consumption, CH, None)>,\n",
       " Exchange: 4.928464149772724 kilogram 'Other tropical fruits' (kilogram, CH, None) to 'ch hh average consumption' (1 month of consumption, CH, None)>,\n",
       " Exchange: 6.165879997998347 kilogram 'Nuts, other edible nuts and seeds oleaginous fruits' (kilogram, CH, None) to 'ch hh average consumption' (1 month of consumption, CH, None)>,\n",
       " Exchange: 2.7283430809674716 kilogram 'Other fried fruits' (kilogram, CH, None) to 'ch hh average consumption' (1 month of consumption, CH, None)>,\n",
       " Exchange: 2.0897493922497277 kilogram 'Preserved fruits' (kilogram, CH, None) to 'ch hh average consumption' (1 month of consumption, CH, None)>,\n",
       " Exchange: 16.01490453238721 kilogram 'Green salads and other leafy vegetables' (kilogram, CH, None) to 'ch hh average consumption' (1 month of consumption, CH, None)>,\n",
       " Exchange: 3.1401117426644647 kilogram 'Stem vegetables' (kilogram, CH, None) to 'ch hh average consumption' (1 month of consumption, CH, None)>,\n",
       " Exchange: 1.955951054227628 kilogram 'Culinary herbs' (kilogram, CH, None) to 'ch hh average consumption' (1 month of consumption, CH, None)>,\n",
       " Exchange: 3.663407744960086 kilogram 'Brassicas' (kilogram, CH, None) to 'ch hh average consumption' (1 month of consumption, CH, None)>,\n",
       " Exchange: 7.518465760372029 kilogram 'Tomatoes' (kilogram, CH, None) to 'ch hh average consumption' (1 month of consumption, CH, None)>,\n",
       " Exchange: 2.527965361922338 kilogram 'Beans and peas' (kilogram, CH, None) to 'ch hh average consumption' (1 month of consumption, CH, None)>,\n",
       " Exchange: 7.9680812400197665 kilogram 'Other fruiting vegetables' (kilogram, CH, None) to 'ch hh average consumption' (1 month of consumption, CH, None)>,\n",
       " Exchange: 1.8170806304854878 kilogram 'Onions' (kilogram, CH, None) to 'ch hh average consumption' (1 month of consumption, CH, None)>,\n",
       " Exchange: 0.5874762271720066 kilogram 'Garlic' (kilogram, CH, None) to 'ch hh average consumption' (1 month of consumption, CH, None)>,\n",
       " Exchange: 9.63248012758827 kilogram 'Beets and other root vegetables' (kilogram, CH, None) to 'ch hh average consumption' (1 month of consumption, CH, None)>,\n",
       " Exchange: 1.1352074867300894 kilogram 'Mushrooms and vegetables, dried' (kilogram, CH, None) to 'ch hh average consumption' (1 month of consumption, CH, None)>,\n",
       " Exchange: 6.891235061677162 kilogram 'Tinned or processed vegetables and mushrooms' (kilogram, CH, None) to 'ch hh average consumption' (1 month of consumption, CH, None)>,\n",
       " Exchange: 6.033823451682623 kilogram 'Potatoes' (kilogram, CH, None) to 'ch hh average consumption' (1 month of consumption, CH, None)>,\n",
       " Exchange: 7.880215016664761 kilogram 'Potatoes-based products and other tuber vegetables' (kilogram, CH, None) to 'ch hh average consumption' (1 month of consumption, CH, None)>,\n",
       " Exchange: 2.2833721630231807 kilogram 'Sugar' (kilogram, CH, None) to 'ch hh average consumption' (1 month of consumption, CH, None)>,\n",
       " Exchange: 4.091443396734369 kilogram 'Jams, marmalades, compotes' (kilogram, CH, None) to 'ch hh average consumption' (1 month of consumption, CH, None)>,\n",
       " Exchange: 2.4703724802576112 kilogram 'Honey' (kilogram, CH, None) to 'ch hh average consumption' (1 month of consumption, CH, None)>,\n",
       " Exchange: 20.07645327035221 kilogram 'Chocolate' (kilogram, CH, None) to 'ch hh average consumption' (1 month of consumption, CH, None)>,\n",
       " Exchange: 6.0312584799964535 kilogram 'Sweets and chewing gum' (kilogram, CH, None) to 'ch hh average consumption' (1 month of consumption, CH, None)>,\n",
       " Exchange: 7.197166388143938 kilogram 'Ice cream' (kilogram, CH, None) to 'ch hh average consumption' (1 month of consumption, CH, None)>,\n",
       " Exchange: 0.7141221728219951 kilogram 'Other sugary or cocoa-based foods' (kilogram, CH, None) to 'ch hh average consumption' (1 month of consumption, CH, None)>,\n",
       " Exchange: 13.618216373943342 kilogram 'Sauces, seasonings and condiments' (kilogram, CH, None) to 'ch hh average consumption' (1 month of consumption, CH, None)>,\n",
       " Exchange: 4.106321463459987 kilogram 'Soups and bouillons' (kilogram, CH, None) to 'ch hh average consumption' (1 month of consumption, CH, None)>,\n",
       " Exchange: 12.439412045953267 kilogram 'Ready-made foods' (kilogram, CH, None) to 'ch hh average consumption' (1 month of consumption, CH, None)>,\n",
       " Exchange: 0.7410636491419565 kilogram 'Vegetarian soy products' (kilogram, CH, None) to 'ch hh average consumption' (1 month of consumption, CH, None)>,\n",
       " Exchange: 18.04420683046384 kilogram 'Pure and ground coffee' (kilogram, CH, None) to 'ch hh average consumption' (1 month of consumption, CH, None)>,\n",
       " Exchange: 2.0747606585594034 kilogram 'Instant coffee and coffee surrogates' (kilogram, CH, None) to 'ch hh average consumption' (1 month of consumption, CH, None)>,\n",
       " Exchange: 3.530217697538842 kilogram 'Tea, herbal tea and surrogates' (kilogram, CH, None) to 'ch hh average consumption' (1 month of consumption, CH, None)>,\n",
       " Exchange: 1.7224072273058013 kilogram 'Cocoa-based beverages' (kilogram, CH, None) to 'ch hh average consumption' (1 month of consumption, CH, None)>,\n",
       " Exchange: 8.822640146379385 litre 'Mineral water' (litre, CH, None) to 'ch hh average consumption' (1 month of consumption, CH, None)>,\n",
       " Exchange: 13.80144134241685 litre 'Non-alcoholic soft drinks' (litre, CH, None) to 'ch hh average consumption' (1 month of consumption, CH, None)>,\n",
       " Exchange: 1.658436454717149 litre 'Syrups' (litre, CH, None) to 'ch hh average consumption' (1 month of consumption, CH, None)>,\n",
       " Exchange: 10.28825725132822 litre 'Fruit juices' (litre, CH, None) to 'ch hh average consumption' (1 month of consumption, CH, None)>,\n",
       " Exchange: 0.25743646955558874 litre 'Vegetable juices' (litre, CH, None) to 'ch hh average consumption' (1 month of consumption, CH, None)>,\n",
       " Exchange: 5.274648601976254 litre 'Spirits' (litre, CH, None) to 'ch hh average consumption' (1 month of consumption, CH, None)>,\n",
       " Exchange: 1.7963910957271318 litre 'Alcoholic and non-alcoholic liqueurs and liqueur-based aperitifs' (litre, CH, None) to 'ch hh average consumption' (1 month of consumption, CH, None)>,\n",
       " Exchange: 56.79654738487406 litre 'Wine' (litre, CH, None) to 'ch hh average consumption' (1 month of consumption, CH, None)>,\n",
       " Exchange: 8.947658180598141 litre 'Alcoholic and non-alcoholic beer' (litre, CH, None) to 'ch hh average consumption' (1 month of consumption, CH, None)>,\n",
       " Exchange: 36.39885678831573 CHF 'Tobacco' (CHF, CH, None) to 'ch hh average consumption' (1 month of consumption, CH, None)>,\n",
       " Exchange: 304.071589871411 CHF 'Restaurants, cafés and bars' (CHF, CH, None) to 'ch hh average consumption' (1 month of consumption, CH, None)>,\n",
       " Exchange: 69.94142914073956 CHF 'Self-service restaurants and take-aways' (CHF, CH, None) to 'ch hh average consumption' (1 month of consumption, CH, None)>,\n",
       " Exchange: 40.56864818257858 CHF 'Canteens' (CHF, CH, None) to 'ch hh average consumption' (1 month of consumption, CH, None)>,\n",
       " Exchange: 91.37053904713349 CHF 'Accommodation services' (CHF, CH, None) to 'ch hh average consumption' (1 month of consumption, CH, None)>,\n",
       " Exchange: 1.2790249826356277 CHF 'Clothing materials' (CHF, CH, None) to 'ch hh average consumption' (1 month of consumption, CH, None)>,\n",
       " Exchange: 57.01032586618531 CHF 'Garments for men' (CHF, CH, None) to 'ch hh average consumption' (1 month of consumption, CH, None)>,\n",
       " Exchange: 103.78980224667741 CHF 'Garments for women' (CHF, CH, None) to 'ch hh average consumption' (1 month of consumption, CH, None)>,\n",
       " Exchange: 21.04340660876946 CHF 'Garments for children (between 0 and 13 years)' (CHF, CH, None) to 'ch hh average consumption' (1 month of consumption, CH, None)>,\n",
       " Exchange: 8.739324500021791 CHF 'Clothing accessories' (CHF, CH, None) to 'ch hh average consumption' (1 month of consumption, CH, None)>,\n",
       " Exchange: 2.175972109238014 CHF 'Sewing and knitting products' (CHF, CH, None) to 'ch hh average consumption' (1 month of consumption, CH, None)>,\n",
       " Exchange: 5.230159040745236 CHF 'Cleaning, repair and hire of clothing' (CHF, CH, None) to 'ch hh average consumption' (1 month of consumption, CH, None)>,\n",
       " Exchange: 14.36700095392483 CHF 'Footwear for men' (CHF, CH, None) to 'ch hh average consumption' (1 month of consumption, CH, None)>,\n",
       " Exchange: 24.805622453438986 CHF 'Footwear for women' (CHF, CH, None) to 'ch hh average consumption' (1 month of consumption, CH, None)>,\n",
       " Exchange: 7.507923703625701 CHF 'Footwear for children and babies' (CHF, CH, None) to 'ch hh average consumption' (1 month of consumption, CH, None)>,\n",
       " Exchange: 1.6866465289810275 CHF 'Repair and hire of footwear' (CHF, CH, None) to 'ch hh average consumption' (1 month of consumption, CH, None)>,\n",
       " Exchange: 26.90483081305949 CHF 'Regular maintenance costs of principal residence' (CHF, CH, None) to 'ch hh average consumption' (1 month of consumption, CH, None)>,\n",
       " Exchange: 83.63886134012006 CHF 'Maintenance and repair of the dwelling' (CHF, CH, None) to 'ch hh average consumption' (1 month of consumption, CH, None)>,\n",
       " Exchange: 116.19756379102486 CHF 'Furniture and furnishings, carpets and other floor coverings incl. repairs' (CHF, CH, None) to 'ch hh average consumption' (1 month of consumption, CH, None)>,\n",
       " Exchange: 28.849185112901672 CHF 'Household textiles' (CHF, CH, None) to 'ch hh average consumption' (1 month of consumption, CH, None)>,\n",
       " Exchange: 17.756131137348664 CHF 'Refrigerators, dishwashers, washing machines and dryers' (CHF, CH, None) to 'ch hh average consumption' (1 month of consumption, CH, None)>,\n",
       " Exchange: 13.373551039798684 CHF 'Cookers, barbecue, space heaters and room care appliances' (CHF, CH, None) to 'ch hh average consumption' (1 month of consumption, CH, None)>,\n",
       " Exchange: 9.677652550640358 CHF 'Small electric household appliances' (CHF, CH, None) to 'ch hh average consumption' (1 month of consumption, CH, None)>,\n",
       " Exchange: 3.3778638593284054 CHF 'Repair of household appliances' (CHF, CH, None) to 'ch hh average consumption' (1 month of consumption, CH, None)>,\n",
       " Exchange: 5.939343582255905 CHF 'Glassware, tableware' (CHF, CH, None) to 'ch hh average consumption' (1 month of consumption, CH, None)>,\n",
       " Exchange: 1.1124534126783747 CHF 'Cutlery' (CHF, CH, None) to 'ch hh average consumption' (1 month of consumption, CH, None)>,\n",
       " Exchange: 9.609051986019963 CHF 'Kitchen utensils' (CHF, CH, None) to 'ch hh average consumption' (1 month of consumption, CH, None)>,\n",
       " Exchange: 4.545820176837027 CHF 'Other household utensils' (CHF, CH, None) to 'ch hh average consumption' (1 month of consumption, CH, None)>,\n",
       " Exchange: 30.048820006265007 CHF 'Tools and equipment without engines for house and garden' (CHF, CH, None) to 'ch hh average consumption' (1 month of consumption, CH, None)>,\n",
       " Exchange: 7.748351602418564 CHF 'Machines with engines for house and garden' (CHF, CH, None) to 'ch hh average consumption' (1 month of consumption, CH, None)>,\n",
       " Exchange: 20.890838725541876 CHF 'Detergents and cleaning products' (CHF, CH, None) to 'ch hh average consumption' (1 month of consumption, CH, None)>,\n",
       " Exchange: 1.248738295413303 CHF 'Cleaning articles' (CHF, CH, None) to 'ch hh average consumption' (1 month of consumption, CH, None)>,\n",
       " Exchange: 0.5318456337086404 CHF 'Plastic or paper refuse bags without fees' (CHF, CH, None) to 'ch hh average consumption' (1 month of consumption, CH, None)>,\n",
       " Exchange: 13.884252676168575 CHF 'Other non-durable household articles' (CHF, CH, None) to 'ch hh average consumption' (1 month of consumption, CH, None)>,\n",
       " Exchange: 17.751741403410715 CHF 'Domestic services and household services' (CHF, CH, None) to 'ch hh average consumption' (1 month of consumption, CH, None)>,\n",
       " Exchange: 40.82318804866054 CHF 'Medicines' (CHF, CH, None) to 'ch hh average consumption' (1 month of consumption, CH, None)>,\n",
       " Exchange: 28.147399336824595 CHF 'Glasses and contact lenses' (CHF, CH, None) to 'ch hh average consumption' (1 month of consumption, CH, None)>,\n",
       " Exchange: 7.969828314649688 CHF 'Medical products, therapeutic devices and products' (CHF, CH, None) to 'ch hh average consumption' (1 month of consumption, CH, None)>,\n",
       " Exchange: 208.08778506057706 CHF 'Medical services and hospital services' (CHF, CH, None) to 'ch hh average consumption' (1 month of consumption, CH, None)>,\n",
       " Exchange: 13.634015807265873 person kilometer 'Bicycles' (person kilometer, CH, None) to 'ch hh average consumption' (1 month of consumption, CH, None)>,\n",
       " Exchange: 121.32826405893321 litre 'Gasoline' (litre, CH, None) to 'ch hh average consumption' (1 month of consumption, CH, None)>,\n",
       " Exchange: 28.568768073990547 litre 'Diesel' (litre, CH, None) to 'ch hh average consumption' (1 month of consumption, CH, None)>,\n",
       " Exchange: 29.25912536195333 person kilometer 'Train, tickets and travelcards' (person kilometer, CH, None) to 'ch hh average consumption' (1 month of consumption, CH, None)>,\n",
       " Exchange: 2.1729234556318153 person kilometer 'Tram, tickets and travelcards' (person kilometer, CH, None) to 'ch hh average consumption' (1 month of consumption, CH, None)>,\n",
       " Exchange: 5.601754358819034 person kilometer 'Bus, tickets and travelcards' (person kilometer, CH, None) to 'ch hh average consumption' (1 month of consumption, CH, None)>,\n",
       " Exchange: 3.2842965203568975 CHF 'Taxi' (CHF, CH, None) to 'ch hh average consumption' (1 month of consumption, CH, None)>,\n",
       " Exchange: 32.708144499199136 CHF 'Air travels, tickets' (CHF, CH, None) to 'ch hh average consumption' (1 month of consumption, CH, None)>,\n",
       " Exchange: 5.050653694607338 CHF 'Passenger transport by sea and inland waterway' (CHF, CH, None) to 'ch hh average consumption' (1 month of consumption, CH, None)>,\n",
       " Exchange: 3.85326443718296 CHF 'Other purchased transport services' (CHF, CH, None) to 'ch hh average consumption' (1 month of consumption, CH, None)>,\n",
       " Exchange: 5.748700289925777 CHF 'Postal services' (CHF, CH, None) to 'ch hh average consumption' (1 month of consumption, CH, None)>,\n",
       " Exchange: 7.958197824416636 CHF 'Purchases and rent of telephones and telefax machines' (CHF, CH, None) to 'ch hh average consumption' (1 month of consumption, CH, None)>,\n",
       " Exchange: 67.44590363775642 CHF 'Fixed line' (CHF, CH, None) to 'ch hh average consumption' (1 month of consumption, CH, None)>,\n",
       " Exchange: 64.93191312080171 CHF 'Mobile telephony' (CHF, CH, None) to 'ch hh average consumption' (1 month of consumption, CH, None)>,\n",
       " Exchange: 29.978507512710415 CHF 'Services of internet providers' (CHF, CH, None) to 'ch hh average consumption' (1 month of consumption, CH, None)>,\n",
       " Exchange: 32.094214511327415 CHF 'Equipment for the reception, recording and reproduction of sound and pictures' (CHF, CH, None) to 'ch hh average consumption' (1 month of consumption, CH, None)>,\n",
       " Exchange: 8.862422136596102 CHF 'Photographic and cinematographic equipment and optical instruments' (CHF, CH, None) to 'ch hh average consumption' (1 month of consumption, CH, None)>,\n",
       " Exchange: 12.343027231153082 CHF 'Sound carriers, data carriers, videotapes and films' (CHF, CH, None) to 'ch hh average consumption' (1 month of consumption, CH, None)>,\n",
       " Exchange: 20.749242404664333 CHF 'Durable goods for recreation and sports' (CHF, CH, None) to 'ch hh average consumption' (1 month of consumption, CH, None)>,\n",
       " Exchange: 27.57496464259201 CHF 'Games, toys and hobbies' (CHF, CH, None) to 'ch hh average consumption' (1 month of consumption, CH, None)>,\n",
       " Exchange: 22.811272499420145 CHF 'Equipment for sports and camping' (CHF, CH, None) to 'ch hh average consumption' (1 month of consumption, CH, None)>,\n",
       " Exchange: 34.942967395562434 CHF 'Plants and other non-durable goods for gardening' (CHF, CH, None) to 'ch hh average consumption' (1 month of consumption, CH, None)>,\n",
       " Exchange: 21.55050572182478 CHF 'Pets and related products' (CHF, CH, None) to 'ch hh average consumption' (1 month of consumption, CH, None)>,\n",
       " Exchange: 14.896025020699147 CHF 'Veterinary and other services for pets' (CHF, CH, None) to 'ch hh average consumption' (1 month of consumption, CH, None)>,\n",
       " Exchange: 3.6942468355873763 CHF 'Entries in sports facilities' (CHF, CH, None) to 'ch hh average consumption' (1 month of consumption, CH, None)>,\n",
       " Exchange: 29.08872502880145 CHF 'Services of sports and recreational facilities, without ski lifts' (CHF, CH, None) to 'ch hh average consumption' (1 month of consumption, CH, None)>,\n",
       " Exchange: 12.638527552245398 CHF 'Tickets and season tickets for cable cars, including ski lifts' (CHF, CH, None) to 'ch hh average consumption' (1 month of consumption, CH, None)>,\n",
       " Exchange: 4.814888652665944 CHF 'Rent of sports and recreational goods' (CHF, CH, None) to 'ch hh average consumption' (1 month of consumption, CH, None)>,\n",
       " Exchange: 14.21549707678496 CHF 'Sports and crafting classes' (CHF, CH, None) to 'ch hh average consumption' (1 month of consumption, CH, None)>,\n",
       " Exchange: 13.57813646045108 CHF 'Music and dance classes' (CHF, CH, None) to 'ch hh average consumption' (1 month of consumption, CH, None)>,\n",
       " Exchange: 7.777877573205655 CHF 'Dues for sports clubs and associations' (CHF, CH, None) to 'ch hh average consumption' (1 month of consumption, CH, None)>,\n",
       " Exchange: 1.7111247545251098 CHF 'Dues for recreational associations' (CHF, CH, None) to 'ch hh average consumption' (1 month of consumption, CH, None)>,\n",
       " Exchange: 11.7777354858639 CHF 'Other leisure-time courses' (CHF, CH, None) to 'ch hh average consumption' (1 month of consumption, CH, None)>,\n",
       " Exchange: 19.453334372919343 CHF 'Theatre and concerts' (CHF, CH, None) to 'ch hh average consumption' (1 month of consumption, CH, None)>,\n",
       " Exchange: 5.009881045935443 CHF 'Cinema' (CHF, CH, None) to 'ch hh average consumption' (1 month of consumption, CH, None)>,\n",
       " Exchange: 5.050656400057359 CHF 'Museums, exhibitions, libraries, zoological gardens' (CHF, CH, None) to 'ch hh average consumption' (1 month of consumption, CH, None)>,\n",
       " Exchange: 34.96151682816863 CHF 'Fees for radio and TV reception' (CHF, CH, None) to 'ch hh average consumption' (1 month of consumption, CH, None)>,\n",
       " Exchange: 4.5557486036182215 CHF 'Subscriptions to private television' (CHF, CH, None) to 'ch hh average consumption' (1 month of consumption, CH, None)>,\n",
       " Exchange: 9.567895778645605 CHF 'Subscriptions to cable television' (CHF, CH, None) to 'ch hh average consumption' (1 month of consumption, CH, None)>,\n",
       " Exchange: 0.4340072281298643 CHF 'Rent for equipment and DVDs and CDs' (CHF, CH, None) to 'ch hh average consumption' (1 month of consumption, CH, None)>,\n",
       " Exchange: 1.8465712332676014 CHF 'Dues to cultural associations' (CHF, CH, None) to 'ch hh average consumption' (1 month of consumption, CH, None)>,\n",
       " Exchange: 6.12472801862304 CHF 'Other services in entertainment and culture' (CHF, CH, None) to 'ch hh average consumption' (1 month of consumption, CH, None)>,\n",
       " Exchange: 10.00266961912835 CHF 'Stakes' (CHF, CH, None) to 'ch hh average consumption' (1 month of consumption, CH, None)>,\n",
       " Exchange: 21.005433288633256 CHF 'Books and brochures' (CHF, CH, None) to 'ch hh average consumption' (1 month of consumption, CH, None)>,\n",
       " Exchange: 35.54693934777354 kilogram 'Newspapers and periodicals' (kilogram, CH, None) to 'ch hh average consumption' (1 month of consumption, CH, None)>,\n",
       " Exchange: 5.690613106985254 CHF 'Miscellaneous printed matter' (CHF, CH, None) to 'ch hh average consumption' (1 month of consumption, CH, None)>,\n",
       " Exchange: 9.373245723758371 CHF 'Writing and drawing materials' (CHF, CH, None) to 'ch hh average consumption' (1 month of consumption, CH, None)>,\n",
       " Exchange: 165.21959970392965 CHF 'Package holidays' (CHF, CH, None) to 'ch hh average consumption' (1 month of consumption, CH, None)>,\n",
       " Exchange: 40.80340660075785 CHF 'Education' (CHF, CH, None) to 'ch hh average consumption' (1 month of consumption, CH, None)>,\n",
       " Exchange: 3.3624820763075816 CHF 'Electrical appliances for personal care' (CHF, CH, None) to 'ch hh average consumption' (1 month of consumption, CH, None)>,\n",
       " Exchange: 4.897620728366518 CHF 'Non-electrical appliances for personal care' (CHF, CH, None) to 'ch hh average consumption' (1 month of consumption, CH, None)>,\n",
       " Exchange: 14.150847651912635 CHF 'Non-durable products of cotton and paper for personal care' (CHF, CH, None) to 'ch hh average consumption' (1 month of consumption, CH, None)>,\n",
       " Exchange: 4.6714405277311695 kilogram 'Soaps and foam baths' (kilogram, CH, None) to 'ch hh average consumption' (1 month of consumption, CH, None)>,\n",
       " Exchange: 7.232091790966683 CHF 'Hair care products' (CHF, CH, None) to 'ch hh average consumption' (1 month of consumption, CH, None)>,\n",
       " Exchange: 3.8393338723342363 CHF 'Dental care products' (CHF, CH, None) to 'ch hh average consumption' (1 month of consumption, CH, None)>,\n",
       " Exchange: 35.970180878024614 CHF 'Other products for personal care' (CHF, CH, None) to 'ch hh average consumption' (1 month of consumption, CH, None)>,\n",
       " Exchange: 57.722704410264335 CHF 'Services of hairdressers and beauty salons' (CHF, CH, None) to 'ch hh average consumption' (1 month of consumption, CH, None)>,\n",
       " Exchange: 25.372599217380163 CHF 'Jewellery, clocks and watches' (CHF, CH, None) to 'ch hh average consumption' (1 month of consumption, CH, None)>,\n",
       " Exchange: 13.103015225391268 CHF 'Luggage, leather and baby goods' (CHF, CH, None) to 'ch hh average consumption' (1 month of consumption, CH, None)>,\n",
       " Exchange: 2.554770619386237 CHF 'Other personal effects' (CHF, CH, None) to 'ch hh average consumption' (1 month of consumption, CH, None)>,\n",
       " Exchange: 23.469491541139615 CHF 'Social protection services' (CHF, CH, None) to 'ch hh average consumption' (1 month of consumption, CH, None)>,\n",
       " Exchange: 24.21240102985225 CHF 'Financial services' (CHF, CH, None) to 'ch hh average consumption' (1 month of consumption, CH, None)>,\n",
       " Exchange: 16.608545883451807 CHF 'Dues to organisations and associations' (CHF, CH, None) to 'ch hh average consumption' (1 month of consumption, CH, None)>,\n",
       " Exchange: 32.85963246256098 CHF 'Other services and losses relating to renting' (CHF, CH, None) to 'ch hh average consumption' (1 month of consumption, CH, None)>,\n",
       " Exchange: 287.5785218055231 CHF 'Premiums for life insurance' (CHF, CH, None) to 'ch hh average consumption' (1 month of consumption, CH, None)>]"
      ]
     },
     "execution_count": 35,
     "metadata": {},
     "output_type": "execute_result"
    }
   ],
   "source": [
    "list(consumption_average.exchanges())"
   ]
  },
  {
   "cell_type": "markdown",
   "metadata": {},
   "source": [
    "# Simple LCA"
   ]
  },
  {
   "cell_type": "code",
   "execution_count": 36,
   "metadata": {},
   "outputs": [],
   "source": [
    "import brightway2 as bw"
   ]
  },
  {
   "cell_type": "code",
   "execution_count": 37,
   "metadata": {},
   "outputs": [],
   "source": [
    "bw.projects.set_current('GSA for ecoinvent')"
   ]
  },
  {
   "cell_type": "code",
   "execution_count": 38,
   "metadata": {},
   "outputs": [],
   "source": [
    "co = bw.Database('CH consumption 1.0')"
   ]
  },
  {
   "cell_type": "code",
   "execution_count": 39,
   "metadata": {},
   "outputs": [],
   "source": [
    "consumption_average = co.search('average consumption')[0]"
   ]
  },
  {
   "cell_type": "code",
   "execution_count": 40,
   "metadata": {},
   "outputs": [],
   "source": [
    "# demand = {consumption_average: 1}\n",
    "demand = {consumption_average: 1}\n",
    "method = ('IPCC 2013', 'climate change', 'GTP 100a')"
   ]
  },
  {
   "cell_type": "code",
   "execution_count": 41,
   "metadata": {},
   "outputs": [
    {
     "name": "stdout",
     "output_type": "stream",
     "text": [
      "3112.3489740053456 kg CO2-Eq\n",
      "CPU times: user 2.12 s, sys: 80.4 ms, total: 2.2 s\n",
      "Wall time: 2.21 s\n"
     ]
    }
   ],
   "source": [
    "%%time\n",
    "lca = bw.LCA(demand, method)\n",
    "lca.lci()\n",
    "lca.lcia()\n",
    "print(str(lca.score) + ' ' + bw.Method(method).metadata['unit'])"
   ]
  },
  {
   "cell_type": "markdown",
   "metadata": {},
   "source": [
    "### Another exchange"
   ]
  },
  {
   "cell_type": "code",
   "execution_count": 42,
   "metadata": {},
   "outputs": [],
   "source": [
    "food = co.search('Ready-made foods')[0]"
   ]
  },
  {
   "cell_type": "code",
   "execution_count": 43,
   "metadata": {},
   "outputs": [
    {
     "name": "stdout",
     "output_type": "stream",
     "text": [
      "0.29370403056054556 kg CO2-Eq\n",
      "CPU times: user 384 ms, sys: 38 ms, total: 422 ms\n",
      "Wall time: 268 ms\n"
     ]
    }
   ],
   "source": [
    "%%time\n",
    "lca = bw.LCA({food: 1}, method)\n",
    "lca.lci()\n",
    "lca.lcia()\n",
    "print(str(lca.score) + ' ' + bw.Method(method).metadata['unit'])"
   ]
  },
  {
   "cell_type": "markdown",
   "metadata": {},
   "source": [
    "# ------------------------------------------ Part 4 ------------------------------------------"
   ]
  },
  {
   "cell_type": "markdown",
   "metadata": {},
   "source": [
    "# Add categories for all activities (in English)"
   ]
  },
  {
   "cell_type": "code",
   "execution_count": null,
   "metadata": {},
   "outputs": [],
   "source": [
    "import brightway2 as bw\n",
    "import numpy as np\n",
    "import pandas as pd\n",
    "import re"
   ]
  },
  {
   "cell_type": "code",
   "execution_count": null,
   "metadata": {},
   "outputs": [],
   "source": [
    "bw.projects.set_current('GSA for ecoinvent')"
   ]
  },
  {
   "cell_type": "code",
   "execution_count": null,
   "metadata": {},
   "outputs": [],
   "source": [
    "path = 'data/es8b01452_si_002.xlsx'\n",
    "sheet_name = 'Overview & LCA-Modeling'\n",
    "df_raw = pd.read_excel(path, sheet_name = sheet_name, header=2)"
   ]
  },
  {
   "cell_type": "code",
   "execution_count": null,
   "metadata": {},
   "outputs": [],
   "source": [
    "categories_col_de = 'Original name in Swiss household budget survey'\n",
    "categories_col_en = 'Translated name'\n",
    "categories_raw = df_raw[[categories_col_de, categories_col_en]]"
   ]
  },
  {
   "cell_type": "code",
   "execution_count": null,
   "metadata": {},
   "outputs": [],
   "source": [
    "categories_raw.values"
   ]
  },
  {
   "cell_type": "code",
   "execution_count": null,
   "metadata": {},
   "outputs": [],
   "source": [
    "categories = {}\n",
    "for v in categories_raw.values:\n",
    "    v_list_de = v[0].split(':')\n",
    "    v_list_en = v[1].split(':')\n",
    "    if len(v_list_de)>1 and len(v_list_de[0].split('.')) == 1:\n",
    "        categories[v_list_de[0]] = v_list_en[0]\n",
    "max_code_len = max({len(k) for k in categories.keys()})"
   ]
  },
  {
   "cell_type": "code",
   "execution_count": null,
   "metadata": {},
   "outputs": [],
   "source": [
    "co = bw.Database('CH consumption 1.0')"
   ]
  },
  {
   "cell_type": "code",
   "execution_count": null,
   "metadata": {},
   "outputs": [],
   "source": [
    "%%time\n",
    "category_names_dict = {\n",
    "    2: 'coarse',\n",
    "    3: 'middle',\n",
    "    4: 'fine',\n",
    "}\n",
    "for act in co:    \n",
    "    code = re.sub(r'[a-z]+', '', act['code'], re.I)[:max_code_len]\n",
    "    for i in range(2,max_code_len+1):\n",
    "        try:\n",
    "            category_name = 'category_' + category_names_dict[i]\n",
    "            act[category_name] = categories[code[:i]]\n",
    "            act.save()\n",
    "        except:\n",
    "            pass"
   ]
  },
  {
   "cell_type": "code",
   "execution_count": null,
   "metadata": {},
   "outputs": [],
   "source": [
    "co.random().as_dict()"
   ]
  },
  {
   "cell_type": "code",
   "execution_count": null,
   "metadata": {},
   "outputs": [],
   "source": []
  },
  {
   "cell_type": "markdown",
   "metadata": {},
   "source": [
    "# ------------------------------------------ Part 5 ------------------------------------------"
   ]
  },
  {
   "cell_type": "markdown",
   "metadata": {},
   "source": [
    "# Add sectors as separate activities\n",
    "## 1. Choose sectors"
   ]
  },
  {
   "cell_type": "code",
   "execution_count": null,
   "metadata": {},
   "outputs": [],
   "source": [
    "import brightway2 as bw\n",
    "import pandas as pd"
   ]
  },
  {
   "cell_type": "code",
   "execution_count": null,
   "metadata": {},
   "outputs": [],
   "source": [
    "bw.projects.set_current('GSA for ecoinvent')"
   ]
  },
  {
   "cell_type": "code",
   "execution_count": null,
   "metadata": {},
   "outputs": [],
   "source": [
    "co = bw.Database('CH consumption 1.0')"
   ]
  },
  {
   "cell_type": "code",
   "execution_count": null,
   "metadata": {},
   "outputs": [],
   "source": [
    "cat_option = 'category_coarse'\n",
    "\n",
    "cat_unique = []\n",
    "for act in co:\n",
    "    cat_unique.append(act.get(cat_option) or 0)\n",
    "cat_unique = list(set(cat_unique))\n",
    "\n",
    "category_activities = {}\n",
    "category_activities_len = {}\n",
    "for cat_of_interest in cat_unique: \n",
    "    list_ = []\n",
    "    for act in co:\n",
    "        if act.get(cat_option) == cat_of_interest:\n",
    "            list_.append(act)\n",
    "    if len(list_) > 0:\n",
    "        category_activities[cat_of_interest] = list_\n",
    "        category_activities_len[cat_of_interest] = len(list_)"
   ]
  },
  {
   "cell_type": "code",
   "execution_count": null,
   "metadata": {},
   "outputs": [],
   "source": [
    "dict_ = {}\n",
    "for cat_of_interest, activities in category_activities.items():\n",
    "        \n",
    "    excs_input_ag  = []\n",
    "    excs_input_ex  = []\n",
    "    excs_input_ec  = []\n",
    "\n",
    "    for act in activities:\n",
    "        for exc in act.exchanges():\n",
    "            if 'Agribalyse' in exc.input['database']:\n",
    "                excs_input_ag.append(exc.input)\n",
    "            elif 'EXIOBASE' in exc.input['database']:\n",
    "                excs_input_ex.append(exc.input)\n",
    "            elif 'ecoinvent 3.6 cutoff' == exc.input['database']:\n",
    "                excs_input_ec.append(exc.input)\n",
    "                \n",
    "    dict_[cat_of_interest] = dict(\n",
    "        n_activities = len(activities),\n",
    "        n_agribalyse_exchanges = len(excs_input_ag), \n",
    "        n_exiobase_exchanges   = len(excs_input_ex), \n",
    "        n_ecoinvent_exchanges  = len(excs_input_ec), \n",
    "    )\n",
    "        "
   ]
  },
  {
   "cell_type": "code",
   "execution_count": null,
   "metadata": {},
   "outputs": [],
   "source": [
    "df = pd.DataFrame.from_dict(dict_).T"
   ]
  },
  {
   "cell_type": "code",
   "execution_count": null,
   "metadata": {},
   "outputs": [],
   "source": [
    "category_activities_len"
   ]
  },
  {
   "cell_type": "markdown",
   "metadata": {},
   "source": [
    "## 2. Add sectors"
   ]
  },
  {
   "cell_type": "code",
   "execution_count": null,
   "metadata": {},
   "outputs": [],
   "source": [
    "demand_act = [act for act in co if 'average' in act['name']][0]\n",
    "demand_act"
   ]
  },
  {
   "cell_type": "code",
   "execution_count": null,
   "metadata": {},
   "outputs": [],
   "source": [
    "for cat_of_interest in category_activities:\n",
    "    # Create new bw activity with a specific name\n",
    "    try: co.get(cat_of_interest).delete()\n",
    "    except: pass\n",
    "    new_act = co.new_activity(cat_of_interest, \n",
    "                              name=cat_of_interest, \n",
    "                              location='CH', \n",
    "                              unit='1 month of consumption',\n",
    "                              comment='Average consumption of one household',\n",
    "                             )\n",
    "    new_act.save()\n",
    "    \n",
    "    # Add production exchange\n",
    "    new_act.new_exchange(\n",
    "        input = (new_act['database'], new_act['code']),\n",
    "        amount = 1,\n",
    "        type = 'production'\n",
    "    ).save()\n",
    "    \n",
    "    for exc in demand_act.exchanges():\n",
    "        if exc.input.get('category_coarse')==cat_of_interest:\n",
    "            new_act.new_exchange(\n",
    "                input  = (exc.input['database'], exc.input['code']),\n",
    "                amount = exc.amount,\n",
    "                type   = 'technosphere'\n",
    "            ).save()\n"
   ]
  },
  {
   "cell_type": "markdown",
   "metadata": {},
   "source": [
    "## 3. Contribution analysis for sectors"
   ]
  },
  {
   "cell_type": "code",
   "execution_count": null,
   "metadata": {},
   "outputs": [],
   "source": [
    "list_methods = [('IPCC 2013', 'climate change', 'GTP 100a')]\n",
    "list_fus = []\n",
    "for cat_of_interest in category_activities:\n",
    "    list_fus.append({co.search(cat_of_interest)[0]: 1})"
   ]
  },
  {
   "cell_type": "code",
   "execution_count": null,
   "metadata": {},
   "outputs": [],
   "source": [
    "bw.calculation_setups['sector_contribution_analysis'] = {'inv':list_fus, 'ia':list_methods}"
   ]
  },
  {
   "cell_type": "code",
   "execution_count": null,
   "metadata": {},
   "outputs": [],
   "source": [
    "%%time\n",
    "myMultiLCA = bw.MultiLCA('sector_contribution_analysis')"
   ]
  },
  {
   "cell_type": "code",
   "execution_count": null,
   "metadata": {},
   "outputs": [],
   "source": [
    "lcia_unit = bw.Method(list_methods[0]).metadata['unit']\n",
    "\n",
    "fus = [bw.get_activity(list(el.keys())[0])['name'][:25] for el in list_fus]\n",
    "df = pd.DataFrame(index=fus, columns=[lcia_unit], data=myMultiLCA.results)\n",
    "df['units'] = [bw.get_activity(list(el.keys())[0])['unit'] for el in list_fus]"
   ]
  },
  {
   "cell_type": "code",
   "execution_count": null,
   "metadata": {},
   "outputs": [],
   "source": [
    "df.sort_values(lcia_unit, ascending=False, inplace=True)"
   ]
  },
  {
   "cell_type": "code",
   "execution_count": null,
   "metadata": {},
   "outputs": [],
   "source": [
    "with pd.option_context('display.max_rows', None, 'display.max_columns', None):  # more options can be specified also\n",
    "    print(df)"
   ]
  },
  {
   "cell_type": "code",
   "execution_count": null,
   "metadata": {},
   "outputs": [],
   "source": []
  },
  {
   "cell_type": "code",
   "execution_count": null,
   "metadata": {},
   "outputs": [],
   "source": []
  },
  {
   "cell_type": "code",
   "execution_count": null,
   "metadata": {},
   "outputs": [],
   "source": []
  },
  {
   "cell_type": "code",
   "execution_count": null,
   "metadata": {},
   "outputs": [],
   "source": []
  },
  {
   "cell_type": "code",
   "execution_count": null,
   "metadata": {},
   "outputs": [],
   "source": []
  },
  {
   "cell_type": "code",
   "execution_count": null,
   "metadata": {},
   "outputs": [],
   "source": []
  }
 ],
 "metadata": {
  "kernelspec": {
   "display_name": "Python [conda env:bw]",
   "language": "python",
   "name": "conda-env-bw-py"
  },
  "language_info": {
   "codemirror_mode": {
    "name": "ipython",
    "version": 3
   },
   "file_extension": ".py",
   "mimetype": "text/x-python",
   "name": "python",
   "nbconvert_exporter": "python",
   "pygments_lexer": "ipython3",
   "version": "3.8.3"
  },
  "varInspector": {
   "cols": {
    "lenName": 16,
    "lenType": 16,
    "lenVar": 40
   },
   "kernels_config": {
    "python": {
     "delete_cmd_postfix": "",
     "delete_cmd_prefix": "del ",
     "library": "var_list.py",
     "varRefreshCmd": "print(var_dic_list())"
    },
    "r": {
     "delete_cmd_postfix": ") ",
     "delete_cmd_prefix": "rm(",
     "library": "var_list.r",
     "varRefreshCmd": "cat(var_dic_list()) "
    }
   },
   "types_to_exclude": [
    "module",
    "function",
    "builtin_function_or_method",
    "instance",
    "_Feature"
   ],
   "window_display": false
  }
 },
 "nbformat": 4,
 "nbformat_minor": 2
}
