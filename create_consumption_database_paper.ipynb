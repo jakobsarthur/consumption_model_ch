{
 "cells": [
  {
   "cell_type": "markdown",
   "metadata": {},
   "source": [
    "# Comments to the following code\n",
    "> - #### Parts 1 and 2 can be run separately\n",
    "> - #### Raw data: Excel sheet can be obtained from https://doi.org/10.1021/acs.est.8b01452\n",
    "> - #### Terms `exchange` and `input activity` are used interchangeably\n",
    "> - #### Only take ecoinvent inventories for the paper\n",
    "> - #### Demand would be one of the sectors in the "
   ]
  },
  {
   "cell_type": "markdown",
   "metadata": {},
   "source": [
    "# ------------------------------------------ Part 1 ------------------------------------------"
   ]
  },
  {
   "cell_type": "code",
   "execution_count": 1,
   "metadata": {},
   "outputs": [],
   "source": [
    "import pandas as pd\n",
    "import numpy as np\n",
    "from copy import copy, deepcopy\n",
    "import os, json\n",
    "import re\n",
    "import brightway2 as bw\n",
    "\n",
    "# Local files\n",
    "from utils_consumption_db import *"
   ]
  },
  {
   "cell_type": "markdown",
   "metadata": {},
   "source": [
    "# Convert data to brightway database format -> Additional functions"
   ]
  },
  {
   "cell_type": "code",
   "execution_count": 2,
   "metadata": {},
   "outputs": [],
   "source": [
    "def append_ecoinvent_exchange(df, df_ind_j, ConversionDem2FU):\n",
    "    '''\n",
    "    Extract information about one input activity, eg name, unit, location, etc and append it to the dataframe df.\n",
    "    '''    \n",
    "    # Extract the activity number\n",
    "    k = int(''.join(c for c in df_ind_j.index[0] if c.isdigit()))\n",
    "    # Extract information about activity and save it\n",
    "    input_act_str = df_ind_j['DB Act ' + str(k)]\n",
    "    input_act_db_code = df_ind_j['Activity ' + str(k)]\n",
    "    \n",
    "    # Find this input activity in brightway databases\n",
    "    db_name = input_act_db_code.split(\"'\")[1]\n",
    "    \n",
    "    # Only include ecoinvent exchanges\n",
    "    dbs_no_list = ['agribalyse', 'exiobase', 'heia']\n",
    "    for db_no in dbs_no_list:\n",
    "        if db_no in db_name.lower():\n",
    "            return df\n",
    "        \n",
    "    code = input_act_db_code.split(\"'\")[3]\n",
    "    input_act_db_code_tuple = (db_name, code)\n",
    "    \n",
    "    # Compute amount\n",
    "    input_act_amount = df_ind_j['On ' + str(k)] \\\n",
    "                     * df_ind_j['Amount Act ' + str(k)] \\\n",
    "                     * df_ind_j['CFL Act ' + str(k)] \\\n",
    "                     * ConversionDem2FU\n",
    "    \n",
    "    try:\n",
    "        # Find activity in the ecoinvent 3.3 cutoff using bw functionality\n",
    "        current_project = deepcopy(bw.projects.current)\n",
    "        bw.projects.set_current('ecoinvent 3.3 cutoff') # Temporarily switch to ecoinvent 3.3 project\n",
    "        act_bw = bw.get_activity(input_act_db_code_tuple)\n",
    "        bw.projects.set_current(current_project)\n",
    "        input_act_values_dict = create_input_act_dict(act_bw, input_act_amount)\n",
    "        \n",
    "    except:\n",
    "        # If bw.get_activity does not work for whichever reason, fill info manually\n",
    "        input_act_values_dict = bw_get_activity_info_manually(input_act_str, db_name, input_act_amount)\n",
    "        \n",
    "    # Add exchange to the dataframe with database in brightway format\n",
    "    df = append_exchanges_in_correct_columns(df, input_act_values_dict)\n",
    "    \n",
    "    return df"
   ]
  },
  {
   "cell_type": "markdown",
   "metadata": {},
   "source": [
    "# Convert data to brightway database format -> main code\n",
    "calls all the functions used above"
   ]
  },
  {
   "cell_type": "code",
   "execution_count": 3,
   "metadata": {},
   "outputs": [],
   "source": [
    "with open('global_settings.json', 'rb') as f:\n",
    "    settings = json.load(f)\n",
    "which_pc = settings['which_pc']"
   ]
  },
  {
   "cell_type": "code",
   "execution_count": 4,
   "metadata": {},
   "outputs": [
    {
     "name": "stdout",
     "output_type": "stream",
     "text": [
      "Creating default biosphere\n",
      "\n"
     ]
    },
    {
     "name": "stderr",
     "output_type": "stream",
     "text": [
      "Writing activities to SQLite3 database:\n"
     ]
    },
    {
     "name": "stdout",
     "output_type": "stream",
     "text": [
      "Applying strategy: normalize_units\n",
      "Applying strategy: drop_unspecified_subcategories\n",
      "Applied 2 strategies in 0.00 seconds\n"
     ]
    },
    {
     "name": "stderr",
     "output_type": "stream",
     "text": [
      "0% [##############################] 100% | ETA: 00:00:00\n",
      "Total time elapsed: 00:00:00\n"
     ]
    },
    {
     "name": "stdout",
     "output_type": "stream",
     "text": [
      "Title: Writing activities to SQLite3 database:\n",
      "  Started: 06/10/2020 13:09:19\n",
      "  Finished: 06/10/2020 13:09:20\n",
      "  Total time elapsed: 00:00:00\n",
      "  CPU %: 49.20\n",
      "  Memory %: 0.04\n",
      "Created database: biosphere3\n",
      "Creating default LCIA methods\n",
      "\n",
      "Applying strategy: normalize_units\n",
      "Applying strategy: set_biosphere_type\n",
      "Applying strategy: drop_unspecified_subcategories\n",
      "Applying strategy: link_iterable_by_fields\n",
      "Applied 4 strategies in 1.25 seconds\n",
      "Wrote 850 LCIA methods with 219059 characterization factors\n",
      "Creating core data migrations\n",
      "\n",
      "Extracting XML data from 13831 datasets\n",
      "Extracted 13831 datasets in 65.39 seconds\n",
      "Applying strategy: normalize_units\n",
      "Applying strategy: update_ecoinvent_locations\n",
      "Applying strategy: remove_zero_amount_coproducts\n",
      "Applying strategy: remove_zero_amount_inputs_with_no_activity\n",
      "Applying strategy: remove_unnamed_parameters\n",
      "Applying strategy: es2_assign_only_product_with_amount_as_reference_product\n",
      "Applying strategy: assign_single_product_as_activity\n",
      "Applying strategy: create_composite_code\n",
      "Applying strategy: drop_unspecified_subcategories\n",
      "Applying strategy: fix_ecoinvent_flows_pre35\n",
      "Applying strategy: drop_temporary_outdated_biosphere_flows\n",
      "Applying strategy: link_biosphere_by_flow_uuid\n",
      "Applying strategy: link_internal_technosphere_by_composite_code\n",
      "Applying strategy: delete_exchanges_missing_activity\n",
      "Applying strategy: delete_ghost_exchanges\n",
      "Applying strategy: remove_uncertainty_from_negative_loss_exchanges\n",
      "Applying strategy: fix_unreasonably_high_lognormal_uncertainties\n",
      "Applying strategy: set_lognormal_loc_value\n",
      "Applying strategy: convert_activity_parameters_to_list\n",
      "Applying strategy: add_cpc_classification_from_single_reference_product\n",
      "Applied 20 strategies in 5.33 seconds\n",
      "Applying strategy: link_iterable_by_fields\n"
     ]
    },
    {
     "name": "stderr",
     "output_type": "stream",
     "text": [
      "Writing activities to SQLite3 database:\n"
     ]
    },
    {
     "name": "stdout",
     "output_type": "stream",
     "text": [
      "13831 datasets\n",
      "501148 exchanges\n",
      "0 unlinked exchanges\n",
      "  \n"
     ]
    },
    {
     "name": "stderr",
     "output_type": "stream",
     "text": [
      "0% [##############################] 100% | ETA: 00:00:00\n",
      "Total time elapsed: 00:00:58\n"
     ]
    },
    {
     "name": "stdout",
     "output_type": "stream",
     "text": [
      "Title: Writing activities to SQLite3 database:\n",
      "  Started: 06/10/2020 13:11:49\n",
      "  Finished: 06/10/2020 13:12:48\n",
      "  Total time elapsed: 00:00:58\n",
      "  CPU %: 47.70\n",
      "  Memory %: 0.32\n",
      "Created database: ecoinvent 3.3 cutoff\n",
      "CPU times: user 2min 43s, sys: 21 s, total: 3min 4s\n",
      "Wall time: 7min 4s\n"
     ]
    }
   ],
   "source": [
    "%%time\n",
    "# 0. Set relevant paths\n",
    "if which_pc == 'local':\n",
    "    path_habe = '/Users/akim/Documents/LCA_files/HABE_2017/'\n",
    "    ei33_path = '/Users/akim/Documents/LCA_files/ecoinvent 3.3 cutoff/datasets'  \n",
    "elif which_pc == 'merlin':\n",
    "    path_habe = '/data/user/kim_a/LCA_files/HABE_2017'\n",
    "    ei33_path = '/data/user/kim_a/LCA_files/ecoinvent_33_cutoff/datasets'  \n",
    "    \n",
    "# 1. Create project with ecoinvent 3.3 cutoff only. \n",
    "# This is needed because Andi's activities were given as ecoinvent 3.3 cutoff codes\n",
    "create_ecoinvent_33_project(ei33_path)\n",
    "\n",
    "# Start brightway project that already contains databases\n",
    "project = 'GSA for paper'\n",
    "bw.projects.set_current(project)\n",
    "\n",
    "# Create dataframe that will be our consumption database after we add activities and exchanges from the raw file\n",
    "df_bw = create_df_bw(CONSUMPTION_DB_NAME)\n",
    "\n",
    "# Read data from Andi's consumption database\n",
    "path = 'data/es8b01452_si_002.xlsx'\n",
    "sheet_name = 'Overview & LCA-Modeling'\n",
    "df_raw = pd.read_excel(path, sheet_name = sheet_name, header=2)\n",
    "\n",
    "# Read data from HABE\n",
    "year = '091011' #121314 or 151617\n",
    "code_unit = get_units_habe(path_habe, year)\n",
    "\n",
    "# Add ON columns\n",
    "df = complete_columns(df_raw)\n",
    "\n",
    "act_indices = df_raw.index[df_raw['ConversionDem2FU'].notna()].tolist() # indices of all activities\n",
    "\n",
    "sector_codes = ['a51', 'a52'] # Food and non-alcoholic beverages\n",
    "for ind in act_indices:\n",
    "    # For each row\n",
    "    df_ind = df_raw.iloc[ind]\n",
    "    df_ind = df_ind[df_ind.notna()]\n",
    "    \n",
    "    if df_ind['Variable code'][:3] in sector_codes:\n",
    "        # Add activity\n",
    "        df_bw, df_act = append_activity(df_bw, df_ind[:N_ACT_RELEVANT], code_unit) # only pass columns relevant to this function\n",
    "        # Add exchanges\n",
    "        df_bw = append_exchanges(df_bw, df_ind, df_act, append_one_exchange=append_ecoinvent_exchange)"
   ]
  },
  {
   "cell_type": "code",
   "execution_count": 5,
   "metadata": {},
   "outputs": [],
   "source": [
    "# Write the dataframe to excel file\n",
    "write_dir_name = 'write_files'\n",
    "if not os.path.exists(write_dir_name):\n",
    "    os.mkdir(write_dir_name)\n",
    "db_bw_path = write_dir_name + '/' + 'consumption_db_paper.xlsx'\n",
    "df_bw.to_excel(db_bw_path, index=False, header=False)"
   ]
  },
  {
   "cell_type": "markdown",
   "metadata": {},
   "source": [
    "# ------------------------------------------ Part 2 ------------------------------------------"
   ]
  },
  {
   "cell_type": "code",
   "execution_count": 6,
   "metadata": {},
   "outputs": [],
   "source": [
    "import pandas as pd\n",
    "import numpy as np\n",
    "import brightway2 as bw\n",
    "import string\n",
    "from copy import copy, deepcopy\n",
    "\n",
    "# Local files\n",
    "from utils import *\n",
    "from utils_consumption_db import *"
   ]
  },
  {
   "cell_type": "markdown",
   "metadata": {},
   "source": [
    "# Constants"
   ]
  },
  {
   "cell_type": "code",
   "execution_count": 7,
   "metadata": {},
   "outputs": [],
   "source": [
    "DB_COLUMN = 'F'\n",
    "CONSUMPTION_DB_NAME = 'CH consumption 1.0'"
   ]
  },
  {
   "cell_type": "markdown",
   "metadata": {},
   "source": [
    "# Replace names of old databases with the new ones in the consumption database excel file"
   ]
  },
  {
   "cell_type": "code",
   "execution_count": 8,
   "metadata": {},
   "outputs": [],
   "source": [
    "def update_all_db(df):\n",
    "    '''\n",
    "    Update all databases in the consumption database\n",
    "    '''\n",
    "    db_old_list = ['ecoinvent 3.3 cutoff']\n",
    "    db_new_list = ['ecoinvent 3.6 cutoff']\n",
    "    \n",
    "    assert len(db_old_list) == len(db_new_list)\n",
    "    \n",
    "    for i in range(len(db_old_list)):\n",
    "        df = replace_one_db(df, db_old_list[i], db_new_list[i])\n",
    "        \n",
    "    return df"
   ]
  },
  {
   "cell_type": "code",
   "execution_count": 9,
   "metadata": {},
   "outputs": [],
   "source": [
    "# Main code\n",
    "project = 'GSA for paper'\n",
    "bw.projects.set_current(project)\n",
    "\n",
    "# Read consumption database\n",
    "path = 'write_files/consumption_db_paper.xlsx'\n",
    "df = pd.read_excel(path, header = None)\n",
    "df.columns = list(string.ascii_uppercase[:len(df.columns)])\n",
    "# \n",
    "# Replace\n",
    "df = update_all_db(df)\n",
    "path_new_db = 'write_files/consumption_db_paper_updated.xlsx'\n",
    "df.to_excel(path_new_db, index=False, header=False)"
   ]
  },
  {
   "cell_type": "markdown",
   "metadata": {},
   "source": [
    "# Import consumption database linked to older versions of other databases"
   ]
  },
  {
   "cell_type": "markdown",
   "metadata": {},
   "source": [
    "# 1. Ecoinvent 3.6"
   ]
  },
  {
   "cell_type": "markdown",
   "metadata": {},
   "source": [
    "### TODO Chris -> please check migrations"
   ]
  },
  {
   "cell_type": "code",
   "execution_count": 10,
   "metadata": {
    "scrolled": true
   },
   "outputs": [],
   "source": [
    "if CONSUMPTION_DB_NAME in bw.databases:\n",
    "    del bw.databases[CONSUMPTION_DB_NAME]"
   ]
  },
  {
   "cell_type": "code",
   "execution_count": 11,
   "metadata": {},
   "outputs": [
    {
     "name": "stdout",
     "output_type": "stream",
     "text": [
      "Extracted 1 worksheets in 0.06 seconds\n",
      "Applying strategy: csv_restore_tuples\n",
      "Applying strategy: csv_restore_booleans\n",
      "Applying strategy: csv_numerize\n",
      "Applying strategy: csv_drop_unknown\n",
      "Applying strategy: csv_add_missing_exchanges_section\n",
      "Applying strategy: normalize_units\n",
      "Applying strategy: normalize_biosphere_categories\n",
      "Applying strategy: normalize_biosphere_names\n",
      "Applying strategy: strip_biosphere_exc_locations\n",
      "Applying strategy: set_code_by_activity_hash\n",
      "Applying strategy: link_iterable_by_fields\n",
      "Applying strategy: assign_only_product_as_production\n",
      "Applying strategy: link_technosphere_by_activity_hash\n",
      "Applying strategy: drop_falsey_uncertainty_fields_but_keep_zeros\n",
      "Applying strategy: convert_uncertainty_types_to_integers\n",
      "Applying strategy: convert_activity_parameters_to_list\n",
      "Applied 16 strategies in 0.54 seconds\n",
      "Applying strategy: link_iterable_by_fields\n",
      "Applying strategy: link_iterable_by_fields\n",
      "89 datasets\n",
      "658 exchanges\n",
      "95 unlinked exchanges\n",
      "  Type technosphere: 11 unique unlinked exchanges\n"
     ]
    },
    {
     "data": {
      "text/plain": [
       "(89, 658, 95)"
      ]
     },
     "execution_count": 11,
     "metadata": {},
     "output_type": "execute_result"
    }
   ],
   "source": [
    "co = bw.ExcelImporter(path_new_db)\n",
    "co.apply_strategies()\n",
    "co.match_database('ecoinvent 3.6 cutoff', fields=('name', 'reference product', 'unit','location','categories'))\n",
    "co.match_database('ecoinvent 3.6 cutoff', fields=('name', 'unit','location','categories'))\n",
    "co.statistics()"
   ]
  },
  {
   "cell_type": "code",
   "execution_count": 12,
   "metadata": {},
   "outputs": [],
   "source": [
    "# Define a migration for two particular activities that can only be hardcoded\n",
    "ecoinvent36_change_names_data = {\n",
    "    'fields': ['name', ],\n",
    "    'data': [\n",
    "        (\n",
    "            ['steam production in chemical industry'], \n",
    "            {\n",
    "                'name': 'steam production, in chemical industry',\n",
    "                'reference product': 'steam, in chemical industry',\n",
    "                'unit': 'kilogram',\n",
    "                'multiplier': 1/2.75, # see comment on this activity in ecoinvent\n",
    "            }\n",
    "        ),\n",
    "        (\n",
    "            ['market for green bell pepper'],\n",
    "            {\n",
    "                'name': 'market for bell pepper',\n",
    "                'reference product': 'bell pepper',\n",
    "            }\n",
    "        ),\n",
    "    ]\n",
    "}\n",
    "\n",
    "bw.Migration(\"ecoinvent36-change-names\").write(\n",
    "    ecoinvent36_change_names_data,\n",
    "    description=\"Change names of some activities\"\n",
    ")"
   ]
  },
  {
   "cell_type": "code",
   "execution_count": 13,
   "metadata": {},
   "outputs": [],
   "source": [
    "# Define a migration for rice production and specific locations\n",
    "# These locations have only non-basmati rice production\n",
    "ecoinvent36_rice_production_data = {\n",
    "    'fields': ['name', 'location'],\n",
    "    'data': [\n",
    "        (\n",
    "            ['rice production', 'US'],\n",
    "            {\n",
    "                'name': 'rice production, non-basmati',\n",
    "                'reference product': 'rice, non-basmati'\n",
    "            }\n",
    "        ),\n",
    "        (\n",
    "            ['rice production', 'CN'],\n",
    "            {\n",
    "                'name': 'rice production, non-basmati',\n",
    "                'reference product': 'rice, non-basmati'\n",
    "            }\n",
    "        ),\n",
    "    ]\n",
    "}\n",
    "\n",
    "bw.Migration(\"ecoinvent36-rice-production\").write(\n",
    "    ecoinvent36_rice_production_data,\n",
    "    description=\"Change names of some activities\"\n",
    ")"
   ]
  },
  {
   "cell_type": "code",
   "execution_count": 14,
   "metadata": {},
   "outputs": [
    {
     "name": "stdout",
     "output_type": "stream",
     "text": [
      "Applying strategy: migrate_datasets\n",
      "Applying strategy: migrate_exchanges\n",
      "Applying strategy: migrate_datasets\n",
      "Applying strategy: migrate_exchanges\n",
      "Applying strategy: link_iterable_by_fields\n",
      "89 datasets\n",
      "658 exchanges\n",
      "26 unlinked exchanges\n",
      "  Type technosphere: 7 unique unlinked exchanges\n"
     ]
    },
    {
     "data": {
      "text/plain": [
       "(89, 658, 26)"
      ]
     },
     "execution_count": 14,
     "metadata": {},
     "output_type": "execute_result"
    }
   ],
   "source": [
    "co.migrate('ecoinvent36-change-names')\n",
    "co.migrate(\"ecoinvent36-rice-production\")\n",
    "co.match_database('ecoinvent 3.6 cutoff', fields=('name','reference product', 'unit','location','categories'))\n",
    "co.statistics()"
   ]
  },
  {
   "cell_type": "markdown",
   "metadata": {},
   "source": [
    "The rest of the unlinked exchanges are not uniquely defined in ecoinvent 3.6 -> 1-to-multiple mapping. <br>\n",
    "For example 'rice production' is now divided into basmati and non-basmati rice. <br>\n",
    "Hence, we split them based on their shares in the production volumes."
   ]
  },
  {
   "cell_type": "code",
   "execution_count": 15,
   "metadata": {},
   "outputs": [],
   "source": [
    "# Manually choose which ecoinvent 3.6 exchanges should be taken for each unlinked exchange\n",
    "ei36 = bw.Database('ecoinvent 3.6 cutoff')\n",
    "mapping = [\n",
    "    {('market for rice', 'GLO'): \n",
    "        [act['code'] for act in ei36 if  'market for rice' in act['name'] \n",
    "                                     and act['location']=='GLO'\n",
    "                                     and 'seed' not in act['name']]},\n",
    "    \n",
    "    {('rice production', 'RoW'): \n",
    "        [act['code'] for act in ei36 if  'rice production' in act['name'] \n",
    "                                     and act['location']=='RoW'\n",
    "                                     and 'straw' not in act['reference product']]},\n",
    "    \n",
    "    {('rice production', 'IN'): \n",
    "        [act['code'] for act in ei36 if  'rice production' in act['name'] \n",
    "                                     and act['location']=='IN'\n",
    "                                     and 'straw' not in act['reference product']]},\n",
    "    \n",
    "    {('market for wheat grain', 'GLO'): \n",
    "        [act['code'] for act in ei36 if  'market for wheat grain' in act['name'] \n",
    "                                     and 'feed' not in act['name']]},\n",
    "    \n",
    "    {('market for maize grain', 'GLO'): \n",
    "        [act['code'] for act in ei36 if  'market for maize grain' in act['name'] \n",
    "                                     and 'feed' not in act['name']]},\n",
    "    \n",
    "    {('market for mandarin', 'GLO'): \n",
    "        [act['code'] for act in ei36 if 'market for mandarin' in act['name']]},\n",
    "    \n",
    "    {('market for soybean', 'GLO'): \n",
    "        [act['code'] for act in ei36 if 'market for soybean' in act['name'] \n",
    "                             and all([_ not in act['name'] for _ in ['meal','beverage','seed','feed','oil']] )]},\n",
    "]"
   ]
  },
  {
   "cell_type": "code",
   "execution_count": 16,
   "metadata": {},
   "outputs": [],
   "source": [
    "ei_name = 'ecoinvent 3.6 cutoff'"
   ]
  },
  {
   "cell_type": "code",
   "execution_count": 17,
   "metadata": {},
   "outputs": [
    {
     "name": "stdout",
     "output_type": "stream",
     "text": [
      "Applying strategy: link_iterable_by_fields\n",
      "89 datasets\n",
      "719 exchanges\n",
      "0 unlinked exchanges\n",
      "  \n"
     ]
    },
    {
     "data": {
      "text/plain": [
       "(89, 719, 0)"
      ]
     },
     "execution_count": 17,
     "metadata": {},
     "output_type": "execute_result"
    }
   ],
   "source": [
    "co = modify_exchanges(co, mapping, 'ecoinvent 3.6 cutoff')\n",
    "co.statistics()"
   ]
  },
  {
   "cell_type": "code",
   "execution_count": 18,
   "metadata": {},
   "outputs": [
    {
     "name": "stderr",
     "output_type": "stream",
     "text": [
      "Writing activities to SQLite3 database:\n",
      "0% [##############################] 100% | ETA: 00:00:00\n",
      "Total time elapsed: 00:00:02\n"
     ]
    },
    {
     "name": "stdout",
     "output_type": "stream",
     "text": [
      "Title: Writing activities to SQLite3 database:\n",
      "  Started: 06/10/2020 13:36:24\n",
      "  Finished: 06/10/2020 13:36:27\n",
      "  Total time elapsed: 00:00:02\n",
      "  CPU %: 3.20\n",
      "  Memory %: 0.12\n",
      "Created database: CH consumption 1.0\n"
     ]
    }
   ],
   "source": [
    "if CONSUMPTION_DB_NAME in bw.databases:\n",
    "    print(CONSUMPTION_DB_NAME + \" database already present!!! No import is needed\")\n",
    "else:\n",
    "    co.write_database()"
   ]
  },
  {
   "cell_type": "code",
   "execution_count": 19,
   "metadata": {},
   "outputs": [
    {
     "data": {
      "text/plain": [
       "Databases dictionary with 3 object(s):\n",
       "\tCH consumption 1.0\n",
       "\tbiosphere3\n",
       "\tecoinvent 3.6 cutoff"
      ]
     },
     "execution_count": 19,
     "metadata": {},
     "output_type": "execute_result"
    }
   ],
   "source": [
    "bw.databases"
   ]
  },
  {
   "cell_type": "code",
   "execution_count": null,
   "metadata": {},
   "outputs": [],
   "source": []
  },
  {
   "cell_type": "markdown",
   "metadata": {},
   "source": [
    "# ------------------------------------------ Part 3 ------------------------------------------"
   ]
  },
  {
   "cell_type": "code",
   "execution_count": 20,
   "metadata": {},
   "outputs": [],
   "source": [
    "import brightway2 as bw\n",
    "import numpy as np\n",
    "import pandas as pd\n",
    "import os"
   ]
  },
  {
   "cell_type": "markdown",
   "metadata": {},
   "source": [
    "# Add consumption activity for all households"
   ]
  },
  {
   "cell_type": "markdown",
   "metadata": {},
   "source": [
    "## 1. Extract total demand from HABE"
   ]
  },
  {
   "cell_type": "code",
   "execution_count": 21,
   "metadata": {},
   "outputs": [],
   "source": [
    "with open('global_settings.json', 'rb') as f:\n",
    "    settings = json.load(f)\n",
    "which_pc = settings['which_pc']"
   ]
  },
  {
   "cell_type": "code",
   "execution_count": 22,
   "metadata": {},
   "outputs": [],
   "source": [
    "if which_pc == 'local':\n",
    "    path = '/Users/akim/Documents/LCA_files/HABE_2017/'\n",
    "elif which_pc == 'merlin':\n",
    "    path = '/data/user/kim_a/LCA_files/HABE_2017'\n",
    "    \n",
    "year = '091011' #11, 14 or 17\n",
    "get_path = lambda which_file: os.path.join( path, [f for f in os.listdir(path) if year in f and which_file in f][0] )\n",
    "path_beschrei = get_path('Datenbeschreibung')\n",
    "path_ausgaben = get_path('Ausgaben')"
   ]
  },
  {
   "cell_type": "code",
   "execution_count": 23,
   "metadata": {},
   "outputs": [],
   "source": [
    "# change codes to be consistent with consumption database and Andi's codes\n",
    "project = 'GSA for paper'\n",
    "bw.projects.set_current(project)\n",
    "co = bw.Database('CH consumption 1.0')\n",
    "\n",
    "ausgaben = pd.read_csv(path_ausgaben, sep='\\t')\n",
    "\n",
    "codes_co_db = sorted([act['code'] for act in co])\n",
    "columns_a = ausgaben.columns.values\n",
    "columns_m = [columns_a[0]]\n",
    "for code_a in columns_a[1:]:\n",
    "    code_m = code_a.replace('A', 'm') \n",
    "    if code_m in codes_co_db:\n",
    "        columns_m.append(code_m)\n",
    "    else:\n",
    "        columns_m.append(code_a.lower())\n",
    "        \n",
    "ausgaben.columns = columns_m"
   ]
  },
  {
   "cell_type": "code",
   "execution_count": 24,
   "metadata": {},
   "outputs": [],
   "source": [
    "# Compute total consumption\n",
    "total_consumption = ausgaben.sum()\n",
    "total_consumption = total_consumption.drop('HaushaltID')"
   ]
  },
  {
   "cell_type": "code",
   "execution_count": 25,
   "metadata": {},
   "outputs": [],
   "source": [
    "# Add other useful info, eg number of households and number of people\n",
    "meta = pd.read_excel(path_beschrei, sheet_name='Tabellen', skiprows=8, usecols=[0,1,3,4])\n",
    "meta.columns = ['category1', 'category2', 'n_rows', 'n_cols']\n",
    "meta.dropna(subset=['n_rows'], inplace=True)\n",
    "\n",
    "# Combine some columns together\n",
    "temp1 = meta[meta['category1'].notnull()][['category1', 'n_rows', 'n_cols']]\n",
    "temp1.columns = ['category2', 'n_rows', 'n_cols']\n",
    "temp2 = meta[meta['category2'].notnull()][['category2', 'n_rows', 'n_cols']]\n",
    "meta = pd.concat([temp1, temp2])\n",
    "meta.set_index('category2', inplace=True)\n",
    "\n",
    "# Add info\n",
    "total_consumption['n_households'] = meta.loc['HABE091011_Ausgaben']['n_rows']\n",
    "total_consumption['n_people']     = meta.loc['HABE091011_Personen']['n_rows']"
   ]
  },
  {
   "cell_type": "code",
   "execution_count": 26,
   "metadata": {},
   "outputs": [],
   "source": [
    "# Save total demand\n",
    "path_demand = 'write_files/habe_totaldemands.xlsx'\n",
    "total_consumption.to_excel(path_demand)"
   ]
  },
  {
   "cell_type": "markdown",
   "metadata": {},
   "source": [
    "#### OPTION 1. Total demands extract directly from HABE raw files\n",
    "Excel file `habe_totaldemands.xlsx` contains sums of all private households in Switzerland for all categories of the HBS. Units are the same as in the HBS (please refer to the SI-excel of Andi's ES&T-paper in order to translate the codenames). The attached vector is in \"per month\" quantities."
   ]
  },
  {
   "cell_type": "markdown",
   "metadata": {},
   "source": [
    "#### OPTION 2. Andi's total demands from his Swiss consumption model\n",
    "Excel file `heia2_totaldemands.xlsx` contains sums of all private households in Switzerland for all categories of the HBS. Please note that the units are basically the same as in the HBS (please refer to the SI-excel of Andi's ES&T-paper in order to translate the codenames). However, the attached vector is in \"per year\" instead of in \"per month\". Furthermore, there are a couple of demands that were computed by the model itself. The codenames for these computed/imputed categories start with \"mx\" and the units are as follows:\n",
    "* kWh per year for electricity\n",
    "* MJ per year for heating\n",
    "* cubic meters per year for water supply and wastewater collection\n",
    "* number of waste bags per year for refuse collection"
   ]
  },
  {
   "cell_type": "code",
   "execution_count": 27,
   "metadata": {},
   "outputs": [],
   "source": [
    "option = 'aggregated'\n",
    "if option == 'aggregated':\n",
    "#     path = 'data/heia2_totaldemands.xlsx'm # from Andi's model\n",
    "#     number_households = 3518878\n",
    "    path = 'write_files/habe_totaldemands.xlsx'\n",
    "    df   = pd.read_excel(path)\n",
    "    df.columns = ['code', 'amount']\n",
    "    df.set_index('code', inplace=True)\n",
    "\n",
    "    n_households = int(df.loc['n_households', 'amount'])\n",
    "    n_people     = int(df.loc['n_people', 'amount'])\n",
    "    df = df.drop(['n_households', 'n_people'])\n",
    "    df = df.reset_index()\n",
    "    \n",
    "elif option == 'disaggregated':\n",
    "    path = 'data/habe20092011_hh_prepared_imputed.csv'\n",
    "    df = pd.read_csv(path, low_memory=False)\n",
    "    number_households = df.shape[0]\n",
    "    df = df.drop('haushaltid', axis=1).sum()\n",
    "    df = df.reset_index()\n",
    "    df.columns = ['code', 'amount']\n",
    "\n",
    "# for i in range(len(df)):\n",
    "#     code = df.iloc[i]['code']\n",
    "#     new_code = code\n",
    "#     df.at[i,'code'] = new_code"
   ]
  },
  {
   "cell_type": "code",
   "execution_count": 28,
   "metadata": {},
   "outputs": [],
   "source": [
    "# Add total inputs from Andi's model as swiss consumption activity\n",
    "try: co.get('ch hh food consumption').delete()\n",
    "except: pass\n",
    "consumption_food = co.new_activity(\n",
    "    'ch hh food consumption', \n",
    "    name='ch hh food consumption', \n",
    "    location='CH', \n",
    "    unit='1 month of consumption'\n",
    ")\n",
    "consumption_food.save()"
   ]
  },
  {
   "cell_type": "code",
   "execution_count": 29,
   "metadata": {},
   "outputs": [],
   "source": [
    "# Add production exchange for the activity `consumption`\n",
    "consumption_food.new_exchange(\n",
    "    input = (consumption_food['database'], consumption_food['code']),\n",
    "    amount = 1,\n",
    "    type = 'production'\n",
    ").save()"
   ]
  },
  {
   "cell_type": "code",
   "execution_count": 30,
   "metadata": {
    "scrolled": true
   },
   "outputs": [],
   "source": [
    "codes = [act['code'] for act in co]\n",
    "\n",
    "unlinked_codes = []\n",
    "for i in range(len(df)):\n",
    "    code = df.loc[i]['code']\n",
    "    if code in codes:\n",
    "        consumption_food.new_exchange(\n",
    "            input  = (co.name, code), \n",
    "            amount = df.loc[i]['amount'], # TODO?? divide by number of months\n",
    "            type   = 'technosphere'\n",
    "        ).save()\n",
    "    else:\n",
    "        unlinked_codes.append(code)"
   ]
  },
  {
   "cell_type": "code",
   "execution_count": 31,
   "metadata": {},
   "outputs": [],
   "source": [
    "# list(consumption_food.exchanges()) # per month for all households"
   ]
  },
  {
   "cell_type": "code",
   "execution_count": 32,
   "metadata": {},
   "outputs": [
    {
     "data": {
      "text/plain": [
       "90"
      ]
     },
     "execution_count": 32,
     "metadata": {},
     "output_type": "execute_result"
    }
   ],
   "source": [
    "len(list(consumption_food.exchanges()))"
   ]
  },
  {
   "cell_type": "code",
   "execution_count": null,
   "metadata": {},
   "outputs": [],
   "source": []
  },
  {
   "cell_type": "markdown",
   "metadata": {},
   "source": [
    "### Note that the number of consumption exchanges is the same as the number of activities in the database, but is a lot less than what Andi provided in his total demands."
   ]
  },
  {
   "cell_type": "markdown",
   "metadata": {},
   "source": [
    "# Add consumption activity for an average household"
   ]
  },
  {
   "cell_type": "code",
   "execution_count": 33,
   "metadata": {},
   "outputs": [],
   "source": [
    "try: co.get('ch hh average food consumption').delete()\n",
    "except: pass\n",
    "consumption_average = consumption_food.copy(\n",
    "    'ch hh average food consumption', \n",
    "    name='ch hh average food consumption'\n",
    ")"
   ]
  },
  {
   "cell_type": "code",
   "execution_count": 34,
   "metadata": {},
   "outputs": [],
   "source": [
    "for exc in consumption_average.exchanges():\n",
    "    if exc['type'] != 'production':\n",
    "        exc['amount'] /= n_households\n",
    "        exc.save()"
   ]
  },
  {
   "cell_type": "code",
   "execution_count": 35,
   "metadata": {},
   "outputs": [
    {
     "data": {
      "text/plain": [
       "[Exchange: 1 1 month of consumption 'ch hh average food consumption' (1 month of consumption, CH, None) to 'ch hh average food consumption' (1 month of consumption, CH, None)>,\n",
       " Exchange: 2.6523185730240124 kilogram 'Rice' (kilogram, CH, None) to 'ch hh average food consumption' (1 month of consumption, CH, None)>,\n",
       " Exchange: 10.258710269091356 kilogram 'Pasta products' (kilogram, CH, None) to 'ch hh average food consumption' (1 month of consumption, CH, None)>,\n",
       " Exchange: 31.169177290477347 kilogram 'Bread' (kilogram, CH, None) to 'ch hh average food consumption' (1 month of consumption, CH, None)>,\n",
       " Exchange: 46.03483906003796 kilogram 'Bakery products (sweet and salty)' (kilogram, CH, None) to 'ch hh average food consumption' (1 month of consumption, CH, None)>,\n",
       " Exchange: 2.96203564798639 kilogram 'Sandwich' (kilogram, CH, None) to 'ch hh average food consumption' (1 month of consumption, CH, None)>,\n",
       " Exchange: 1.5632126260770978 kilogram 'Wheat flour' (kilogram, CH, None) to 'ch hh average food consumption' (1 month of consumption, CH, None)>,\n",
       " Exchange: 2.3838892509305865 kilogram 'Other flours and meals, starches, semolina, flakes and grains' (kilogram, CH, None) to 'ch hh average food consumption' (1 month of consumption, CH, None)>,\n",
       " Exchange: 11.610410642488288 kilogram 'Other cereal products' (kilogram, CH, None) to 'ch hh average food consumption' (1 month of consumption, CH, None)>,\n",
       " Exchange: 23.888668292785425 kilogram 'Beef' (kilogram, CH, None) to 'ch hh average food consumption' (1 month of consumption, CH, None)>,\n",
       " Exchange: 9.918235002986313 kilogram 'Veal' (kilogram, CH, None) to 'ch hh average food consumption' (1 month of consumption, CH, None)>,\n",
       " Exchange: 19.597376628447645 kilogram 'Pork, fresh or frozen' (kilogram, CH, None) to 'ch hh average food consumption' (1 month of consumption, CH, None)>,\n",
       " Exchange: 1.723098491142286 kilogram 'Horse meat' (kilogram, CH, None) to 'ch hh average food consumption' (1 month of consumption, CH, None)>,\n",
       " Exchange: 4.798924975545264 kilogram 'Sheep and Goat meat' (kilogram, CH, None) to 'ch hh average food consumption' (1 month of consumption, CH, None)>,\n",
       " Exchange: 21.784384524822826 kilogram 'Poultry, fresh or frozen' (kilogram, CH, None) to 'ch hh average food consumption' (1 month of consumption, CH, None)>,\n",
       " Exchange: 1.9925885412409894 kilogram 'Hare, game and rabbit meat' (kilogram, CH, None) to 'ch hh average food consumption' (1 month of consumption, CH, None)>,\n",
       " Exchange: 9.526423902548714 kilogram 'Other eatable meat products incl. offal, fresh and frozen' (kilogram, CH, None) to 'ch hh average food consumption' (1 month of consumption, CH, None)>,\n",
       " Exchange: 32.736452871721795 kilogram 'Sausages, cold meat and pies' (kilogram, CH, None) to 'ch hh average food consumption' (1 month of consumption, CH, None)>,\n",
       " Exchange: 20.571594796120035 kilogram 'Ham, bacon and other cured or smoked pork' (kilogram, CH, None) to 'ch hh average food consumption' (1 month of consumption, CH, None)>,\n",
       " Exchange: 1.460221210234323 kilogram 'Poultry, grilled or smoked' (kilogram, CH, None) to 'ch hh average food consumption' (1 month of consumption, CH, None)>,\n",
       " Exchange: 6.807338245132771 kilogram 'Other boiled, dried, cured or smoked meat' (kilogram, CH, None) to 'ch hh average food consumption' (1 month of consumption, CH, None)>,\n",
       " Exchange: 1.3602882287883173 kilogram 'Tinned meat and other meat-based preparations' (kilogram, CH, None) to 'ch hh average food consumption' (1 month of consumption, CH, None)>,\n",
       " Exchange: 21.88084128170074 kilogram 'Fish' (kilogram, CH, None) to 'ch hh average food consumption' (1 month of consumption, CH, None)>,\n",
       " Exchange: 10.18356918198929 litre 'Whole milk' (litre, CH, None) to 'ch hh average food consumption' (1 month of consumption, CH, None)>,\n",
       " Exchange: 6.452002189807776 litre 'Skimmed and low-fat milk' (litre, CH, None) to 'ch hh average food consumption' (1 month of consumption, CH, None)>,\n",
       " Exchange: 32.790849147789984 kilogram 'Hard and semi-hard cheese' (kilogram, CH, None) to 'ch hh average food consumption' (1 month of consumption, CH, None)>,\n",
       " Exchange: 16.15978927236695 kilogram 'Fresh, soft and melted cheese' (kilogram, CH, None) to 'ch hh average food consumption' (1 month of consumption, CH, None)>,\n",
       " Exchange: 7.94657610378655 litre 'Cream' (litre, CH, None) to 'ch hh average food consumption' (1 month of consumption, CH, None)>,\n",
       " Exchange: 2.072782824165153 kilogram 'Curd' (kilogram, CH, None) to 'ch hh average food consumption' (1 month of consumption, CH, None)>,\n",
       " Exchange: 14.916639702749023 kilogram 'Yoghurt' (kilogram, CH, None) to 'ch hh average food consumption' (1 month of consumption, CH, None)>,\n",
       " Exchange: 6.394185819232895 litre 'Milk-based beverages and other similar milk-based products' (litre, CH, None) to 'ch hh average food consumption' (1 month of consumption, CH, None)>,\n",
       " Exchange: 9.129392882033821 kilogram 'Fresh eggs' (kilogram, CH, None) to 'ch hh average food consumption' (1 month of consumption, CH, None)>,\n",
       " Exchange: 0.8928952539848363 kilogram 'Processed eggs' (kilogram, CH, None) to 'ch hh average food consumption' (1 month of consumption, CH, None)>,\n",
       " Exchange: 8.548184197488892 kilogram 'Butter' (kilogram, CH, None) to 'ch hh average food consumption' (1 month of consumption, CH, None)>,\n",
       " Exchange: 1.354510411246915 kilogram 'Margarine' (kilogram, CH, None) to 'ch hh average food consumption' (1 month of consumption, CH, None)>,\n",
       " Exchange: 0.46626821395990325 kilogram 'Other vegetable fats' (kilogram, CH, None) to 'ch hh average food consumption' (1 month of consumption, CH, None)>,\n",
       " Exchange: 3.6496982660027695 litre 'Olive oil' (litre, CH, None) to 'ch hh average food consumption' (1 month of consumption, CH, None)>,\n",
       " Exchange: 2.5735155286732225 litre 'Other vegetable oils and edible animal fats' (litre, CH, None) to 'ch hh average food consumption' (1 month of consumption, CH, None)>,\n",
       " Exchange: 1.1741544413813254 kilogram 'Lemons' (kilogram, CH, None) to 'ch hh average food consumption' (1 month of consumption, CH, None)>,\n",
       " Exchange: 5.778034349696745 kilogram 'Oranges and other citrus fruits' (kilogram, CH, None) to 'ch hh average food consumption' (1 month of consumption, CH, None)>,\n",
       " Exchange: 4.56290933643303 kilogram 'Banana' (kilogram, CH, None) to 'ch hh average food consumption' (1 month of consumption, CH, None)>,\n",
       " Exchange: 8.197958995534963 kilogram 'Apples' (kilogram, CH, None) to 'ch hh average food consumption' (1 month of consumption, CH, None)>,\n",
       " Exchange: 2.41457994503688 kilogram 'Pears and quinces' (kilogram, CH, None) to 'ch hh average food consumption' (1 month of consumption, CH, None)>,\n",
       " Exchange: 8.304699617064061 kilogram 'Stone fruit' (kilogram, CH, None) to 'ch hh average food consumption' (1 month of consumption, CH, None)>,\n",
       " Exchange: 6.814401428871093 kilogram 'Berries' (kilogram, CH, None) to 'ch hh average food consumption' (1 month of consumption, CH, None)>,\n",
       " Exchange: 2.9129063028058795 kilogram 'Grapes' (kilogram, CH, None) to 'ch hh average food consumption' (1 month of consumption, CH, None)>,\n",
       " Exchange: 2.100057010123344 kilogram 'Melons and watermelons' (kilogram, CH, None) to 'ch hh average food consumption' (1 month of consumption, CH, None)>,\n",
       " Exchange: 4.928464149772724 kilogram 'Other tropical fruits' (kilogram, CH, None) to 'ch hh average food consumption' (1 month of consumption, CH, None)>,\n",
       " Exchange: 6.165879997998347 kilogram 'Nuts, other edible nuts and seeds oleaginous fruits' (kilogram, CH, None) to 'ch hh average food consumption' (1 month of consumption, CH, None)>,\n",
       " Exchange: 2.7283430809674716 kilogram 'Other fried fruits' (kilogram, CH, None) to 'ch hh average food consumption' (1 month of consumption, CH, None)>,\n",
       " Exchange: 2.0897493922497277 kilogram 'Preserved fruits' (kilogram, CH, None) to 'ch hh average food consumption' (1 month of consumption, CH, None)>,\n",
       " Exchange: 16.01490453238721 kilogram 'Green salads and other leafy vegetables' (kilogram, CH, None) to 'ch hh average food consumption' (1 month of consumption, CH, None)>,\n",
       " Exchange: 3.1401117426644647 kilogram 'Stem vegetables' (kilogram, CH, None) to 'ch hh average food consumption' (1 month of consumption, CH, None)>,\n",
       " Exchange: 1.955951054227628 kilogram 'Culinary herbs' (kilogram, CH, None) to 'ch hh average food consumption' (1 month of consumption, CH, None)>,\n",
       " Exchange: 3.663407744960086 kilogram 'Brassicas' (kilogram, CH, None) to 'ch hh average food consumption' (1 month of consumption, CH, None)>,\n",
       " Exchange: 7.518465760372029 kilogram 'Tomatoes' (kilogram, CH, None) to 'ch hh average food consumption' (1 month of consumption, CH, None)>,\n",
       " Exchange: 2.527965361922338 kilogram 'Beans and peas' (kilogram, CH, None) to 'ch hh average food consumption' (1 month of consumption, CH, None)>,\n",
       " Exchange: 7.9680812400197665 kilogram 'Other fruiting vegetables' (kilogram, CH, None) to 'ch hh average food consumption' (1 month of consumption, CH, None)>,\n",
       " Exchange: 1.8170806304854878 kilogram 'Onions' (kilogram, CH, None) to 'ch hh average food consumption' (1 month of consumption, CH, None)>,\n",
       " Exchange: 0.5874762271720066 kilogram 'Garlic' (kilogram, CH, None) to 'ch hh average food consumption' (1 month of consumption, CH, None)>,\n",
       " Exchange: 9.63248012758827 kilogram 'Beets and other root vegetables' (kilogram, CH, None) to 'ch hh average food consumption' (1 month of consumption, CH, None)>,\n",
       " Exchange: 1.1352074867300894 kilogram 'Mushrooms and vegetables, dried' (kilogram, CH, None) to 'ch hh average food consumption' (1 month of consumption, CH, None)>,\n",
       " Exchange: 6.891235061677162 kilogram 'Tinned or processed vegetables and mushrooms' (kilogram, CH, None) to 'ch hh average food consumption' (1 month of consumption, CH, None)>,\n",
       " Exchange: 6.033823451682623 kilogram 'Potatoes' (kilogram, CH, None) to 'ch hh average food consumption' (1 month of consumption, CH, None)>,\n",
       " Exchange: 7.880215016664761 kilogram 'Potatoes-based products and other tuber vegetables' (kilogram, CH, None) to 'ch hh average food consumption' (1 month of consumption, CH, None)>,\n",
       " Exchange: 2.2833721630231807 kilogram 'Sugar' (kilogram, CH, None) to 'ch hh average food consumption' (1 month of consumption, CH, None)>,\n",
       " Exchange: 4.091443396734369 kilogram 'Jams, marmalades, compotes' (kilogram, CH, None) to 'ch hh average food consumption' (1 month of consumption, CH, None)>,\n",
       " Exchange: 2.4703724802576112 kilogram 'Honey' (kilogram, CH, None) to 'ch hh average food consumption' (1 month of consumption, CH, None)>,\n",
       " Exchange: 20.07645327035221 kilogram 'Chocolate' (kilogram, CH, None) to 'ch hh average food consumption' (1 month of consumption, CH, None)>,\n",
       " Exchange: 6.0312584799964535 kilogram 'Sweets and chewing gum' (kilogram, CH, None) to 'ch hh average food consumption' (1 month of consumption, CH, None)>,\n",
       " Exchange: 7.197166388143938 kilogram 'Ice cream' (kilogram, CH, None) to 'ch hh average food consumption' (1 month of consumption, CH, None)>,\n",
       " Exchange: 0.7141221728219951 kilogram 'Other sugary or cocoa-based foods' (kilogram, CH, None) to 'ch hh average food consumption' (1 month of consumption, CH, None)>,\n",
       " Exchange: 13.618216373943342 kilogram 'Sauces, seasonings and condiments' (kilogram, CH, None) to 'ch hh average food consumption' (1 month of consumption, CH, None)>,\n",
       " Exchange: 4.106321463459987 kilogram 'Soups and bouillons' (kilogram, CH, None) to 'ch hh average food consumption' (1 month of consumption, CH, None)>,\n",
       " Exchange: 12.439412045953267 kilogram 'Ready-made foods' (kilogram, CH, None) to 'ch hh average food consumption' (1 month of consumption, CH, None)>,\n",
       " Exchange: 0.7410636491419565 kilogram 'Vegetarian soy products' (kilogram, CH, None) to 'ch hh average food consumption' (1 month of consumption, CH, None)>,\n",
       " Exchange: 18.04420683046384 kilogram 'Pure and ground coffee' (kilogram, CH, None) to 'ch hh average food consumption' (1 month of consumption, CH, None)>,\n",
       " Exchange: 2.0747606585594034 kilogram 'Instant coffee and coffee surrogates' (kilogram, CH, None) to 'ch hh average food consumption' (1 month of consumption, CH, None)>,\n",
       " Exchange: 3.530217697538842 kilogram 'Tea, herbal tea and surrogates' (kilogram, CH, None) to 'ch hh average food consumption' (1 month of consumption, CH, None)>,\n",
       " Exchange: 1.7224072273058013 kilogram 'Cocoa-based beverages' (kilogram, CH, None) to 'ch hh average food consumption' (1 month of consumption, CH, None)>,\n",
       " Exchange: 8.822640146379385 litre 'Mineral water' (litre, CH, None) to 'ch hh average food consumption' (1 month of consumption, CH, None)>,\n",
       " Exchange: 13.80144134241685 litre 'Non-alcoholic soft drinks' (litre, CH, None) to 'ch hh average food consumption' (1 month of consumption, CH, None)>,\n",
       " Exchange: 1.658436454717149 litre 'Syrups' (litre, CH, None) to 'ch hh average food consumption' (1 month of consumption, CH, None)>,\n",
       " Exchange: 10.28825725132822 litre 'Fruit juices' (litre, CH, None) to 'ch hh average food consumption' (1 month of consumption, CH, None)>,\n",
       " Exchange: 0.25743646955558874 litre 'Vegetable juices' (litre, CH, None) to 'ch hh average food consumption' (1 month of consumption, CH, None)>,\n",
       " Exchange: 5.274648601976254 litre 'Spirits' (litre, CH, None) to 'ch hh average food consumption' (1 month of consumption, CH, None)>,\n",
       " Exchange: 1.7963910957271318 litre 'Alcoholic and non-alcoholic liqueurs and liqueur-based aperitifs' (litre, CH, None) to 'ch hh average food consumption' (1 month of consumption, CH, None)>,\n",
       " Exchange: 56.79654738487406 litre 'Wine' (litre, CH, None) to 'ch hh average food consumption' (1 month of consumption, CH, None)>,\n",
       " Exchange: 8.947658180598141 litre 'Alcoholic and non-alcoholic beer' (litre, CH, None) to 'ch hh average food consumption' (1 month of consumption, CH, None)>,\n",
       " Exchange: 36.39885678831573 CHF 'Tobacco' (CHF, CH, None) to 'ch hh average food consumption' (1 month of consumption, CH, None)>]"
      ]
     },
     "execution_count": 35,
     "metadata": {},
     "output_type": "execute_result"
    }
   ],
   "source": [
    "list(consumption_average.exchanges())"
   ]
  },
  {
   "cell_type": "markdown",
   "metadata": {},
   "source": [
    "# Simple LCA"
   ]
  },
  {
   "cell_type": "code",
   "execution_count": 36,
   "metadata": {},
   "outputs": [],
   "source": [
    "import brightway2 as bw"
   ]
  },
  {
   "cell_type": "code",
   "execution_count": 37,
   "metadata": {},
   "outputs": [],
   "source": [
    "bw.projects.set_current('GSA for paper')\n",
    "co = bw.Database('CH consumption 1.0')"
   ]
  },
  {
   "cell_type": "code",
   "execution_count": 38,
   "metadata": {},
   "outputs": [],
   "source": [
    "consumption_average = co.search('average consumption')[0]"
   ]
  },
  {
   "cell_type": "code",
   "execution_count": 39,
   "metadata": {},
   "outputs": [],
   "source": [
    "# demand = {consumption_average: 1}\n",
    "demand = {consumption_average: 1}\n",
    "method = ('IPCC 2013', 'climate change', 'GTP 100a')"
   ]
  },
  {
   "cell_type": "code",
   "execution_count": 40,
   "metadata": {},
   "outputs": [
    {
     "name": "stdout",
     "output_type": "stream",
     "text": [
      "2509.0186220089945 kg CO2-Eq\n",
      "CPU times: user 2 s, sys: 636 ms, total: 2.63 s\n",
      "Wall time: 4.41 s\n"
     ]
    }
   ],
   "source": [
    "%%time\n",
    "lca = bw.LCA(demand, method)\n",
    "lca.lci()\n",
    "lca.lcia()\n",
    "print(str(lca.score) + ' ' + bw.Method(method).metadata['unit'])"
   ]
  },
  {
   "cell_type": "markdown",
   "metadata": {},
   "source": [
    "# ------------------------------------------ Part 4 ------------------------------------------"
   ]
  },
  {
   "cell_type": "markdown",
   "metadata": {},
   "source": [
    "# Add categories for all activities (in English)"
   ]
  },
  {
   "cell_type": "code",
   "execution_count": 41,
   "metadata": {},
   "outputs": [],
   "source": [
    "import brightway2 as bw\n",
    "import numpy as np\n",
    "import pandas as pd\n",
    "import re"
   ]
  },
  {
   "cell_type": "code",
   "execution_count": 42,
   "metadata": {},
   "outputs": [],
   "source": [
    "bw.projects.set_current('GSA for paper')"
   ]
  },
  {
   "cell_type": "code",
   "execution_count": 43,
   "metadata": {},
   "outputs": [],
   "source": [
    "path = 'data/es8b01452_si_002.xlsx'\n",
    "sheet_name = 'Overview & LCA-Modeling'\n",
    "df_raw = pd.read_excel(path, sheet_name = sheet_name, header=2)"
   ]
  },
  {
   "cell_type": "code",
   "execution_count": 44,
   "metadata": {},
   "outputs": [],
   "source": [
    "categories_col_de = 'Original name in Swiss household budget survey'\n",
    "categories_col_en = 'Translated name'\n",
    "categories_raw = df_raw[[categories_col_de, categories_col_en]]"
   ]
  },
  {
   "cell_type": "code",
   "execution_count": 45,
   "metadata": {},
   "outputs": [],
   "source": [
    "categories = {}\n",
    "for v in categories_raw.values:\n",
    "    v_list_de = v[0].split(':')\n",
    "    v_list_en = v[1].split(':')\n",
    "    if len(v_list_de)>1 and len(v_list_de[0].split('.')) == 1:\n",
    "        categories[v_list_de[0]] = v_list_en[0]\n",
    "max_code_len = max({len(k) for k in categories.keys()})"
   ]
  },
  {
   "cell_type": "code",
   "execution_count": 46,
   "metadata": {},
   "outputs": [],
   "source": [
    "co = bw.Database('CH consumption 1.0')"
   ]
  },
  {
   "cell_type": "code",
   "execution_count": 47,
   "metadata": {},
   "outputs": [
    {
     "name": "stdout",
     "output_type": "stream",
     "text": [
      "CPU times: user 3.54 s, sys: 1.54 s, total: 5.08 s\n",
      "Wall time: 17.7 s\n"
     ]
    }
   ],
   "source": [
    "%%time\n",
    "category_names_dict = {\n",
    "    2: 'coarse',\n",
    "    3: 'middle',\n",
    "    4: 'fine',\n",
    "}\n",
    "for act in co:    \n",
    "    code = re.sub(r'[a-z]+', '', act['code'], re.I)[:max_code_len]\n",
    "    for i in range(2,max_code_len+1):\n",
    "        try:\n",
    "            category_name = 'category_' + category_names_dict[i]\n",
    "            act[category_name] = categories[code[:i]]\n",
    "            act.save()\n",
    "        except:\n",
    "            pass"
   ]
  },
  {
   "cell_type": "code",
   "execution_count": 48,
   "metadata": {},
   "outputs": [
    {
     "data": {
      "text/plain": [
       "{'reference product': 'Sandwich',\n",
       " 'code': 'a511105',\n",
       " 'location': 'CH',\n",
       " 'amount': 1.0,\n",
       " 'unit': 'kilogram',\n",
       " 'name': 'Sandwich',\n",
       " 'worksheet name': 'Sheet1',\n",
       " 'database': 'CH consumption 1.0',\n",
       " 'category_coarse': 'Food and non-alcoholic beverages',\n",
       " 'category_middle': 'Food',\n",
       " 'category_fine': 'Bread and cereals'}"
      ]
     },
     "execution_count": 48,
     "metadata": {},
     "output_type": "execute_result"
    }
   ],
   "source": [
    "co.random().as_dict()"
   ]
  },
  {
   "cell_type": "code",
   "execution_count": 49,
   "metadata": {},
   "outputs": [
    {
     "data": {
      "text/plain": [
       "91"
      ]
     },
     "execution_count": 49,
     "metadata": {},
     "output_type": "execute_result"
    }
   ],
   "source": [
    "len(co)"
   ]
  },
  {
   "cell_type": "markdown",
   "metadata": {},
   "source": [
    "# ------------------------------------------ Part 5 ------------------------------------------"
   ]
  },
  {
   "cell_type": "markdown",
   "metadata": {},
   "source": [
    "# Add sectors as separate activities\n",
    "## 1. Choose sectors"
   ]
  },
  {
   "cell_type": "code",
   "execution_count": null,
   "metadata": {},
   "outputs": [],
   "source": [
    "import brightway2 as bw\n",
    "import pandas as pd"
   ]
  },
  {
   "cell_type": "code",
   "execution_count": null,
   "metadata": {},
   "outputs": [],
   "source": [
    "bw.projects.set_current('GSA for ecoinvent')"
   ]
  },
  {
   "cell_type": "code",
   "execution_count": null,
   "metadata": {},
   "outputs": [],
   "source": [
    "co = bw.Database('CH consumption 1.0')"
   ]
  },
  {
   "cell_type": "code",
   "execution_count": null,
   "metadata": {},
   "outputs": [],
   "source": [
    "cat_option = 'category_coarse'\n",
    "\n",
    "cat_unique = []\n",
    "for act in co:\n",
    "    cat_unique.append(act.get(cat_option) or 0)\n",
    "cat_unique = list(set(cat_unique))\n",
    "\n",
    "category_activities = {}\n",
    "category_activities_len = {}\n",
    "for cat_of_interest in cat_unique: \n",
    "    list_ = []\n",
    "    for act in co:\n",
    "        if act.get(cat_option) == cat_of_interest:\n",
    "            list_.append(act)\n",
    "    if len(list_) > 0:\n",
    "        category_activities[cat_of_interest] = list_\n",
    "        category_activities_len[cat_of_interest] = len(list_)"
   ]
  },
  {
   "cell_type": "code",
   "execution_count": null,
   "metadata": {},
   "outputs": [],
   "source": [
    "dict_ = {}\n",
    "for cat_of_interest, activities in category_activities.items():\n",
    "        \n",
    "    excs_input_ag  = []\n",
    "    excs_input_ex  = []\n",
    "    excs_input_ec  = []\n",
    "\n",
    "    for act in activities:\n",
    "        for exc in act.exchanges():\n",
    "            if 'Agribalyse' in exc.input['database']:\n",
    "                excs_input_ag.append(exc.input)\n",
    "            elif 'EXIOBASE' in exc.input['database']:\n",
    "                excs_input_ex.append(exc.input)\n",
    "            elif 'ecoinvent 3.6 cutoff' == exc.input['database']:\n",
    "                excs_input_ec.append(exc.input)\n",
    "                \n",
    "    dict_[cat_of_interest] = dict(\n",
    "        n_activities = len(activities),\n",
    "        n_agribalyse_exchanges = len(excs_input_ag), \n",
    "        n_exiobase_exchanges   = len(excs_input_ex), \n",
    "        n_ecoinvent_exchanges  = len(excs_input_ec), \n",
    "    )\n",
    "        "
   ]
  },
  {
   "cell_type": "code",
   "execution_count": null,
   "metadata": {},
   "outputs": [],
   "source": [
    "df = pd.DataFrame.from_dict(dict_).T"
   ]
  },
  {
   "cell_type": "code",
   "execution_count": null,
   "metadata": {},
   "outputs": [],
   "source": [
    "category_activities_len"
   ]
  },
  {
   "cell_type": "markdown",
   "metadata": {},
   "source": [
    "## 2. Add sectors"
   ]
  },
  {
   "cell_type": "code",
   "execution_count": null,
   "metadata": {},
   "outputs": [],
   "source": [
    "demand_act = [act for act in co if 'average' in act['name']][0]\n",
    "demand_act"
   ]
  },
  {
   "cell_type": "code",
   "execution_count": null,
   "metadata": {},
   "outputs": [],
   "source": [
    "for cat_of_interest in category_activities:\n",
    "    # Create new bw activity with a specific name\n",
    "    try: co.get(cat_of_interest).delete()\n",
    "    except: pass\n",
    "    new_act = co.new_activity(cat_of_interest, \n",
    "                              name=cat_of_interest, \n",
    "                              location='CH', \n",
    "                              unit='1 month of consumption',\n",
    "                              comment='Average consumption of one household',\n",
    "                             )\n",
    "    new_act.save()\n",
    "    \n",
    "    # Add production exchange\n",
    "    new_act.new_exchange(\n",
    "        input = (new_act['database'], new_act['code']),\n",
    "        amount = 1,\n",
    "        type = 'production'\n",
    "    ).save()\n",
    "    \n",
    "    for exc in demand_act.exchanges():\n",
    "        if exc.input.get('category_coarse')==cat_of_interest:\n",
    "            new_act.new_exchange(\n",
    "                input  = (exc.input['database'], exc.input['code']),\n",
    "                amount = exc.amount,\n",
    "                type   = 'technosphere'\n",
    "            ).save()\n"
   ]
  },
  {
   "cell_type": "markdown",
   "metadata": {},
   "source": [
    "## 3. Contribution analysis for sectors"
   ]
  },
  {
   "cell_type": "code",
   "execution_count": null,
   "metadata": {},
   "outputs": [],
   "source": [
    "list_methods = [('IPCC 2013', 'climate change', 'GTP 100a')]\n",
    "list_fus = []\n",
    "for cat_of_interest in category_activities:\n",
    "    list_fus.append({co.search(cat_of_interest)[0]: 1})"
   ]
  },
  {
   "cell_type": "code",
   "execution_count": null,
   "metadata": {},
   "outputs": [],
   "source": [
    "bw.calculation_setups['sector_contribution_analysis'] = {'inv':list_fus, 'ia':list_methods}"
   ]
  },
  {
   "cell_type": "code",
   "execution_count": null,
   "metadata": {},
   "outputs": [],
   "source": [
    "%%time\n",
    "myMultiLCA = bw.MultiLCA('sector_contribution_analysis')"
   ]
  },
  {
   "cell_type": "code",
   "execution_count": null,
   "metadata": {},
   "outputs": [],
   "source": [
    "lcia_unit = bw.Method(list_methods[0]).metadata['unit']\n",
    "\n",
    "fus = [bw.get_activity(list(el.keys())[0])['name'][:25] for el in list_fus]\n",
    "df = pd.DataFrame(index=fus, columns=[lcia_unit], data=myMultiLCA.results)\n",
    "df['units'] = [bw.get_activity(list(el.keys())[0])['unit'] for el in list_fus]"
   ]
  },
  {
   "cell_type": "code",
   "execution_count": null,
   "metadata": {},
   "outputs": [],
   "source": [
    "df.sort_values(lcia_unit, ascending=False, inplace=True)"
   ]
  },
  {
   "cell_type": "code",
   "execution_count": null,
   "metadata": {},
   "outputs": [],
   "source": [
    "with pd.option_context('display.max_rows', None, 'display.max_columns', None):  # more options can be specified also\n",
    "    print(df)"
   ]
  },
  {
   "cell_type": "code",
   "execution_count": null,
   "metadata": {},
   "outputs": [],
   "source": []
  },
  {
   "cell_type": "code",
   "execution_count": null,
   "metadata": {},
   "outputs": [],
   "source": []
  },
  {
   "cell_type": "code",
   "execution_count": null,
   "metadata": {},
   "outputs": [],
   "source": []
  },
  {
   "cell_type": "code",
   "execution_count": null,
   "metadata": {},
   "outputs": [],
   "source": []
  },
  {
   "cell_type": "code",
   "execution_count": null,
   "metadata": {},
   "outputs": [],
   "source": []
  },
  {
   "cell_type": "code",
   "execution_count": null,
   "metadata": {},
   "outputs": [],
   "source": []
  }
 ],
 "metadata": {
  "kernelspec": {
   "display_name": "Python [conda env:bw]",
   "language": "python",
   "name": "conda-env-bw-py"
  },
  "language_info": {
   "codemirror_mode": {
    "name": "ipython",
    "version": 3
   },
   "file_extension": ".py",
   "mimetype": "text/x-python",
   "name": "python",
   "nbconvert_exporter": "python",
   "pygments_lexer": "ipython3",
   "version": "3.8.3"
  },
  "varInspector": {
   "cols": {
    "lenName": 16,
    "lenType": 16,
    "lenVar": 40
   },
   "kernels_config": {
    "python": {
     "delete_cmd_postfix": "",
     "delete_cmd_prefix": "del ",
     "library": "var_list.py",
     "varRefreshCmd": "print(var_dic_list())"
    },
    "r": {
     "delete_cmd_postfix": ") ",
     "delete_cmd_prefix": "rm(",
     "library": "var_list.r",
     "varRefreshCmd": "cat(var_dic_list()) "
    }
   },
   "types_to_exclude": [
    "module",
    "function",
    "builtin_function_or_method",
    "instance",
    "_Feature"
   ],
   "window_display": false
  }
 },
 "nbformat": 4,
 "nbformat_minor": 2
}
