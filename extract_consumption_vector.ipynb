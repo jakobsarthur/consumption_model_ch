{
 "cells": [
  {
   "cell_type": "code",
   "execution_count": 1,
   "metadata": {},
   "outputs": [],
   "source": [
    "import brightway2 as bw\n",
    "import numpy as np\n",
    "import pandas as pd\n",
    "from copy import copy"
   ]
  },
  {
   "cell_type": "markdown",
   "metadata": {},
   "source": [
    "# Setup the project"
   ]
  },
  {
   "cell_type": "markdown",
   "metadata": {},
   "source": [
    "### TODO -> choose project"
   ]
  },
  {
   "cell_type": "code",
   "execution_count": 2,
   "metadata": {},
   "outputs": [],
   "source": [
    "project = 'GSA for ecoinvent'"
   ]
  },
  {
   "cell_type": "code",
   "execution_count": 3,
   "metadata": {},
   "outputs": [],
   "source": [
    "if project not in bw.projects:\n",
    "    bw.projects.create_project(project)\n",
    "bw.projects.set_current(project)"
   ]
  },
  {
   "cell_type": "code",
   "execution_count": 4,
   "metadata": {},
   "outputs": [
    {
     "data": {
      "text/plain": [
       "'/Users/akim/Library/Application Support/Brightway3/GSA-for-ecoinvent.34cad902cfa956f8f1e5e24776ceebde'"
      ]
     },
     "execution_count": 4,
     "metadata": {},
     "output_type": "execute_result"
    }
   ],
   "source": [
    "bw.projects.dir\n"
   ]
  },
  {
   "cell_type": "markdown",
   "metadata": {},
   "source": [
    "# Import databases"
   ]
  },
  {
   "cell_type": "markdown",
   "metadata": {},
   "source": [
    "### TODO -> give paths to databases files\n",
    "for now let's use ecoinvent 3.3 cutoff and EXIOBASE 2.2"
   ]
  },
  {
   "cell_type": "code",
   "execution_count": null,
   "metadata": {},
   "outputs": [],
   "source": [
    "ei_path = '/Users/akim/Documents/LCA files/ecoinvent 3.3 cutoff/datasets'  \n",
    "ex_path = '/Users/akim/Documents/LCA files/exiobase 2.2/mrIOT_IxI_fpa_coefficient_version2.2.2'\n",
    "ag_path = '/Users/akim/Documents/LCA files/agribalyse 1.2/AGRIBALYSEv1.2_Complete.xml'"
   ]
  },
  {
   "cell_type": "markdown",
   "metadata": {},
   "source": [
    "## 1. Biosphere3"
   ]
  },
  {
   "cell_type": "code",
   "execution_count": null,
   "metadata": {},
   "outputs": [],
   "source": [
    "bw.bw2setup()"
   ]
  },
  {
   "cell_type": "markdown",
   "metadata": {},
   "source": [
    "## 2. Ecoinvent 3.3"
   ]
  },
  {
   "cell_type": "code",
   "execution_count": null,
   "metadata": {},
   "outputs": [],
   "source": [
    "ei_name = \"ecoinvent 3.3 cutoff\"  \n",
    "if ei_name in bw.databases:\n",
    "    print(ei_name + \" database already present!!! No import is needed\")\n",
    "else:\n",
    "    ei = bw.SingleOutputEcospold2Importer(ei_path, ei_name)\n",
    "    ei.apply_strategies()\n",
    "    ei.match_database(db_name='biosphere3',fields=('name', 'category', 'unit', 'location'))\n",
    "    ei.statistics()"
   ]
  },
  {
   "cell_type": "code",
   "execution_count": null,
   "metadata": {},
   "outputs": [],
   "source": [
    "if ei_name in bw.databases:\n",
    "    print(ei_name + \" database already present!!! No import is needed\")\n",
    "else:\n",
    "    ei.write_database()"
   ]
  },
  {
   "cell_type": "markdown",
   "metadata": {},
   "source": [
    "## 3. Exiobase 2.2"
   ]
  },
  {
   "cell_type": "code",
   "execution_count": null,
   "metadata": {},
   "outputs": [],
   "source": [
    "# 2. Exiobase \n",
    "from bw2io.importers.exiobase import Exiobase22Importer"
   ]
  },
  {
   "cell_type": "code",
   "execution_count": null,
   "metadata": {},
   "outputs": [],
   "source": [
    "ex_name = 'EXIOBASE 2.2'\n",
    "if ex_name in bw.databases:\n",
    "    print(ex_name + \" database already present!!! No import is needed\")\n",
    "else:\n",
    "    ex = Exiobase22Importer(ex_path, ex_name)\n",
    "    ex.apply_strategies()"
   ]
  },
  {
   "cell_type": "code",
   "execution_count": null,
   "metadata": {},
   "outputs": [],
   "source": [
    "if ex_name in bw.databases:\n",
    "    print(ex_name + \" database already present!!! No import is needed\")\n",
    "else:\n",
    "    ex.write_database()"
   ]
  },
  {
   "cell_type": "markdown",
   "metadata": {},
   "source": [
    "## 4. Agribalyse 1.2\n",
    "better see: [how to import](https://nbviewer.jupyter.org/urls/bitbucket.org/cmutel/brightway2/raw/default/notebooks/IO%20-%20Importing%20Agribalyse%20with%20Ecoinvent%202.2.ipynb)"
   ]
  },
  {
   "cell_type": "code",
   "execution_count": null,
   "metadata": {},
   "outputs": [],
   "source": [
    "ag_name = 'Agribalyse 1.2'\n",
    "if ag_name in bw.databases:\n",
    "    print(ag_name + \" database already present!!! No import is needed\")\n",
    "else:\n",
    "    ag = bw.SingleOutputEcospold1Importer(ag_path, ag_name)\n",
    "    ag.apply_strategies()\n",
    "    ag.statistics()"
   ]
  },
  {
   "cell_type": "code",
   "execution_count": null,
   "metadata": {},
   "outputs": [],
   "source": [
    "if ag_name in bw.databases:\n",
    "    print(ag_name + \" database already present!!! No import is needed\")\n",
    "else:\n",
    "    ag.write_excel(True)\n",
    "    from bw2io.strategies.simapro import normalize_simapro_biosphere_categories, normalize_simapro_biosphere_names\n",
    "    ag.apply_strategy(normalize_simapro_biosphere_categories)\n",
    "    ag.apply_strategy(normalize_simapro_biosphere_names)\n",
    "\n",
    "    from bw2io.strategies import link_iterable_by_fields\n",
    "    import functools\n",
    "    ag.apply_strategy(functools.partial(link_iterable_by_fields, other=bw.Database(\"biosphere3\"), kind=\"biosphere\"))\n",
    "    ag.statistics()\n",
    "\n",
    "    ag.write_excel(True)\n",
    "\n",
    "    bw.Database(\"Agribalyse new biosphere\").register()\n",
    "    ag.add_unlinked_flows_to_biosphere_database(\"Agribalyse new biosphere\")\n",
    "\n",
    "    def get_unlinked(data):\n",
    "        for ds in ag.data:\n",
    "            for exc in ds['exchanges']:\n",
    "                if exc['type'] == 'production' and exc['name'] == 'Alfalfa, conventional, for animal feeding, at farm gate':\n",
    "                    return ds, exc\n",
    "\n",
    "    ds, exc = get_unlinked(ag.data)\n",
    "\n",
    "    from bw2io.strategies import link_technosphere_based_on_name_unit_location\n",
    "    ag.apply_strategy(link_technosphere_based_on_name_unit_location)\n",
    "    ag.statistics()\n",
    "\n",
    "    def get_unlinked(data):\n",
    "        for ds in ag.data:\n",
    "            for exc in ds['exchanges']:\n",
    "                if exc['type'] == 'production' and not exc.get('input'):\n",
    "                    return ds, exc\n",
    "\n",
    "    ds, exc = get_unlinked(ag.data)\n",
    "\n",
    "    for ds in ag.data:\n",
    "        for exc in ds['exchanges']:\n",
    "            if exc['type'] == 'production' and not exc.get('input'):\n",
    "                print(\"Fixing:\", exc['name'])\n",
    "                exc['type'] = 'technosphere'\n",
    "\n",
    "    ag.apply_strategy(link_technosphere_based_on_name_unit_location)\n",
    "    ag.apply_strategy(functools.partial(link_technosphere_based_on_name_unit_location, external_db_name=\"ecoinvent 2.2\"))\n",
    "    ag.statistics()\n",
    "\n",
    "    ag.add_unlinked_activities()\n",
    "    ag.statistics()\n",
    "\n",
    "    for ds in ag.data:\n",
    "        del ds['code']\n",
    "\n",
    "    from bw2io.strategies import set_code_by_activity_hash\n",
    "    ag.apply_strategy(set_code_by_activity_hash)\n",
    "\n",
    "    ag.apply_strategy(functools.partial(\n",
    "            link_iterable_by_fields,\n",
    "            other=ag.data,\n",
    "            fields=('name', 'location', 'unit'),\n",
    "            relink=True\n",
    "    ))\n",
    "    ag.statistics()"
   ]
  },
  {
   "cell_type": "code",
   "execution_count": null,
   "metadata": {},
   "outputs": [],
   "source": [
    "if ag_name in bw.databases:\n",
    "    print(ag_name + \" database already present!!! No import is needed\")\n",
    "else:\n",
    "    ag.write_database()"
   ]
  },
  {
   "cell_type": "markdown",
   "metadata": {},
   "source": [
    "## 5. HEIA"
   ]
  },
  {
   "cell_type": "markdown",
   "metadata": {},
   "source": [
    "### TODO -> ask Andi for files"
   ]
  },
  {
   "cell_type": "code",
   "execution_count": null,
   "metadata": {},
   "outputs": [],
   "source": [
    "bw.databases"
   ]
  },
  {
   "cell_type": "markdown",
   "metadata": {},
   "source": [
    "# Create ecoinvent and exiobase LCA objects"
   ]
  },
  {
   "cell_type": "code",
   "execution_count": null,
   "metadata": {},
   "outputs": [],
   "source": [
    "n_methods = 2\n",
    "methods = {_: bw.methods.random() for _ in range(n_methods)}\n",
    "methods"
   ]
  },
  {
   "cell_type": "code",
   "execution_count": null,
   "metadata": {},
   "outputs": [],
   "source": [
    "# 1. Ecoinvent\n",
    "ei_demand = {bw.Database(ei_name).random(): 1}\n",
    "ei_lca = bw.LCA(ei_demand, methods[0])\n",
    "ei_lca.lci()\n",
    "ei_lca.lcia()\n",
    "ei_lca.score"
   ]
  },
  {
   "cell_type": "code",
   "execution_count": null,
   "metadata": {},
   "outputs": [],
   "source": [
    "# 2. Exiobase\n",
    "ex_demand = {bw.Database(ex_name).random(): 1}\n",
    "ex_lca = bw.LCA(ex_demand, methods[0])\n",
    "ex_lca.lci()\n",
    "ex_lca.lcia()\n",
    "ex_lca.score"
   ]
  },
  {
   "cell_type": "code",
   "execution_count": null,
   "metadata": {},
   "outputs": [],
   "source": [
    "methods"
   ]
  },
  {
   "cell_type": "markdown",
   "metadata": {},
   "source": [
    "# Consumption model"
   ]
  },
  {
   "cell_type": "code",
   "execution_count": null,
   "metadata": {},
   "outputs": [],
   "source": [
    "methods"
   ]
  },
  {
   "cell_type": "code",
   "execution_count": null,
   "metadata": {},
   "outputs": [],
   "source": [
    "from consumption_copy import ConsumptionLCA"
   ]
  },
  {
   "cell_type": "code",
   "execution_count": null,
   "metadata": {},
   "outputs": [],
   "source": [
    "# consumption_model_path = 'Draft_Paper_8_v11_SupportingInformation.xlsx'\n",
    "# sheet_lca_modeling = 'Overview & LCA-Modeling'\n",
    "\n",
    "consumption_model_path = 'Consumption_Cockpit_adj.xlsx'\n",
    "sheet_lca_modeling = 'LCA-Modelling'"
   ]
  },
  {
   "cell_type": "code",
   "execution_count": null,
   "metadata": {},
   "outputs": [],
   "source": [
    "excel = {\n",
    "    'path': consumption_model_path,\n",
    "    'sheet': sheet_lca_modeling\n",
    "}"
   ]
  },
  {
   "cell_type": "code",
   "execution_count": null,
   "metadata": {},
   "outputs": [],
   "source": [
    "a = ConsumptionLCA(ei_lca, ex_lca, methods, excel, archetypes=True)"
   ]
  },
  {
   "cell_type": "code",
   "execution_count": null,
   "metadata": {},
   "outputs": [],
   "source": []
  },
  {
   "cell_type": "code",
   "execution_count": null,
   "metadata": {},
   "outputs": [],
   "source": []
  },
  {
   "cell_type": "code",
   "execution_count": null,
   "metadata": {},
   "outputs": [],
   "source": []
  },
  {
   "cell_type": "code",
   "execution_count": null,
   "metadata": {},
   "outputs": [],
   "source": []
  },
  {
   "cell_type": "code",
   "execution_count": null,
   "metadata": {},
   "outputs": [],
   "source": []
  },
  {
   "cell_type": "code",
   "execution_count": null,
   "metadata": {},
   "outputs": [],
   "source": []
  },
  {
   "cell_type": "code",
   "execution_count": null,
   "metadata": {},
   "outputs": [],
   "source": []
  },
  {
   "cell_type": "code",
   "execution_count": null,
   "metadata": {},
   "outputs": [],
   "source": []
  },
  {
   "cell_type": "code",
   "execution_count": null,
   "metadata": {},
   "outputs": [],
   "source": []
  },
  {
   "cell_type": "code",
   "execution_count": null,
   "metadata": {},
   "outputs": [],
   "source": []
  },
  {
   "cell_type": "code",
   "execution_count": null,
   "metadata": {},
   "outputs": [],
   "source": []
  },
  {
   "cell_type": "code",
   "execution_count": null,
   "metadata": {},
   "outputs": [],
   "source": []
  },
  {
   "cell_type": "code",
   "execution_count": null,
   "metadata": {},
   "outputs": [],
   "source": []
  },
  {
   "cell_type": "code",
   "execution_count": null,
   "metadata": {},
   "outputs": [],
   "source": []
  },
  {
   "cell_type": "code",
   "execution_count": null,
   "metadata": {},
   "outputs": [],
   "source": []
  },
  {
   "cell_type": "code",
   "execution_count": null,
   "metadata": {},
   "outputs": [],
   "source": []
  },
  {
   "cell_type": "code",
   "execution_count": null,
   "metadata": {},
   "outputs": [],
   "source": []
  },
  {
   "cell_type": "code",
   "execution_count": null,
   "metadata": {},
   "outputs": [],
   "source": []
  },
  {
   "cell_type": "code",
   "execution_count": null,
   "metadata": {},
   "outputs": [],
   "source": []
  },
  {
   "cell_type": "code",
   "execution_count": null,
   "metadata": {},
   "outputs": [],
   "source": []
  },
  {
   "cell_type": "code",
   "execution_count": null,
   "metadata": {},
   "outputs": [],
   "source": []
  },
  {
   "cell_type": "markdown",
   "metadata": {},
   "source": [
    "# Extract consumption vector"
   ]
  },
  {
   "cell_type": "code",
   "execution_count": null,
   "metadata": {},
   "outputs": [],
   "source": [
    "path = 'Draft_Paper_8_v11_SupportingInformation.xlsx'\n",
    "df = pd.read_excel(path, sheet_name = 'Overview & LCA-Modeling', header=2)"
   ]
  },
  {
   "cell_type": "code",
   "execution_count": null,
   "metadata": {},
   "outputs": [],
   "source": [
    "def complete_columns(df):\n",
    "    \n",
    "    column_names = list(df.columns)\n",
    "    indices = [i for i,el in enumerate(column_names)  if 'Activity' in el]\n",
    "    column_names_complete = copy(column_names)\n",
    "\n",
    "    n_el_added = 0\n",
    "    for ind in indices:\n",
    "        if 'On' not in column_names[ind-1]:\n",
    "            act_name = column_names[ind]\n",
    "            act_number = act_name[act_name.find(' ')+1:]\n",
    "            column_names_complete.insert(ind+n_el_added, 'On ' + act_number)\n",
    "            n_el_added += 1\n",
    "        \n",
    "    df.columns = column_names_complete[:len(column_names)]\n",
    "    \n",
    "    return df"
   ]
  },
  {
   "cell_type": "code",
   "execution_count": null,
   "metadata": {},
   "outputs": [],
   "source": [
    "path_complete = path\n",
    "df.to_excel()"
   ]
  },
  {
   "cell_type": "code",
   "execution_count": null,
   "metadata": {},
   "outputs": [],
   "source": []
  },
  {
   "cell_type": "code",
   "execution_count": null,
   "metadata": {},
   "outputs": [],
   "source": []
  },
  {
   "cell_type": "code",
   "execution_count": null,
   "metadata": {},
   "outputs": [],
   "source": [
    "bw.Database('ecoinvent 3.6 cutoff').search('rice production, non-basmati')"
   ]
  },
  {
   "cell_type": "code",
   "execution_count": null,
   "metadata": {},
   "outputs": [],
   "source": [
    "column_names.insert?"
   ]
  },
  {
   "cell_type": "markdown",
   "metadata": {},
   "source": [
    "## 1. Add `On's` into columns that Andi forgot to include"
   ]
  },
  {
   "cell_type": "code",
   "execution_count": null,
   "metadata": {},
   "outputs": [],
   "source": []
  },
  {
   "cell_type": "code",
   "execution_count": null,
   "metadata": {},
   "outputs": [],
   "source": []
  },
  {
   "cell_type": "code",
   "execution_count": null,
   "metadata": {},
   "outputs": [],
   "source": []
  },
  {
   "cell_type": "code",
   "execution_count": null,
   "metadata": {},
   "outputs": [],
   "source": [
    "ls"
   ]
  },
  {
   "cell_type": "code",
   "execution_count": null,
   "metadata": {},
   "outputs": [],
   "source": [
    "from consumption_copy import ConsumptionLCA"
   ]
  },
  {
   "cell_type": "code",
   "execution_count": null,
   "metadata": {},
   "outputs": [],
   "source": [
    "ei_lca"
   ]
  },
  {
   "cell_type": "code",
   "execution_count": null,
   "metadata": {},
   "outputs": [],
   "source": []
  },
  {
   "cell_type": "code",
   "execution_count": null,
   "metadata": {},
   "outputs": [],
   "source": []
  },
  {
   "cell_type": "code",
   "execution_count": null,
   "metadata": {},
   "outputs": [],
   "source": []
  },
  {
   "cell_type": "code",
   "execution_count": 21,
   "metadata": {},
   "outputs": [],
   "source": [
    "act = bw.Database('biosphere3').random()"
   ]
  },
  {
   "cell_type": "code",
   "execution_count": 23,
   "metadata": {},
   "outputs": [
    {
     "data": {
      "text/plain": [
       "{'categories': ('air', 'low population density, long-term'),\n",
       " 'code': 'd482b568-0604-4433-87b2-1340f7a17512',\n",
       " 'name': 'Methanol',\n",
       " 'database': 'biosphere3',\n",
       " 'unit': 'kilogram',\n",
       " 'type': 'emission'}"
      ]
     },
     "execution_count": 23,
     "metadata": {},
     "output_type": "execute_result"
    }
   ],
   "source": [
    "act.as_dict()"
   ]
  },
  {
   "cell_type": "code",
   "execution_count": null,
   "metadata": {},
   "outputs": [],
   "source": []
  },
  {
   "cell_type": "code",
   "execution_count": null,
   "metadata": {},
   "outputs": [],
   "source": []
  },
  {
   "cell_type": "code",
   "execution_count": null,
   "metadata": {},
   "outputs": [],
   "source": []
  }
 ],
 "metadata": {
  "kernelspec": {
   "display_name": "Python 3",
   "language": "python",
   "name": "python3"
  },
  "language_info": {
   "codemirror_mode": {
    "name": "ipython",
    "version": 3
   },
   "file_extension": ".py",
   "mimetype": "text/x-python",
   "name": "python",
   "nbconvert_exporter": "python",
   "pygments_lexer": "ipython3",
   "version": "3.7.4"
  }
 },
 "nbformat": 4,
 "nbformat_minor": 2
}
