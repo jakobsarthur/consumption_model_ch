{
 "cells": [
  {
   "cell_type": "code",
   "execution_count": 1,
   "metadata": {},
   "outputs": [],
   "source": [
    "import bw2data as bd\n",
    "import bw2calc as bc\n",
    "import bw2io as bi\n",
    "\n",
    "import numpy as np\n",
    "import json, os\n",
    "\n",
    "#Local files\n",
    "from import_databases import *"
   ]
  },
  {
   "cell_type": "code",
   "execution_count": 2,
   "metadata": {},
   "outputs": [
    {
     "data": {
      "text/plain": [
       "'local'"
      ]
     },
     "execution_count": 2,
     "metadata": {},
     "output_type": "execute_result"
    }
   ],
   "source": [
    "with open('global_settings.json', 'rb') as f:\n",
    "    settings = json.load(f)\n",
    "which_pc = settings['which_pc']\n",
    "which_pc"
   ]
  },
  {
   "cell_type": "markdown",
   "metadata": {},
   "source": [
    "### TODO -> give paths to databases files"
   ]
  },
  {
   "cell_type": "code",
   "execution_count": 3,
   "metadata": {},
   "outputs": [],
   "source": [
    "if which_pc == 'local':\n",
    "    # Older databases\n",
    "    ei33_path = '/Users/akim/Documents/LCA_files/ecoinvent 3.3 cutoff/datasets'  \n",
    "    ex22_path = '/Users/akim/Documents/LCA_files/exiobase_2.2/mrIOT_IxI_fpa_coefficient_version2.2.2'\n",
    "    ag12_path = '/Users/akim/Documents/LCA_files/agribalyse 1.2/AGRIBALYSEv1.2_Complete.xml'\n",
    "    ei36_path = '/Users/akim/Documents/LCA_files/ecoinvent 3.6 cutoff/datasets'  \n",
    "    # Newer databases\n",
    "    ei371_path = '/Users/akim/Documents/LCA_files/ecoinvent 3.7.1 cutoff/datasets'  \n",
    "    ex381_path = '/Users/akim/Documents/LCA_files/exiobase_3.8.1_monetary/IOT_2015_pxp/'\n",
    "    ex381_name = \"Exiobase 3.8.1 Monetary 2015\"\n",
    "    sut_path = '/Users/akim/Documents/LCA_files/exiobase_SUT/data/'\n",
    "    ag13_path = '/Users/akim/Documents/LCA_files/agribalyse 1.3/Agribalyse CSV FINAL_no links_Nov2016v3.CSV'\n",
    "    habe_path = '/Users/akim/Documents/LCA_files/HABE_2017/'\n",
    "    co_path = 'data/es8b01452_si_002.xlsx'\n",
    "elif which_pc == 'merlin':\n",
    "    ex22_path = '/data/user/kim_a/LCA_files/exiobase_22/mrIOT_IxI_fpa_coefficient_version2.2.2'\n",
    "    ei33_path = '/data/user/kim_a/LCA_files/ecoinvent_33_cutoff/datasets'  \n",
    "    ei36_path = '/data/user/kim_a/LCA_files/ecoinvent_36_cutoff/datasets'  \n",
    "    ag13_path = '/data/user/kim_a/LCA_files/agribalyse_13/Agribalyse CSV FINAL_no links_Nov2016v3.CSV'\n",
    "    habe_path = '/data/user/kim_a/LCA_files/HABE_2017'\n",
    "    co_path = 'data/es8b01452_si_002.xlsx'"
   ]
  },
  {
   "cell_type": "markdown",
   "metadata": {},
   "source": [
    "# TODO -> choose project"
   ]
  },
  {
   "cell_type": "code",
   "execution_count": 4,
   "metadata": {},
   "outputs": [],
   "source": [
    "project = \"GSA for protocol\"\n",
    "bd.projects.set_current(project)\n",
    "\n",
    "ei36_name = 'ecoinvent 3.6 cutoff'\n",
    "ei371_name = 'ecoinvent 3.7.1 cutoff'\n",
    "ei_option = \"371\"\n",
    "if ei_option == \"36\":\n",
    "    ei_name = ei36_name\n",
    "    ei_path = ei36_path\n",
    "elif ei_option == \"371\":\n",
    "    ei_name = ei371_name\n",
    "    ei_path = ei371_path\n",
    "    \n",
    "ex_name = ex381_name\n",
    "ex_path = ex381_path"
   ]
  },
  {
   "cell_type": "code",
   "execution_count": null,
   "metadata": {},
   "outputs": [],
   "source": [
    "# bd.projects.delete_project(project, True)"
   ]
  },
  {
   "cell_type": "code",
   "execution_count": null,
   "metadata": {},
   "outputs": [],
   "source": [
    "try:\n",
    "#     del bw.databases[\"Agribalyse 1.3 - {} - new biosphere\".format(ei_name)]\n",
    "#     del bw.databases[\"Agribalyse 1.3 - {}\".format(ei_name)]\n",
    "    del bd.databases[\"CH consumption 1.0\"]\n",
    "except:\n",
    "    pass"
   ]
  },
  {
   "cell_type": "code",
   "execution_count": 8,
   "metadata": {},
   "outputs": [
    {
     "data": {
      "text/plain": [
       "Databases dictionary with 3 object(s):\n",
       "\tCH consumption 1.0\n",
       "\tbiosphere3\n",
       "\tecoinvent 3.7.1 cutoff"
      ]
     },
     "execution_count": 8,
     "metadata": {},
     "output_type": "execute_result"
    }
   ],
   "source": [
    "bd.databases"
   ]
  },
  {
   "cell_type": "markdown",
   "metadata": {},
   "source": [
    "### Import necessary databases\n",
    "\n",
    "Import of Exiobase 3 might need latest brightway 2.5 version. We recommend creating new conda environment. Until there is an official release, following packages:\n",
    "\n",
    "- brightway2-io\n",
    "- brightway2-data\n",
    "- brightway2-calc\n",
    "- matrix_utils\n",
    "- bw_processing\n",
    "\n",
    "1. cannot be conda or pip install\n",
    "2. need to be git cloned from the respective websites, search here: https://github.com/brightway-lca\n",
    "3. once cloned, install each of the packages with `pip install -e .` (editable install) in their directories, where setup.py is located\n",
    "4. these packages are under active development, so make sure to pull the newest changes from time to time"
   ]
  },
  {
   "cell_type": "code",
   "execution_count": 6,
   "metadata": {
    "scrolled": true
   },
   "outputs": [
    {
     "name": "stdout",
     "output_type": "stream",
     "text": [
      "Biosphere database already present!!! No setup is needed\n",
      "ecoinvent 3.7.1 cutoff database already present!!! No import is needed\n",
      "Biosphere database already present!!! No setup is needed\n",
      "ecoinvent 3.3 cutoff database already present!!! No import is needed\n",
      "--> Creating consumption_db.xlsx\n",
      "Extracted 1 worksheets in 5.28 seconds\n",
      "Applying strategy: csv_restore_tuples\n",
      "Applying strategy: csv_restore_booleans\n",
      "Applying strategy: csv_numerize\n",
      "Applying strategy: csv_drop_unknown\n",
      "Applying strategy: csv_add_missing_exchanges_section\n",
      "Applying strategy: normalize_units\n",
      "Applying strategy: normalize_biosphere_categories\n",
      "Applying strategy: normalize_biosphere_names\n",
      "Applying strategy: strip_biosphere_exc_locations\n",
      "Applying strategy: set_code_by_activity_hash\n",
      "Applying strategy: link_iterable_by_fields\n",
      "Applying strategy: assign_only_product_as_production\n",
      "Applying strategy: link_technosphere_by_activity_hash\n",
      "Applying strategy: drop_falsey_uncertainty_fields_but_keep_zeros\n",
      "Applying strategy: convert_uncertainty_types_to_integers\n",
      "Applying strategy: convert_activity_parameters_to_list\n",
      "Applied 16 strategies in 0.17 seconds\n",
      "Applying strategy: link_iterable_by_fields\n",
      "Applying strategy: link_iterable_by_fields\n",
      "Migration for 'steam production in chemical industry' and 'market for green bell pepper'\n",
      "Applying strategy: migrate_datasets\n",
      "Applying strategy: migrate_exchanges\n",
      "Applying strategy: link_iterable_by_fields\n",
      "Applying strategy: migrate_datasets\n",
      "Applying strategy: migrate_exchanges\n",
      "Applying strategy: link_iterable_by_fields\n",
      "Applying strategy: link_iterable_by_fields\n",
      "207 datasets\n",
      "903 exchanges\n",
      "0 unlinked exchanges\n",
      "  \n"
     ]
    },
    {
     "name": "stderr",
     "output_type": "stream",
     "text": [
      "Writing activities to SQLite3 database:\n",
      "0% [##############################] 100% | ETA: 00:00:00\n",
      "Total time elapsed: 00:00:00\n"
     ]
    },
    {
     "name": "stdout",
     "output_type": "stream",
     "text": [
      "Title: Writing activities to SQLite3 database:\n",
      "  Started: 06/02/2021 12:36:58\n",
      "  Finished: 06/02/2021 12:36:59\n",
      "  Total time elapsed: 00:00:00\n",
      "  CPU %: 107.00\n",
      "  Memory %: 1.97\n",
      "Created database: CH consumption 1.0\n",
      "['ch hh all consumption aggregated' (1 month of consumption, CH, None)]\n"
     ]
    }
   ],
   "source": [
    "co_name = CONSUMPTION_DB_NAME\n",
    "\n",
    "if project == \"GSA for protocol\":\n",
    "#     bw-migrations             0.1                      pypi_0    pypi\n",
    "#     bw2analyzer               0.10                     pypi_0    pypi\n",
    "#     bw2calc                   1.8.0                    pypi_0    pypi\n",
    "#     bw2data                   3.6.2                    pypi_0    pypi\n",
    "#     bw2io                     0.8.3.1                  pypi_0    pypi\n",
    "#     bw2parameters             0.6.6                    pypi_0    pypi\n",
    "    bi.bw2setup()\n",
    "    import_ecoinvent(ei_path, ei_name)\n",
    "    create_ecoinvent_33_project(ei33_path)\n",
    "#     import_exiobase_3(ex_path, ex_name)\n",
    "    exclude_dbs = [\n",
    "        'heia', \n",
    "        'Agribalyse 1.2',\n",
    "        'Agribalyse 1.3 - {}'.format(ei_name),\n",
    "        'exiobase 2.2'\n",
    "    ]\n",
    "    co = import_consumption_db(\n",
    "        co_path, \n",
    "        habe_path, \n",
    "        exclude_dbs=exclude_dbs, \n",
    "        ei_name=ei_name, \n",
    "        ex_path=ex_path,\n",
    "        sut_path=sut_path,\n",
    "    )\n",
    "    add_consumption_activities(co_name, habe_path, habe_year='151617', option='aggregated',)\n",
    "    add_consumption_categories(co_name, co_path)\n",
    "    add_consumption_sectors(co_name)\n",
    "    \n",
    "elif project == \"GSA for protocol_ex\":\n",
    "    bi.bw2setup()\n",
    "    import_ecoinvent(ei_path, ei_name)\n",
    "    create_ecoinvent_33_project(ei33_path)\n",
    "    import_exiobase_3(ex_path, ex_name)\n",
    "    exclude_dbs = [\n",
    "        'heia', \n",
    "        'Agribalyse 1.2',\n",
    "        'Agribalyse 1.3 - {}'.format(ei_name),\n",
    "    ]\n",
    "    co = import_consumption_db(\n",
    "        co_path, \n",
    "        habe_path, \n",
    "        exclude_dbs=exclude_dbs, \n",
    "        ei_name=ei_name, \n",
    "        ex_path=ex_path,\n",
    "        sut_path=sut_path,\n",
    "    )\n",
    "    add_consumption_activities(co_name, habe_path, habe_year='151617', option='aggregated',)\n",
    "    add_consumption_categories(co_name, co_path)\n",
    "    add_consumption_sectors(co_name)"
   ]
  },
  {
   "cell_type": "code",
   "execution_count": null,
   "metadata": {
    "scrolled": true
   },
   "outputs": [],
   "source": [
    "# %%time \n",
    "\n",
    "# co_name = CONSUMPTION_DB_NAME\n",
    "\n",
    "# if project == 'GSA for ecoinvent':\n",
    "#     bw.bw2setup()\n",
    "#     import_exiobase_22(ex22_path)\n",
    "#     import_ecoinvent(ei_path, ei_name)\n",
    "#     import_agribalyse_13(ag13_path, ei_name)\n",
    "#     # Consumption DB\n",
    "#     create_ecoinvent_33_project(ei33_path)\n",
    "#     import_consumption_db(co_path, habe_path, exclude_dbs=['heia'])\n",
    "#     add_consumption_activities(co_name, habe_path)\n",
    "\n",
    "# elif project == 'GSA for paper':\n",
    "#     bw.bw2setup()\n",
    "#     import_ecoinvent(ei_path, ei_name)\n",
    "#     # Consumption DB\n",
    "#     create_ecoinvent_33_project(ei33_path)\n",
    "#     exclude_dbs = [\n",
    "#         'heia', \n",
    "#         'EXIOBASE 2.2',\n",
    "#         'Agribalyse 1.2',\n",
    "#         'Agribalyse 1.3 - {}'.format(ei_name),\n",
    "#     ]\n",
    "#     import_consumption_db(co_path, habe_path, exclude_dbs=exclude_dbs)\n",
    "#     add_consumption_activities(co_name, habe_path)\n",
    "#     add_consumption_categories(co_name, co_path)\n",
    "#     add_consumption_sectors(co_name)\n",
    "    \n",
    "# elif project == 'GSA no exiobase':\n",
    "#     bw.bw2setup()\n",
    "#     import_ecoinvent(ei_path, ei_name)\n",
    "#     import_agribalyse_13(ag13_path, ei_name)\n",
    "#     # Consumption DB\n",
    "#     create_ecoinvent_33_project(ei33_path)\n",
    "#     exclude_dbs = [\n",
    "#         'heia', \n",
    "#         'EXIOBASE 2.2',\n",
    "#     ]\n",
    "#     import_consumption_db(co_path, habe_path, exclude_dbs=exclude_dbs)\n",
    "#     add_consumption_activities(co_name, habe_path)\n",
    "    \n",
    "# elif project == 'GSA for setac':\n",
    "#     bw.bw2setup()\n",
    "#     import_ecoinvent(ei_path, ei_name)\n",
    "#     # Consumption DB\n",
    "#     create_ecoinvent_33_project(ei33_path)\n",
    "#     exclude_dbs = [\n",
    "#         'heia', \n",
    "#         'EXIOBASE 2.2',\n",
    "#         'Agribalyse 1.2',\n",
    "#         'Agribalyse 1.3 - {}'.format(ei_name),\n",
    "#     ]\n",
    "#     import_consumption_db(co_path, habe_path, exclude_dbs=exclude_dbs)\n",
    "#     add_consumption_activities(co_name, habe_path)\n",
    "#     add_consumption_categories(co_name, co_path)\n",
    "#     add_consumption_sectors(co_name)\n",
    "    \n",
    "# elif 'GSA for oases' in project:\n",
    "#     bw.bw2setup()\n",
    "#     import_ecoinvent(ei_path, ei_name)\n",
    "#     # Consumption DB\n",
    "#     create_ecoinvent_33_project(ei33_path)\n",
    "#     import_agribalyse_13(ag13_path, ei_name)\n",
    "#     exclude_dbs = [\n",
    "#         'heia', \n",
    "#         'EXIOBASE 2.2',\n",
    "#     ]\n",
    "#     import_consumption_db(co_path, habe_path, exclude_dbs=exclude_dbs, ei_name=ei_name)\n",
    "#     add_consumption_activities(co_name, habe_path)\n",
    "#     add_consumption_categories(co_name, co_path)\n",
    "#     add_consumption_sectors(co_name)\n",
    "    \n",
    "# elif \"GSA for protocol\" in project:\n",
    "#     bw.bw2setup()\n",
    "#     import_ecoinvent(ei_path, ei_name)\n",
    "#     create_ecoinvent_33_project(ei33_path)\n",
    "#     import_exiobase_3(ex_path, ex_name)\n",
    "#     exclude_dbs = [\n",
    "#         'heia', \n",
    "#         'Agribalyse 1.2',\n",
    "#         'Agribalyse 1.3 - {}'.format(ei_name),\n",
    "#     ]\n",
    "#     co = import_consumption_db(\n",
    "#         co_path, \n",
    "#         habe_path, \n",
    "#         exclude_dbs=exclude_dbs, \n",
    "#         ei_name=ei_name, \n",
    "#         ex_path=ex_path,\n",
    "#         sut_path=sut_path,\n",
    "#     )\n",
    "#     add_consumption_activities(co_name, habe_path, habe_year='151617', option='aggregated',)\n",
    "#     add_consumption_categories(co_name, co_path)\n",
    "#     add_consumption_sectors(co_name)"
   ]
  },
  {
   "cell_type": "code",
   "execution_count": null,
   "metadata": {},
   "outputs": [],
   "source": [
    "co = bd.Database('CH consumption 1.0')\n",
    "for act in co:\n",
    "    excs = [exc.input for exc in act.exchanges()]\n",
    "    rep_inputs = {exc for exc in excs if excs.count(exc) > 1}\n",
    "    if len(rep_inputs)>0:\n",
    "        print(act, rep_inputs)     "
   ]
  },
  {
   "cell_type": "code",
   "execution_count": null,
   "metadata": {},
   "outputs": [],
   "source": [
    "demand, data_objs, remapping_dicts = bd.prepare_lca_inputs(demand)"
   ]
  },
  {
   "cell_type": "code",
   "execution_count": null,
   "metadata": {},
   "outputs": [],
   "source": [
    "lca= bc.LCA(demand=demand, data_objs=data_objs, remapping_dicts=remapping_dicts)"
   ]
  },
  {
   "cell_type": "code",
   "execution_count": null,
   "metadata": {},
   "outputs": [],
   "source": []
  },
  {
   "cell_type": "code",
   "execution_count": 7,
   "metadata": {},
   "outputs": [
    {
     "name": "stdout",
     "output_type": "stream",
     "text": [
      "'Food and non-alcoholic beverages sector' (1 month of consumption, CH, None)\n",
      "CPU times: user 11.5 s, sys: 2.07 s, total: 13.5 s\n",
      "Wall time: 3 s\n"
     ]
    },
    {
     "data": {
      "text/plain": [
       "211.57670115335657"
      ]
     },
     "execution_count": 7,
     "metadata": {},
     "output_type": "execute_result"
    }
   ],
   "source": [
    "%%time\n",
    "co = bd.Database('CH consumption 1.0')\n",
    "# demand_act = co.search('average consumption aggregated')[0]\n",
    "demand_act = co.search('food sector')[0]\n",
    "demand = {demand_act: 1}\n",
    "method = ('IPCC 2013', 'climate change', 'GWP 100a')\n",
    "print(demand_act)\n",
    "\n",
    "lca = bc.LCA(demand, method)\n",
    "lca.lci()\n",
    "lca.lcia()\n",
    "lca.score"
   ]
  },
  {
   "cell_type": "markdown",
   "metadata": {},
   "source": [
    "# Contribution of food items"
   ]
  },
  {
   "cell_type": "code",
   "execution_count": null,
   "metadata": {},
   "outputs": [],
   "source": [
    "%%time\n",
    "fus = [{exc.input: exc.amount} for exc in demand_act.exchanges()]\n",
    "scores = {}\n",
    "for fu in fus:\n",
    "    lca = bw.LCA(fu, method)\n",
    "    lca.lci()\n",
    "    lca.lcia()\n",
    "    scores[list(fu.keys())[0]['name']] = {\n",
    "        \"score\": lca.score,\n",
    "    }\n",
    "    print(fu, lca.score)"
   ]
  },
  {
   "cell_type": "markdown",
   "metadata": {},
   "source": [
    "# Contribution of sectors"
   ]
  },
  {
   "cell_type": "code",
   "execution_count": null,
   "metadata": {},
   "outputs": [],
   "source": [
    "%%time\n",
    "fus = [act for act in co if 'sector' in act['name']]\n",
    "scores = {}\n",
    "for fu in fus:\n",
    "    excs = {exc.input['name']: \"{} {}\".format(exc['amount'], exc.input['unit']) for exc in fu.exchanges()\n",
    "           if exc['type']=='technosphere'}\n",
    "    lca = bw.LCA({fu: 1}, method)\n",
    "    lca.lci()\n",
    "    lca.lcia()\n",
    "    scores[fu['name']] = {\n",
    "        \"exchanges\": excs,\n",
    "        \"score\": lca.score,\n",
    "    }\n",
    "    print(fu, lca.score)"
   ]
  },
  {
   "cell_type": "code",
   "execution_count": null,
   "metadata": {},
   "outputs": [],
   "source": [
    "write_dir = Path('write_files')\n",
    "filepath = write_dir / \"contribution_scores_sectors.pickle\"\n",
    "with open(filepath, 'wb') as f:\n",
    "    pickle.dump(scores, f)"
   ]
  },
  {
   "cell_type": "markdown",
   "metadata": {},
   "source": [
    "# Scores for all consumption activities"
   ]
  },
  {
   "cell_type": "code",
   "execution_count": null,
   "metadata": {},
   "outputs": [],
   "source": [
    "import brightway2 as bw\n",
    "import pickle\n",
    "from pathlib import Path"
   ]
  },
  {
   "cell_type": "code",
   "execution_count": null,
   "metadata": {},
   "outputs": [],
   "source": [
    "%%time\n",
    "write_dir = Path(\"write_files\")\n",
    "\n",
    "project = 'GSA for protocol'\n",
    "bw.projects.set_current(project)\n",
    "co = bw.Database(\"CH consumption 1.0\")\n",
    "method = ('IPCC 2013', 'climate change', 'GWP 100a')\n",
    "contribution_scores = {}\n",
    "i = 0\n",
    "for act in list(co):\n",
    "    demand = {act: 1}\n",
    "    lca = bw.LCA(demand, method)\n",
    "    lca.lci()\n",
    "    lca.lcia()\n",
    "    act_name = act[\"name\"]\n",
    "    contribution_scores[act_name] = lca.score\n",
    "    print(i, lca.score, act_name)\n",
    "    i+=1"
   ]
  },
  {
   "cell_type": "code",
   "execution_count": null,
   "metadata": {},
   "outputs": [],
   "source": [
    "filepath = write_dir / \"contribution_scores.pickle\"\n",
    "with open(filepath, 'wb') as f:\n",
    "    pickle.dump(contribution_scores, f)"
   ]
  },
  {
   "cell_type": "markdown",
   "metadata": {},
   "source": [
    "# Contribution of sectors, where each fu within sector has amount = 1"
   ]
  },
  {
   "cell_type": "code",
   "execution_count": null,
   "metadata": {},
   "outputs": [],
   "source": [
    "# %%time\n",
    "# fus = [act for act in co if 'sector' in act['name']]\n",
    "# scores = {}\n",
    "# for fu in fus:\n",
    "#     new_fu = {exc.input: 1 for exc in fu.exchanges() if exc['type']=='technosphere'}\n",
    "#     new_fu_str = {exc.input['name']: \"1 {}\".format(exc.input['unit']) \n",
    "#                   for exc in fu.exchanges() if exc['type']=='technosphere'}\n",
    "#     lca = bw.LCA(new_fu, method)\n",
    "#     lca.lci()\n",
    "#     lca.lcia()\n",
    "#     scores[fu['name']] = {\n",
    "#         \"exchanges\": new_fu_str,\n",
    "#         \"score\": lca.score,\n",
    "#     }\n",
    "#     print(fu, lca.score)"
   ]
  },
  {
   "cell_type": "code",
   "execution_count": null,
   "metadata": {},
   "outputs": [],
   "source": [
    "# path_scores = 'write_files/contribution_scores_sectors_allfu1.pickle'\n",
    "# with open(path_scores, 'wb') as f:\n",
    "#     pickle.dump(scores, f)"
   ]
  },
  {
   "cell_type": "markdown",
   "metadata": {},
   "source": [
    "# Contribution of specific sectors"
   ]
  },
  {
   "cell_type": "code",
   "execution_count": null,
   "metadata": {},
   "outputs": [],
   "source": [
    "# demand_act = co.search('ch hh average consumption')\n",
    "# assert len(demand_act) == 1\n",
    "# demand_act = demand_act[0]\n",
    "\n",
    "# purchase, transportation_services, transport_by_air, recreation, package_holidays = {}, {}, {}, {}, {}\n",
    "# purchase_name = 'Purchase and operation of vehicles'\n",
    "# transportation_services_name = \"Transportation services\"\n",
    "# transport_by_air_name = \"Passenger transport by air\"\n",
    "# recreation_name = \"Recreation and culture\"\n",
    "# package_holidays_name = \"Package holidays\"\n",
    "# for exc in demand_act.exchanges():\n",
    "#     if exc.input.get('category_middle') == purchase_name:\n",
    "#         purchase.update({\n",
    "#             exc.input: exc.amount,\n",
    "#         })\n",
    "#     if exc.input.get('category_middle') == transportation_services_name:\n",
    "#         if exc.input.get('category_fine') == transport_by_air_name:\n",
    "#             transport_by_air.update({\n",
    "#                 exc.input: exc.amount,\n",
    "#             })\n",
    "#         else:\n",
    "#             transportation_services.update({\n",
    "#                 exc.input: exc.amount,\n",
    "#             })\n",
    "#     if exc.input.get('category_coarse') == recreation_name:\n",
    "#         if exc.input.get('category_middle') == package_holidays_name:\n",
    "#             package_holidays.update({\n",
    "#                 exc.input: exc.amount,\n",
    "#             })\n",
    "#         else:\n",
    "#             recreation.update({\n",
    "#                 exc.input: exc.amount,\n",
    "#             })\n",
    "# fus = {\n",
    "#     purchase_name: purchase,\n",
    "#     transportation_services_name: transportation_services,\n",
    "#     transport_by_air_name: transport_by_air,\n",
    "#     recreation_name: recreation,\n",
    "#     package_holidays_name: package_holidays,\n",
    "# } "
   ]
  },
  {
   "cell_type": "code",
   "execution_count": null,
   "metadata": {},
   "outputs": [],
   "source": [
    "# contribution_scores = {}\n",
    "# for name,demand in fus.items():\n",
    "#     new_fu = {k:1 for k,v in demand.items()}\n",
    "#     new_fu_str = {k['name']: \"1 {}\".format(k['unit']) for k,v in demand.items()}\n",
    "#     lca = bw.LCA(new_fu, method)\n",
    "#     lca.lci()\n",
    "#     lca.lcia()\n",
    "#     contribution_scores[name] = {\n",
    "#         \"LCA score\": lca.score,\n",
    "#         \"Exchanges\": new_fu_str,\n",
    "#     }\n",
    "#     print(lca.score, name)"
   ]
  },
  {
   "cell_type": "code",
   "execution_count": null,
   "metadata": {},
   "outputs": [],
   "source": [
    "# path_scores = 'write_files/contribution_scores_5categories_allfu1.pickle'\n",
    "# with open(path_scores, 'wb') as f:\n",
    "#     pickle.dump(contribution_scores, f)"
   ]
  },
  {
   "cell_type": "code",
   "execution_count": null,
   "metadata": {},
   "outputs": [],
   "source": [
    "# from bw2calc import MonteCarloLCA\n",
    "# mc = MonteCarloLCA(demand, method)\n",
    "# [next(mc) for _ in range(5)]"
   ]
  },
  {
   "cell_type": "markdown",
   "metadata": {},
   "source": [
    "# Comparison between final demand of exiobase 2.2 and 3.8.1"
   ]
  },
  {
   "cell_type": "code",
   "execution_count": null,
   "metadata": {},
   "outputs": [],
   "source": [
    "import brightway2 as bw\n",
    "import numpy as np\n",
    "import json, os, pickle\n",
    "import re\n",
    "\n",
    "#Local files\n",
    "from import_databases import *"
   ]
  },
  {
   "cell_type": "code",
   "execution_count": null,
   "metadata": {},
   "outputs": [],
   "source": [
    "ex22_path = '/Users/akim/Documents/LCA_files/exiobase_2.2/mrIOT_IxI_fpa_coefficient_version2.2.2'\n",
    "ex381_path = '/Users/akim/Documents/LCA_files/exiobase_3.8.1_monetary/IOT_2015_pxp/'\n",
    "\n",
    "filename22 = \"mrFinalDemand_version2.2.2.txt\"\n",
    "columns22 = ['Unnamed: 0', 'Unnamed: 1', 'CH']\n",
    "filename381 = \"Y.txt\"\n",
    "columns381 = ['region', 'Unnamed: 1', 'CH']\n",
    "filepath22 = Path(ex22_path) / filename22\n",
    "filepath381 = Path(ex381_path) / filename381\n",
    "\n",
    "df2 = pd.read_table(filepath22)\n",
    "df2 = df2[columns22]\n",
    "df2.columns = ['location', 'name', 'hh_consumption_2007_euro']\n",
    "df2 = df2.dropna()\n",
    "df2.index = np.arange(len(df2))\n",
    "\n",
    "df3 = pd.read_table(filepath381)\n",
    "df3 = df3[columns381]\n",
    "df3.columns = ['location', 'name', 'hh_consumption_2015_euro']\n",
    "df3 = df3.dropna()\n",
    "df3.index = np.arange(len(df3))\n",
    "\n",
    "# Harmonize names in exiobase 2 and 3, use names from exiobasee 3 everywhere\n",
    "filepath_ex381_names = 'data/migrations/exiobase-3.8.1.json'\n",
    "with open(filepath_ex381_names, 'r') as f:\n",
    "    ex_names_dict_raw = json.load(f)\n",
    "ex_names_dict = {}\n",
    "for el in ex_names_dict_raw['data']:\n",
    "    ex_names_dict[el[0][0]] = el[1]['name']\n",
    "\n",
    "for i,row in df2.iterrows():\n",
    "    new_name = re.sub(r'\\(.[0-9]+\\)', '', row['name']).rstrip()\n",
    "    if 'Manufacture of' in new_name:\n",
    "        new_name = new_name[15:].capitalize()\n",
    "    row['name']=ex_names_dict.get(new_name, new_name)   \n",
    "for i,row in df3.iterrows():\n",
    "    new_name = re.sub(r'\\(.[0-9]+\\)', '', row['name']).rstrip()\n",
    "    row['name']=new_name\n",
    "\n",
    "filepath_acts = 'write_files/exiobase_in_consumption_db.pickle'\n",
    "with open(filepath_acts, 'rb') as f:\n",
    "    ex_acts = pickle.load(f)\n",
    "    \n",
    "chf_to_euro_2007 = 0.594290\n",
    "chf_to_euro_2015 = 0.937234\n",
    "\n",
    "frames2, frames3 = [], []\n",
    "for act in ex_acts:\n",
    "    frame2 = df2[df2['name'] == act]\n",
    "    if len(frame2)==0:\n",
    "        print('{} not found in ex2'.format(act))\n",
    "    else:\n",
    "        sum2 = sum([float(val) for val in frame2['hh_consumption_2007_euro'].values])\n",
    "        frame2 = frame2.append(\n",
    "            {'location': 'SUM_ALL', 'name': act, 'hh_consumption_2007_euro': sum2}, ignore_index=True\n",
    "        )\n",
    "        frames2.append(frame2)\n",
    "    \n",
    "    frame3 = df3[df3['name'] == act]\n",
    "    if len(frame3)==0:\n",
    "        print('{} not found in ex3'.format(act))\n",
    "    else:\n",
    "        sum3 = sum([float(val) for val in frame3['hh_consumption_2015_euro'].values])\n",
    "        frame3 = frame3.append(\n",
    "            {'location': 'SUM_ALL', 'name': act, 'hh_consumption_2015_euro': sum3}, ignore_index=True\n",
    "        )\n",
    "        frames3.append(frame3) \n",
    "    \n",
    "df2_subset = pd.concat(frames2)\n",
    "df3_subset = pd.concat(frames3)\n",
    "acts2 = set(df2_subset['name'])\n",
    "acts3 = set(df3_subset['name'])\n",
    "\n",
    "df2_subset['hh_consumption_2007_euro'] = [float(val) for val in df2_subset['hh_consumption_2007_euro'].values]\n",
    "df3_subset['hh_consumption_2015_euro'] = [float(val) for val in df3_subset['hh_consumption_2015_euro'].values]\n",
    "\n",
    "df = df3_subset.merge(df2_subset, how='left')\n",
    "df['hh_consumption_2015_chf'] = df['hh_consumption_2015_euro'].values/chf_to_euro_2015\n",
    "df['hh_consumption_2007_chf'] = df['hh_consumption_2007_euro'].values/chf_to_euro_2007\n",
    "df['ratio_2015_to_2007_chf'] = df['hh_consumption_2015_chf'] / df['hh_consumption_2007_chf']\n",
    "df['ratio_2007_to_2015_chf'] = df['hh_consumption_2007_chf'] / df['hh_consumption_2015_chf']"
   ]
  },
  {
   "cell_type": "code",
   "execution_count": null,
   "metadata": {},
   "outputs": [],
   "source": [
    "df.to_excel('write_files/final_demand_comparison_2007_2015.xlsx')"
   ]
  },
  {
   "cell_type": "markdown",
   "metadata": {},
   "source": [
    "# Comparison of contribution scores: \n",
    "## linking of consumption database to i) exiobase_industry_workaround vs ii) exiobase 3.8.1"
   ]
  },
  {
   "cell_type": "code",
   "execution_count": null,
   "metadata": {},
   "outputs": [],
   "source": [
    "import brightway2 as bw\n",
    "import pickle\n",
    "from pathlib import Path\n",
    "import pandas as pd"
   ]
  },
  {
   "cell_type": "code",
   "execution_count": null,
   "metadata": {},
   "outputs": [],
   "source": [
    "bw.projects.set_current(\"GSA for protocol\")\n",
    "co = bw.Database(\"CH consumption 1.0\")"
   ]
  },
  {
   "cell_type": "code",
   "execution_count": null,
   "metadata": {},
   "outputs": [],
   "source": [
    "fp_scores_sectors = 'write_files/contribution_scores_sectors.pickle'\n",
    "fp_scores_sectors_old = 'write_files/contribution_scores_sectors_exworkaround.pickle'\n",
    "fp_scores = 'write_files/contribution_scores.pickle'\n",
    "fp_scores_old = 'write_files/contribution_scores_exworkaround.pickle'\n",
    "fp_exiobase_old = 'write_files/exiobase_lca_exworkaround.pickle'\n",
    "# with open(fp_scores_sectors, 'rb') as f:\n",
    "#     scores_sectors = pickle.load(f)\n",
    "# with open(fp_scores_sectors_old, 'rb') as f:\n",
    "#     scores_sectors_old = pickle.load(f)\n",
    "with open(fp_scores, 'rb') as f:\n",
    "    scores = pickle.load(f)\n",
    "with open(fp_scores_old, 'rb') as f:\n",
    "    scores_old = pickle.load(f)\n",
    "with open(fp_exiobase_old, 'rb') as f:\n",
    "    scores_ex22 = pickle.load(f)\n",
    "    \n",
    "df = pd.DataFrame.from_dict({'scores': scores, 'scores_old': scores_old})\n",
    "df['diff'] = df['scores'] - df['scores_old']\n",
    "df['diff_abs'] = abs(df['scores'] - df['scores_old'])\n",
    "df['ratio'] = df['scores'] / df['scores_old']\n",
    "\n",
    "bw.projects.set_current('GSA for protocol')\n",
    "co = bw.Database('CH consumption 1.0')\n",
    "ex = bw.Database('Exiobase 3.8.1 Monetary 2015')\n",
    "consumption = [act for act in co if 'average consumption' in act['name']][0]\n",
    "\n",
    "amounts = {}\n",
    "units = {}\n",
    "for exc in consumption.exchanges():\n",
    "    amounts[exc.input['name']] = exc.amount\n",
    "    units[exc.input['name']] = exc.input['unit']\n",
    "    \n",
    "for i,row in df.iterrows():\n",
    "    df.at[i,'amount from fu'] = amounts.get(row.name)\n",
    "    df.at[i,'unit from fu'] = units.get(row.name)"
   ]
  },
  {
   "cell_type": "code",
   "execution_count": null,
   "metadata": {},
   "outputs": [],
   "source": [
    "df.to_excel('write_files/contribution_scores_comparison_exworkaround_ex3.xlsx')"
   ]
  },
  {
   "cell_type": "code",
   "execution_count": null,
   "metadata": {},
   "outputs": [],
   "source": [
    "inland_water_transport = [act for act in ex if 'Inland water transport' in act['name'] and 'PT' in act['location']][0]\n",
    "# LCA score is 2 times higher now\n",
    "education = [act for act in ex if \"Education\" in act['name'] and 'CN' in act['location']][0]\n",
    "# LCA score is 1.4 times higher now\n",
    "wearing_apparel = [act for act in ex if \"Wearing apparel\" in act['name'] and 'NO' in act['location']][0]\n",
    "# ???\n",
    "tobacco = [act for act in ex if \"Tobacco\" in act['name'] and 'ID' in act['location']][0]\n",
    "leather = [act for act in ex if \"leather\" in act['name'].lower() and 'BG' in act['location']][0]\n",
    "\n",
    "other_land_transport = [act for act in ex if \"Other land transport\" in act['name'] and 'RU' in act['location']][0]\n",
    "# LCA score is 0.6 times lower now\n",
    "fabricated_metal = [act for act in ex if \"Fabricated metal\" in act['name'] and 'TR' in act['location']][0]\n",
    "# LCA score is 0.3 times lower now\n",
    "post_telecom = [act for act in ex if \"Post and tele\" in act['name'] and 'SI' in act['location']][0]\n",
    "# LCA score is 0.4 times lower now\n",
    "recreation_culture_sport = [act for act in ex if \"Recreational, cul\" in act['name'] and 'ID' in act['location']][0]\n",
    "# LCA score is 0.4 times lower now\n"
   ]
  },
  {
   "cell_type": "code",
   "execution_count": null,
   "metadata": {},
   "outputs": [],
   "source": [
    "demand = {leather: 1}\n",
    "lca = bw.LCA(demand, method)\n",
    "lca.lci()\n",
    "lca.lcia()\n",
    "lca.score"
   ]
  },
  {
   "cell_type": "code",
   "execution_count": null,
   "metadata": {},
   "outputs": [],
   "source": [
    "lca.score /1176234.1432328927"
   ]
  },
  {
   "cell_type": "code",
   "execution_count": null,
   "metadata": {},
   "outputs": [],
   "source": [
    "scores_ex22"
   ]
  },
  {
   "cell_type": "code",
   "execution_count": null,
   "metadata": {},
   "outputs": [],
   "source": [
    "list(consumption.exchanges())"
   ]
  },
  {
   "cell_type": "code",
   "execution_count": null,
   "metadata": {},
   "outputs": [],
   "source": []
  },
  {
   "cell_type": "code",
   "execution_count": null,
   "metadata": {},
   "outputs": [],
   "source": []
  },
  {
   "cell_type": "code",
   "execution_count": null,
   "metadata": {},
   "outputs": [],
   "source": []
  },
  {
   "cell_type": "code",
   "execution_count": null,
   "metadata": {},
   "outputs": [],
   "source": []
  },
  {
   "cell_type": "code",
   "execution_count": null,
   "metadata": {},
   "outputs": [],
   "source": []
  },
  {
   "cell_type": "code",
   "execution_count": null,
   "metadata": {},
   "outputs": [],
   "source": []
  },
  {
   "cell_type": "code",
   "execution_count": null,
   "metadata": {},
   "outputs": [],
   "source": []
  },
  {
   "cell_type": "code",
   "execution_count": null,
   "metadata": {},
   "outputs": [],
   "source": []
  },
  {
   "cell_type": "code",
   "execution_count": null,
   "metadata": {},
   "outputs": [],
   "source": []
  },
  {
   "cell_type": "code",
   "execution_count": null,
   "metadata": {},
   "outputs": [],
   "source": []
  },
  {
   "cell_type": "code",
   "execution_count": null,
   "metadata": {},
   "outputs": [],
   "source": []
  },
  {
   "cell_type": "code",
   "execution_count": null,
   "metadata": {},
   "outputs": [],
   "source": []
  },
  {
   "cell_type": "code",
   "execution_count": null,
   "metadata": {},
   "outputs": [],
   "source": []
  },
  {
   "cell_type": "code",
   "execution_count": null,
   "metadata": {},
   "outputs": [],
   "source": []
  },
  {
   "cell_type": "code",
   "execution_count": null,
   "metadata": {},
   "outputs": [],
   "source": [
    "bw.projects.set_current('GSA for protocol')\n",
    "co = bw.Database('CH consumption 1.0')\n",
    "ex = bw.Database('Exiobase 3.8.1 Monetary 2015')\n",
    "consumption = [act for act in co if 'average consumption' in act['name']][0]\n",
    "\n",
    "recreation = [act for act in co if 'Recreation' in act['name']][0]\n",
    "air = [act for act in ex if 'Air transport services' in act['name'] and 'CH' in act['location']][0]\n",
    "dental = [act for act in co if 'Dental care' in act['name']][0]\n",
    "personal_care = [act for act in co if 'Other products for personal care' in act['name']][0]\n",
    "medicines = [act for act in co if 'Medicines' in act['name']][0]\n",
    "cutlery = [act for act in co if 'Cutlery' in act['name']][0]\n",
    "internet = [act for act in co if \"Services of internet providers\" in act['name']][0]\n",
    "taxi = [act for act in co if \"Taxi\" in act['name']][0]\n",
    "education = [act for act in co if \"Education services\" in act['name']][0]\n",
    "telefax = [act for act in co if \"Purchases and rent of telephones and telefax\" in act['name']][0]\n",
    "radio = [act for act in ex if \"Radio, television and communication equipment and\" in act['name'] and\n",
    "        act['location']=='TR'][0]\n",
    "post = [act for act in ex if \"Post and telecommunication services\" in act['name'] and\n",
    "        act['location']=='SE'][0]\n",
    "furniture = [act for act in ex if \"Furniture; other manufactured goods\" in act['name'] and\n",
    "        act['location']=='FI'][0]\n",
    "motor = [act for act in ex if \"Motor vehicles, trailers and semi-trailers\" in act['name'] and\n",
    "        act['location']=='GR'][0]\n",
    "other_transport = [act for act in ex if \"Other transport equipment\" in act['name'] and\n",
    "        act['location']=='CN'][0]\n",
    "\n",
    "furnishings = [act for act in co if \"Furnishings\" in act['name']][0] \n",
    "# funishings contains activities whose impact was reduced due to lower shares from the CH final demand from exiobase,\n",
    "# eg cutlery, kitchen utensils and others that contain \"Fabricated metal products, except machinery and equipment\"\n",
    "misc = [act for act in co if \"Miscellaneous goods and services sector\" in act['name']][0]\n",
    "# same goes for misc, but here hair, dental care products, jewellery, etc have chemicals that now have 0 shares\n",
    "health = [act for act in co if \"Health\" in act['name']][0]\n",
    "# health is probably lower due to medicines which also contain chemicals\n",
    "communication = [act for act in co if \"Communication\" in act['name']][0]\n",
    "# Impact of Radio, television and communication equipment and apparatus is >2 times smaller\n",
    "# Impact of Post and telecommunication is 3.7 times smaller\n",
    "durable_recreation = [act for act in co if 'Durable goods for recreation' in act['name']][0]\n",
    "# Impact of furniture is ca 2 times less compared to exiobase 2.2, but aggregated share is now 4.5 times more\n",
    "# Impact of motor vehicles is ca 1.33 times less, but aggregated share is now 2.6 times more\n",
    "# Impact of other transport equipment is 2.5 times less, but aggregated share is now 32 times more\n"
   ]
  },
  {
   "cell_type": "code",
   "execution_count": null,
   "metadata": {},
   "outputs": [],
   "source": [
    "demand = {consumption: 1}\n",
    "lca = bw.LCA(demand, method)\n",
    "lca.lci()\n",
    "lca.lcia()\n",
    "lca.score"
   ]
  },
  {
   "cell_type": "code",
   "execution_count": null,
   "metadata": {
    "scrolled": true
   },
   "outputs": [],
   "source": [
    "s = 0\n",
    "for act in furnishings.exchanges():\n",
    "    print(\"{} {:10}, {}\".format(act.amount, act.input['name'], act.input['location']))\n",
    "    if 'Other transport equipment' in act.input['name']:\n",
    "        s += act.amount"
   ]
  },
  {
   "cell_type": "code",
   "execution_count": null,
   "metadata": {},
   "outputs": [],
   "source": []
  },
  {
   "cell_type": "code",
   "execution_count": null,
   "metadata": {},
   "outputs": [],
   "source": []
  },
  {
   "cell_type": "code",
   "execution_count": null,
   "metadata": {},
   "outputs": [],
   "source": [
    "import brightway2 as bw\n",
    "import pickle\n",
    "from pathlib import Path\n",
    "import pandas as pd\n",
    "\n",
    "bw.projects.set_current('GSA for protocol')\n",
    "co = bw.Database('CH consumption 1.0')\n",
    "ex = bw.Database('Exiobase 3.8.1 Monetary 2015')\n",
    "consumption = [act for act in co if 'average consumption' in act['name']][0]\n",
    "ipcc_tuple = ('IPCC 2013', 'climate change', 'GWP 100a')\n",
    "rcpe_tuple = ('ReCiPe Midpoint (H) V1.13', 'climate change', 'GWP100')"
   ]
  },
  {
   "cell_type": "code",
   "execution_count": null,
   "metadata": {},
   "outputs": [],
   "source": [
    "ipcc = bw.Method(ipcc_tuple)\n",
    "ipcc_data = {}\n",
    "for m in ipcc.load(): \n",
    "    act = bw.get_activity(m[0])\n",
    "    act_key = \"{} -- {}\".format(act['name'], act['categories'])\n",
    "    ipcc_data[act_key] = m[1]\n",
    "#     print(\"{:5.2f} {:10s} {:20s} {}\".format(m[1], act['unit'], act['name'], act['categories']))"
   ]
  },
  {
   "cell_type": "code",
   "execution_count": null,
   "metadata": {},
   "outputs": [],
   "source": [
    "rcpe = bw.Method(rcpe_tuple)\n",
    "rcpe_data = {}\n",
    "for m in rcpe.load(): \n",
    "    act = bw.get_activity(m[0])\n",
    "    act_key = \"{} -- {}\".format(act['name'], act['categories'])\n",
    "    rcpe_data[act_key] = m[1]\n",
    "#     print(\"{:5.2f} {:10s} {:20s} {}\".format(m[1], act['unit'], act['name'], act['categories']))"
   ]
  },
  {
   "cell_type": "code",
   "execution_count": null,
   "metadata": {},
   "outputs": [],
   "source": [
    "df = pd.DataFrame.from_dict({'ipcc': ipcc_data, \"rcpe\": rcpe_data})\n",
    "df['diff'] = df['ipcc'] - df['rcpe']"
   ]
  },
  {
   "cell_type": "code",
   "execution_count": null,
   "metadata": {},
   "outputs": [],
   "source": [
    "df.to_excel('a.xlsx')"
   ]
  },
  {
   "cell_type": "code",
   "execution_count": null,
   "metadata": {},
   "outputs": [],
   "source": [
    "len(rcpe_data)"
   ]
  },
  {
   "cell_type": "code",
   "execution_count": null,
   "metadata": {},
   "outputs": [],
   "source": [
    "lca.score"
   ]
  },
  {
   "cell_type": "code",
   "execution_count": null,
   "metadata": {},
   "outputs": [],
   "source": [
    "demand = {consumption: 1}\n",
    "lca = bw.LCA(demand, rcpe_tuple)\n",
    "lca.lci()\n",
    "lca.lcia()\n",
    "lca.score"
   ]
  },
  {
   "cell_type": "code",
   "execution_count": null,
   "metadata": {},
   "outputs": [],
   "source": [
    "ch_params = lca.characterization_mm.groups[0]\n",
    "pos = ch_params.package.data[0]\n",
    "val = ch_params.package.data[1]\n",
    "nch = len(pos)\n",
    "for i in range(nch):\n",
    "    break"
   ]
  },
  {
   "cell_type": "code",
   "execution_count": null,
   "metadata": {},
   "outputs": [],
   "source": []
  }
 ],
 "metadata": {
  "kernelspec": {
   "display_name": "Python 3",
   "language": "python",
   "name": "python3"
  },
  "language_info": {
   "codemirror_mode": {
    "name": "ipython",
    "version": 3
   },
   "file_extension": ".py",
   "mimetype": "text/x-python",
   "name": "python",
   "nbconvert_exporter": "python",
   "pygments_lexer": "ipython3",
   "version": "3.8.10"
  },
  "varInspector": {
   "cols": {
    "lenName": 16,
    "lenType": 16,
    "lenVar": 40
   },
   "kernels_config": {
    "python": {
     "delete_cmd_postfix": "",
     "delete_cmd_prefix": "del ",
     "library": "var_list.py",
     "varRefreshCmd": "print(var_dic_list())"
    },
    "r": {
     "delete_cmd_postfix": ") ",
     "delete_cmd_prefix": "rm(",
     "library": "var_list.r",
     "varRefreshCmd": "cat(var_dic_list()) "
    }
   },
   "types_to_exclude": [
    "module",
    "function",
    "builtin_function_or_method",
    "instance",
    "_Feature"
   ],
   "window_display": false
  }
 },
 "nbformat": 4,
 "nbformat_minor": 2
}
