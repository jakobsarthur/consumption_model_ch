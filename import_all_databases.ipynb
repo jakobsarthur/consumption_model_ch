{
 "cells": [
  {
   "cell_type": "code",
   "execution_count": null,
   "metadata": {},
   "outputs": [],
   "source": [
    "import brightway2 as bw\n",
    "import numpy as np\n",
    "import pandas as pd\n",
    "from copy import copy"
   ]
  },
  {
   "cell_type": "markdown",
   "metadata": {},
   "source": [
    "# Setup the project"
   ]
  },
  {
   "cell_type": "markdown",
   "metadata": {},
   "source": [
    "### TODO -> choose project"
   ]
  },
  {
   "cell_type": "code",
   "execution_count": null,
   "metadata": {},
   "outputs": [],
   "source": [
    "project = 'GSA for ecoinvent'"
   ]
  },
  {
   "cell_type": "code",
   "execution_count": null,
   "metadata": {},
   "outputs": [],
   "source": [
    "if project not in bw.projects:\n",
    "    bw.projects.create_project(project)\n",
    "bw.projects.set_current(project)"
   ]
  },
  {
   "cell_type": "markdown",
   "metadata": {},
   "source": [
    "# Import older versions of databases"
   ]
  },
  {
   "cell_type": "markdown",
   "metadata": {},
   "source": [
    "### TODO -> give paths to databases files\n",
    "for now let's use ecoinvent 3.3 cutoff and EXIOBASE 2.2"
   ]
  },
  {
   "cell_type": "code",
   "execution_count": null,
   "metadata": {},
   "outputs": [],
   "source": [
    "# Older databases\n",
    "ei33_path = '/Users/akim/Documents/LCA files/ecoinvent 3.3 cutoff/datasets'  \n",
    "ex22_path = '/Users/akim/Documents/LCA files/exiobase 2.2/mrIOT_IxI_fpa_coefficient_version2.2.2'\n",
    "ag12_path = '/Users/akim/Documents/LCA files/agribalyse 1.2/AGRIBALYSEv1.2_Complete.xml'\n",
    "\n",
    "# Newer databases\n",
    "ei36_path = '/Users/akim/Documents/LCA files/ecoinvent 3.6 cutoff/datasets'  \n",
    "# ex34_path = '/Users/akim/Documents/LCA files/exiobase 3.4/IOT_2011_pxp/' #TODO\n",
    "ag13_path = '/Users/akim/Documents/LCA files/agribalyse 1.3/Agribalyse CSV FINAL_no links_Nov2016v3.CSV'"
   ]
  },
  {
   "cell_type": "code",
   "execution_count": null,
   "metadata": {},
   "outputs": [],
   "source": [
    "bw.databases"
   ]
  },
  {
   "cell_type": "markdown",
   "metadata": {},
   "source": [
    "## 1. Biosphere3"
   ]
  },
  {
   "cell_type": "code",
   "execution_count": null,
   "metadata": {},
   "outputs": [],
   "source": [
    "bw.bw2setup()"
   ]
  },
  {
   "cell_type": "markdown",
   "metadata": {},
   "source": [
    "## 2. Ecoinvent 3.3"
   ]
  },
  {
   "cell_type": "code",
   "execution_count": null,
   "metadata": {},
   "outputs": [],
   "source": [
    "ei33_name = \"ecoinvent 3.3 cutoff\"  \n",
    "if ei33_name in bw.databases:\n",
    "    print(ei33_name + \" database already present!!! No import is needed\")\n",
    "else:\n",
    "    ei33 = bw.SingleOutputEcospold2Importer(ei33_path, ei33_name)\n",
    "    ei33.apply_strategies()\n",
    "    ei33.match_database(db_name='biosphere3',fields=('name', 'category', 'unit', 'location'))\n",
    "    ei33.statistics()"
   ]
  },
  {
   "cell_type": "code",
   "execution_count": null,
   "metadata": {},
   "outputs": [],
   "source": [
    "if ei33_name in bw.databases:\n",
    "    print(ei33_name + \" database already present!!! No import is needed\")\n",
    "else:\n",
    "    ei33.write_database()"
   ]
  },
  {
   "cell_type": "markdown",
   "metadata": {},
   "source": [
    "## 3. Exiobase 2.2"
   ]
  },
  {
   "cell_type": "code",
   "execution_count": null,
   "metadata": {},
   "outputs": [],
   "source": [
    "# 2. Exiobase \n",
    "from bw2io.importers.exiobase import Exiobase22Importer"
   ]
  },
  {
   "cell_type": "code",
   "execution_count": null,
   "metadata": {},
   "outputs": [],
   "source": [
    "ex22_name = 'EXIOBASE 2.2'\n",
    "if ex22_name in bw.databases:\n",
    "    print(ex22_name + \" database already present!!! No import is needed\")\n",
    "else:\n",
    "    ex22 = Exiobase22Importer(ex22_path, ex22_name)\n",
    "    ex22.apply_strategies()"
   ]
  },
  {
   "cell_type": "code",
   "execution_count": null,
   "metadata": {},
   "outputs": [],
   "source": [
    "if ex22_name in bw.databases:\n",
    "    print(ex22_name + \" database already present!!! No import is needed\")\n",
    "else:\n",
    "    ex22.write_database()"
   ]
  },
  {
   "cell_type": "markdown",
   "metadata": {},
   "source": [
    "## 4. Agribalyse 1.2\n",
    "better see: [how to import](https://nbviewer.jupyter.org/urls/bitbucket.org/cmutel/brightway2/raw/default/notebooks/IO%20-%20Importing%20Agribalyse%20with%20Ecoinvent%202.2.ipynb)"
   ]
  },
  {
   "cell_type": "code",
   "execution_count": null,
   "metadata": {},
   "outputs": [],
   "source": [
    "def import_agribalyse12(ag12_path, ag12_name, ei_name):\n",
    "\n",
    "    ag12_ei_name = ag12_name + ' - ' + ei_name\n",
    "    \n",
    "    if ei_name not in bw.databases:\n",
    "        print('Cannot find database: ' + ei_name)\n",
    "        return\n",
    "    \n",
    "    if ag12_ei_name in bw.databases:\n",
    "        print(ag12_ei_name + \" database already present!!! No import is needed\")\n",
    "    else:\n",
    "        ag12_ei = bw.SingleOutputEcospold1Importer(ag12_path, ag12_ei_name)\n",
    "        ag12_ei.apply_strategies()\n",
    "        ag12_ei.statistics()\n",
    "        \n",
    "        ag12_ei.write_excel(True)\n",
    "        from bw2io.strategies.simapro import normalize_simapro_biosphere_categories, normalize_simapro_biosphere_names\n",
    "        ag12_ei.apply_strategy(normalize_simapro_biosphere_categories)\n",
    "        ag12_ei.apply_strategy(normalize_simapro_biosphere_names)\n",
    "\n",
    "        from bw2io.strategies import link_iterable_by_fields\n",
    "        import functools\n",
    "        ag12_ei.apply_strategy(functools.partial(link_iterable_by_fields, other=bw.Database(\"biosphere3\"), kind=\"biosphere\"))\n",
    "        ag12_ei.statistics()\n",
    "\n",
    "        ag12_ei.write_excel(True)\n",
    "        \n",
    "        ag12_ei_new_biosphere_name = ag12_ei_name + \" - new biosphere\"\n",
    "        bw.Database(ag12_ei_new_biosphere_name).register()\n",
    "        ag12_ei.add_unlinked_flows_to_biosphere_database(ag12_ei_new_biosphere_name)\n",
    "\n",
    "        def get_unlinked(data):\n",
    "            for ds in ag12_ei.data:\n",
    "                for exc in ds['exchanges']:\n",
    "                    if exc['type'] == 'production' and exc['name'] == 'Alfalfa, conventional, for animal feeding, at farm gate':\n",
    "                        return ds, exc\n",
    "\n",
    "        ds, exc = get_unlinked(ag12_ei.data)\n",
    "\n",
    "        from bw2io.strategies import link_technosphere_based_on_name_unit_location\n",
    "        ag12_ei.apply_strategy(link_technosphere_based_on_name_unit_location)\n",
    "        ag12_ei.statistics()\n",
    "\n",
    "        def get_unlinked(data):\n",
    "            for ds in ag12_ei.data:\n",
    "                for exc in ds['exchanges']:\n",
    "                    if exc['type'] == 'production' and not exc.get('input'):\n",
    "                        return ds, exc\n",
    "\n",
    "        ds, exc = get_unlinked(ag12_ei.data)\n",
    "\n",
    "        for ds in ag12_ei.data:\n",
    "            for exc in ds['exchanges']:\n",
    "                if exc['type'] == 'production' and not exc.get('input'):\n",
    "                    print(\"Fixing:\", exc['name'])\n",
    "                    exc['type'] = 'technosphere'\n",
    "\n",
    "        ag12_ei.apply_strategy(link_technosphere_based_on_name_unit_location)\n",
    "        ei_name_short = ei_name #TODO\n",
    "        ag12_ei.apply_strategy(functools.partial(link_technosphere_based_on_name_unit_location, external_db_name=ei_name_short))\n",
    "        ag12_ei.statistics()\n",
    "\n",
    "        ag12_ei.add_unlinked_activities()\n",
    "        ag12_ei.statistics()\n",
    "\n",
    "        for ds in ag12_ei.data:\n",
    "            del ds['code']\n",
    "\n",
    "        from bw2io.strategies import set_code_by_activity_hash\n",
    "        ag12_ei.apply_strategy(set_code_by_activity_hash)\n",
    "\n",
    "        ag12_ei.apply_strategy(functools.partial(\n",
    "                link_iterable_by_fields,\n",
    "                other=ag12_ei.data,\n",
    "                fields=('name', 'location', 'unit'),\n",
    "                relink=True\n",
    "        ))\n",
    "        ag12_ei.statistics()\n",
    "        \n",
    "        if ag12_ei_name in bw.databases:\n",
    "            print(ag12_ei_name + \" database already present!!! No import is needed\")\n",
    "        else:\n",
    "            ag12_ei.write_database()"
   ]
  },
  {
   "cell_type": "code",
   "execution_count": null,
   "metadata": {},
   "outputs": [],
   "source": [
    "ag12_name = 'Agribalyse 1.2'\n",
    "import_agribalyse12(ag12_path, ag12_name, ei33_name)"
   ]
  },
  {
   "cell_type": "code",
   "execution_count": null,
   "metadata": {},
   "outputs": [],
   "source": [
    "bw.databases"
   ]
  },
  {
   "cell_type": "code",
   "execution_count": null,
   "metadata": {},
   "outputs": [],
   "source": []
  },
  {
   "cell_type": "markdown",
   "metadata": {},
   "source": [
    "## 5. HEIA"
   ]
  },
  {
   "cell_type": "markdown",
   "metadata": {},
   "source": [
    "### TODO -> ask Andi for files"
   ]
  },
  {
   "cell_type": "markdown",
   "metadata": {},
   "source": [
    "# Import newer versions of databases"
   ]
  },
  {
   "cell_type": "markdown",
   "metadata": {},
   "source": [
    "## 1. Ecoinvent 3.6 cutoff"
   ]
  },
  {
   "cell_type": "code",
   "execution_count": null,
   "metadata": {},
   "outputs": [],
   "source": [
    "ei36_name = \"ecoinvent 3.6 cutoff\"\n",
    "if ei36_name in bw.databases:\n",
    "    print(ei36_name + \" database already present!!! No import is needed\")\n",
    "else:\n",
    "    ei36 = bw.SingleOutputEcospold2Importer(ei36_path, ei36_name)\n",
    "    ei36.apply_strategies()\n",
    "    ei36.match_database(db_name='biosphere3',fields=('name', 'category', 'unit', 'location'))\n",
    "    ei36.statistics()"
   ]
  },
  {
   "cell_type": "code",
   "execution_count": null,
   "metadata": {},
   "outputs": [],
   "source": [
    "if ei36_name in bw.databases:\n",
    "    print(ei36_name + \" database already present!!! No import is needed\")\n",
    "else:\n",
    "    ei36.write_database()"
   ]
  },
  {
   "cell_type": "code",
   "execution_count": null,
   "metadata": {},
   "outputs": [],
   "source": []
  },
  {
   "cell_type": "code",
   "execution_count": null,
   "metadata": {},
   "outputs": [],
   "source": [
    "bw.databases"
   ]
  },
  {
   "cell_type": "code",
   "execution_count": null,
   "metadata": {},
   "outputs": [],
   "source": []
  },
  {
   "cell_type": "code",
   "execution_count": null,
   "metadata": {},
   "outputs": [],
   "source": []
  },
  {
   "cell_type": "code",
   "execution_count": null,
   "metadata": {},
   "outputs": [],
   "source": []
  },
  {
   "cell_type": "code",
   "execution_count": null,
   "metadata": {},
   "outputs": [],
   "source": []
  },
  {
   "cell_type": "code",
   "execution_count": null,
   "metadata": {},
   "outputs": [],
   "source": []
  },
  {
   "cell_type": "code",
   "execution_count": null,
   "metadata": {},
   "outputs": [],
   "source": []
  },
  {
   "cell_type": "code",
   "execution_count": null,
   "metadata": {},
   "outputs": [],
   "source": []
  },
  {
   "cell_type": "code",
   "execution_count": null,
   "metadata": {},
   "outputs": [],
   "source": []
  },
  {
   "cell_type": "code",
   "execution_count": null,
   "metadata": {},
   "outputs": [],
   "source": []
  },
  {
   "cell_type": "code",
   "execution_count": null,
   "metadata": {},
   "outputs": [],
   "source": []
  },
  {
   "cell_type": "markdown",
   "metadata": {},
   "source": [
    "# --------------------------------------- In progress ---------------------------------------"
   ]
  },
  {
   "cell_type": "markdown",
   "metadata": {},
   "source": [
    "## 2. Agribalyse 1.3 - NOT DONE YET"
   ]
  },
  {
   "cell_type": "code",
   "execution_count": null,
   "metadata": {},
   "outputs": [],
   "source": [
    "ei_name = ei36_name"
   ]
  },
  {
   "cell_type": "code",
   "execution_count": null,
   "metadata": {},
   "outputs": [],
   "source": [
    "ag13_name = 'Agribalyse 1.3'\n",
    "ag13_ei_name = ag13_name + ' - ' + ei_name\n",
    "if ag13_ei_name in bw.databases:\n",
    "    print(ag13_ei_name + \" database already present!!! No import is needed\")\n",
    "else:\n",
    "    ag13_ei = bw.SimaProCSVImporter(ag13_path, ag13_ei_name)\n",
    "    ag13_ei.apply_strategies()\n",
    "    ag13_ei.statistics()"
   ]
  },
  {
   "cell_type": "code",
   "execution_count": null,
   "metadata": {},
   "outputs": [],
   "source": [
    "simapro_ei_migration = 'simapro-' + ei_name.split(' ')[0] + '-' + ei_name.split(' ')[1]\n",
    "ag13_ei.migrate(simapro_ei_migration)\n",
    "ag13_ei.match_database(ei_name, fields=('reference product', 'location', 'unit', 'name'))"
   ]
  },
  {
   "cell_type": "code",
   "execution_count": null,
   "metadata": {},
   "outputs": [],
   "source": [
    "ag13_ei.statistics()"
   ]
  },
  {
   "cell_type": "code",
   "execution_count": null,
   "metadata": {},
   "outputs": [],
   "source": [
    "ag13_ei.write_excel(True)"
   ]
  },
  {
   "cell_type": "code",
   "execution_count": null,
   "metadata": {},
   "outputs": [],
   "source": [
    "ag13_ei_new_biosphere_name = ag13_ei_name + \" - new biosphere\"\n",
    "bw.Database(ag13_ei_new_biosphere_name).register()\n",
    "ag13_ei.add_unlinked_flows_to_biosphere_database(ag13_ei_new_biosphere_name)"
   ]
  },
  {
   "cell_type": "code",
   "execution_count": null,
   "metadata": {},
   "outputs": [],
   "source": [
    "ag13_ei.statistics()"
   ]
  },
  {
   "cell_type": "code",
   "execution_count": null,
   "metadata": {},
   "outputs": [],
   "source": [
    "agribalyse_transport_data = {\n",
    "    'fields': ['name', 'location'],\n",
    "    'data': [\n",
    "        (\n",
    "            ('market for transport, freight, lorry 16-32 metric ton, EURO3', 'GLO'), \n",
    "            {\n",
    "                'location': 'RoW'\n",
    "            }\n",
    "        )\n",
    "    ]\n",
    "}\n",
    "\n",
    "bw.Migration(\"agribalyse-transport-freight-lorry\").write(\n",
    "    agribalyse_transport_data,\n",
    "    description=\"Fix some transport locations from GLO to RoW\"\n",
    ")"
   ]
  },
  {
   "cell_type": "code",
   "execution_count": null,
   "metadata": {},
   "outputs": [],
   "source": [
    "ag13_ei.migrate(\"agribalyse-transport-freight-lorry\")"
   ]
  },
  {
   "cell_type": "code",
   "execution_count": null,
   "metadata": {},
   "outputs": [],
   "source": [
    "ag13_ei.statistics()"
   ]
  },
  {
   "cell_type": "code",
   "execution_count": null,
   "metadata": {},
   "outputs": [],
   "source": []
  },
  {
   "cell_type": "code",
   "execution_count": null,
   "metadata": {},
   "outputs": [],
   "source": [
    "ag13_ei.match_database(ei_name, fields=('location', 'unit', 'name'))"
   ]
  },
  {
   "cell_type": "code",
   "execution_count": null,
   "metadata": {},
   "outputs": [],
   "source": [
    "ag13_ei.statistics()"
   ]
  },
  {
   "cell_type": "code",
   "execution_count": null,
   "metadata": {},
   "outputs": [],
   "source": [
    "ag13_ei.add_unlinked_activities()\n",
    "ag13_ei.statistics()"
   ]
  },
  {
   "cell_type": "code",
   "execution_count": null,
   "metadata": {},
   "outputs": [],
   "source": [
    "for a in list(ag13_ei.unlinked):\n",
    "    print(a['name'])"
   ]
  },
  {
   "cell_type": "code",
   "execution_count": null,
   "metadata": {},
   "outputs": [],
   "source": [
    "a"
   ]
  },
  {
   "cell_type": "code",
   "execution_count": null,
   "metadata": {},
   "outputs": [],
   "source": [
    "db = bw.Database('ecoinvent 3.6 cutoff')"
   ]
  },
  {
   "cell_type": "code",
   "execution_count": null,
   "metadata": {},
   "outputs": [],
   "source": [
    "[act for act in db if act['name'] == a['name'] and act['location']==a['location']]"
   ]
  },
  {
   "cell_type": "code",
   "execution_count": null,
   "metadata": {},
   "outputs": [],
   "source": [
    "[act for act in db if 'market for transport, freight, lorry 16-32 metric ton' in act['name']]"
   ]
  },
  {
   "cell_type": "code",
   "execution_count": null,
   "metadata": {},
   "outputs": [],
   "source": []
  },
  {
   "cell_type": "code",
   "execution_count": null,
   "metadata": {},
   "outputs": [],
   "source": []
  },
  {
   "cell_type": "code",
   "execution_count": null,
   "metadata": {},
   "outputs": [],
   "source": []
  },
  {
   "cell_type": "code",
   "execution_count": null,
   "metadata": {},
   "outputs": [],
   "source": []
  },
  {
   "cell_type": "code",
   "execution_count": null,
   "metadata": {},
   "outputs": [],
   "source": []
  },
  {
   "cell_type": "code",
   "execution_count": null,
   "metadata": {},
   "outputs": [],
   "source": []
  },
  {
   "cell_type": "code",
   "execution_count": null,
   "metadata": {},
   "outputs": [],
   "source": []
  },
  {
   "cell_type": "code",
   "execution_count": null,
   "metadata": {},
   "outputs": [],
   "source": []
  },
  {
   "cell_type": "code",
   "execution_count": null,
   "metadata": {},
   "outputs": [],
   "source": []
  },
  {
   "cell_type": "code",
   "execution_count": null,
   "metadata": {},
   "outputs": [],
   "source": []
  },
  {
   "cell_type": "code",
   "execution_count": null,
   "metadata": {},
   "outputs": [],
   "source": []
  },
  {
   "cell_type": "code",
   "execution_count": null,
   "metadata": {},
   "outputs": [],
   "source": []
  },
  {
   "cell_type": "markdown",
   "metadata": {},
   "source": [
    "# Playground"
   ]
  },
  {
   "cell_type": "markdown",
   "metadata": {},
   "source": [
    "# Create ecoinvent and exiobase LCA objects"
   ]
  },
  {
   "cell_type": "code",
   "execution_count": null,
   "metadata": {},
   "outputs": [],
   "source": [
    "n_methods = 2\n",
    "methods = {_: bw.methods.random() for _ in range(n_methods)}\n",
    "methods"
   ]
  },
  {
   "cell_type": "code",
   "execution_count": null,
   "metadata": {},
   "outputs": [],
   "source": [
    "# 1. Ecoinvent\n",
    "ei_demand = {bw.Database(ei_name).random(): 1}\n",
    "ei_lca = bw.LCA(ei_demand, methods[0])\n",
    "ei_lca.lci()\n",
    "ei_lca.lcia()\n",
    "ei_lca.score"
   ]
  },
  {
   "cell_type": "code",
   "execution_count": null,
   "metadata": {},
   "outputs": [],
   "source": [
    "# 2. Exiobase\n",
    "ex_demand = {bw.Database(ex_name).random(): 1}\n",
    "ex_lca = bw.LCA(ex_demand, methods[0])\n",
    "ex_lca.lci()\n",
    "ex_lca.lcia()\n",
    "ex_lca.score"
   ]
  },
  {
   "cell_type": "code",
   "execution_count": null,
   "metadata": {},
   "outputs": [],
   "source": [
    "methods"
   ]
  },
  {
   "cell_type": "markdown",
   "metadata": {},
   "source": [
    "# Consumption model, Andi's code"
   ]
  },
  {
   "cell_type": "code",
   "execution_count": null,
   "metadata": {},
   "outputs": [],
   "source": [
    "methods"
   ]
  },
  {
   "cell_type": "code",
   "execution_count": null,
   "metadata": {},
   "outputs": [],
   "source": [
    "from consumption_copy import ConsumptionLCA"
   ]
  },
  {
   "cell_type": "code",
   "execution_count": null,
   "metadata": {},
   "outputs": [],
   "source": [
    "# consumption_model_path = 'Draft_Paper_8_v11_SupportingInformation.xlsx'\n",
    "# sheet_lca_modeling = 'Overview & LCA-Modeling'\n",
    "\n",
    "consumption_model_path = 'Consumption_Cockpit_adj.xlsx'\n",
    "sheet_lca_modeling = 'LCA-Modelling'"
   ]
  },
  {
   "cell_type": "code",
   "execution_count": null,
   "metadata": {},
   "outputs": [],
   "source": [
    "excel = {\n",
    "    'path': consumption_model_path,\n",
    "    'sheet': sheet_lca_modeling\n",
    "}"
   ]
  },
  {
   "cell_type": "code",
   "execution_count": null,
   "metadata": {},
   "outputs": [],
   "source": [
    "a = ConsumptionLCA(ei_lca, ex_lca, methods, excel, archetypes=True)"
   ]
  },
  {
   "cell_type": "code",
   "execution_count": null,
   "metadata": {},
   "outputs": [],
   "source": []
  },
  {
   "cell_type": "code",
   "execution_count": null,
   "metadata": {},
   "outputs": [],
   "source": []
  },
  {
   "cell_type": "code",
   "execution_count": null,
   "metadata": {},
   "outputs": [],
   "source": []
  },
  {
   "cell_type": "code",
   "execution_count": null,
   "metadata": {},
   "outputs": [],
   "source": []
  },
  {
   "cell_type": "code",
   "execution_count": null,
   "metadata": {},
   "outputs": [],
   "source": []
  },
  {
   "cell_type": "code",
   "execution_count": null,
   "metadata": {},
   "outputs": [],
   "source": []
  },
  {
   "cell_type": "code",
   "execution_count": null,
   "metadata": {},
   "outputs": [],
   "source": []
  },
  {
   "cell_type": "code",
   "execution_count": null,
   "metadata": {},
   "outputs": [],
   "source": []
  },
  {
   "cell_type": "code",
   "execution_count": null,
   "metadata": {},
   "outputs": [],
   "source": []
  },
  {
   "cell_type": "code",
   "execution_count": null,
   "metadata": {},
   "outputs": [],
   "source": []
  },
  {
   "cell_type": "code",
   "execution_count": null,
   "metadata": {},
   "outputs": [],
   "source": []
  },
  {
   "cell_type": "code",
   "execution_count": null,
   "metadata": {},
   "outputs": [],
   "source": []
  },
  {
   "cell_type": "code",
   "execution_count": null,
   "metadata": {},
   "outputs": [],
   "source": []
  },
  {
   "cell_type": "code",
   "execution_count": null,
   "metadata": {},
   "outputs": [],
   "source": []
  },
  {
   "cell_type": "code",
   "execution_count": null,
   "metadata": {},
   "outputs": [],
   "source": []
  },
  {
   "cell_type": "code",
   "execution_count": null,
   "metadata": {},
   "outputs": [],
   "source": []
  },
  {
   "cell_type": "code",
   "execution_count": null,
   "metadata": {},
   "outputs": [],
   "source": []
  },
  {
   "cell_type": "code",
   "execution_count": null,
   "metadata": {},
   "outputs": [],
   "source": []
  },
  {
   "cell_type": "code",
   "execution_count": null,
   "metadata": {},
   "outputs": [],
   "source": []
  },
  {
   "cell_type": "code",
   "execution_count": null,
   "metadata": {},
   "outputs": [],
   "source": []
  },
  {
   "cell_type": "code",
   "execution_count": null,
   "metadata": {},
   "outputs": [],
   "source": []
  },
  {
   "cell_type": "code",
   "execution_count": null,
   "metadata": {},
   "outputs": [],
   "source": []
  }
 ],
 "metadata": {
  "kernelspec": {
   "display_name": "Python 3",
   "language": "python",
   "name": "python3"
  },
  "language_info": {
   "codemirror_mode": {
    "name": "ipython",
    "version": 3
   },
   "file_extension": ".py",
   "mimetype": "text/x-python",
   "name": "python",
   "nbconvert_exporter": "python",
   "pygments_lexer": "ipython3",
   "version": "3.7.4"
  }
 },
 "nbformat": 4,
 "nbformat_minor": 2
}
