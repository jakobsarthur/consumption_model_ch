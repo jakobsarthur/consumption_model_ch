{
 "cells": [
  {
   "cell_type": "code",
   "execution_count": 1,
   "metadata": {},
   "outputs": [],
   "source": [
    "import brightway2 as bw\n",
    "import numpy as np\n",
    "import json, os\n",
    "\n",
    "#Local files\n",
    "from import_databases import *"
   ]
  },
  {
   "cell_type": "code",
   "execution_count": 2,
   "metadata": {},
   "outputs": [],
   "source": [
    "with open('global_settings.json', 'rb') as f:\n",
    "    settings = json.load(f)\n",
    "which_pc = settings['which_pc']"
   ]
  },
  {
   "cell_type": "markdown",
   "metadata": {},
   "source": [
    "### TODO -> give paths to databases files"
   ]
  },
  {
   "cell_type": "code",
   "execution_count": 3,
   "metadata": {},
   "outputs": [],
   "source": [
    "if which_pc == 'local':\n",
    "    # Older databases\n",
    "    ei33_path = '/Users/akim/Documents/LCA_files/ecoinvent 3.3 cutoff/datasets'  \n",
    "    ex22_path = '/Users/akim/Documents/LCA_files/exiobase 2.2/mrIOT_IxI_fpa_coefficient_version2.2.2'\n",
    "    ag12_path = '/Users/akim/Documents/LCA_files/agribalyse 1.2/AGRIBALYSEv1.2_Complete.xml'\n",
    "    # Newer databases\n",
    "    ei36_path = '/Users/akim/Documents/LCA_files/ecoinvent 3.6 cutoff/datasets'  \n",
    "    # ex34_path = '/Users/akim/Documents/LCA_files/exiobase 3.4/IOT_2011_pxp/' #TODO\n",
    "    ag13_path = '/Users/akim/Documents/LCA_files/agribalyse 1.3/Agribalyse CSV FINAL_no links_Nov2016v3.CSV'\n",
    "    habe_path = '/Users/akim/Documents/LCA_files/HABE_2017/'\n",
    "    co_path = 'data/es8b01452_si_002.xlsx'\n",
    "elif which_pc == 'merlin':\n",
    "    ex22_path = '/data/user/kim_a/LCA_files/exiobase_22/mrIOT_IxI_fpa_coefficient_version2.2.2'\n",
    "    ei33_path = '/data/user/kim_a/LCA_files/ecoinvent_33_cutoff/datasets'  \n",
    "    ei36_path = '/data/user/kim_a/LCA_files/ecoinvent_36_cutoff/datasets'  \n",
    "    ag13_path = '/data/user/kim_a/LCA_files/agribalyse_13/Agribalyse CSV FINAL_no links_Nov2016v3.CSV'\n",
    "    habe_path = '/data/user/kim_a/LCA_files/HABE_2017'\n",
    "    co_path = 'data/es8b01452_si_002.xlsx'"
   ]
  },
  {
   "cell_type": "markdown",
   "metadata": {},
   "source": [
    "### TODO -> choose project"
   ]
  },
  {
   "cell_type": "code",
   "execution_count": 6,
   "metadata": {},
   "outputs": [],
   "source": [
    "project = 'GSA for paper'\n",
    "bw.projects.set_current(project)\n",
    "# del bw.databases['CH consumption 1.0']"
   ]
  },
  {
   "cell_type": "markdown",
   "metadata": {},
   "source": [
    "### Import necessary databases"
   ]
  },
  {
   "cell_type": "code",
   "execution_count": 7,
   "metadata": {
    "scrolled": true
   },
   "outputs": [
    {
     "name": "stdout",
     "output_type": "stream",
     "text": [
      "Biosphere database already present!!! No setup is needed\n",
      "ecoinvent 3.6 cutoff database already present!!! No import is needed\n",
      "Biosphere database already present!!! No setup is needed\n",
      "ecoinvent 3.3 cutoff database already present!!! No import is needed\n",
      "CH consumption 1.0 database already present!!! No import is needed\n",
      "9734\n",
      "'ch hh average consumption' (1 month of consumption, CH, None)\n",
      "CPU times: user 16.6 s, sys: 4.94 s, total: 21.6 s\n",
      "Wall time: 30.1 s\n"
     ]
    }
   ],
   "source": [
    "%%time \n",
    "ei36_name = 'ecoinvent 3.6 cutoff'\n",
    "co_name = CONSUMPTION_DB_NAME\n",
    "\n",
    "if project == 'GSA for ecoinvent':\n",
    "    bw.bw2setup()\n",
    "    import_exiobase_22(ex22_path)\n",
    "    import_ecoinvent(ei36_path, ei36_name)\n",
    "    import_agribalyse_13(ag13_path, ei36_name)\n",
    "    # Consumption DB\n",
    "    create_ecoinvent_33_project(ei33_path)\n",
    "    import_consumption_db(co_path, habe_path, exclude_dbs=['heia'])\n",
    "    add_consumption_activities(co_name, habe_path)\n",
    "\n",
    "elif project == 'GSA for paper':\n",
    "    bw.bw2setup()\n",
    "    import_ecoinvent(ei36_path, ei36_name)\n",
    "    # Consumption DB\n",
    "    create_ecoinvent_33_project(ei33_path)\n",
    "    exclude_dbs = [\n",
    "        'heia', \n",
    "        'EXIOBASE 2.2',\n",
    "        'Agribalyse 1.2',\n",
    "        'Agribalyse 1.3 - ecoinvent 3.6 cutoff',\n",
    "    ]\n",
    "    import_consumption_db(co_path, habe_path, exclude_dbs=exclude_dbs)\n",
    "    add_consumption_activities(co_name, habe_path)\n",
    "    add_consumption_categories(co_name, co_path)\n",
    "    add_consumptionn_sectors(co_name)\n",
    "    \n",
    "elif project == 'GSA no exiobase':\n",
    "    bw.bw2setup()\n",
    "    import_ecoinvent(ei36_path, ei36_name)\n",
    "    import_agribalyse_13(ag13_path, ei36_name)\n",
    "    # Consumption DB\n",
    "    create_ecoinvent_33_project(ei33_path)\n",
    "    exclude_dbs = [\n",
    "        'heia', \n",
    "        'EXIOBASE 2.2',\n",
    "    ]\n",
    "    import_consumption_db(co_path, habe_path, exclude_dbs=exclude_dbs)\n",
    "    add_consumption_activities(co_name, habe_path)\n",
    "    \n",
    "elif project == 'GSA for setac':\n",
    "    bw.bw2setup()\n",
    "    import_ecoinvent(ei36_path, ei36_name)\n",
    "    # Consumption DB\n",
    "    create_ecoinvent_33_project(ei33_path)\n",
    "    exclude_dbs = [\n",
    "        'heia', \n",
    "        'EXIOBASE 2.2',\n",
    "        'Agribalyse 1.2',\n",
    "        'Agribalyse 1.3 - ecoinvent 3.6 cutoff',\n",
    "    ]\n",
    "    import_consumption_db(co_path, habe_path, exclude_dbs=exclude_dbs)\n",
    "    add_consumption_activities(co_name, habe_path)\n",
    "    add_consumption_categories(co_name, co_path)\n",
    "    add_consumptionn_sectors(co_name)"
   ]
  },
  {
   "cell_type": "code",
   "execution_count": 8,
   "metadata": {},
   "outputs": [
    {
     "data": {
      "text/plain": [
       "'ch hh average consumption' (1 month of consumption, CH, None)"
      ]
     },
     "execution_count": 8,
     "metadata": {},
     "output_type": "execute_result"
    }
   ],
   "source": [
    "co = bw.Database('CH consumption 1.0')\n",
    "act = co.search('average')[0]\n",
    "demand = {act: 1}\n",
    "method = ('IPCC 2013', 'climate change', 'GTP 100a')\n",
    "act"
   ]
  },
  {
   "cell_type": "code",
   "execution_count": 9,
   "metadata": {},
   "outputs": [
    {
     "name": "stdout",
     "output_type": "stream",
     "text": [
      "CPU times: user 1.82 s, sys: 129 ms, total: 1.95 s\n",
      "Wall time: 769 ms\n"
     ]
    },
    {
     "data": {
      "text/plain": [
       "1039.2100378550203"
      ]
     },
     "execution_count": 9,
     "metadata": {},
     "output_type": "execute_result"
    }
   ],
   "source": [
    "%%time\n",
    "lca = bw.LCA(demand, method)\n",
    "lca.lci()\n",
    "lca.lcia()\n",
    "lca.score"
   ]
  },
  {
   "cell_type": "code",
   "execution_count": 10,
   "metadata": {
    "scrolled": false
   },
   "outputs": [
    {
     "data": {
      "text/plain": [
       "[Exchange: 1 1 month of consumption 'ch hh average consumption' (1 month of consumption, CH, None) to 'ch hh average consumption' (1 month of consumption, CH, None)>,\n",
       " Exchange: 201.46845215493326 CHF 'Other insurance premiums' (CHF, CH, None) to 'ch hh average consumption' (1 month of consumption, CH, None)>,\n",
       " Exchange: 76.54080218942863 CHF 'Fees' (CHF, CH, None) to 'ch hh average consumption' (1 month of consumption, CH, None)>,\n",
       " Exchange: 46.03483906003794 kilogram 'Bakery products (sweet and salty)' (kilogram, CH, None) to 'ch hh average consumption' (1 month of consumption, CH, None)>,\n",
       " Exchange: 2.9620356479863883 kilogram 'Sandwich' (kilogram, CH, None) to 'ch hh average consumption' (1 month of consumption, CH, None)>,\n",
       " Exchange: 9.129392882033821 kilogram 'Fresh eggs' (kilogram, CH, None) to 'ch hh average consumption' (1 month of consumption, CH, None)>,\n",
       " Exchange: 0.8928952539848366 kilogram 'Processed eggs' (kilogram, CH, None) to 'ch hh average consumption' (1 month of consumption, CH, None)>,\n",
       " Exchange: 1.955951054227625 kilogram 'Culinary herbs' (kilogram, CH, None) to 'ch hh average consumption' (1 month of consumption, CH, None)>,\n",
       " Exchange: 6.031258479996455 kilogram 'Sweets and chewing gum' (kilogram, CH, None) to 'ch hh average consumption' (1 month of consumption, CH, None)>,\n",
       " Exchange: 0.7141221728219951 kilogram 'Other sugary or cocoa-based foods' (kilogram, CH, None) to 'ch hh average consumption' (1 month of consumption, CH, None)>,\n",
       " Exchange: 13.618216373943342 kilogram 'Sauces, seasonings and condiments' (kilogram, CH, None) to 'ch hh average consumption' (1 month of consumption, CH, None)>,\n",
       " Exchange: 4.106321463459985 kilogram 'Soups and bouillons' (kilogram, CH, None) to 'ch hh average consumption' (1 month of consumption, CH, None)>,\n",
       " Exchange: 12.439412045953256 kilogram 'Ready-made foods' (kilogram, CH, None) to 'ch hh average consumption' (1 month of consumption, CH, None)>,\n",
       " Exchange: 0.7410636491419561 kilogram 'Vegetarian soy products' (kilogram, CH, None) to 'ch hh average consumption' (1 month of consumption, CH, None)>,\n",
       " Exchange: 36.39885678831579 CHF 'Tobacco' (CHF, CH, None) to 'ch hh average consumption' (1 month of consumption, CH, None)>,\n",
       " Exchange: 304.07158987141247 CHF 'Restaurants, cafés and bars' (CHF, CH, None) to 'ch hh average consumption' (1 month of consumption, CH, None)>,\n",
       " Exchange: 69.94142914073991 CHF 'Self-service restaurants and take-aways' (CHF, CH, None) to 'ch hh average consumption' (1 month of consumption, CH, None)>,\n",
       " Exchange: 40.56864818257863 CHF 'Canteens' (CHF, CH, None) to 'ch hh average consumption' (1 month of consumption, CH, None)>,\n",
       " Exchange: 91.37053904713342 CHF 'Accommodation services' (CHF, CH, None) to 'ch hh average consumption' (1 month of consumption, CH, None)>,\n",
       " Exchange: 1.2790249826356277 CHF 'Clothing materials' (CHF, CH, None) to 'ch hh average consumption' (1 month of consumption, CH, None)>,\n",
       " Exchange: 57.01032586618526 CHF 'Garments for men' (CHF, CH, None) to 'ch hh average consumption' (1 month of consumption, CH, None)>,\n",
       " Exchange: 103.7898022466773 CHF 'Garments for women' (CHF, CH, None) to 'ch hh average consumption' (1 month of consumption, CH, None)>,\n",
       " Exchange: 21.043406608769445 CHF 'Garments for children (between 0 and 13 years)' (CHF, CH, None) to 'ch hh average consumption' (1 month of consumption, CH, None)>,\n",
       " Exchange: 8.7393245000218 CHF 'Clothing accessories' (CHF, CH, None) to 'ch hh average consumption' (1 month of consumption, CH, None)>,\n",
       " Exchange: 2.1759721092380113 CHF 'Sewing and knitting products' (CHF, CH, None) to 'ch hh average consumption' (1 month of consumption, CH, None)>,\n",
       " Exchange: 5.230159040745233 CHF 'Cleaning, repair and hire of clothing' (CHF, CH, None) to 'ch hh average consumption' (1 month of consumption, CH, None)>,\n",
       " Exchange: 14.367000953924812 CHF 'Footwear for men' (CHF, CH, None) to 'ch hh average consumption' (1 month of consumption, CH, None)>,\n",
       " Exchange: 24.805622453438964 CHF 'Footwear for women' (CHF, CH, None) to 'ch hh average consumption' (1 month of consumption, CH, None)>,\n",
       " Exchange: 7.507923703625703 CHF 'Footwear for children and babies' (CHF, CH, None) to 'ch hh average consumption' (1 month of consumption, CH, None)>,\n",
       " Exchange: 1.6866465289810255 CHF 'Repair and hire of footwear' (CHF, CH, None) to 'ch hh average consumption' (1 month of consumption, CH, None)>,\n",
       " Exchange: 26.90483081305944 CHF 'Regular maintenance costs of principal residence' (CHF, CH, None) to 'ch hh average consumption' (1 month of consumption, CH, None)>,\n",
       " Exchange: 83.63886134011986 CHF 'Maintenance and repair of the dwelling' (CHF, CH, None) to 'ch hh average consumption' (1 month of consumption, CH, None)>,\n",
       " Exchange: 116.19756379102505 CHF 'Furniture and furnishings, carpets and other floor coverings incl. repairs' (CHF, CH, None) to 'ch hh average consumption' (1 month of consumption, CH, None)>,\n",
       " Exchange: 28.84918511290166 CHF 'Household textiles' (CHF, CH, None) to 'ch hh average consumption' (1 month of consumption, CH, None)>,\n",
       " Exchange: 17.756131137348675 CHF 'Refrigerators, dishwashers, washing machines and dryers' (CHF, CH, None) to 'ch hh average consumption' (1 month of consumption, CH, None)>,\n",
       " Exchange: 13.373551039798674 CHF 'Cookers, barbecue, space heaters and room care appliances' (CHF, CH, None) to 'ch hh average consumption' (1 month of consumption, CH, None)>,\n",
       " Exchange: 9.677652550640364 CHF 'Small electric household appliances' (CHF, CH, None) to 'ch hh average consumption' (1 month of consumption, CH, None)>,\n",
       " Exchange: 3.3778638593284054 CHF 'Repair of household appliances' (CHF, CH, None) to 'ch hh average consumption' (1 month of consumption, CH, None)>,\n",
       " Exchange: 5.939343582255907 CHF 'Glassware, tableware' (CHF, CH, None) to 'ch hh average consumption' (1 month of consumption, CH, None)>,\n",
       " Exchange: 1.1124534126783747 CHF 'Cutlery' (CHF, CH, None) to 'ch hh average consumption' (1 month of consumption, CH, None)>,\n",
       " Exchange: 9.609051986019962 CHF 'Kitchen utensils' (CHF, CH, None) to 'ch hh average consumption' (1 month of consumption, CH, None)>,\n",
       " Exchange: 4.545820176837036 CHF 'Other household utensils' (CHF, CH, None) to 'ch hh average consumption' (1 month of consumption, CH, None)>,\n",
       " Exchange: 30.04882000626507 CHF 'Tools and equipment without engines for house and garden' (CHF, CH, None) to 'ch hh average consumption' (1 month of consumption, CH, None)>,\n",
       " Exchange: 7.748351602418564 CHF 'Machines with engines for house and garden' (CHF, CH, None) to 'ch hh average consumption' (1 month of consumption, CH, None)>,\n",
       " Exchange: 20.890838725541823 CHF 'Detergents and cleaning products' (CHF, CH, None) to 'ch hh average consumption' (1 month of consumption, CH, None)>,\n",
       " Exchange: 1.2487382954133037 CHF 'Cleaning articles' (CHF, CH, None) to 'ch hh average consumption' (1 month of consumption, CH, None)>,\n",
       " Exchange: 0.5318456337086399 CHF 'Plastic or paper refuse bags without fees' (CHF, CH, None) to 'ch hh average consumption' (1 month of consumption, CH, None)>,\n",
       " Exchange: 13.884252676168563 CHF 'Other non-durable household articles' (CHF, CH, None) to 'ch hh average consumption' (1 month of consumption, CH, None)>,\n",
       " Exchange: 17.751741403410726 CHF 'Domestic services and household services' (CHF, CH, None) to 'ch hh average consumption' (1 month of consumption, CH, None)>,\n",
       " Exchange: 40.82318804866058 CHF 'Medicines' (CHF, CH, None) to 'ch hh average consumption' (1 month of consumption, CH, None)>,\n",
       " Exchange: 28.14739933682457 CHF 'Glasses and contact lenses' (CHF, CH, None) to 'ch hh average consumption' (1 month of consumption, CH, None)>,\n",
       " Exchange: 7.969828314649683 CHF 'Medical products, therapeutic devices and products' (CHF, CH, None) to 'ch hh average consumption' (1 month of consumption, CH, None)>,\n",
       " Exchange: 208.08778506057595 CHF 'Medical services and hospital services' (CHF, CH, None) to 'ch hh average consumption' (1 month of consumption, CH, None)>,\n",
       " Exchange: 13.634015807265873 person kilometer 'Bicycles' (person kilometer, CH, None) to 'ch hh average consumption' (1 month of consumption, CH, None)>,\n",
       " Exchange: 29.259125361953334 person kilometer 'Train, tickets and travelcards' (person kilometer, CH, None) to 'ch hh average consumption' (1 month of consumption, CH, None)>,\n",
       " Exchange: 2.172923455631816 person kilometer 'Tram, tickets and travelcards' (person kilometer, CH, None) to 'ch hh average consumption' (1 month of consumption, CH, None)>,\n",
       " Exchange: 5.601754358819027 person kilometer 'Bus, tickets and travelcards' (person kilometer, CH, None) to 'ch hh average consumption' (1 month of consumption, CH, None)>,\n",
       " Exchange: 3.284296520356893 CHF 'Taxi' (CHF, CH, None) to 'ch hh average consumption' (1 month of consumption, CH, None)>,\n",
       " Exchange: 32.70814449919917 CHF 'Air travels, tickets' (CHF, CH, None) to 'ch hh average consumption' (1 month of consumption, CH, None)>,\n",
       " Exchange: 5.050653694607335 CHF 'Passenger transport by sea and inland waterway' (CHF, CH, None) to 'ch hh average consumption' (1 month of consumption, CH, None)>,\n",
       " Exchange: 3.853264437182957 CHF 'Other purchased transport services' (CHF, CH, None) to 'ch hh average consumption' (1 month of consumption, CH, None)>,\n",
       " Exchange: 5.748700289925806 CHF 'Postal services' (CHF, CH, None) to 'ch hh average consumption' (1 month of consumption, CH, None)>,\n",
       " Exchange: 7.958197824416643 CHF 'Purchases and rent of telephones and telefax machines' (CHF, CH, None) to 'ch hh average consumption' (1 month of consumption, CH, None)>,\n",
       " Exchange: 67.44590363775669 CHF 'Fixed line' (CHF, CH, None) to 'ch hh average consumption' (1 month of consumption, CH, None)>,\n",
       " Exchange: 64.9319131208014 CHF 'Mobile telephony' (CHF, CH, None) to 'ch hh average consumption' (1 month of consumption, CH, None)>,\n",
       " Exchange: 29.978507512710415 CHF 'Services of internet providers' (CHF, CH, None) to 'ch hh average consumption' (1 month of consumption, CH, None)>,\n",
       " Exchange: 32.0942145113273 CHF 'Equipment for the reception, recording and reproduction of sound and pictures' (CHF, CH, None) to 'ch hh average consumption' (1 month of consumption, CH, None)>,\n",
       " Exchange: 8.862422136596107 CHF 'Photographic and cinematographic equipment and optical instruments' (CHF, CH, None) to 'ch hh average consumption' (1 month of consumption, CH, None)>,\n",
       " Exchange: 12.34302723115306 CHF 'Sound carriers, data carriers, videotapes and films' (CHF, CH, None) to 'ch hh average consumption' (1 month of consumption, CH, None)>,\n",
       " Exchange: 20.74924240466433 CHF 'Durable goods for recreation and sports' (CHF, CH, None) to 'ch hh average consumption' (1 month of consumption, CH, None)>,\n",
       " Exchange: 27.574964642592047 CHF 'Games, toys and hobbies' (CHF, CH, None) to 'ch hh average consumption' (1 month of consumption, CH, None)>,\n",
       " Exchange: 22.811272499420113 CHF 'Equipment for sports and camping' (CHF, CH, None) to 'ch hh average consumption' (1 month of consumption, CH, None)>,\n",
       " Exchange: 34.94296739556246 CHF 'Plants and other non-durable goods for gardening' (CHF, CH, None) to 'ch hh average consumption' (1 month of consumption, CH, None)>,\n",
       " Exchange: 21.55050572182478 CHF 'Pets and related products' (CHF, CH, None) to 'ch hh average consumption' (1 month of consumption, CH, None)>,\n",
       " Exchange: 14.896025020699158 CHF 'Veterinary and other services for pets' (CHF, CH, None) to 'ch hh average consumption' (1 month of consumption, CH, None)>,\n",
       " Exchange: 3.6942468355873745 CHF 'Entries in sports facilities' (CHF, CH, None) to 'ch hh average consumption' (1 month of consumption, CH, None)>,\n",
       " Exchange: 29.08872502880151 CHF 'Services of sports and recreational facilities, without ski lifts' (CHF, CH, None) to 'ch hh average consumption' (1 month of consumption, CH, None)>,\n",
       " Exchange: 12.638527552245387 CHF 'Tickets and season tickets for cable cars, including ski lifts' (CHF, CH, None) to 'ch hh average consumption' (1 month of consumption, CH, None)>,\n",
       " Exchange: 4.814888652665944 CHF 'Rent of sports and recreational goods' (CHF, CH, None) to 'ch hh average consumption' (1 month of consumption, CH, None)>,\n",
       " Exchange: 14.215497076784969 CHF 'Sports and crafting classes' (CHF, CH, None) to 'ch hh average consumption' (1 month of consumption, CH, None)>,\n",
       " Exchange: 13.57813646045109 CHF 'Music and dance classes' (CHF, CH, None) to 'ch hh average consumption' (1 month of consumption, CH, None)>,\n",
       " Exchange: 7.777877573205663 CHF 'Dues for sports clubs and associations' (CHF, CH, None) to 'ch hh average consumption' (1 month of consumption, CH, None)>,\n",
       " Exchange: 1.711124754525108 CHF 'Dues for recreational associations' (CHF, CH, None) to 'ch hh average consumption' (1 month of consumption, CH, None)>,\n",
       " Exchange: 11.777735485863909 CHF 'Other leisure-time courses' (CHF, CH, None) to 'ch hh average consumption' (1 month of consumption, CH, None)>,\n",
       " Exchange: 19.453334372919386 CHF 'Theatre and concerts' (CHF, CH, None) to 'ch hh average consumption' (1 month of consumption, CH, None)>,\n",
       " Exchange: 5.009881045935442 CHF 'Cinema' (CHF, CH, None) to 'ch hh average consumption' (1 month of consumption, CH, None)>,\n",
       " Exchange: 5.050656400057366 CHF 'Museums, exhibitions, libraries, zoological gardens' (CHF, CH, None) to 'ch hh average consumption' (1 month of consumption, CH, None)>,\n",
       " Exchange: 34.9615168281713 CHF 'Fees for radio and TV reception' (CHF, CH, None) to 'ch hh average consumption' (1 month of consumption, CH, None)>,\n",
       " Exchange: 4.555748603618214 CHF 'Subscriptions to private television' (CHF, CH, None) to 'ch hh average consumption' (1 month of consumption, CH, None)>,\n",
       " Exchange: 9.567895778645715 CHF 'Subscriptions to cable television' (CHF, CH, None) to 'ch hh average consumption' (1 month of consumption, CH, None)>,\n",
       " Exchange: 0.4340072281298644 CHF 'Rent for equipment and DVDs and CDs' (CHF, CH, None) to 'ch hh average consumption' (1 month of consumption, CH, None)>,\n",
       " Exchange: 1.8465712332675979 CHF 'Dues to cultural associations' (CHF, CH, None) to 'ch hh average consumption' (1 month of consumption, CH, None)>,\n",
       " Exchange: 6.124728018623033 CHF 'Other services in entertainment and culture' (CHF, CH, None) to 'ch hh average consumption' (1 month of consumption, CH, None)>,\n",
       " Exchange: 10.002669619128342 CHF 'Stakes' (CHF, CH, None) to 'ch hh average consumption' (1 month of consumption, CH, None)>,\n",
       " Exchange: 21.005433288633245 CHF 'Books and brochures' (CHF, CH, None) to 'ch hh average consumption' (1 month of consumption, CH, None)>,\n",
       " Exchange: 35.546939347773495 kilogram 'Newspapers and periodicals' (kilogram, CH, None) to 'ch hh average consumption' (1 month of consumption, CH, None)>,\n",
       " Exchange: 5.690613106985267 CHF 'Miscellaneous printed matter' (CHF, CH, None) to 'ch hh average consumption' (1 month of consumption, CH, None)>,\n",
       " Exchange: 9.373245723758382 CHF 'Writing and drawing materials' (CHF, CH, None) to 'ch hh average consumption' (1 month of consumption, CH, None)>,\n",
       " Exchange: 165.21959970392936 CHF 'Package holidays' (CHF, CH, None) to 'ch hh average consumption' (1 month of consumption, CH, None)>,\n",
       " Exchange: 40.803406600757896 CHF 'Education' (CHF, CH, None) to 'ch hh average consumption' (1 month of consumption, CH, None)>,\n",
       " Exchange: 3.362482076307582 CHF 'Electrical appliances for personal care' (CHF, CH, None) to 'ch hh average consumption' (1 month of consumption, CH, None)>,\n",
       " Exchange: 4.89762072836653 CHF 'Non-electrical appliances for personal care' (CHF, CH, None) to 'ch hh average consumption' (1 month of consumption, CH, None)>,\n",
       " Exchange: 14.150847651912617 CHF 'Non-durable products of cotton and paper for personal care' (CHF, CH, None) to 'ch hh average consumption' (1 month of consumption, CH, None)>,\n",
       " Exchange: 4.671440527731169 kilogram 'Soaps and foam baths' (kilogram, CH, None) to 'ch hh average consumption' (1 month of consumption, CH, None)>,\n",
       " Exchange: 7.232091790966684 CHF 'Hair care products' (CHF, CH, None) to 'ch hh average consumption' (1 month of consumption, CH, None)>,\n",
       " Exchange: 3.8393338723342505 CHF 'Dental care products' (CHF, CH, None) to 'ch hh average consumption' (1 month of consumption, CH, None)>,\n",
       " Exchange: 35.97018087802476 CHF 'Other products for personal care' (CHF, CH, None) to 'ch hh average consumption' (1 month of consumption, CH, None)>,\n",
       " Exchange: 57.722704410264406 CHF 'Services of hairdressers and beauty salons' (CHF, CH, None) to 'ch hh average consumption' (1 month of consumption, CH, None)>,\n",
       " Exchange: 25.372599217380174 CHF 'Jewellery, clocks and watches' (CHF, CH, None) to 'ch hh average consumption' (1 month of consumption, CH, None)>,\n",
       " Exchange: 13.103015225391278 CHF 'Luggage, leather and baby goods' (CHF, CH, None) to 'ch hh average consumption' (1 month of consumption, CH, None)>,\n",
       " Exchange: 2.5547706193862334 CHF 'Other personal effects' (CHF, CH, None) to 'ch hh average consumption' (1 month of consumption, CH, None)>,\n",
       " Exchange: 23.469491541139604 CHF 'Social protection services' (CHF, CH, None) to 'ch hh average consumption' (1 month of consumption, CH, None)>,\n",
       " Exchange: 24.21240102985214 CHF 'Financial services' (CHF, CH, None) to 'ch hh average consumption' (1 month of consumption, CH, None)>,\n",
       " Exchange: 16.60854588345184 CHF 'Dues to organisations and associations' (CHF, CH, None) to 'ch hh average consumption' (1 month of consumption, CH, None)>,\n",
       " Exchange: 32.859632462560995 CHF 'Other services and losses relating to renting' (CHF, CH, None) to 'ch hh average consumption' (1 month of consumption, CH, None)>,\n",
       " Exchange: 287.57852180552914 CHF 'Premiums for life insurance' (CHF, CH, None) to 'ch hh average consumption' (1 month of consumption, CH, None)>,\n",
       " Exchange: 0.7010478734333265 unit 'Desktop computers' (unit, CH, None) to 'ch hh average consumption' (1 month of consumption, CH, None)>,\n",
       " Exchange: 0.7683377850832135 unit 'Portable computers' (unit, CH, None) to 'ch hh average consumption' (1 month of consumption, CH, None)>,\n",
       " Exchange: 0.8584343538113828 unit 'Printers (incl. multifunctional printers)' (unit, CH, None) to 'ch hh average consumption' (1 month of consumption, CH, None)>,\n",
       " Exchange: 0.7562602104628415 kilogram 'Rice' (kilogram, CH, None) to 'ch hh average consumption' (1 month of consumption, CH, None)>,\n",
       " Exchange: 1.988762722313345 kilogram 'Pasta products' (kilogram, CH, None) to 'ch hh average consumption' (1 month of consumption, CH, None)>,\n",
       " Exchange: 4.505444216424471 kilogram 'Bread' (kilogram, CH, None) to 'ch hh average consumption' (1 month of consumption, CH, None)>,\n",
       " Exchange: 0.9239201305551982 kilogram 'Wheat flour' (kilogram, CH, None) to 'ch hh average consumption' (1 month of consumption, CH, None)>,\n",
       " Exchange: 0.4989790370869941 kilogram 'Other flours and meals, starches, semolina, flakes and grains' (kilogram, CH, None) to 'ch hh average consumption' (1 month of consumption, CH, None)>,\n",
       " Exchange: 1.2648775672633041 kilogram 'Other cereal products' (kilogram, CH, None) to 'ch hh average consumption' (1 month of consumption, CH, None)>,\n",
       " Exchange: 0.9181760481242038 kilogram 'Beef' (kilogram, CH, None) to 'ch hh average consumption' (1 month of consumption, CH, None)>,\n",
       " Exchange: 0.2798224984734231 kilogram 'Veal' (kilogram, CH, None) to 'ch hh average consumption' (1 month of consumption, CH, None)>,\n",
       " Exchange: 0.9692481720705467 kilogram 'Pork, fresh or frozen' (kilogram, CH, None) to 'ch hh average consumption' (1 month of consumption, CH, None)>,\n",
       " Exchange: 0.05579415422596055 kilogram 'Horse meat' (kilogram, CH, None) to 'ch hh average consumption' (1 month of consumption, CH, None)>,\n",
       " Exchange: 0.12942971848247378 kilogram 'Sheep and Goat meat' (kilogram, CH, None) to 'ch hh average consumption' (1 month of consumption, CH, None)>,\n",
       " Exchange: 1.2103011296094104 kilogram 'Poultry, fresh or frozen' (kilogram, CH, None) to 'ch hh average consumption' (1 month of consumption, CH, None)>,\n",
       " Exchange: 0.08421890722557017 kilogram 'Hare, game and rabbit meat' (kilogram, CH, None) to 'ch hh average consumption' (1 month of consumption, CH, None)>,\n",
       " Exchange: 0.453351909063458 kilogram 'Other eatable meat products incl. offal, fresh and frozen' (kilogram, CH, None) to 'ch hh average consumption' (1 month of consumption, CH, None)>,\n",
       " Exchange: 1.6745861876299055 kilogram 'Sausages, cold meat and pies' (kilogram, CH, None) to 'ch hh average consumption' (1 month of consumption, CH, None)>,\n",
       " Exchange: 0.7888994741957057 kilogram 'Ham, bacon and other cured or smoked pork' (kilogram, CH, None) to 'ch hh average consumption' (1 month of consumption, CH, None)>,\n",
       " Exchange: 0.0729743457750976 kilogram 'Poultry, grilled or smoked' (kilogram, CH, None) to 'ch hh average consumption' (1 month of consumption, CH, None)>,\n",
       " Exchange: 0.11954637117815904 kilogram 'Other boiled, dried, cured or smoked meat' (kilogram, CH, None) to 'ch hh average consumption' (1 month of consumption, CH, None)>,\n",
       " Exchange: 0.08767798828414836 kilogram 'Tinned meat and other meat-based preparations' (kilogram, CH, None) to 'ch hh average consumption' (1 month of consumption, CH, None)>,\n",
       " Exchange: 0.913838878312893 kilogram 'Fish' (kilogram, CH, None) to 'ch hh average consumption' (1 month of consumption, CH, None)>,\n",
       " Exchange: 7.434895348015801 litre 'Whole milk' (litre, CH, None) to 'ch hh average consumption' (1 month of consumption, CH, None)>,\n",
       " Exchange: 4.678113760519674 litre 'Skimmed and low-fat milk' (litre, CH, None) to 'ch hh average consumption' (1 month of consumption, CH, None)>,\n",
       " Exchange: 1.6939178841310563 kilogram 'Hard and semi-hard cheese' (kilogram, CH, None) to 'ch hh average consumption' (1 month of consumption, CH, None)>,\n",
       " Exchange: 1.0061244051987877 kilogram 'Fresh, soft and melted cheese' (kilogram, CH, None) to 'ch hh average consumption' (1 month of consumption, CH, None)>,\n",
       " Exchange: 1.1049829615014897 litre 'Cream' (litre, CH, None) to 'ch hh average consumption' (1 month of consumption, CH, None)>,\n",
       " Exchange: 0.34665214885638995 kilogram 'Curd' (kilogram, CH, None) to 'ch hh average consumption' (1 month of consumption, CH, None)>,\n",
       " Exchange: 3.4189740063377028 kilogram 'Yoghurt' (kilogram, CH, None) to 'ch hh average consumption' (1 month of consumption, CH, None)>,\n",
       " Exchange: 1.20776260573308 litre 'Milk-based beverages and other similar milk-based products' (litre, CH, None) to 'ch hh average consumption' (1 month of consumption, CH, None)>,\n",
       " Exchange: 0.6432890373801007 kilogram 'Butter' (kilogram, CH, None) to 'ch hh average consumption' (1 month of consumption, CH, None)>,\n",
       " Exchange: 0.1706603405351654 kilogram 'Margarine' (kilogram, CH, None) to 'ch hh average consumption' (1 month of consumption, CH, None)>,\n",
       " Exchange: 0.040033631835453054 kilogram 'Other vegetable fats' (kilogram, CH, None) to 'ch hh average consumption' (1 month of consumption, CH, None)>,\n",
       " Exchange: 0.33886518394435994 litre 'Olive oil' (litre, CH, None) to 'ch hh average consumption' (1 month of consumption, CH, None)>,\n",
       " Exchange: 0.5059797890209472 litre 'Other vegetable oils and edible animal fats' (litre, CH, None) to 'ch hh average consumption' (1 month of consumption, CH, None)>,\n",
       " Exchange: 0.29926911748707624 kilogram 'Lemons' (kilogram, CH, None) to 'ch hh average consumption' (1 month of consumption, CH, None)>,\n",
       " Exchange: 2.2137874803270394 kilogram 'Oranges and other citrus fruits' (kilogram, CH, None) to 'ch hh average consumption' (1 month of consumption, CH, None)>,\n",
       " Exchange: 1.602025182505743 kilogram 'Banana' (kilogram, CH, None) to 'ch hh average consumption' (1 month of consumption, CH, None)>,\n",
       " Exchange: 2.6930574666132214 kilogram 'Apples' (kilogram, CH, None) to 'ch hh average consumption' (1 month of consumption, CH, None)>,\n",
       " Exchange: 0.6780965577275837 kilogram 'Pears and quinces' (kilogram, CH, None) to 'ch hh average consumption' (1 month of consumption, CH, None)>,\n",
       " Exchange: 1.799597178029813 kilogram 'Stone fruit' (kilogram, CH, None) to 'ch hh average consumption' (1 month of consumption, CH, None)>,\n",
       " Exchange: 0.6811288795834703 kilogram 'Berries' (kilogram, CH, None) to 'ch hh average consumption' (1 month of consumption, CH, None)>,\n",
       " Exchange: 0.6866460475831518 kilogram 'Grapes' (kilogram, CH, None) to 'ch hh average consumption' (1 month of consumption, CH, None)>,\n",
       " Exchange: 0.756561010435073 kilogram 'Melons and watermelons' (kilogram, CH, None) to 'ch hh average consumption' (1 month of consumption, CH, None)>,\n",
       " Exchange: 0.7710331243520752 kilogram 'Other tropical fruits' (kilogram, CH, None) to 'ch hh average consumption' (1 month of consumption, CH, None)>,\n",
       " Exchange: 0.464215553430974 kilogram 'Nuts, other edible nuts and seeds oleaginous fruits' (kilogram, CH, None) to 'ch hh average consumption' (1 month of consumption, CH, None)>,\n",
       " Exchange: 0.19935756308978833 kilogram 'Other fried fruits' (kilogram, CH, None) to 'ch hh average consumption' (1 month of consumption, CH, None)>,\n",
       " Exchange: 0.26137178804903427 kilogram 'Preserved fruits' (kilogram, CH, None) to 'ch hh average consumption' (1 month of consumption, CH, None)>,\n",
       " Exchange: 1.6865837255213993 kilogram 'Green salads and other leafy vegetables' (kilogram, CH, None) to 'ch hh average consumption' (1 month of consumption, CH, None)>,\n",
       " Exchange: 0.6185661434832032 kilogram 'Stem vegetables' (kilogram, CH, None) to 'ch hh average consumption' (1 month of consumption, CH, None)>,\n",
       " Exchange: 0.8261910230545613 kilogram 'Brassicas' (kilogram, CH, None) to 'ch hh average consumption' (1 month of consumption, CH, None)>,\n",
       " Exchange: 1.5034985131247174 kilogram 'Tomatoes' (kilogram, CH, None) to 'ch hh average consumption' (1 month of consumption, CH, None)>,\n",
       " Exchange: 0.40294066329281897 kilogram 'Beans and peas' (kilogram, CH, None) to 'ch hh average consumption' (1 month of consumption, CH, None)>,\n",
       " Exchange: 1.6792432785111056 kilogram 'Other fruiting vegetables' (kilogram, CH, None) to 'ch hh average consumption' (1 month of consumption, CH, None)>,\n",
       " Exchange: 0.6395791912963119 kilogram 'Onions' (kilogram, CH, None) to 'ch hh average consumption' (1 month of consumption, CH, None)>,\n",
       " Exchange: 0.05748422446866652 kilogram 'Garlic' (kilogram, CH, None) to 'ch hh average consumption' (1 month of consumption, CH, None)>,\n",
       " Exchange: 2.328513637867855 kilogram 'Beets and other root vegetables' (kilogram, CH, None) to 'ch hh average consumption' (1 month of consumption, CH, None)>,\n",
       " Exchange: 0.06501999839174029 kilogram 'Mushrooms and vegetables, dried' (kilogram, CH, None) to 'ch hh average consumption' (1 month of consumption, CH, None)>,\n",
       " Exchange: 1.2697595414420382 kilogram 'Tinned or processed vegetables and mushrooms' (kilogram, CH, None) to 'ch hh average consumption' (1 month of consumption, CH, None)>,\n",
       " Exchange: 3.3447309643904357 kilogram 'Potatoes' (kilogram, CH, None) to 'ch hh average consumption' (1 month of consumption, CH, None)>,\n",
       " Exchange: 0.8801394827335115 kilogram 'Potatoes-based products and other tuber vegetables' (kilogram, CH, None) to 'ch hh average consumption' (1 month of consumption, CH, None)>,\n",
       " Exchange: 1.063335404249435 kilogram 'Sugar' (kilogram, CH, None) to 'ch hh average consumption' (1 month of consumption, CH, None)>,\n",
       " Exchange: 0.46394399406092046 kilogram 'Jams, marmalades, compotes' (kilogram, CH, None) to 'ch hh average consumption' (1 month of consumption, CH, None)>,\n",
       " Exchange: 0.15595080298292582 kilogram 'Honey' (kilogram, CH, None) to 'ch hh average consumption' (1 month of consumption, CH, None)>,\n",
       " Exchange: 0.9261093025607047 kilogram 'Chocolate' (kilogram, CH, None) to 'ch hh average consumption' (1 month of consumption, CH, None)>,\n",
       " Exchange: 0.6766240565321142 kilogram 'Ice cream' (kilogram, CH, None) to 'ch hh average consumption' (1 month of consumption, CH, None)>,\n",
       " Exchange: 0.883797849641689 kilogram 'Pure and ground coffee' (kilogram, CH, None) to 'ch hh average consumption' (1 month of consumption, CH, None)>,\n",
       " Exchange: 0.0637309277066468 kilogram 'Instant coffee and coffee surrogates' (kilogram, CH, None) to 'ch hh average consumption' (1 month of consumption, CH, None)>,\n",
       " Exchange: 0.09807773643501129 kilogram 'Tea, herbal tea and surrogates' (kilogram, CH, None) to 'ch hh average consumption' (1 month of consumption, CH, None)>,\n",
       " Exchange: 0.1701328253075303 kilogram 'Cocoa-based beverages' (kilogram, CH, None) to 'ch hh average consumption' (1 month of consumption, CH, None)>,\n",
       " Exchange: 14.135046468986337 litre 'Mineral water' (litre, CH, None) to 'ch hh average consumption' (1 month of consumption, CH, None)>,\n",
       " Exchange: 9.967388596494771 litre 'Non-alcoholic soft drinks' (litre, CH, None) to 'ch hh average consumption' (1 month of consumption, CH, None)>,\n",
       " Exchange: 0.38104082576618037 litre 'Syrups' (litre, CH, None) to 'ch hh average consumption' (1 month of consumption, CH, None)>,\n",
       " Exchange: 4.9690916757122965 litre 'Fruit juices' (litre, CH, None) to 'ch hh average consumption' (1 month of consumption, CH, None)>,\n",
       " Exchange: 0.06850426666772139 litre 'Vegetable juices' (litre, CH, None) to 'ch hh average consumption' (1 month of consumption, CH, None)>,\n",
       " Exchange: 0.16594915516136222 litre 'Spirits' (litre, CH, None) to 'ch hh average consumption' (1 month of consumption, CH, None)>,\n",
       " Exchange: 0.0863898643109924 litre 'Alcoholic and non-alcoholic liqueurs and liqueur-based aperitifs' (litre, CH, None) to 'ch hh average consumption' (1 month of consumption, CH, None)>,\n",
       " Exchange: 4.435417827093672 litre 'Wine' (litre, CH, None) to 'ch hh average consumption' (1 month of consumption, CH, None)>,\n",
       " Exchange: 3.0728074415572633 litre 'Alcoholic and non-alcoholic beer' (litre, CH, None) to 'ch hh average consumption' (1 month of consumption, CH, None)>,\n",
       " Exchange: 75.42441554303447 litre 'Gasoline' (litre, CH, None) to 'ch hh average consumption' (1 month of consumption, CH, None)>,\n",
       " Exchange: 16.904872499968057 litre 'Diesel' (litre, CH, None) to 'ch hh average consumption' (1 month of consumption, CH, None)>,\n",
       " Exchange: 8.267672394047548 number of waste bags 'Refuse collection costs at principal residence' (number of waste bags, CH, None) to 'ch hh average consumption' (1 month of consumption, CH, None)>,\n",
       " Exchange: 13.434752299647764 cubic meter 'Wastewater collection fees of principal residence' (cubic meter, CH, None) to 'ch hh average consumption' (1 month of consumption, CH, None)>,\n",
       " Exchange: 13.434752299647764 cubic meter 'Water supply fees of principal residence' (cubic meter, CH, None) to 'ch hh average consumption' (1 month of consumption, CH, None)>,\n",
       " Exchange: 413.3542093213146 kilowatt hour 'Electricity of principal residence' (kilowatt hour, CH, None) to 'ch hh average consumption' (1 month of consumption, CH, None)>,\n",
       " Exchange: 4175.2234332217495 megajoule 'Natural gas and other fuels of principal residence' (megajoule, CH, None) to 'ch hh average consumption' (1 month of consumption, CH, None)>,\n",
       " Exchange: 0.0 megajoule 'Central heating or district heating of principal residence' (megajoule, CH, None) to 'ch hh average consumption' (1 month of consumption, CH, None)>]"
      ]
     },
     "execution_count": 10,
     "metadata": {},
     "output_type": "execute_result"
    }
   ],
   "source": [
    "act = co.search('average')[0]\n",
    "list(act.exchanges())"
   ]
  },
  {
   "cell_type": "code",
   "execution_count": null,
   "metadata": {},
   "outputs": [],
   "source": []
  }
 ],
 "metadata": {
  "kernelspec": {
   "display_name": "Python 3",
   "language": "python",
   "name": "python3"
  },
  "language_info": {
   "codemirror_mode": {
    "name": "ipython",
    "version": 3
   },
   "file_extension": ".py",
   "mimetype": "text/x-python",
   "name": "python",
   "nbconvert_exporter": "python",
   "pygments_lexer": "ipython3",
   "version": "3.8.5"
  },
  "varInspector": {
   "cols": {
    "lenName": 16,
    "lenType": 16,
    "lenVar": 40
   },
   "kernels_config": {
    "python": {
     "delete_cmd_postfix": "",
     "delete_cmd_prefix": "del ",
     "library": "var_list.py",
     "varRefreshCmd": "print(var_dic_list())"
    },
    "r": {
     "delete_cmd_postfix": ") ",
     "delete_cmd_prefix": "rm(",
     "library": "var_list.r",
     "varRefreshCmd": "cat(var_dic_list()) "
    }
   },
   "types_to_exclude": [
    "module",
    "function",
    "builtin_function_or_method",
    "instance",
    "_Feature"
   ],
   "window_display": false
  }
 },
 "nbformat": 4,
 "nbformat_minor": 2
}
