{
 "cells": [
  {
   "cell_type": "code",
   "execution_count": 1,
   "metadata": {},
   "outputs": [],
   "source": [
    "import brightway2 as bw\n",
    "import numpy as np\n",
    "import pandas as pd\n",
    "from copy import copy\n",
    "\n",
    "#Local files\n",
    "import json, os"
   ]
  },
  {
   "cell_type": "code",
   "execution_count": 2,
   "metadata": {},
   "outputs": [],
   "source": [
    "with open('global_settings.json', 'rb') as f:\n",
    "    settings = json.load(f)\n",
    "which_pc = settings['which_pc']"
   ]
  },
  {
   "cell_type": "markdown",
   "metadata": {},
   "source": [
    "# Setup the project"
   ]
  },
  {
   "cell_type": "markdown",
   "metadata": {},
   "source": [
    "### TODO -> choose project"
   ]
  },
  {
   "cell_type": "code",
   "execution_count": 4,
   "metadata": {},
   "outputs": [],
   "source": [
    "project = 'GSA for ecoinvent'\n",
    "bw.projects.set_current(project)"
   ]
  },
  {
   "cell_type": "code",
   "execution_count": 3,
   "metadata": {},
   "outputs": [
    {
     "data": {
      "text/plain": [
       "'default'"
      ]
     },
     "execution_count": 3,
     "metadata": {},
     "output_type": "execute_result"
    }
   ],
   "source": [
    "bw.projects.delete_project('GSA for ecoinvent', delete_dir=True)"
   ]
  },
  {
   "cell_type": "markdown",
   "metadata": {},
   "source": [
    "# Import older versions of databases"
   ]
  },
  {
   "cell_type": "markdown",
   "metadata": {},
   "source": [
    "### TODO -> give paths to databases files\n",
    "for now let's use ecoinvent 3.3 cutoff and EXIOBASE 2.2"
   ]
  },
  {
   "cell_type": "code",
   "execution_count": 5,
   "metadata": {},
   "outputs": [],
   "source": [
    "if which_pc == 'local':\n",
    "    # Older databases\n",
    "    ei33_path = '/Users/akim/Documents/LCA_files/ecoinvent 3.3 cutoff/datasets'  \n",
    "    ex22_path = '/Users/akim/Documents/LCA_files/exiobase 2.2/mrIOT_IxI_fpa_coefficient_version2.2.2'\n",
    "    ag12_path = '/Users/akim/Documents/LCA_files/agribalyse 1.2/AGRIBALYSEv1.2_Complete.xml'\n",
    "    # Newer databases\n",
    "    ei36_path = '/Users/akim/Documents/LCA_files/ecoinvent 3.6 cutoff/datasets'  \n",
    "    # ex34_path = '/Users/akim/Documents/LCA_files/exiobase 3.4/IOT_2011_pxp/' #TODO\n",
    "    ag13_path = '/Users/akim/Documents/LCA_files/agribalyse 1.3/Agribalyse CSV FINAL_no links_Nov2016v3.CSV'\n",
    "elif which_pc == 'merlin':\n",
    "    ex22_path = '/data/user/kim_a/LCA_files/exiobase_22/mrIOT_IxI_fpa_coefficient_version2.2.2'\n",
    "    ei33_path = '/data/user/kim_a/LCA_files/ecoinvent_33_cutoff/datasets'  \n",
    "    ei36_path = '/data/user/kim_a/LCA_files/ecoinvent_36_cutoff/datasets'  \n",
    "    ag13_path = '/data/user/kim_a/LCA_files/agribalyse_13/Agribalyse CSV FINAL_no links_Nov2016v3.CSV'"
   ]
  },
  {
   "cell_type": "markdown",
   "metadata": {},
   "source": [
    "## 1. Biosphere3"
   ]
  },
  {
   "cell_type": "code",
   "execution_count": 6,
   "metadata": {},
   "outputs": [
    {
     "name": "stdout",
     "output_type": "stream",
     "text": [
      "Creating default biosphere\n",
      "\n"
     ]
    },
    {
     "name": "stderr",
     "output_type": "stream",
     "text": [
      "Writing activities to SQLite3 database:\n"
     ]
    },
    {
     "name": "stdout",
     "output_type": "stream",
     "text": [
      "Applying strategy: normalize_units\n",
      "Applying strategy: drop_unspecified_subcategories\n",
      "Applied 2 strategies in 0.01 seconds\n"
     ]
    },
    {
     "name": "stderr",
     "output_type": "stream",
     "text": [
      "0% [##############################] 100% | ETA: 00:00:00\n",
      "Total time elapsed: 00:00:00\n"
     ]
    },
    {
     "name": "stdout",
     "output_type": "stream",
     "text": [
      "Title: Writing activities to SQLite3 database:\n",
      "  Started: 06/09/2020 09:57:47\n",
      "  Finished: 06/09/2020 09:57:47\n",
      "  Total time elapsed: 00:00:00\n",
      "  CPU %: 102.20\n",
      "  Memory %: 0.88\n",
      "Created database: biosphere3\n",
      "Creating default LCIA methods\n",
      "\n",
      "Applying strategy: normalize_units\n",
      "Applying strategy: set_biosphere_type\n",
      "Applying strategy: drop_unspecified_subcategories\n",
      "Applying strategy: link_iterable_by_fields\n",
      "Applied 4 strategies in 1.21 seconds\n",
      "Wrote 850 LCIA methods with 219059 characterization factors\n",
      "Creating core data migrations\n",
      "\n"
     ]
    }
   ],
   "source": [
    "bw.bw2setup()"
   ]
  },
  {
   "cell_type": "markdown",
   "metadata": {},
   "source": [
    "## 2. Ecoinvent 3.3"
   ]
  },
  {
   "cell_type": "code",
   "execution_count": 7,
   "metadata": {},
   "outputs": [
    {
     "name": "stdout",
     "output_type": "stream",
     "text": [
      "Extracting XML data from 13831 datasets\n",
      "Extracted 13831 datasets in 16.74 seconds\n",
      "Applying strategy: normalize_units\n",
      "Applying strategy: update_ecoinvent_locations\n",
      "Applying strategy: remove_zero_amount_coproducts\n",
      "Applying strategy: remove_zero_amount_inputs_with_no_activity\n",
      "Applying strategy: remove_unnamed_parameters\n",
      "Applying strategy: es2_assign_only_product_with_amount_as_reference_product\n",
      "Applying strategy: assign_single_product_as_activity\n",
      "Applying strategy: create_composite_code\n",
      "Applying strategy: drop_unspecified_subcategories\n",
      "Applying strategy: fix_ecoinvent_flows_pre35\n",
      "Applying strategy: drop_temporary_outdated_biosphere_flows\n",
      "Applying strategy: link_biosphere_by_flow_uuid\n",
      "Applying strategy: link_internal_technosphere_by_composite_code\n",
      "Applying strategy: delete_exchanges_missing_activity\n",
      "Applying strategy: delete_ghost_exchanges\n",
      "Applying strategy: remove_uncertainty_from_negative_loss_exchanges\n",
      "Applying strategy: fix_unreasonably_high_lognormal_uncertainties\n",
      "Applying strategy: set_lognormal_loc_value\n",
      "Applying strategy: convert_activity_parameters_to_list\n",
      "Applying strategy: add_cpc_classification_from_single_reference_product\n",
      "Applied 20 strategies in 5.78 seconds\n",
      "Applying strategy: link_iterable_by_fields\n",
      "13831 datasets\n",
      "501148 exchanges\n",
      "0 unlinked exchanges\n",
      "  \n"
     ]
    }
   ],
   "source": [
    "ei33_name = \"ecoinvent 3.3 cutoff\"  \n",
    "if ei33_name in bw.databases:\n",
    "    print(ei33_name + \" database already present!!! No import is needed\")\n",
    "else:\n",
    "    ei33 = bw.SingleOutputEcospold2Importer(ei33_path, ei33_name)\n",
    "    ei33.apply_strategies()\n",
    "    ei33.match_database(db_name='biosphere3',fields=('name', 'category', 'unit', 'location'))\n",
    "    ei33.statistics()"
   ]
  },
  {
   "cell_type": "code",
   "execution_count": 8,
   "metadata": {},
   "outputs": [
    {
     "name": "stderr",
     "output_type": "stream",
     "text": [
      "Writing activities to SQLite3 database:\n",
      "0% [##############################] 100% | ETA: 00:00:00\n",
      "Total time elapsed: 00:00:29\n"
     ]
    },
    {
     "name": "stdout",
     "output_type": "stream",
     "text": [
      "Title: Writing activities to SQLite3 database:\n",
      "  Started: 06/09/2020 09:59:18\n",
      "  Finished: 06/09/2020 09:59:47\n",
      "  Total time elapsed: 00:00:29\n",
      "  CPU %: 94.60\n",
      "  Memory %: 8.09\n",
      "Created database: ecoinvent 3.3 cutoff\n"
     ]
    }
   ],
   "source": [
    "if ei33_name in bw.databases:\n",
    "    print(ei33_name + \" database already present!!! No import is needed\")\n",
    "else:\n",
    "    ei33.write_database()"
   ]
  },
  {
   "cell_type": "markdown",
   "metadata": {},
   "source": [
    "## 3. Exiobase 2.2"
   ]
  },
  {
   "cell_type": "code",
   "execution_count": 9,
   "metadata": {},
   "outputs": [],
   "source": [
    "# 2. Exiobase \n",
    "from bw2io.importers.exiobase2 import Exiobase22Importer"
   ]
  },
  {
   "cell_type": "code",
   "execution_count": 10,
   "metadata": {},
   "outputs": [
    {
     "name": "stdout",
     "output_type": "stream",
     "text": [
      "Creating database EXIOBASE 2.2\n",
      "Extracting metadata\n",
      "Extracting emissions\n",
      "Extracting resources\n",
      "Extracting main IO table\n",
      "Extracted 163 datasets and many exchanges in 0.76 seconds\n",
      "Aggregating `substances` and `extractions`\n",
      "Processing technosphere\n",
      "Processing exchanges\n"
     ]
    }
   ],
   "source": [
    "ex22_name = 'EXIOBASE 2.2'\n",
    "if ex22_name in bw.databases:\n",
    "    print(ex22_name + \" database already present!!! No import is needed\")\n",
    "else:\n",
    "    ex22 = Exiobase22Importer(ex22_path, ex22_name)\n",
    "    ex22.apply_strategies()"
   ]
  },
  {
   "cell_type": "code",
   "execution_count": 11,
   "metadata": {},
   "outputs": [
    {
     "name": "stderr",
     "output_type": "stream",
     "text": [
      "Writing activities to SQLite3 database:\n",
      "0% [##############################] 100% | ETA: 00:00:00\n",
      "Total time elapsed: 00:00:00\n"
     ]
    },
    {
     "name": "stdout",
     "output_type": "stream",
     "text": [
      "Title: Writing activities to SQLite3 database:\n",
      "  Started: 06/09/2020 10:00:37\n",
      "  Finished: 06/09/2020 10:00:38\n",
      "  Total time elapsed: 00:00:00\n",
      "  CPU %: 100.10\n",
      "  Memory %: 8.81\n",
      "Starting IO table write\n",
      "Writing geomapping\n",
      "Creating array - this will take a while...\n",
      "On exchange number 1000000\n",
      "On exchange number 2000000\n",
      "On exchange number 3000000\n",
      "On exchange number 4000000\n",
      "On exchange number 5000000\n",
      "On exchange number 6000000\n",
      "On exchange number 7000000\n",
      "On exchange number 8000000\n",
      "On exchange number 9000000\n",
      "On exchange number 10000000\n",
      "On exchange number 11000000\n",
      "On exchange number 12000000\n",
      "On exchange number 13000000\n",
      "On exchange number 14000000\n",
      "On exchange number 15000000\n",
      "On exchange number 16000000\n",
      "On exchange number 17000000\n",
      "On exchange number 18000000\n",
      "On exchange number 19000000\n",
      "On exchange number 20000000\n",
      "On exchange number 21000000\n",
      "On exchange number 22000000\n",
      "On exchange number 23000000\n",
      "On exchange number 24000000\n",
      "On exchange number 25000000\n",
      "On exchange number 26000000\n",
      "On exchange number 27000000\n",
      "On exchange number 28000000\n",
      "On exchange number 29000000\n",
      "On exchange number 30000000\n",
      "On exchange number 31000000\n",
      "On exchange number 32000000\n",
      "On exchange number 33000000\n",
      "On exchange number 34000000\n",
      "On exchange number 35000000\n",
      "Trimming array\n",
      "Writing array\n"
     ]
    }
   ],
   "source": [
    "if ex22_name in bw.databases:\n",
    "    print(ex22_name + \" database already present!!! No import is needed\")\n",
    "else:\n",
    "    ex22.write_database()"
   ]
  },
  {
   "cell_type": "markdown",
   "metadata": {},
   "source": [
    "## 4. Agribalyse 1.2\n",
    "better see: [how to import](https://nbviewer.jupyter.org/urls/bitbucket.org/cmutel/brightway2/raw/default/notebooks/IO%20-%20Importing%20Agribalyse%20with%20Ecoinvent%202.2.ipynb)"
   ]
  },
  {
   "cell_type": "code",
   "execution_count": null,
   "metadata": {},
   "outputs": [],
   "source": [
    "def import_agribalyse12(ag12_path, ag12_name, ei_name):\n",
    "\n",
    "    ag12_ei_name = ag12_name + ' - ' + ei_name\n",
    "    \n",
    "    if ei_name not in bw.databases:\n",
    "        print('Cannot find database: ' + ei_name)\n",
    "        return\n",
    "    \n",
    "    if ag12_ei_name in bw.databases:\n",
    "        print(ag12_ei_name + \" database already present!!! No import is needed\")\n",
    "    else:\n",
    "        ag12_ei = bw.SingleOutputEcospold1Importer(ag12_path, ag12_ei_name)\n",
    "        ag12_ei.apply_strategies()\n",
    "        ag12_ei.statistics()\n",
    "        \n",
    "        ag12_ei.write_excel(True)\n",
    "        from bw2io.strategies.simapro import normalize_simapro_biosphere_categories, normalize_simapro_biosphere_names\n",
    "        ag12_ei.apply_strategy(normalize_simapro_biosphere_categories)\n",
    "        ag12_ei.apply_strategy(normalize_simapro_biosphere_names)\n",
    "\n",
    "        from bw2io.strategies import link_iterable_by_fields\n",
    "        import functools\n",
    "        ag12_ei.apply_strategy(functools.partial(link_iterable_by_fields, other=bw.Database(\"biosphere3\"), kind=\"biosphere\"))\n",
    "        ag12_ei.statistics()\n",
    "\n",
    "        ag12_ei.write_excel(True)\n",
    "        \n",
    "        ag12_ei_new_biosphere_name = ag12_ei_name + \" - new biosphere\"\n",
    "        bw.Database(ag12_ei_new_biosphere_name).register()\n",
    "        ag12_ei.add_unlinked_flows_to_biosphere_database(ag12_ei_new_biosphere_name)\n",
    "\n",
    "        def get_unlinked(data):\n",
    "            for ds in ag12_ei.data:\n",
    "                for exc in ds['exchanges']:\n",
    "                    if exc['type'] == 'production' and exc['name'] == 'Alfalfa, conventional, for animal feeding, at farm gate':\n",
    "                        return ds, exc\n",
    "\n",
    "        ds, exc = get_unlinked(ag12_ei.data)\n",
    "\n",
    "        from bw2io.strategies import link_technosphere_based_on_name_unit_location\n",
    "        ag12_ei.apply_strategy(link_technosphere_based_on_name_unit_location)\n",
    "        ag12_ei.statistics()\n",
    "\n",
    "        def get_unlinked(data):\n",
    "            for ds in ag12_ei.data:\n",
    "                for exc in ds['exchanges']:\n",
    "                    if exc['type'] == 'production' and not exc.get('input'):\n",
    "                        return ds, exc\n",
    "\n",
    "        ds, exc = get_unlinked(ag12_ei.data)\n",
    "\n",
    "        for ds in ag12_ei.data:\n",
    "            for exc in ds['exchanges']:\n",
    "                if exc['type'] == 'production' and not exc.get('input'):\n",
    "                    print(\"Fixing:\", exc['name'])\n",
    "                    exc['type'] = 'technosphere'\n",
    "\n",
    "        ag12_ei.apply_strategy(link_technosphere_based_on_name_unit_location)\n",
    "        ei_name_short = ei_name #TODO\n",
    "        ag12_ei.apply_strategy(functools.partial(link_technosphere_based_on_name_unit_location, external_db_name=ei_name_short))\n",
    "        ag12_ei.statistics()\n",
    "\n",
    "        ag12_ei.add_unlinked_activities()\n",
    "        ag12_ei.statistics()\n",
    "\n",
    "        for ds in ag12_ei.data:\n",
    "            del ds['code']\n",
    "\n",
    "        from bw2io.strategies import set_code_by_activity_hash\n",
    "        ag12_ei.apply_strategy(set_code_by_activity_hash)\n",
    "\n",
    "        ag12_ei.apply_strategy(functools.partial(\n",
    "                link_iterable_by_fields,\n",
    "                other=ag12_ei.data,\n",
    "                fields=('name', 'location', 'unit'),\n",
    "                relink=True\n",
    "        ))\n",
    "        ag12_ei.statistics()\n",
    "        \n",
    "        if ag12_ei_name in bw.databases:\n",
    "            print(ag12_ei_name + \" database already present!!! No import is needed\")\n",
    "        else:\n",
    "            ag12_ei.write_database()"
   ]
  },
  {
   "cell_type": "code",
   "execution_count": null,
   "metadata": {},
   "outputs": [],
   "source": [
    "ag12_name = 'Agribalyse 1.2'\n",
    "import_agribalyse12(ag12_path, ag12_name, ei33_name)"
   ]
  },
  {
   "cell_type": "code",
   "execution_count": null,
   "metadata": {},
   "outputs": [],
   "source": [
    "bw.databases"
   ]
  },
  {
   "cell_type": "code",
   "execution_count": null,
   "metadata": {},
   "outputs": [],
   "source": []
  },
  {
   "cell_type": "markdown",
   "metadata": {},
   "source": [
    "## 5. HEIA"
   ]
  },
  {
   "cell_type": "markdown",
   "metadata": {},
   "source": [
    "### TODO -> ask Andi for files"
   ]
  },
  {
   "cell_type": "markdown",
   "metadata": {},
   "source": [
    "# Import newer versions of databases"
   ]
  },
  {
   "cell_type": "markdown",
   "metadata": {},
   "source": [
    "## 1. Ecoinvent 3.6 cutoff"
   ]
  },
  {
   "cell_type": "code",
   "execution_count": 12,
   "metadata": {},
   "outputs": [
    {
     "name": "stdout",
     "output_type": "stream",
     "text": [
      "Extracting XML data from 18121 datasets\n",
      "Extracted 18121 datasets in 23.48 seconds\n",
      "Applying strategy: normalize_units\n",
      "Applying strategy: update_ecoinvent_locations\n",
      "Applying strategy: remove_zero_amount_coproducts\n",
      "Applying strategy: remove_zero_amount_inputs_with_no_activity\n",
      "Applying strategy: remove_unnamed_parameters\n",
      "Applying strategy: es2_assign_only_product_with_amount_as_reference_product\n",
      "Applying strategy: assign_single_product_as_activity\n",
      "Applying strategy: create_composite_code\n",
      "Applying strategy: drop_unspecified_subcategories\n",
      "Applying strategy: fix_ecoinvent_flows_pre35\n",
      "Applying strategy: drop_temporary_outdated_biosphere_flows\n",
      "Applying strategy: link_biosphere_by_flow_uuid\n",
      "Applying strategy: link_internal_technosphere_by_composite_code\n",
      "Applying strategy: delete_exchanges_missing_activity\n",
      "Applying strategy: delete_ghost_exchanges\n",
      "Applying strategy: remove_uncertainty_from_negative_loss_exchanges\n",
      "Applying strategy: fix_unreasonably_high_lognormal_uncertainties\n",
      "Applying strategy: set_lognormal_loc_value\n",
      "Applying strategy: convert_activity_parameters_to_list\n",
      "Applying strategy: add_cpc_classification_from_single_reference_product\n",
      "Applied 20 strategies in 8.13 seconds\n",
      "Applying strategy: link_iterable_by_fields\n",
      "18121 datasets\n",
      "615644 exchanges\n",
      "0 unlinked exchanges\n",
      "  \n"
     ]
    }
   ],
   "source": [
    "ei36_name = \"ecoinvent 3.6 cutoff\"\n",
    "if ei36_name in bw.databases:\n",
    "    print(ei36_name + \" database already present!!! No import is needed\")\n",
    "else:\n",
    "    ei36 = bw.SingleOutputEcospold2Importer(ei36_path, ei36_name)\n",
    "    ei36.apply_strategies()\n",
    "    ei36.match_database(db_name='biosphere3',fields=('name', 'category', 'unit', 'location'))\n",
    "    ei36.statistics()"
   ]
  },
  {
   "cell_type": "code",
   "execution_count": 13,
   "metadata": {},
   "outputs": [
    {
     "name": "stderr",
     "output_type": "stream",
     "text": [
      "Writing activities to SQLite3 database:\n",
      "0% [##############################] 100% | ETA: 00:00:00\n",
      "Total time elapsed: 00:00:36\n"
     ]
    },
    {
     "name": "stdout",
     "output_type": "stream",
     "text": [
      "Title: Writing activities to SQLite3 database:\n",
      "  Started: 06/09/2020 10:04:04\n",
      "  Finished: 06/09/2020 10:04:41\n",
      "  Total time elapsed: 00:00:36\n",
      "  CPU %: 94.70\n",
      "  Memory %: 16.75\n",
      "Created database: ecoinvent 3.6 cutoff\n"
     ]
    }
   ],
   "source": [
    "if ei36_name in bw.databases:\n",
    "    print(ei36_name + \" database already present!!! No import is needed\")\n",
    "else:\n",
    "    ei36.write_database()"
   ]
  },
  {
   "cell_type": "code",
   "execution_count": 14,
   "metadata": {},
   "outputs": [
    {
     "data": {
      "text/plain": [
       "Databases dictionary with 4 object(s):\n",
       "\tEXIOBASE 2.2\n",
       "\tbiosphere3\n",
       "\tecoinvent 3.3 cutoff\n",
       "\tecoinvent 3.6 cutoff"
      ]
     },
     "execution_count": 14,
     "metadata": {},
     "output_type": "execute_result"
    }
   ],
   "source": [
    "bw.databases"
   ]
  },
  {
   "cell_type": "markdown",
   "metadata": {},
   "source": [
    "## 2. Agribalyse 1.3"
   ]
  },
  {
   "cell_type": "code",
   "execution_count": 15,
   "metadata": {},
   "outputs": [],
   "source": [
    "if 'Agribalyse 1.3 - ecoinvent 3.6 cutoff' in bw.databases:\n",
    "    del bw.databases['Agribalyse 1.3 - ecoinvent 3.6 cutoff']"
   ]
  },
  {
   "cell_type": "markdown",
   "metadata": {},
   "source": [
    "### TODO -> Chris, Rhythima, check if migrations are correct"
   ]
  },
  {
   "cell_type": "code",
   "execution_count": 16,
   "metadata": {},
   "outputs": [],
   "source": [
    "ei_name = ei36_name"
   ]
  },
  {
   "cell_type": "code",
   "execution_count": 17,
   "metadata": {},
   "outputs": [
    {
     "name": "stdout",
     "output_type": "stream",
     "text": [
      "Extracted 1189 unallocated datasets in 2.81 seconds\n",
      "Applying strategy: normalize_units\n",
      "Applying strategy: update_ecoinvent_locations\n",
      "Applying strategy: assign_only_product_as_production\n",
      "Applying strategy: drop_unspecified_subcategories\n",
      "Applying strategy: sp_allocate_products\n",
      "Applying strategy: fix_zero_allocation_products\n",
      "Applying strategy: split_simapro_name_geo\n",
      "Applying strategy: strip_biosphere_exc_locations\n",
      "Applying strategy: migrate_datasets\n",
      "Applying strategy: migrate_exchanges\n",
      "Applying strategy: set_code_by_activity_hash\n",
      "Applying strategy: link_technosphere_based_on_name_unit_location\n",
      "Applying strategy: change_electricity_unit_mj_to_kwh\n",
      "Applying strategy: set_lognormal_loc_value_uncertainty_safe\n",
      "Applying strategy: normalize_biosphere_categories\n",
      "Applying strategy: normalize_simapro_biosphere_categories\n",
      "Applying strategy: normalize_biosphere_names\n",
      "Applying strategy: normalize_simapro_biosphere_names\n",
      "Applying strategy: migrate_exchanges\n",
      "Applying strategy: fix_localized_water_flows\n",
      "Applying strategy: link_iterable_by_fields\n",
      "Applying strategy: convert_activity_parameters_to_list\n",
      "Applied 22 strategies in 3.20 seconds\n",
      "Applying strategy: migrate_datasets\n",
      "Applying strategy: migrate_exchanges\n"
     ]
    },
    {
     "name": "stderr",
     "output_type": "stream",
     "text": [
      "Writing activities to SQLite3 database:\n",
      "0% [##############################] 100% | ETA: 00:00:00\n",
      "Total time elapsed: 00:00:00\n"
     ]
    },
    {
     "name": "stdout",
     "output_type": "stream",
     "text": [
      "Title: Writing activities to SQLite3 database:\n",
      "  Started: 06/09/2020 10:05:53\n",
      "  Finished: 06/09/2020 10:05:53\n",
      "  Total time elapsed: 00:00:00\n",
      "  CPU %: 107.20\n",
      "  Memory %: 17.99\n",
      "Applying strategy: link_iterable_by_fields\n",
      "Applying strategy: link_iterable_by_fields\n",
      "Applying strategy: link_iterable_by_fields\n",
      "1700 datasets\n",
      "115259 exchanges\n",
      "528 unlinked exchanges\n",
      "  Type technosphere: 35 unique unlinked exchanges\n"
     ]
    }
   ],
   "source": [
    "ag13_name = 'Agribalyse 1.3'\n",
    "ag13_ei_name = ag13_name + ' - ' + ei_name\n",
    "if ag13_ei_name in bw.databases:\n",
    "    print(ag13_ei_name + \" database already present!!! No import is needed\")\n",
    "else:\n",
    "    ag13_ei = bw.SimaProCSVImporter(ag13_path, ag13_ei_name)\n",
    "    ag13_ei.apply_strategies()\n",
    "    \n",
    "    # Apply all migrations with previous versions of ecoinvent\n",
    "    ag13_ei.migrate('simapro-ecoinvent-3.3')\n",
    "    \n",
    "    # Update US locations\n",
    "    from bw2io.strategies.locations import update_ecoinvent_locations\n",
    "    ag13_ei = update_ecoinvent_locations(ag13_ei)\n",
    "    \n",
    "    # Biosphere flows\n",
    "    ag13_ei_new_biosphere_name = ag13_ei_name + \" - new biosphere\"\n",
    "    bw.Database(ag13_ei_new_biosphere_name).register()\n",
    "    ag13_ei.add_unlinked_flows_to_biosphere_database(ag13_ei_new_biosphere_name)\n",
    "    \n",
    "    # Add unlinked waste flows as new activities\n",
    "    ag13_ei.add_unlinked_activities()\n",
    "    \n",
    "    ag13_ei.match_database(ei_name, fields=('reference product','location', 'unit', 'name'))\n",
    "    ag13_ei.statistics()"
   ]
  },
  {
   "cell_type": "markdown",
   "metadata": {},
   "source": [
    "### Define some of the migrations manually.\n",
    "- Most of them are minor changes in names of activities and reference products\n",
    "- Some activities contain `multiplier` field if the unit conversion is needed or reference products are not identical"
   ]
  },
  {
   "cell_type": "code",
   "execution_count": 18,
   "metadata": {},
   "outputs": [],
   "source": [
    "agribalyse13_ecoinvent36_names = {\n",
    "    'fields': ['name'],\n",
    "    'data': [\n",
    "        (\n",
    "            ['extrusion production, plastic film'],\n",
    "            {\n",
    "                'name': 'extrusion, plastic film'\n",
    "            }\n",
    "        ),\n",
    "        (\n",
    "            ['extrusion production, plastic pipes'],\n",
    "            {\n",
    "                'name': 'extrusion, plastic pipes'\n",
    "            }\n",
    "        ),\n",
    "        (\n",
    "            ['blow moulding production'],\n",
    "            {\n",
    "                'name': 'blow moulding'\n",
    "            }\n",
    "        ),\n",
    "        (\n",
    "            ['calendering production, rigid sheets'],\n",
    "            {\n",
    "                'name': 'calendering, rigid sheets'\n",
    "            }\n",
    "        ),\n",
    "        (\n",
    "            ['steam production in chemical industry'],\n",
    "            {\n",
    "                'name': 'steam production, in chemical industry',\n",
    "                'reference product': 'steam, in chemical industry',\n",
    "                'unit': 'kilogram',\n",
    "                'multiplier': 1/2.75, # change of units, see comment on this activity in ecoinvent\n",
    "                # TODO does this multiplier also change uncertainty distribution??\n",
    "            }\n",
    "        ),\n",
    "        (\n",
    "            ['water production, completely softened, from decarbonised water, at user'],\n",
    "            {\n",
    "                'name': 'water production, completely softened',\n",
    "                'reference product': 'water, completely softened'\n",
    "            }\n",
    "        ),\n",
    "        (\n",
    "            ['market for water, decarbonised, at user'],\n",
    "            {\n",
    "                'name': 'market for water, decarbonised',\n",
    "                'reference product': 'water, decarbonised'\n",
    "            }\n",
    "        ),\n",
    "        (\n",
    "            ['textile production, jute'],\n",
    "            {\n",
    "                'name': 'textile production, jute, weaving'\n",
    "            }\n",
    "        ),\n",
    "        (\n",
    "            ['market for transport, freight, sea, transoceanic ship'],\n",
    "            {\n",
    "                'name': 'market for transport, freight, sea, container ship with reefer, cooling',\n",
    "                'reference product': 'transport, freight, sea, container ship with reefer, cooling'\n",
    "            }\n",
    "        ),\n",
    "        (\n",
    "            ['transport, freight, sea, transoceanic ship'],\n",
    "            {\n",
    "                'name': 'transport, freight, sea, container ship with reefer, cooling',\n",
    "                'reference product': 'transport, freight, sea, container ship with reefer, cooling'\n",
    "            }\n",
    "        ),\n",
    "        (\n",
    "            ['oxidation of manganese dioxide'],\n",
    "            {\n",
    "                'reference product': 'potassium permanganate',\n",
    "                'multiplier': 90/1000 # change of reference product, see comment on this activity in ecoinvent\n",
    "            }\n",
    "        ),\n",
    "        (\n",
    "            ['irrigation'],\n",
    "            {\n",
    "                'name': 'market for irrigation',\n",
    "            }\n",
    "        ),\n",
    "    ]\n",
    "}\n",
    "\n",
    "bw.Migration(\"agribalyse13-ecoinvent36-names\").write(\n",
    "    agribalyse13_ecoinvent36_names,\n",
    "    description=\"Change names of some activities\"\n",
    ")"
   ]
  },
  {
   "cell_type": "markdown",
   "metadata": {},
   "source": [
    "### Define migrations for market groups"
   ]
  },
  {
   "cell_type": "code",
   "execution_count": 19,
   "metadata": {},
   "outputs": [],
   "source": [
    "agribalyse13_ecoinvent36_market_groups = {\n",
    "    'fields': ['name', 'location'],\n",
    "    'data': [\n",
    "        (\n",
    "            ['market for electricity, low voltage', 'BR'],\n",
    "            {\n",
    "                'name': 'market group for electricity, low voltage'\n",
    "            }\n",
    "        ),\n",
    "        (\n",
    "            ['market for electricity, medium voltage', 'BR'],\n",
    "            {\n",
    "                'name': 'market group for electricity, medium voltage'\n",
    "            }\n",
    "        ),\n",
    "    ]\n",
    "}\n",
    "\n",
    "bw.Migration(\"agribalyse13-ecoinvent36-market-groups\").write(\n",
    "    agribalyse13_ecoinvent36_market_groups,\n",
    "    description=\"Change markets to market groups for Brazil\"\n",
    ")"
   ]
  },
  {
   "cell_type": "code",
   "execution_count": 20,
   "metadata": {},
   "outputs": [
    {
     "name": "stdout",
     "output_type": "stream",
     "text": [
      "Applying strategy: migrate_datasets\n",
      "Applying strategy: migrate_exchanges\n",
      "Applying strategy: migrate_datasets\n",
      "Applying strategy: migrate_exchanges\n",
      "Applying strategy: link_iterable_by_fields\n",
      "1700 datasets\n",
      "115259 exchanges\n",
      "334 unlinked exchanges\n",
      "  Type technosphere: 21 unique unlinked exchanges\n"
     ]
    },
    {
     "data": {
      "text/plain": [
       "(1700, 115259, 334)"
      ]
     },
     "execution_count": 20,
     "metadata": {},
     "output_type": "execute_result"
    }
   ],
   "source": [
    "ag13_ei.migrate('agribalyse13-ecoinvent36-names')\n",
    "ag13_ei.migrate('agribalyse13-ecoinvent36-market-groups')\n",
    "ag13_ei.match_database(ei_name, fields=('reference product','location', 'unit', 'name'))\n",
    "ag13_ei.statistics()"
   ]
  },
  {
   "cell_type": "markdown",
   "metadata": {},
   "source": [
    "### Allocate by production volume"
   ]
  },
  {
   "cell_type": "code",
   "execution_count": 21,
   "metadata": {},
   "outputs": [],
   "source": [
    "from utils import *"
   ]
  },
  {
   "cell_type": "code",
   "execution_count": 22,
   "metadata": {},
   "outputs": [],
   "source": [
    "ei36 = bw.Database(ei_name)"
   ]
  },
  {
   "cell_type": "code",
   "execution_count": 23,
   "metadata": {},
   "outputs": [],
   "source": [
    "# Create mapping between unlinked exchanges and ecoinvent activities that constitute each unlinked exchange.\n",
    "# In this case we do not need to do it manually since all unlinked exchanges need to be allocated geographically.\n",
    "# Example: (market for lime, GLO) is split by production volume into (market for lime, RoW) & (market for lime, RER).\n",
    "# Mapping is a list of dictionaries where each dictionary corresponds to an unlinked exchange.\n",
    "# The key is the name of the unlinked exchange and the values are ecoinvent activities codes.\n",
    "\n",
    "def create_location_mapping(ag13_ei, ei_name):\n",
    "    \n",
    "    ei36 = bw.Database(ei_name)\n",
    "    \n",
    "    unlinked_list = list(ag13_ei.unlinked)\n",
    "    len_unlinked  = len(unlinked_list)\n",
    "\n",
    "    mapping = [0]*len_unlinked\n",
    "\n",
    "    for u in range(len_unlinked):\n",
    "        new_el = {}\n",
    "        name = unlinked_list[u]['name'] \n",
    "        loc  = unlinked_list[u]['location']\n",
    "        acts_codes = [act['code'] for act in ei36 if name == act['name']]\n",
    "        new_el[ (name, loc) ] = acts_codes\n",
    "        mapping[u] = new_el\n",
    "        \n",
    "    return mapping"
   ]
  },
  {
   "cell_type": "code",
   "execution_count": 24,
   "metadata": {},
   "outputs": [],
   "source": [
    "mapping = create_location_mapping(ag13_ei, ei_name)"
   ]
  },
  {
   "cell_type": "code",
   "execution_count": 25,
   "metadata": {},
   "outputs": [
    {
     "name": "stdout",
     "output_type": "stream",
     "text": [
      "Applying strategy: link_iterable_by_fields\n"
     ]
    }
   ],
   "source": [
    "agg = modify_exchanges(ag13_ei, mapping, ei_name)"
   ]
  },
  {
   "cell_type": "code",
   "execution_count": 26,
   "metadata": {},
   "outputs": [
    {
     "name": "stdout",
     "output_type": "stream",
     "text": [
      "1700 datasets\n",
      "115943 exchanges\n",
      "0 unlinked exchanges\n",
      "  \n"
     ]
    },
    {
     "data": {
      "text/plain": [
       "(1700, 115943, 0)"
      ]
     },
     "execution_count": 26,
     "metadata": {},
     "output_type": "execute_result"
    }
   ],
   "source": [
    "agg.statistics()"
   ]
  },
  {
   "cell_type": "markdown",
   "metadata": {},
   "source": [
    "### Change uncertainty info\n"
   ]
  },
  {
   "cell_type": "code",
   "execution_count": 27,
   "metadata": {},
   "outputs": [],
   "source": [
    "import stats_arrays as sa"
   ]
  },
  {
   "cell_type": "code",
   "execution_count": 28,
   "metadata": {},
   "outputs": [],
   "source": [
    "changed = []\n",
    "for i,act in enumerate(agg.data):\n",
    "    excs = act.get('exchanges', [])\n",
    "    for j,exc in enumerate(excs):\n",
    "        if exc.get('uncertainty type', False) == sa.LognormalUncertainty.id and \\\n",
    "        np.allclose(exc.get('amount'), exc.get('loc')):\n",
    "            exc.update(loc=np.log(exc['amount']))\n",
    "            changed.append([i,j])"
   ]
  },
  {
   "cell_type": "code",
   "execution_count": 29,
   "metadata": {},
   "outputs": [],
   "source": [
    "assert len(changed)==319"
   ]
  },
  {
   "cell_type": "markdown",
   "metadata": {},
   "source": [
    "### Write database"
   ]
  },
  {
   "cell_type": "code",
   "execution_count": 30,
   "metadata": {},
   "outputs": [],
   "source": [
    "# if ag13_ei_name in bw.databases:\n",
    "#     print(ag13_ei_name + \" database already present!!! No import is needed\")\n",
    "# else:\n",
    "#     agg.write_database()"
   ]
  },
  {
   "cell_type": "code",
   "execution_count": 31,
   "metadata": {},
   "outputs": [],
   "source": [
    "a = 'ammonium nitrate phosphate production'\n",
    "b = 'diammonium phosphate production'\n",
    "c = 'monoammonium phosphate production'"
   ]
  },
  {
   "cell_type": "code",
   "execution_count": 32,
   "metadata": {},
   "outputs": [
    {
     "name": "stdout",
     "output_type": "stream",
     "text": [
      "{'categories': ('Materials/fuels',), 'name': 'ammonium nitrate phosphate production', 'unit': 'kilogram', 'comment': '(1,1,5,1,1,na); assimilation MAP', 'location': 'RER', 'type': 'process', 'code': 'de221991cc69f37976042f05f448c94c', 'database': 'Agribalyse 1.3 - ecoinvent 3.6 cutoff'}\n",
      "{'categories': ('Materials/fuels',), 'name': 'ammonium nitrate phosphate production', 'unit': 'kilogram', 'comment': '(1,1,5,1,1,na); assimilation MAP', 'location': 'RER', 'type': 'process', 'code': 'de221991cc69f37976042f05f448c94c', 'database': 'Agribalyse 1.3 - ecoinvent 3.6 cutoff'}\n",
      "{'categories': ('Materials/fuels',), 'name': 'diammonium phosphate production', 'unit': 'kilogram', 'comment': \"Mineral fertilizers. Model of transport: 'MT MAP DAP', weight transported in tons = 5,9E-02. Pedigree-Matrix='(3,3,2,1,2,na)'.\", 'location': 'RER', 'type': 'process', 'code': '64037e162f6d6d1048470c3a1135f4fb', 'database': 'Agribalyse 1.3 - ecoinvent 3.6 cutoff'}\n",
      "{'categories': ('Materials/fuels',), 'name': 'diammonium phosphate production', 'unit': 'kilogram', 'comment': \"Mineral fertilizers. Pedigree-Matrix='(3,3,2,1,2,na)'.\", 'location': 'RER', 'type': 'process', 'code': '64037e162f6d6d1048470c3a1135f4fb', 'database': 'Agribalyse 1.3 - ecoinvent 3.6 cutoff'}\n",
      "{'categories': ('Materials/fuels',), 'name': 'monoammonium phosphate production', 'unit': 'kilogram', 'comment': '', 'location': 'RER', 'type': 'process', 'code': '6d61eb45c1d285073770aa839426d97c', 'database': 'Agribalyse 1.3 - ecoinvent 3.6 cutoff'}\n",
      "{'categories': ('Materials/fuels',), 'name': 'monoammonium phosphate production', 'unit': 'kilogram', 'comment': '', 'location': 'RER', 'type': 'process', 'code': '6d61eb45c1d285073770aa839426d97c', 'database': 'Agribalyse 1.3 - ecoinvent 3.6 cutoff'}\n"
     ]
    }
   ],
   "source": [
    "for act in agg.data:\n",
    "    if act['name'] in [a,b,c]:\n",
    "        print(act)"
   ]
  },
  {
   "cell_type": "code",
   "execution_count": 33,
   "metadata": {},
   "outputs": [],
   "source": [
    "# Remove repetitive activities\n",
    "agg.data.remove({'categories': ('Materials/fuels',), \n",
    "                 'name': 'ammonium nitrate phosphate production', \n",
    "                 'unit': 'kilogram', \n",
    "                 'comment': '(1,1,5,1,1,na); assimilation MAP', \n",
    "                 'location': 'RER', \n",
    "                 'type': 'process', \n",
    "                 'code': 'de221991cc69f37976042f05f448c94c', \n",
    "                 'database': 'Agribalyse 1.3 - ecoinvent 3.6 cutoff'})\n",
    "agg.data.remove({'categories': ('Materials/fuels',), \n",
    "                 'name': 'diammonium phosphate production', \n",
    "                 'unit': 'kilogram', \n",
    "                 'comment': \"Mineral fertilizers. Model of transport: 'MT MAP DAP', weight transported in tons = 5,9E-02. Pedigree-Matrix='(3,3,2,1,2,na)'.\", \n",
    "                 'location': 'RER', \n",
    "                 'type': 'process', \n",
    "                 'code': '64037e162f6d6d1048470c3a1135f4fb', \n",
    "                 'database': 'Agribalyse 1.3 - ecoinvent 3.6 cutoff'})\n",
    "agg.data.remove({'categories': ('Materials/fuels',), \n",
    "                 'name': 'monoammonium phosphate production', \n",
    "                 'unit': 'kilogram', \n",
    "                 'comment': '', \n",
    "                 'location': 'RER', \n",
    "                 'type': 'process', \n",
    "                 'code': '6d61eb45c1d285073770aa839426d97c', \n",
    "                 'database': 'Agribalyse 1.3 - ecoinvent 3.6 cutoff'})\n"
   ]
  },
  {
   "cell_type": "code",
   "execution_count": 34,
   "metadata": {},
   "outputs": [
    {
     "name": "stderr",
     "output_type": "stream",
     "text": [
      "Writing activities to SQLite3 database:\n",
      "0% [##############################] 100% | ETA: 00:00:00\n",
      "Total time elapsed: 00:00:07\n"
     ]
    },
    {
     "name": "stdout",
     "output_type": "stream",
     "text": [
      "Title: Writing activities to SQLite3 database:\n",
      "  Started: 06/09/2020 10:06:38\n",
      "  Finished: 06/09/2020 10:06:45\n",
      "  Total time elapsed: 00:00:07\n",
      "  CPU %: 95.60\n",
      "  Memory %: 16.47\n",
      "Created database: Agribalyse 1.3 - ecoinvent 3.6 cutoff\n"
     ]
    }
   ],
   "source": [
    "if ag13_ei_name in bw.databases:\n",
    "    print(ag13_ei_name + \" database already present!!! No import is needed\")\n",
    "else:\n",
    "    agg.write_database()"
   ]
  },
  {
   "cell_type": "code",
   "execution_count": 35,
   "metadata": {},
   "outputs": [
    {
     "data": {
      "text/plain": [
       "Databases dictionary with 6 object(s):\n",
       "\tAgribalyse 1.3 - ecoinvent 3.6 cutoff\n",
       "\tAgribalyse 1.3 - ecoinvent 3.6 cutoff - new biosphere\n",
       "\tEXIOBASE 2.2\n",
       "\tbiosphere3\n",
       "\tecoinvent 3.3 cutoff\n",
       "\tecoinvent 3.6 cutoff"
      ]
     },
     "execution_count": 35,
     "metadata": {},
     "output_type": "execute_result"
    }
   ],
   "source": [
    "bw.databases"
   ]
  },
  {
   "cell_type": "code",
   "execution_count": null,
   "metadata": {},
   "outputs": [],
   "source": []
  },
  {
   "cell_type": "markdown",
   "metadata": {},
   "source": [
    "# Exiobase 3.3.7"
   ]
  },
  {
   "cell_type": "code",
   "execution_count": null,
   "metadata": {},
   "outputs": [],
   "source": []
  },
  {
   "cell_type": "code",
   "execution_count": null,
   "metadata": {},
   "outputs": [],
   "source": []
  },
  {
   "cell_type": "code",
   "execution_count": null,
   "metadata": {},
   "outputs": [],
   "source": []
  },
  {
   "cell_type": "code",
   "execution_count": null,
   "metadata": {},
   "outputs": [],
   "source": []
  },
  {
   "cell_type": "code",
   "execution_count": null,
   "metadata": {},
   "outputs": [],
   "source": []
  },
  {
   "cell_type": "code",
   "execution_count": null,
   "metadata": {},
   "outputs": [],
   "source": []
  },
  {
   "cell_type": "code",
   "execution_count": null,
   "metadata": {},
   "outputs": [],
   "source": []
  },
  {
   "cell_type": "code",
   "execution_count": null,
   "metadata": {},
   "outputs": [],
   "source": []
  },
  {
   "cell_type": "code",
   "execution_count": null,
   "metadata": {},
   "outputs": [],
   "source": []
  },
  {
   "cell_type": "code",
   "execution_count": null,
   "metadata": {},
   "outputs": [],
   "source": []
  },
  {
   "cell_type": "code",
   "execution_count": null,
   "metadata": {},
   "outputs": [],
   "source": []
  },
  {
   "cell_type": "code",
   "execution_count": null,
   "metadata": {},
   "outputs": [],
   "source": []
  },
  {
   "cell_type": "code",
   "execution_count": null,
   "metadata": {},
   "outputs": [],
   "source": []
  },
  {
   "cell_type": "code",
   "execution_count": null,
   "metadata": {},
   "outputs": [],
   "source": []
  },
  {
   "cell_type": "code",
   "execution_count": null,
   "metadata": {},
   "outputs": [],
   "source": []
  },
  {
   "cell_type": "code",
   "execution_count": null,
   "metadata": {},
   "outputs": [],
   "source": []
  },
  {
   "cell_type": "code",
   "execution_count": null,
   "metadata": {},
   "outputs": [],
   "source": []
  }
 ],
 "metadata": {
  "kernelspec": {
   "display_name": "Python 3",
   "language": "python",
   "name": "python3"
  },
  "language_info": {
   "codemirror_mode": {
    "name": "ipython",
    "version": 3
   },
   "file_extension": ".py",
   "mimetype": "text/x-python",
   "name": "python",
   "nbconvert_exporter": "python",
   "pygments_lexer": "ipython3",
   "version": "3.7.4"
  },
  "varInspector": {
   "cols": {
    "lenName": 16,
    "lenType": 16,
    "lenVar": 40
   },
   "kernels_config": {
    "python": {
     "delete_cmd_postfix": "",
     "delete_cmd_prefix": "del ",
     "library": "var_list.py",
     "varRefreshCmd": "print(var_dic_list())"
    },
    "r": {
     "delete_cmd_postfix": ") ",
     "delete_cmd_prefix": "rm(",
     "library": "var_list.r",
     "varRefreshCmd": "cat(var_dic_list()) "
    }
   },
   "types_to_exclude": [
    "module",
    "function",
    "builtin_function_or_method",
    "instance",
    "_Feature"
   ],
   "window_display": false
  }
 },
 "nbformat": 4,
 "nbformat_minor": 2
}
