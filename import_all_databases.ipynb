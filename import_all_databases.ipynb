{
 "cells": [
  {
   "cell_type": "code",
   "execution_count": null,
   "metadata": {},
   "outputs": [],
   "source": [
    "import brightway2 as bw\n",
    "import numpy as np\n",
    "import json, os\n",
    "\n",
    "#Local files\n",
    "from import_databases import *"
   ]
  },
  {
   "cell_type": "code",
   "execution_count": null,
   "metadata": {},
   "outputs": [],
   "source": [
    "with open('global_settings.json', 'rb') as f:\n",
    "    settings = json.load(f)\n",
    "which_pc = settings['which_pc']\n",
    "which_pc"
   ]
  },
  {
   "cell_type": "markdown",
   "metadata": {},
   "source": [
    "### TODO -> give paths to databases files"
   ]
  },
  {
   "cell_type": "code",
   "execution_count": null,
   "metadata": {},
   "outputs": [],
   "source": [
    "if which_pc == 'local':\n",
    "    # Older databases\n",
    "    ei33_path = '/Users/akim/Documents/LCA_files/ecoinvent 3.3 cutoff/datasets'  \n",
    "    ex22_path = '/Users/akim/Documents/LCA_files/exiobase 2.2/mrIOT_IxI_fpa_coefficient_version2.2.2'\n",
    "    ag12_path = '/Users/akim/Documents/LCA_files/agribalyse 1.2/AGRIBALYSEv1.2_Complete.xml'\n",
    "    ei36_path = '/Users/akim/Documents/LCA_files/ecoinvent 3.6 cutoff/datasets'  \n",
    "    # Newer databases\n",
    "    ei371_path = '/Users/akim/Documents/LCA_files/ecoinvent 3.7.1 cutoff/datasets'  \n",
    "    ex381_path = '/Users/akim/Documents/LCA_files/exiobase_3.8.1_monetary/IOT_2015_pxp/'\n",
    "    ex381_name = \"Exiobase 3.8.1 Monetary 2015\"\n",
    "    ag13_path = '/Users/akim/Documents/LCA_files/agribalyse 1.3/Agribalyse CSV FINAL_no links_Nov2016v3.CSV'\n",
    "    habe_path = '/Users/akim/Documents/LCA_files/HABE_2017/'\n",
    "    co_path = 'data/es8b01452_si_002.xlsx'\n",
    "elif which_pc == 'merlin':\n",
    "    ex22_path = '/data/user/kim_a/LCA_files/exiobase_22/mrIOT_IxI_fpa_coefficient_version2.2.2'\n",
    "    ei33_path = '/data/user/kim_a/LCA_files/ecoinvent_33_cutoff/datasets'  \n",
    "    ei36_path = '/data/user/kim_a/LCA_files/ecoinvent_36_cutoff/datasets'  \n",
    "    ag13_path = '/data/user/kim_a/LCA_files/agribalyse_13/Agribalyse CSV FINAL_no links_Nov2016v3.CSV'\n",
    "    habe_path = '/data/user/kim_a/LCA_files/HABE_2017'\n",
    "    co_path = 'data/es8b01452_si_002.xlsx'"
   ]
  },
  {
   "cell_type": "markdown",
   "metadata": {},
   "source": [
    "# TODO -> choose project"
   ]
  },
  {
   "cell_type": "code",
   "execution_count": null,
   "metadata": {},
   "outputs": [],
   "source": [
    "project = \"GSA for hybrid\"\n",
    "bw.projects.set_current(project)\n",
    "\n",
    "ei36_name = 'ecoinvent 3.6 cutoff'\n",
    "ei371_name = 'ecoinvent 3.7.1 cutoff'\n",
    "ei_option = \"371\"\n",
    "if ei_option == \"36\":\n",
    "    ei_name = ei36_name\n",
    "    ei_path = ei36_path\n",
    "elif ei_option == \"371\":\n",
    "    ei_name = ei371_name\n",
    "    ei_path = ei371_path\n",
    "    \n",
    "ex_name = ex381_name\n",
    "ex_path = ex381_path"
   ]
  },
  {
   "cell_type": "code",
   "execution_count": null,
   "metadata": {},
   "outputs": [],
   "source": [
    "try:\n",
    "#     del bw.databases[\"Agribalyse 1.3 - {} - new biosphere\".format(ei_name)]\n",
    "#     del bw.databases[\"Agribalyse 1.3 - {}\".format(ei_name)]\n",
    "    del bw.databases[\"CH consumption 1.0\"]\n",
    "except:\n",
    "    pass"
   ]
  },
  {
   "cell_type": "code",
   "execution_count": null,
   "metadata": {},
   "outputs": [],
   "source": [
    "bw.databases"
   ]
  },
  {
   "cell_type": "markdown",
   "metadata": {},
   "source": [
    "### Import necessary databases\n",
    "\n",
    "Import of Exiobase 3 might need latest brightway 2.5 version. We recommend creating new conda environment. Until there is an official release, following packages:\n",
    "\n",
    "- brightway2-io\n",
    "- brightway2-data\n",
    "- brightway2-calc\n",
    "- matrix_utils\n",
    "- bw_processing\n",
    "\n",
    "1. cannot be conda or pip install\n",
    "2. need to be git cloned from the respective websites, search here: https://github.com/brightway-lca\n",
    "3. once cloned, install each of the packages with `pip install -e .` (editable install) in their directories, where setup.py is located\n",
    "4. these packages are under active development, so make sure to pull the newest changes from time to time"
   ]
  },
  {
   "cell_type": "code",
   "execution_count": null,
   "metadata": {
    "scrolled": true
   },
   "outputs": [],
   "source": [
    "%%time \n",
    "\n",
    "co_name = CONSUMPTION_DB_NAME\n",
    "\n",
    "if project == 'GSA for ecoinvent':\n",
    "    bw.bw2setup()\n",
    "    import_exiobase_22(ex22_path)\n",
    "    import_ecoinvent(ei_path, ei_name)\n",
    "    import_agribalyse_13(ag13_path, ei_name)\n",
    "    # Consumption DB\n",
    "    create_ecoinvent_33_project(ei33_path)\n",
    "    import_consumption_db(co_path, habe_path, exclude_dbs=['heia'])\n",
    "    add_consumption_activities(co_name, habe_path)\n",
    "\n",
    "elif project == 'GSA for paper':\n",
    "    bw.bw2setup()\n",
    "    import_ecoinvent(ei_path, ei_name)\n",
    "    # Consumption DB\n",
    "    create_ecoinvent_33_project(ei33_path)\n",
    "    exclude_dbs = [\n",
    "        'heia', \n",
    "        'EXIOBASE 2.2',\n",
    "        'Agribalyse 1.2',\n",
    "        'Agribalyse 1.3 - {}'.format(ei_name),\n",
    "    ]\n",
    "    import_consumption_db(co_path, habe_path, exclude_dbs=exclude_dbs)\n",
    "    add_consumption_activities(co_name, habe_path)\n",
    "    add_consumption_categories(co_name, co_path)\n",
    "    add_consumption_sectors(co_name)\n",
    "    \n",
    "elif project == 'GSA no exiobase':\n",
    "    bw.bw2setup()\n",
    "    import_ecoinvent(ei_path, ei_name)\n",
    "    import_agribalyse_13(ag13_path, ei_name)\n",
    "    # Consumption DB\n",
    "    create_ecoinvent_33_project(ei33_path)\n",
    "    exclude_dbs = [\n",
    "        'heia', \n",
    "        'EXIOBASE 2.2',\n",
    "    ]\n",
    "    import_consumption_db(co_path, habe_path, exclude_dbs=exclude_dbs)\n",
    "    add_consumption_activities(co_name, habe_path)\n",
    "    \n",
    "elif project == 'GSA for setac':\n",
    "    bw.bw2setup()\n",
    "    import_ecoinvent(ei_path, ei_name)\n",
    "    # Consumption DB\n",
    "    create_ecoinvent_33_project(ei33_path)\n",
    "    exclude_dbs = [\n",
    "        'heia', \n",
    "        'EXIOBASE 2.2',\n",
    "        'Agribalyse 1.2',\n",
    "        'Agribalyse 1.3 - {}'.format(ei_name),\n",
    "    ]\n",
    "    import_consumption_db(co_path, habe_path, exclude_dbs=exclude_dbs)\n",
    "    add_consumption_activities(co_name, habe_path)\n",
    "    add_consumption_categories(co_name, co_path)\n",
    "    add_consumption_sectors(co_name)\n",
    "    \n",
    "elif 'GSA for oases' in project:\n",
    "    bw.bw2setup()\n",
    "    import_ecoinvent(ei_path, ei_name)\n",
    "    # Consumption DB\n",
    "    create_ecoinvent_33_project(ei33_path)\n",
    "    import_agribalyse_13(ag13_path, ei_name)\n",
    "    exclude_dbs = [\n",
    "        'heia', \n",
    "        'EXIOBASE 2.2',\n",
    "    ]\n",
    "    import_consumption_db(co_path, habe_path, exclude_dbs=exclude_dbs, ei_name=ei_name)\n",
    "    add_consumption_activities(co_name, habe_path)\n",
    "    add_consumption_categories(co_name, co_path)\n",
    "    add_consumption_sectors(co_name)\n",
    "    \n",
    "elif \"GSA for hybrid\" in project:\n",
    "    bw.bw2setup()\n",
    "    import_ecoinvent(ei_path, ei_name)\n",
    "    create_ecoinvent_33_project(ei33_path)\n",
    "    import_exiobase_3(ex_path, ex_name)\n",
    "#     import_agribalyse_13(ag13_path, ei_name)\n",
    "    exclude_dbs = [\n",
    "        'heia', \n",
    "        'Agribalyse 1.2',\n",
    "        'Agribalyse 1.3 - {}'.format(ei_name),\n",
    "    ]\n",
    "    co = import_consumption_db(co_path, habe_path, exclude_dbs=exclude_dbs, ei_name=ei_name, ex_path=ex_path)\n",
    "    add_consumption_activities(co_name, habe_path)\n",
    "    add_consumption_categories(co_name, co_path)\n",
    "    add_consumption_sectors(co_name)"
   ]
  },
  {
   "cell_type": "code",
   "execution_count": null,
   "metadata": {},
   "outputs": [],
   "source": [
    "co = bw.Database('CH consumption 1.0')\n",
    "demand_act = co.search('average consumption')[0]\n",
    "demand = {demand_act: 1}\n",
    "method = ('IPCC 2013', 'climate change', 'GWP 100a')\n",
    "demand_act"
   ]
  },
  {
   "cell_type": "code",
   "execution_count": null,
   "metadata": {},
   "outputs": [],
   "source": [
    "%%time\n",
    "lca = bw.LCA(demand, method)\n",
    "lca.lci()\n",
    "lca.lcia()\n",
    "lca.score"
   ]
  },
  {
   "cell_type": "code",
   "execution_count": null,
   "metadata": {},
   "outputs": [],
   "source": [
    "a = co.search('tobacco')[0]"
   ]
  },
  {
   "cell_type": "code",
   "execution_count": null,
   "metadata": {},
   "outputs": [],
   "source": [
    "list(a.exchanges())"
   ]
  },
  {
   "cell_type": "markdown",
   "metadata": {},
   "source": [
    "# Scores for all consumption activities"
   ]
  },
  {
   "cell_type": "code",
   "execution_count": 1,
   "metadata": {},
   "outputs": [],
   "source": [
    "import brightway2 as bw\n",
    "import pickle\n",
    "from pathlib import Path"
   ]
  },
  {
   "cell_type": "code",
   "execution_count": 2,
   "metadata": {},
   "outputs": [
    {
     "name": "stdout",
     "output_type": "stream",
     "text": [
      "CPU times: user 12 ms, sys: 4.16 ms, total: 16.1 ms\n",
      "Wall time: 21.1 ms\n"
     ]
    }
   ],
   "source": [
    "%%time\n",
    "write_dir = Path(\"write_files\")\n",
    "\n",
    "project = 'GSA for hybrid'\n",
    "bw.projects.set_current(project)\n",
    "co = bw.Database(\"CH consumption 1.0\")\n",
    "method = ('IPCC 2013', 'climate change', 'GWP 100a')\n",
    "contribution_scores = {}\n",
    "i = 0\n",
    "for act in list(co):\n",
    "    demand = {act: 1}\n",
    "    lca = bw.LCA(demand, method)\n",
    "    lca.lci()\n",
    "    lca.lcia()\n",
    "    act_name = act[\"name\"]\n",
    "    contribution_scores[act_name] = lca.score\n",
    "    print(i, lca.score, act_name)\n",
    "    i+=1"
   ]
  },
  {
   "cell_type": "code",
   "execution_count": null,
   "metadata": {},
   "outputs": [],
   "source": [
    "filepath = write_dir / \"contribution_scores.pickle\"\n",
    "with open(filepath, 'wb') as f:\n",
    "    pickle.dump(contribution_scores, f)"
   ]
  },
  {
   "cell_type": "markdown",
   "metadata": {},
   "source": [
    "# Contribution of sectors"
   ]
  },
  {
   "cell_type": "code",
   "execution_count": null,
   "metadata": {},
   "outputs": [],
   "source": [
    "%%time\n",
    "fus = [act for act in co if 'sector' in act['name']]\n",
    "scores = {}\n",
    "for fu in fus:\n",
    "    lca = bw.LCA({fu: 1}, method)\n",
    "    lca.lci()\n",
    "    lca.lcia()\n",
    "    scores[fu] = lca.score"
   ]
  },
  {
   "cell_type": "code",
   "execution_count": null,
   "metadata": {},
   "outputs": [],
   "source": [
    "scores_str = {}\n",
    "for fu,v in scores.items():\n",
    "    scores_str[fu['name']] = v\n",
    "scores_str_sorted = sorted(scores_str.items(), key=lambda x: x[1], reverse=True)\n",
    "scores_str_sorted"
   ]
  },
  {
   "cell_type": "code",
   "execution_count": null,
   "metadata": {},
   "outputs": [],
   "source": [
    "path_scores = 'write_files/contribution_scores_sectors.pickle'\n",
    "with open(path_scores, 'wb') as f:\n",
    "    pickle.dump(scores_str_sorted, f)"
   ]
  },
  {
   "cell_type": "markdown",
   "metadata": {},
   "source": [
    "# Contribution of specific sectors"
   ]
  },
  {
   "cell_type": "code",
   "execution_count": null,
   "metadata": {},
   "outputs": [],
   "source": [
    "demand_act = co.search('ch hh average consumption')\n",
    "assert len(demand_act) == 1\n",
    "demand_act = demand_act[0]\n",
    "\n",
    "purchase, transportation_services, transport_by_air, recreation, package_holidays = {}, {}, {}, {}, {}\n",
    "purchase_name = 'Purchase and operation of vehicles'\n",
    "transportation_services_name = \"Transportation services\"\n",
    "transport_by_air_name = \"Passenger transport by air\"\n",
    "recreation_name = \"Recreation and culture\"\n",
    "package_holidays_name = \"Package holidays\"\n",
    "for exc in demand_act.exchanges():\n",
    "    if exc.input.get('category_middle') == purchase_name:\n",
    "        purchase.update({\n",
    "            exc.input: exc.amount,\n",
    "        })\n",
    "    if exc.input.get('category_middle') == transportation_services_name:\n",
    "        if exc.input.get('category_fine') == transport_by_air_name:\n",
    "            transport_by_air.update({\n",
    "                exc.input: exc.amount,\n",
    "            })\n",
    "        else:\n",
    "            transportation_services.update({\n",
    "                exc.input: exc.amount,\n",
    "            })\n",
    "    if exc.input.get('category_coarse') == recreation_name:\n",
    "        if exc.input.get('category_middle') == package_holidays_name:\n",
    "            package_holidays.update({\n",
    "                exc.input: exc.amount,\n",
    "            })\n",
    "        else:\n",
    "            recreation.update({\n",
    "                exc.input: exc.amount,\n",
    "            })\n",
    "fus = {\n",
    "    purchase_name: purchase,\n",
    "    transportation_services_name: transportation_services,\n",
    "    transport_by_air_name: transport_by_air,\n",
    "    recreation_name: recreation,\n",
    "    package_holidays_name: package_holidays,\n",
    "} "
   ]
  },
  {
   "cell_type": "code",
   "execution_count": null,
   "metadata": {},
   "outputs": [],
   "source": [
    "contribution_scores = {}\n",
    "for name,demand in fus.items():\n",
    "    lca = bw.LCA(demand, method)\n",
    "    lca.lci()\n",
    "    lca.lcia()\n",
    "    exchanges = {}\n",
    "    for exc, exc_amount in demand.items():\n",
    "        exchanges[exc['name']] = \"{} {}\".format(exc_amount, exc.get('unit'))\n",
    "    contribution_scores[name] = {\n",
    "        \"LCA score\": lca.score,\n",
    "        \"Exchanges\": exchanges,\n",
    "    }\n",
    "    print(lca.score, name)"
   ]
  },
  {
   "cell_type": "code",
   "execution_count": null,
   "metadata": {},
   "outputs": [],
   "source": [
    "path_scores = 'write_files/contribution_scores_5categories.pickle'\n",
    "with open(path_scores, 'wb') as f:\n",
    "    pickle.dump(contribution_scores, f)"
   ]
  },
  {
   "cell_type": "code",
   "execution_count": null,
   "metadata": {},
   "outputs": [],
   "source": [
    "# from bw2calc import MonteCarloLCA\n",
    "# mc = MonteCarloLCA(demand, method)\n",
    "# [next(mc) for _ in range(5)]"
   ]
  },
  {
   "cell_type": "code",
   "execution_count": null,
   "metadata": {},
   "outputs": [],
   "source": [
    "# Recreation and culture sector\n",
    "# Furnishings, household equipment and routine household maintenance sector\n",
    "# Miscellaneous goods and services sector\n",
    "# Health"
   ]
  },
  {
   "cell_type": "code",
   "execution_count": null,
   "metadata": {},
   "outputs": [],
   "source": []
  },
  {
   "cell_type": "code",
   "execution_count": null,
   "metadata": {},
   "outputs": [],
   "source": []
  },
  {
   "cell_type": "code",
   "execution_count": null,
   "metadata": {},
   "outputs": [],
   "source": []
  }
 ],
 "metadata": {
  "kernelspec": {
   "display_name": "Python 3",
   "language": "python",
   "name": "python3"
  },
  "language_info": {
   "codemirror_mode": {
    "name": "ipython",
    "version": 3
   },
   "file_extension": ".py",
   "mimetype": "text/x-python",
   "name": "python",
   "nbconvert_exporter": "python",
   "pygments_lexer": "ipython3",
   "version": "3.8.8"
  },
  "varInspector": {
   "cols": {
    "lenName": 16,
    "lenType": 16,
    "lenVar": 40
   },
   "kernels_config": {
    "python": {
     "delete_cmd_postfix": "",
     "delete_cmd_prefix": "del ",
     "library": "var_list.py",
     "varRefreshCmd": "print(var_dic_list())"
    },
    "r": {
     "delete_cmd_postfix": ") ",
     "delete_cmd_prefix": "rm(",
     "library": "var_list.r",
     "varRefreshCmd": "cat(var_dic_list()) "
    }
   },
   "types_to_exclude": [
    "module",
    "function",
    "builtin_function_or_method",
    "instance",
    "_Feature"
   ],
   "window_display": false
  }
 },
 "nbformat": 4,
 "nbformat_minor": 2
}
