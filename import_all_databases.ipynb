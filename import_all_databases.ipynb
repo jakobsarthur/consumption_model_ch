{
 "cells": [
  {
   "cell_type": "code",
   "execution_count": null,
   "metadata": {},
   "outputs": [],
   "source": [
    "import brightway2 as bw\n",
    "import numpy as np\n",
    "import pandas as pd\n",
    "from copy import copy"
   ]
  },
  {
   "cell_type": "markdown",
   "metadata": {},
   "source": [
    "# Setup the project"
   ]
  },
  {
   "cell_type": "markdown",
   "metadata": {},
   "source": [
    "### TODO -> choose project"
   ]
  },
  {
   "cell_type": "code",
   "execution_count": null,
   "metadata": {},
   "outputs": [],
   "source": [
    "project = 'GSA for ecoinvent'"
   ]
  },
  {
   "cell_type": "code",
   "execution_count": null,
   "metadata": {},
   "outputs": [],
   "source": [
    "if project in bw.projects:\n",
    "    bw.projects.delete_project(project, delete_dir=True)\n",
    "bw.projects.set_current(project)"
   ]
  },
  {
   "cell_type": "code",
   "execution_count": null,
   "metadata": {},
   "outputs": [],
   "source": []
  },
  {
   "cell_type": "markdown",
   "metadata": {},
   "source": [
    "# Import older versions of databases"
   ]
  },
  {
   "cell_type": "markdown",
   "metadata": {},
   "source": [
    "### TODO -> give paths to databases files\n",
    "for now let's use ecoinvent 3.3 cutoff and EXIOBASE 2.2"
   ]
  },
  {
   "cell_type": "code",
   "execution_count": null,
   "metadata": {},
   "outputs": [],
   "source": [
    "# Older databases\n",
    "ei33_path = '/Users/akim/Documents/LCA files/ecoinvent 3.3 cutoff/datasets'  \n",
    "ex22_path = '/Users/akim/Documents/LCA files/exiobase 2.2/mrIOT_IxI_fpa_coefficient_version2.2.2'\n",
    "ag12_path = '/Users/akim/Documents/LCA files/agribalyse 1.2/AGRIBALYSEv1.2_Complete.xml'\n",
    "\n",
    "# Newer databases\n",
    "ei36_path = '/Users/akim/Documents/LCA files/ecoinvent 3.6 cutoff/datasets'  \n",
    "# ex34_path = '/Users/akim/Documents/LCA files/exiobase 3.4/IOT_2011_pxp/' #TODO\n",
    "ag13_path = '/Users/akim/Documents/LCA files/agribalyse 1.3/Agribalyse CSV FINAL_no links_Nov2016v3.CSV'"
   ]
  },
  {
   "cell_type": "code",
   "execution_count": null,
   "metadata": {},
   "outputs": [],
   "source": [
    "bw.databases"
   ]
  },
  {
   "cell_type": "markdown",
   "metadata": {},
   "source": [
    "## 1. Biosphere3"
   ]
  },
  {
   "cell_type": "code",
   "execution_count": null,
   "metadata": {},
   "outputs": [],
   "source": [
    "bw.bw2setup()"
   ]
  },
  {
   "cell_type": "markdown",
   "metadata": {},
   "source": [
    "## 2. Ecoinvent 3.3"
   ]
  },
  {
   "cell_type": "code",
   "execution_count": null,
   "metadata": {},
   "outputs": [],
   "source": [
    "ei33_name = \"ecoinvent 3.3 cutoff\"  \n",
    "if ei33_name in bw.databases:\n",
    "    print(ei33_name + \" database already present!!! No import is needed\")\n",
    "else:\n",
    "    ei33 = bw.SingleOutputEcospold2Importer(ei33_path, ei33_name)\n",
    "    ei33.apply_strategies()\n",
    "    ei33.match_database(db_name='biosphere3',fields=('name', 'category', 'unit', 'location'))\n",
    "    ei33.statistics()"
   ]
  },
  {
   "cell_type": "code",
   "execution_count": null,
   "metadata": {},
   "outputs": [],
   "source": [
    "if ei33_name in bw.databases:\n",
    "    print(ei33_name + \" database already present!!! No import is needed\")\n",
    "else:\n",
    "    ei33.write_database()"
   ]
  },
  {
   "cell_type": "markdown",
   "metadata": {},
   "source": [
    "## 3. Exiobase 2.2"
   ]
  },
  {
   "cell_type": "code",
   "execution_count": null,
   "metadata": {},
   "outputs": [],
   "source": [
    "# 2. Exiobase \n",
    "from bw2io.importers.exiobase import Exiobase22Importer"
   ]
  },
  {
   "cell_type": "code",
   "execution_count": null,
   "metadata": {},
   "outputs": [],
   "source": [
    "ex22_name = 'EXIOBASE 2.2'\n",
    "if ex22_name in bw.databases:\n",
    "    print(ex22_name + \" database already present!!! No import is needed\")\n",
    "else:\n",
    "    ex22 = Exiobase22Importer(ex22_path, ex22_name)\n",
    "    ex22.apply_strategies()"
   ]
  },
  {
   "cell_type": "code",
   "execution_count": null,
   "metadata": {},
   "outputs": [],
   "source": [
    "if ex22_name in bw.databases:\n",
    "    print(ex22_name + \" database already present!!! No import is needed\")\n",
    "else:\n",
    "    ex22.write_database()"
   ]
  },
  {
   "cell_type": "markdown",
   "metadata": {},
   "source": [
    "## 4. Agribalyse 1.2\n",
    "better see: [how to import](https://nbviewer.jupyter.org/urls/bitbucket.org/cmutel/brightway2/raw/default/notebooks/IO%20-%20Importing%20Agribalyse%20with%20Ecoinvent%202.2.ipynb)"
   ]
  },
  {
   "cell_type": "code",
   "execution_count": null,
   "metadata": {},
   "outputs": [],
   "source": [
    "def import_agribalyse12(ag12_path, ag12_name, ei_name):\n",
    "\n",
    "    ag12_ei_name = ag12_name + ' - ' + ei_name\n",
    "    \n",
    "    if ei_name not in bw.databases:\n",
    "        print('Cannot find database: ' + ei_name)\n",
    "        return\n",
    "    \n",
    "    if ag12_ei_name in bw.databases:\n",
    "        print(ag12_ei_name + \" database already present!!! No import is needed\")\n",
    "    else:\n",
    "        ag12_ei = bw.SingleOutputEcospold1Importer(ag12_path, ag12_ei_name)\n",
    "        ag12_ei.apply_strategies()\n",
    "        ag12_ei.statistics()\n",
    "        \n",
    "        ag12_ei.write_excel(True)\n",
    "        from bw2io.strategies.simapro import normalize_simapro_biosphere_categories, normalize_simapro_biosphere_names\n",
    "        ag12_ei.apply_strategy(normalize_simapro_biosphere_categories)\n",
    "        ag12_ei.apply_strategy(normalize_simapro_biosphere_names)\n",
    "\n",
    "        from bw2io.strategies import link_iterable_by_fields\n",
    "        import functools\n",
    "        ag12_ei.apply_strategy(functools.partial(link_iterable_by_fields, other=bw.Database(\"biosphere3\"), kind=\"biosphere\"))\n",
    "        ag12_ei.statistics()\n",
    "\n",
    "        ag12_ei.write_excel(True)\n",
    "        \n",
    "        ag12_ei_new_biosphere_name = ag12_ei_name + \" - new biosphere\"\n",
    "        bw.Database(ag12_ei_new_biosphere_name).register()\n",
    "        ag12_ei.add_unlinked_flows_to_biosphere_database(ag12_ei_new_biosphere_name)\n",
    "\n",
    "        def get_unlinked(data):\n",
    "            for ds in ag12_ei.data:\n",
    "                for exc in ds['exchanges']:\n",
    "                    if exc['type'] == 'production' and exc['name'] == 'Alfalfa, conventional, for animal feeding, at farm gate':\n",
    "                        return ds, exc\n",
    "\n",
    "        ds, exc = get_unlinked(ag12_ei.data)\n",
    "\n",
    "        from bw2io.strategies import link_technosphere_based_on_name_unit_location\n",
    "        ag12_ei.apply_strategy(link_technosphere_based_on_name_unit_location)\n",
    "        ag12_ei.statistics()\n",
    "\n",
    "        def get_unlinked(data):\n",
    "            for ds in ag12_ei.data:\n",
    "                for exc in ds['exchanges']:\n",
    "                    if exc['type'] == 'production' and not exc.get('input'):\n",
    "                        return ds, exc\n",
    "\n",
    "        ds, exc = get_unlinked(ag12_ei.data)\n",
    "\n",
    "        for ds in ag12_ei.data:\n",
    "            for exc in ds['exchanges']:\n",
    "                if exc['type'] == 'production' and not exc.get('input'):\n",
    "                    print(\"Fixing:\", exc['name'])\n",
    "                    exc['type'] = 'technosphere'\n",
    "\n",
    "        ag12_ei.apply_strategy(link_technosphere_based_on_name_unit_location)\n",
    "        ei_name_short = ei_name #TODO\n",
    "        ag12_ei.apply_strategy(functools.partial(link_technosphere_based_on_name_unit_location, external_db_name=ei_name_short))\n",
    "        ag12_ei.statistics()\n",
    "\n",
    "        ag12_ei.add_unlinked_activities()\n",
    "        ag12_ei.statistics()\n",
    "\n",
    "        for ds in ag12_ei.data:\n",
    "            del ds['code']\n",
    "\n",
    "        from bw2io.strategies import set_code_by_activity_hash\n",
    "        ag12_ei.apply_strategy(set_code_by_activity_hash)\n",
    "\n",
    "        ag12_ei.apply_strategy(functools.partial(\n",
    "                link_iterable_by_fields,\n",
    "                other=ag12_ei.data,\n",
    "                fields=('name', 'location', 'unit'),\n",
    "                relink=True\n",
    "        ))\n",
    "        ag12_ei.statistics()\n",
    "        \n",
    "        if ag12_ei_name in bw.databases:\n",
    "            print(ag12_ei_name + \" database already present!!! No import is needed\")\n",
    "        else:\n",
    "            ag12_ei.write_database()"
   ]
  },
  {
   "cell_type": "code",
   "execution_count": null,
   "metadata": {},
   "outputs": [],
   "source": [
    "ag12_name = 'Agribalyse 1.2'\n",
    "import_agribalyse12(ag12_path, ag12_name, ei33_name)"
   ]
  },
  {
   "cell_type": "code",
   "execution_count": null,
   "metadata": {},
   "outputs": [],
   "source": [
    "bw.databases"
   ]
  },
  {
   "cell_type": "code",
   "execution_count": null,
   "metadata": {},
   "outputs": [],
   "source": []
  },
  {
   "cell_type": "markdown",
   "metadata": {},
   "source": [
    "## 5. HEIA"
   ]
  },
  {
   "cell_type": "markdown",
   "metadata": {},
   "source": [
    "### TODO -> ask Andi for files"
   ]
  },
  {
   "cell_type": "markdown",
   "metadata": {},
   "source": [
    "# Import newer versions of databases"
   ]
  },
  {
   "cell_type": "markdown",
   "metadata": {},
   "source": [
    "## 1. Ecoinvent 3.6 cutoff"
   ]
  },
  {
   "cell_type": "code",
   "execution_count": null,
   "metadata": {},
   "outputs": [],
   "source": [
    "ei36_name = \"ecoinvent 3.6 cutoff\"\n",
    "if ei36_name in bw.databases:\n",
    "    print(ei36_name + \" database already present!!! No import is needed\")\n",
    "else:\n",
    "    ei36 = bw.SingleOutputEcospold2Importer(ei36_path, ei36_name)\n",
    "    ei36.apply_strategies()\n",
    "    ei36.match_database(db_name='biosphere3',fields=('name', 'category', 'unit', 'location'))\n",
    "    ei36.statistics()"
   ]
  },
  {
   "cell_type": "code",
   "execution_count": null,
   "metadata": {},
   "outputs": [],
   "source": [
    "if ei36_name in bw.databases:\n",
    "    print(ei36_name + \" database already present!!! No import is needed\")\n",
    "else:\n",
    "    ei36.write_database()"
   ]
  },
  {
   "cell_type": "code",
   "execution_count": null,
   "metadata": {},
   "outputs": [],
   "source": []
  },
  {
   "cell_type": "code",
   "execution_count": null,
   "metadata": {},
   "outputs": [],
   "source": [
    "bw.databases"
   ]
  },
  {
   "cell_type": "markdown",
   "metadata": {},
   "source": [
    "## 2. Agribalyse 1.3"
   ]
  },
  {
   "cell_type": "code",
   "execution_count": null,
   "metadata": {},
   "outputs": [],
   "source": [
    "if 'Agribalyse 1.3 - ecoinvent 3.6 cutoff' in bw.databases:\n",
    "    del bw.databases['Agribalyse 1.3 - ecoinvent 3.6 cutoff']"
   ]
  },
  {
   "cell_type": "markdown",
   "metadata": {},
   "source": [
    "### TODO -> Chris, Rhythima, check if migrations are correct"
   ]
  },
  {
   "cell_type": "code",
   "execution_count": null,
   "metadata": {},
   "outputs": [],
   "source": [
    "ei_name = ei36_name"
   ]
  },
  {
   "cell_type": "code",
   "execution_count": null,
   "metadata": {},
   "outputs": [],
   "source": [
    "ag13_name = 'Agribalyse 1.3'\n",
    "ag13_ei_name = ag13_name + ' - ' + ei_name\n",
    "if ag13_ei_name in bw.databases:\n",
    "    print(ag13_ei_name + \" database already present!!! No import is needed\")\n",
    "else:\n",
    "    ag13_ei = bw.SimaProCSVImporter(ag13_path, ag13_ei_name)\n",
    "    ag13_ei.apply_strategies()\n",
    "    \n",
    "    # Apply all migrations with previous versions of ecoinvent\n",
    "    ag13_ei.migrate('simapro-ecoinvent-3.3')\n",
    "    \n",
    "    # Update US locations\n",
    "    from bw2io.strategies.locations import update_ecoinvent_locations\n",
    "    ag13_ei = update_ecoinvent_locations(ag13_ei)\n",
    "    \n",
    "    # Biosphere flows\n",
    "    ag13_ei_new_biosphere_name = ag13_ei_name + \" - new biosphere\"\n",
    "    bw.Database(ag13_ei_new_biosphere_name).register()\n",
    "    ag13_ei.add_unlinked_flows_to_biosphere_database(ag13_ei_new_biosphere_name)\n",
    "    \n",
    "    # Add unlinked waste flows as new activities\n",
    "    ag13_ei.add_unlinked_activities()\n",
    "    \n",
    "    ag13_ei.match_database(ei_name, fields=('reference product','location', 'unit', 'name'))\n",
    "    ag13_ei.statistics()"
   ]
  },
  {
   "cell_type": "markdown",
   "metadata": {},
   "source": [
    "### Define some of the migrations manually.\n",
    "- Most of them are minor changes in names of activities and reference products\n",
    "- Some activities contain `multiplier` field if the unit conversion is needed or reference products are not identical"
   ]
  },
  {
   "cell_type": "code",
   "execution_count": null,
   "metadata": {},
   "outputs": [],
   "source": [
    "agribalyse13_ecoinvent36_names = {\n",
    "    'fields': ['name'],\n",
    "    'data': [\n",
    "        (\n",
    "            ['extrusion production, plastic film'],\n",
    "            {\n",
    "                'name': 'extrusion, plastic film'\n",
    "            }\n",
    "        ),\n",
    "        (\n",
    "            ['extrusion production, plastic pipes'],\n",
    "            {\n",
    "                'name': 'extrusion, plastic pipes'\n",
    "            }\n",
    "        ),\n",
    "        (\n",
    "            ['blow moulding production'],\n",
    "            {\n",
    "                'name': 'blow moulding'\n",
    "            }\n",
    "        ),\n",
    "        (\n",
    "            ['calendering production, rigid sheets'],\n",
    "            {\n",
    "                'name': 'calendering, rigid sheets'\n",
    "            }\n",
    "        ),\n",
    "        (\n",
    "            ['steam production in chemical industry'],\n",
    "            {\n",
    "                'name': 'steam production, in chemical industry',\n",
    "                'reference product': 'steam, in chemical industry',\n",
    "                'unit': 'kilogram',\n",
    "                'multiplier': 1/2.75, # change of units, see comment on this activity in ecoinvent\n",
    "            }\n",
    "        ),\n",
    "        (\n",
    "            ['water production, completely softened, from decarbonised water, at user'],\n",
    "            {\n",
    "                'name': 'water production, completely softened',\n",
    "                'reference product': 'water, completely softened'\n",
    "            }\n",
    "        ),\n",
    "        (\n",
    "            ['market for water, decarbonised, at user'],\n",
    "            {\n",
    "                'name': 'market for water, decarbonised',\n",
    "                'reference product': 'water, decarbonised'\n",
    "            }\n",
    "        ),\n",
    "        (\n",
    "            ['textile production, jute'],\n",
    "            {\n",
    "                'name': 'textile production, jute, weaving'\n",
    "            }\n",
    "        ),\n",
    "        (\n",
    "            ['market for transport, freight, sea, transoceanic ship'],\n",
    "            {\n",
    "                'name': 'market for transport, freight, sea, container ship with reefer, cooling',\n",
    "                'reference product': 'transport, freight, sea, container ship with reefer, cooling'\n",
    "            }\n",
    "        ),\n",
    "        (\n",
    "            ['transport, freight, sea, transoceanic ship'],\n",
    "            {\n",
    "                'name': 'transport, freight, sea, container ship with reefer, cooling',\n",
    "                'reference product': 'transport, freight, sea, container ship with reefer, cooling'\n",
    "            }\n",
    "        ),\n",
    "        (\n",
    "            ['oxidation of manganese dioxide'],\n",
    "            {\n",
    "                'reference product': 'potassium permanganate',\n",
    "                'multiplier': 90/1000 # change of reference product, see comment on this activity in ecoinvent\n",
    "            }\n",
    "        ),\n",
    "        (\n",
    "            ['irrigation'],\n",
    "            {\n",
    "                'name': 'market for irrigation',\n",
    "            }\n",
    "        ),\n",
    "    ]\n",
    "}\n",
    "\n",
    "bw.Migration(\"agribalyse13-ecoinvent36-names\").write(\n",
    "    agribalyse13_ecoinvent36_names,\n",
    "    description=\"Change names of some activities\"\n",
    ")"
   ]
  },
  {
   "cell_type": "markdown",
   "metadata": {},
   "source": [
    "### Define migrations for market groups"
   ]
  },
  {
   "cell_type": "code",
   "execution_count": null,
   "metadata": {},
   "outputs": [],
   "source": [
    "agribalyse13_ecoinvent36_market_groups = {\n",
    "    'fields': ['name', 'location'],\n",
    "    'data': [\n",
    "        (\n",
    "            ['market for electricity, low voltage', 'BR'],\n",
    "            {\n",
    "                'name': 'market group for electricity, low voltage'\n",
    "            }\n",
    "        ),\n",
    "        (\n",
    "            ['market for electricity, medium voltage', 'BR'],\n",
    "            {\n",
    "                'name': 'market group for electricity, medium voltage'\n",
    "            }\n",
    "        ),\n",
    "    ]\n",
    "}\n",
    "\n",
    "bw.Migration(\"agribalyse13-ecoinvent36-market-groups\").write(\n",
    "    agribalyse13_ecoinvent36_market_groups,\n",
    "    description=\"Change markets to market groups for Brazil\"\n",
    ")"
   ]
  },
  {
   "cell_type": "code",
   "execution_count": null,
   "metadata": {},
   "outputs": [],
   "source": [
    "ag13_ei.migrate('agribalyse13-ecoinvent36-names')\n",
    "ag13_ei.migrate('agribalyse13-ecoinvent36-market-groups')\n",
    "ag13_ei.match_database(ei_name, fields=('reference product','location', 'unit', 'name'))\n",
    "ag13_ei.statistics()"
   ]
  },
  {
   "cell_type": "markdown",
   "metadata": {},
   "source": [
    "### Allocate by production volume"
   ]
  },
  {
   "cell_type": "code",
   "execution_count": null,
   "metadata": {},
   "outputs": [],
   "source": [
    "from utils import *"
   ]
  },
  {
   "cell_type": "code",
   "execution_count": null,
   "metadata": {},
   "outputs": [],
   "source": [
    "ei36 = bw.Database(ei_name)"
   ]
  },
  {
   "cell_type": "code",
   "execution_count": null,
   "metadata": {},
   "outputs": [],
   "source": [
    "# Create mapping between unlinked exchanges and ecoinvent activities that constitute each unlinked exchange.\n",
    "# In this case we do not need to do it manually since all unlinked exchanges need to be allocated geographically.\n",
    "# Example: (market for lime, GLO) is split by production volume into (market for lime, RoW) & (market for lime, RER).\n",
    "# Mapping is a list of dictionaries where each dictionary corresponds to an unlinked exchange.\n",
    "# The key is the name of the unlinked exchange and the values are ecoinvent activities codes.\n",
    "\n",
    "def create_location_mapping(ag13_ei, ei_name):\n",
    "    \n",
    "    ei36 = bw.Database(ei_name)\n",
    "    \n",
    "    unlinked_list = list(ag13_ei.unlinked)\n",
    "    len_unlinked  = len(unlinked_list)\n",
    "\n",
    "    mapping = [0]*len_unlinked\n",
    "\n",
    "    for u in range(len_unlinked):\n",
    "        new_el = {}\n",
    "        name = unlinked_list[u]['name'] \n",
    "        loc  = unlinked_list[u]['location']\n",
    "        acts_codes = [act['code'] for act in ei36 if name == act['name']]\n",
    "        new_el[ (name, loc) ] = acts_codes\n",
    "        mapping[u] = new_el\n",
    "        \n",
    "    return mapping"
   ]
  },
  {
   "cell_type": "code",
   "execution_count": null,
   "metadata": {},
   "outputs": [],
   "source": [
    "mapping = create_location_mapping(ag13_ei, ei_name)"
   ]
  },
  {
   "cell_type": "code",
   "execution_count": null,
   "metadata": {},
   "outputs": [],
   "source": [
    "agg = modify_exchanges(ag13_ei, mapping, ei_name)"
   ]
  },
  {
   "cell_type": "code",
   "execution_count": null,
   "metadata": {},
   "outputs": [],
   "source": [
    "agg.statistics()"
   ]
  },
  {
   "cell_type": "markdown",
   "metadata": {},
   "source": [
    "### Write database"
   ]
  },
  {
   "cell_type": "code",
   "execution_count": null,
   "metadata": {},
   "outputs": [],
   "source": [
    "# if ag13_ei_name in bw.databases:\n",
    "#     print(ag13_ei_name + \" database already present!!! No import is needed\")\n",
    "# else:\n",
    "#     agg.write_database()"
   ]
  },
  {
   "cell_type": "code",
   "execution_count": null,
   "metadata": {},
   "outputs": [],
   "source": [
    "a = 'ammonium nitrate phosphate production'\n",
    "b = 'diammonium phosphate production'\n",
    "c = 'monoammonium phosphate production'"
   ]
  },
  {
   "cell_type": "code",
   "execution_count": null,
   "metadata": {},
   "outputs": [],
   "source": [
    "for act in agg.data:\n",
    "    if act['name'] in [a,b,c]:\n",
    "        print(act)"
   ]
  },
  {
   "cell_type": "code",
   "execution_count": null,
   "metadata": {},
   "outputs": [],
   "source": [
    "# Remove repetitive activities\n",
    "agg.data.remove({'categories': ('Materials/fuels',), \n",
    "                 'name': 'ammonium nitrate phosphate production', \n",
    "                 'unit': 'kilogram', \n",
    "                 'comment': '(1,1,5,1,1,na); assimilation MAP', \n",
    "                 'location': 'RER', \n",
    "                 'type': 'process', \n",
    "                 'code': 'de221991cc69f37976042f05f448c94c', \n",
    "                 'database': 'Agribalyse 1.3 - ecoinvent 3.6 cutoff'})\n",
    "agg.data.remove({'categories': ('Materials/fuels',), \n",
    "                 'name': 'diammonium phosphate production', \n",
    "                 'unit': 'kilogram', \n",
    "                 'comment': \"Mineral fertilizers. Model of transport: 'MT MAP DAP', weight transported in tons = 5,9E-02. Pedigree-Matrix='(3,3,2,1,2,na)'.\", \n",
    "                 'location': 'RER', \n",
    "                 'type': 'process', \n",
    "                 'code': '64037e162f6d6d1048470c3a1135f4fb', \n",
    "                 'database': 'Agribalyse 1.3 - ecoinvent 3.6 cutoff'})\n",
    "agg.data.remove({'categories': ('Materials/fuels',), \n",
    "                 'name': 'monoammonium phosphate production', \n",
    "                 'unit': 'kilogram', \n",
    "                 'comment': '', \n",
    "                 'location': 'RER', \n",
    "                 'type': 'process', \n",
    "                 'code': '6d61eb45c1d285073770aa839426d97c', \n",
    "                 'database': 'Agribalyse 1.3 - ecoinvent 3.6 cutoff'})\n"
   ]
  },
  {
   "cell_type": "code",
   "execution_count": null,
   "metadata": {},
   "outputs": [],
   "source": [
    "if ag13_ei_name in bw.databases:\n",
    "    print(ag13_ei_name + \" database already present!!! No import is needed\")\n",
    "else:\n",
    "    agg.write_database()"
   ]
  },
  {
   "cell_type": "code",
   "execution_count": null,
   "metadata": {},
   "outputs": [],
   "source": [
    "bw.databases"
   ]
  },
  {
   "cell_type": "code",
   "execution_count": null,
   "metadata": {},
   "outputs": [],
   "source": []
  },
  {
   "cell_type": "markdown",
   "metadata": {},
   "source": [
    "# Exiobase 3.3.7"
   ]
  },
  {
   "cell_type": "code",
   "execution_count": null,
   "metadata": {},
   "outputs": [],
   "source": []
  },
  {
   "cell_type": "code",
   "execution_count": null,
   "metadata": {},
   "outputs": [],
   "source": []
  },
  {
   "cell_type": "code",
   "execution_count": null,
   "metadata": {},
   "outputs": [],
   "source": []
  },
  {
   "cell_type": "code",
   "execution_count": null,
   "metadata": {},
   "outputs": [],
   "source": []
  },
  {
   "cell_type": "code",
   "execution_count": null,
   "metadata": {},
   "outputs": [],
   "source": []
  },
  {
   "cell_type": "code",
   "execution_count": null,
   "metadata": {},
   "outputs": [],
   "source": []
  },
  {
   "cell_type": "code",
   "execution_count": null,
   "metadata": {},
   "outputs": [],
   "source": []
  },
  {
   "cell_type": "code",
   "execution_count": null,
   "metadata": {},
   "outputs": [],
   "source": []
  },
  {
   "cell_type": "code",
   "execution_count": null,
   "metadata": {},
   "outputs": [],
   "source": []
  },
  {
   "cell_type": "code",
   "execution_count": null,
   "metadata": {},
   "outputs": [],
   "source": []
  },
  {
   "cell_type": "code",
   "execution_count": null,
   "metadata": {},
   "outputs": [],
   "source": []
  },
  {
   "cell_type": "code",
   "execution_count": null,
   "metadata": {},
   "outputs": [],
   "source": []
  },
  {
   "cell_type": "code",
   "execution_count": null,
   "metadata": {},
   "outputs": [],
   "source": []
  },
  {
   "cell_type": "code",
   "execution_count": null,
   "metadata": {},
   "outputs": [],
   "source": []
  },
  {
   "cell_type": "code",
   "execution_count": null,
   "metadata": {},
   "outputs": [],
   "source": []
  },
  {
   "cell_type": "code",
   "execution_count": null,
   "metadata": {},
   "outputs": [],
   "source": []
  },
  {
   "cell_type": "code",
   "execution_count": null,
   "metadata": {},
   "outputs": [],
   "source": []
  }
 ],
 "metadata": {
  "kernelspec": {
   "display_name": "Python 3",
   "language": "python",
   "name": "python3"
  },
  "language_info": {
   "codemirror_mode": {
    "name": "ipython",
    "version": 3
   },
   "file_extension": ".py",
   "mimetype": "text/x-python",
   "name": "python",
   "nbconvert_exporter": "python",
   "pygments_lexer": "ipython3",
   "version": "3.7.4"
  }
 },
 "nbformat": 4,
 "nbformat_minor": 2
}
