{
 "cells": [
  {
   "cell_type": "code",
   "execution_count": 1,
   "metadata": {},
   "outputs": [
    {
     "name": "stdout",
     "output_type": "stream",
     "text": [
      "Using environment variable BRIGHTWAY2_DIR for data directory:\n",
      "/data/user/kim_a/Brightway3\n"
     ]
    }
   ],
   "source": [
    "import brightway2 as bw\n",
    "import numpy as np\n",
    "import json, os\n",
    "\n",
    "#Local files\n",
    "from import_databases import *"
   ]
  },
  {
   "cell_type": "code",
   "execution_count": 2,
   "metadata": {},
   "outputs": [
    {
     "data": {
      "text/plain": [
       "'merlin'"
      ]
     },
     "execution_count": 2,
     "metadata": {},
     "output_type": "execute_result"
    }
   ],
   "source": [
    "with open('global_settings.json', 'rb') as f:\n",
    "    settings = json.load(f)\n",
    "which_pc = settings['which_pc']\n",
    "which_pc"
   ]
  },
  {
   "cell_type": "markdown",
   "metadata": {},
   "source": [
    "### TODO -> give paths to databases files"
   ]
  },
  {
   "cell_type": "code",
   "execution_count": 3,
   "metadata": {},
   "outputs": [],
   "source": [
    "if which_pc == 'local':\n",
    "    # Older databases\n",
    "    ei33_path = '/Users/akim/Documents/LCA_files/ecoinvent 3.3 cutoff/datasets'  \n",
    "    ex22_path = '/Users/akim/Documents/LCA_files/exiobase 2.2/mrIOT_IxI_fpa_coefficient_version2.2.2'\n",
    "    ag12_path = '/Users/akim/Documents/LCA_files/agribalyse 1.2/AGRIBALYSEv1.2_Complete.xml'\n",
    "    # Newer databases\n",
    "    ei36_path = '/Users/akim/Documents/LCA_files/ecoinvent 3.6 cutoff/datasets'  \n",
    "    # ex34_path = '/Users/akim/Documents/LCA_files/exiobase 3.4/IOT_2011_pxp/' #TODO\n",
    "    ag13_path = '/Users/akim/Documents/LCA_files/agribalyse 1.3/Agribalyse CSV FINAL_no links_Nov2016v3.CSV'\n",
    "    habe_path = '/Users/akim/Documents/LCA_files/HABE_2017/'\n",
    "    co_path = 'data/es8b01452_si_002.xlsx'\n",
    "elif which_pc == 'merlin':\n",
    "    ex22_path = '/data/user/kim_a/LCA_files/exiobase_22/mrIOT_IxI_fpa_coefficient_version2.2.2'\n",
    "    ei33_path = '/data/user/kim_a/LCA_files/ecoinvent_33_cutoff/datasets'  \n",
    "    ei36_path = '/data/user/kim_a/LCA_files/ecoinvent_36_cutoff/datasets'  \n",
    "    ag13_path = '/data/user/kim_a/LCA_files/agribalyse_13/Agribalyse CSV FINAL_no links_Nov2016v3.CSV'\n",
    "    habe_path = '/data/user/kim_a/LCA_files/HABE_2017'\n",
    "    co_path = 'data/es8b01452_si_002.xlsx'"
   ]
  },
  {
   "cell_type": "markdown",
   "metadata": {},
   "source": [
    "### TODO -> choose project"
   ]
  },
  {
   "cell_type": "code",
   "execution_count": 4,
   "metadata": {},
   "outputs": [],
   "source": [
    "project = 'GSA for oases'\n",
    "bw.projects.set_current(project)\n",
    "# bw.projects.delete_project(project, delete_dir=True)"
   ]
  },
  {
   "cell_type": "code",
   "execution_count": 5,
   "metadata": {},
   "outputs": [
    {
     "data": {
      "text/plain": [
       "Databases dictionary with 0 objects"
      ]
     },
     "execution_count": 5,
     "metadata": {},
     "output_type": "execute_result"
    }
   ],
   "source": [
    "bw.databases"
   ]
  },
  {
   "cell_type": "code",
   "execution_count": null,
   "metadata": {},
   "outputs": [],
   "source": [
    "del bw.databases[\"Agribalyse 1.3 - ecoinvent 3.6 cutoff - new biosphere\"]\n",
    "del bw.databases[\"Agribalyse 1.3 - ecoinvent 3.6 cutoff\"]"
   ]
  },
  {
   "cell_type": "markdown",
   "metadata": {},
   "source": [
    "### Import necessary databases"
   ]
  },
  {
   "cell_type": "code",
   "execution_count": 6,
   "metadata": {
    "scrolled": false
   },
   "outputs": [
    {
     "name": "stdout",
     "output_type": "stream",
     "text": [
      "Creating default biosphere\n",
      "\n"
     ]
    },
    {
     "name": "stderr",
     "output_type": "stream",
     "text": [
      "Writing activities to SQLite3 database:\n"
     ]
    },
    {
     "name": "stdout",
     "output_type": "stream",
     "text": [
      "Applying strategy: normalize_units\n",
      "Applying strategy: drop_unspecified_subcategories\n",
      "Applied 2 strategies in 0.00 seconds\n"
     ]
    },
    {
     "name": "stderr",
     "output_type": "stream",
     "text": [
      "0% [##############################] 100% | ETA: 00:00:00\n",
      "Total time elapsed: 00:00:00\n"
     ]
    },
    {
     "name": "stdout",
     "output_type": "stream",
     "text": [
      "Title: Writing activities to SQLite3 database:\n",
      "  Started: 12/02/2020 12:30:48\n",
      "  Finished: 12/02/2020 12:30:48\n",
      "  Total time elapsed: 00:00:00\n",
      "  CPU %: 58.70\n",
      "  Memory %: 0.04\n",
      "Created database: biosphere3\n",
      "Creating default LCIA methods\n",
      "\n",
      "Applying strategy: normalize_units\n",
      "Applying strategy: set_biosphere_type\n",
      "Applying strategy: drop_unspecified_subcategories\n",
      "Applying strategy: link_iterable_by_fields\n",
      "Applied 4 strategies in 0.78 seconds\n",
      "Wrote 850 LCIA methods with 219059 characterization factors\n",
      "Creating core data migrations\n",
      "\n",
      "Extracting XML data from 18121 datasets\n",
      "Extracted 18121 datasets in 38.48 seconds\n",
      "Applying strategy: normalize_units\n",
      "Applying strategy: update_ecoinvent_locations\n",
      "Applying strategy: remove_zero_amount_coproducts\n",
      "Applying strategy: remove_zero_amount_inputs_with_no_activity\n",
      "Applying strategy: remove_unnamed_parameters\n",
      "Applying strategy: es2_assign_only_product_with_amount_as_reference_product\n",
      "Applying strategy: assign_single_product_as_activity\n",
      "Applying strategy: create_composite_code\n",
      "Applying strategy: drop_unspecified_subcategories\n",
      "Applying strategy: fix_ecoinvent_flows_pre35\n",
      "Applying strategy: drop_temporary_outdated_biosphere_flows\n",
      "Applying strategy: link_biosphere_by_flow_uuid\n",
      "Applying strategy: link_internal_technosphere_by_composite_code\n",
      "Applying strategy: delete_exchanges_missing_activity\n",
      "Applying strategy: delete_ghost_exchanges\n",
      "Applying strategy: remove_uncertainty_from_negative_loss_exchanges\n",
      "Applying strategy: fix_unreasonably_high_lognormal_uncertainties\n",
      "Applying strategy: set_lognormal_loc_value\n",
      "Applying strategy: convert_activity_parameters_to_list\n",
      "Applying strategy: add_cpc_classification_from_single_reference_product\n",
      "Applied 20 strategies in 6.21 seconds\n",
      "Applying strategy: link_iterable_by_fields\n"
     ]
    },
    {
     "name": "stderr",
     "output_type": "stream",
     "text": [
      "Writing activities to SQLite3 database:\n"
     ]
    },
    {
     "name": "stdout",
     "output_type": "stream",
     "text": [
      "18121 datasets\n",
      "615644 exchanges\n",
      "0 unlinked exchanges\n",
      "  \n"
     ]
    },
    {
     "name": "stderr",
     "output_type": "stream",
     "text": [
      "0% [##############################] 100% | ETA: 00:00:00\n",
      "Total time elapsed: 00:00:59\n"
     ]
    },
    {
     "name": "stdout",
     "output_type": "stream",
     "text": [
      "Title: Writing activities to SQLite3 database:\n",
      "  Started: 12/02/2020 12:32:32\n",
      "  Finished: 12/02/2020 12:33:32\n",
      "  Total time elapsed: 00:00:59\n",
      "  CPU %: 51.30\n",
      "  Memory %: 0.40\n",
      "Created database: ecoinvent 3.6 cutoff\n",
      "Biosphere database already present!!! No setup is needed\n",
      "ecoinvent 3.3 cutoff database already present!!! No import is needed\n",
      "Extracted 1189 unallocated datasets in 2.65 seconds\n",
      "Applying strategy: normalize_units\n",
      "Applying strategy: update_ecoinvent_locations\n",
      "Applying strategy: assign_only_product_as_production\n",
      "Applying strategy: drop_unspecified_subcategories\n",
      "Applying strategy: sp_allocate_products\n",
      "Applying strategy: fix_zero_allocation_products\n",
      "Applying strategy: split_simapro_name_geo\n",
      "Applying strategy: strip_biosphere_exc_locations\n",
      "Applying strategy: migrate_datasets\n",
      "Applying strategy: migrate_exchanges\n",
      "Applying strategy: set_code_by_activity_hash\n",
      "Applying strategy: link_technosphere_based_on_name_unit_location\n",
      "Applying strategy: change_electricity_unit_mj_to_kwh\n",
      "Applying strategy: set_lognormal_loc_value_uncertainty_safe\n",
      "Applying strategy: normalize_biosphere_categories\n",
      "Applying strategy: normalize_simapro_biosphere_categories\n",
      "Applying strategy: normalize_biosphere_names\n",
      "Applying strategy: normalize_simapro_biosphere_names\n",
      "Applying strategy: migrate_exchanges\n",
      "Applying strategy: fix_localized_water_flows\n",
      "Applying strategy: link_iterable_by_fields\n",
      "Applying strategy: convert_activity_parameters_to_list\n",
      "Applied 22 strategies in 2.45 seconds\n",
      "Applying strategy: migrate_datasets\n",
      "Applying strategy: migrate_exchanges\n"
     ]
    },
    {
     "name": "stderr",
     "output_type": "stream",
     "text": [
      "Writing activities to SQLite3 database:\n",
      "0% [##############################] 100% | ETA: 00:00:00\n",
      "Total time elapsed: 00:00:00\n"
     ]
    },
    {
     "name": "stdout",
     "output_type": "stream",
     "text": [
      "Title: Writing activities to SQLite3 database:\n",
      "  Started: 12/02/2020 12:47:55\n",
      "  Finished: 12/02/2020 12:47:55\n",
      "  Total time elapsed: 00:00:00\n",
      "  CPU %: 91.90\n",
      "  Memory %: 0.24\n",
      "Applying strategy: link_iterable_by_fields\n",
      "Applying strategy: link_iterable_by_fields\n",
      "Applying strategy: link_iterable_by_fields\n",
      "Applying strategy: migrate_datasets\n",
      "Applying strategy: migrate_exchanges\n",
      "Applying strategy: link_iterable_by_fields\n",
      "Applying strategy: migrate_datasets\n",
      "Applying strategy: migrate_exchanges\n",
      "Applying strategy: link_iterable_by_fields\n",
      "Applying strategy: link_iterable_by_fields\n",
      "{'uncertainty type': 0, 'scale': nan, 'loc': nan, 'negative': False, 'amount': 0.0234, 'categories': ('Materials/fuels',), 'name': 'market for diesel', 'unit': 'kilogram', 'comment': '', 'type': 'technosphere', 'location': 'CH', 'reference product': 'diesel', 'system model': 'Allocation, cut-off by classification', 'simapro name': 'Diesel {CH}| market for | Alloc Rec, S', 'input': ('ecoinvent 3.6 cutoff', '4cb6770a27217cb046af994a86ac36cb')}\n",
      "{'uncertainty type': 0, 'scale': nan, 'loc': nan, 'negative': False, 'amount': 4.75, 'categories': ('Electricity/heat',), 'name': 'market for heat, district or industrial, other than natural gas', 'unit': 'megajoule', 'comment': '(2,5,5,5,1,na)', 'type': 'technosphere', 'location': 'RoW', 'reference product': 'heat, district or industrial, other than natural gas', 'system model': 'Allocation, cut-off by classification', 'simapro name': 'Heat, district or industrial, other than natural gas {RoW}| market for | Alloc Rec, S', 'input': ('ecoinvent 3.6 cutoff', '1c7fd286007e557135e7cec83429b6ec')}\n",
      "{'uncertainty type': 0, 'scale': nan, 'loc': nan, 'negative': False, 'amount': 4.75, 'categories': ('Electricity/heat',), 'name': 'market for heat, district or industrial, other than natural gas', 'unit': 'megajoule', 'comment': '(2,5,5,5,1,na)', 'type': 'technosphere', 'location': 'RoW', 'reference product': 'heat, district or industrial, other than natural gas', 'system model': 'Allocation, cut-off by classification', 'simapro name': 'Heat, district or industrial, other than natural gas {RoW}| market for | Alloc Rec, S', 'input': ('ecoinvent 3.6 cutoff', '1c7fd286007e557135e7cec83429b6ec')}\n",
      "{'uncertainty type': 0, 'scale': nan, 'loc': nan, 'negative': False, 'amount': 0.0256410256410256, 'categories': ('Materials/fuels',), 'name': 'market for natural gas, high pressure', 'unit': 'cubic meter', 'comment': '', 'type': 'technosphere', 'location': 'FR', 'reference product': 'natural gas, high pressure', 'system model': 'Allocation, cut-off by classification', 'simapro name': 'Natural gas, high pressure {FR}| market for | Alloc Rec, S', 'input': ('ecoinvent 3.6 cutoff', '632dd42cf575f0e05815e2cd92ad3683')}\n",
      "{'uncertainty type': 0, 'scale': nan, 'loc': nan, 'negative': False, 'amount': 1.11, 'name': 'Heat, waste', 'categories': ('air', 'urban air close to ground'), 'unit': 'megajoule', 'comment': '', 'type': 'biosphere', 'input': ('biosphere3', 'b411ec8b-c60a-4235-a3b2-8bf8443cbc55')}\n",
      "{'uncertainty type': 0, 'scale': nan, 'loc': nan, 'negative': False, 'amount': 0.005811, 'categories': ('Waste to treatment',), 'name': 'treatment of wastewater from potato starch production, capacity 1.1E10l/year', 'unit': 'cubic meter', 'comment': '(2,2,1,1,1,3)', 'type': 'technosphere', 'location': 'CH', 'reference product': 'wastewater from potato starch production', 'system model': 'Allocation, cut-off by classification', 'simapro name': 'Wastewater from potato starch production {CH}| treatment of, capacity 1.1E10l/year | Alloc Rec, S', 'input': ('ecoinvent 3.6 cutoff', '89083745283882c00a1ba842c6101166')}\n",
      "1697 datasets\n",
      "115943 exchanges\n",
      "0 unlinked exchanges\n",
      "  \n"
     ]
    },
    {
     "name": "stderr",
     "output_type": "stream",
     "text": [
      "Writing activities to SQLite3 database:\n",
      "0% [##############################] 100% | ETA: 00:00:00\n",
      "Total time elapsed: 00:00:10\n"
     ]
    },
    {
     "name": "stdout",
     "output_type": "stream",
     "text": [
      "Title: Writing activities to SQLite3 database:\n",
      "  Started: 12/02/2020 12:48:36\n",
      "  Finished: 12/02/2020 12:48:46\n",
      "  Total time elapsed: 00:00:10\n",
      "  CPU %: 49.70\n",
      "  Memory %: 0.24\n",
      "Created database: Agribalyse 1.3 - ecoinvent 3.6 cutoff\n",
      "CPU times: user 16min 34s, sys: 22.3 s, total: 16min 56s\n",
      "Wall time: 18min 4s\n"
     ]
    }
   ],
   "source": [
    "%%time \n",
    "ei36_name = 'ecoinvent 3.6 cutoff'\n",
    "co_name = CONSUMPTION_DB_NAME\n",
    "\n",
    "if project == 'GSA for ecoinvent':\n",
    "    bw.bw2setup()\n",
    "    import_exiobase_22(ex22_path)\n",
    "    import_ecoinvent(ei36_path, ei36_name)\n",
    "    import_agribalyse_13(ag13_path, ei36_name)\n",
    "    # Consumption DB\n",
    "    create_ecoinvent_33_project(ei33_path)\n",
    "    import_consumption_db(co_path, habe_path, exclude_dbs=['heia'])\n",
    "    add_consumption_activities(co_name, habe_path)\n",
    "\n",
    "elif project == 'GSA for paper':\n",
    "    bw.bw2setup()\n",
    "    import_ecoinvent(ei36_path, ei36_name)\n",
    "    # Consumption DB\n",
    "    create_ecoinvent_33_project(ei33_path)\n",
    "    exclude_dbs = [\n",
    "        'heia', \n",
    "        'EXIOBASE 2.2',\n",
    "        'Agribalyse 1.2',\n",
    "        'Agribalyse 1.3 - ecoinvent 3.6 cutoff',\n",
    "    ]\n",
    "    import_consumption_db(co_path, habe_path, exclude_dbs=exclude_dbs)\n",
    "    add_consumption_activities(co_name, habe_path)\n",
    "    add_consumption_categories(co_name, co_path)\n",
    "    add_consumption_sectors(co_name)\n",
    "    \n",
    "elif project == 'GSA no exiobase':\n",
    "    bw.bw2setup()\n",
    "    import_ecoinvent(ei36_path, ei36_name)\n",
    "    import_agribalyse_13(ag13_path, ei36_name)\n",
    "    # Consumption DB\n",
    "    create_ecoinvent_33_project(ei33_path)\n",
    "    exclude_dbs = [\n",
    "        'heia', \n",
    "        'EXIOBASE 2.2',\n",
    "    ]\n",
    "    import_consumption_db(co_path, habe_path, exclude_dbs=exclude_dbs)\n",
    "    add_consumption_activities(co_name, habe_path)\n",
    "    \n",
    "elif project == 'GSA for setac':\n",
    "    bw.bw2setup()\n",
    "    import_ecoinvent(ei36_path, ei36_name)\n",
    "    # Consumption DB\n",
    "    create_ecoinvent_33_project(ei33_path)\n",
    "    exclude_dbs = [\n",
    "        'heia', \n",
    "        'EXIOBASE 2.2',\n",
    "        'Agribalyse 1.2',\n",
    "        'Agribalyse 1.3 - ecoinvent 3.6 cutoff',\n",
    "    ]\n",
    "    import_consumption_db(co_path, habe_path, exclude_dbs=exclude_dbs)\n",
    "    add_consumption_activities(co_name, habe_path)\n",
    "    add_consumption_categories(co_name, co_path)\n",
    "    add_consumption_sectors(co_name)\n",
    "    \n",
    "elif project == 'GSA for oases':\n",
    "    bw.bw2setup()\n",
    "    import_ecoinvent(ei36_path, ei36_name)\n",
    "    # Consumption DB\n",
    "    create_ecoinvent_33_project(ei33_path)\n",
    "    import_agribalyse_13(ag13_path, ei36_name)\n",
    "    exclude_dbs = [\n",
    "        'heia', \n",
    "        'EXIOBASE 2.2',\n",
    "    ]\n",
    "#     import_consumption_db(co_path, habe_path, exclude_dbs=exclude_dbs)\n",
    "#     add_consumption_activities(co_name, habe_path)\n",
    "#     add_consumption_categories(co_name, co_path)\n",
    "#     add_consumption_sectors(co_name)"
   ]
  },
  {
   "cell_type": "code",
   "execution_count": null,
   "metadata": {},
   "outputs": [],
   "source": [
    "co = bw.Database('CH consumption 1.0')\n",
    "act = co.search('average consumption')[0]\n",
    "demand = {act: 1}\n",
    "method = ('IPCC 2013', 'climate change', 'GTP 100a')\n",
    "act"
   ]
  },
  {
   "cell_type": "code",
   "execution_count": null,
   "metadata": {},
   "outputs": [],
   "source": [
    "%%time\n",
    "lca = bw.LCA(demand, method)\n",
    "lca.lci()\n",
    "lca.lcia()\n",
    "lca.score"
   ]
  },
  {
   "cell_type": "code",
   "execution_count": null,
   "metadata": {},
   "outputs": [],
   "source": [
    "bw.databases"
   ]
  },
  {
   "cell_type": "code",
   "execution_count": 22,
   "metadata": {},
   "outputs": [
    {
     "data": {
      "text/plain": [
       "0.0"
      ]
     },
     "execution_count": 22,
     "metadata": {},
     "output_type": "execute_result"
    }
   ],
   "source": [
    "from bw2calc import MonteCarloLCA\n",
    "import brightway2 as bw\n",
    "bw.projects.set_current(\"GSA for oases\")\n",
    "bb = bw.Database(\"ecoinvent 3.6 cutoff\")\n",
    "cc = bw.Database(\"Agribalyse 1.3 - ecoinvent 3.6 cutoff\")\n",
    "method = (\"IPCC 2013\", \"climate change\", \"GTP 100a\")\n",
    "demand = {cc.random(): 1}\n",
    "lca = bw.LCA(demand, method)\n",
    "lca.lci()\n",
    "lca.lcia()\n",
    "lca.score"
   ]
  },
  {
   "cell_type": "code",
   "execution_count": 23,
   "metadata": {},
   "outputs": [
    {
     "data": {
      "text/plain": [
       "[0.0, 0.0, 0.0, 0.0, 0.0]"
      ]
     },
     "execution_count": 23,
     "metadata": {},
     "output_type": "execute_result"
    }
   ],
   "source": [
    "a = MonteCarloLCA(demand, method)\n",
    "[next(a) for _ in range(5)]"
   ]
  },
  {
   "cell_type": "code",
   "execution_count": null,
   "metadata": {},
   "outputs": [],
   "source": []
  }
 ],
 "metadata": {
  "kernelspec": {
   "display_name": "Python [conda env:gsa-dev]",
   "language": "python",
   "name": "conda-env-gsa-dev-py"
  },
  "language_info": {
   "codemirror_mode": {
    "name": "ipython",
    "version": 3
   },
   "file_extension": ".py",
   "mimetype": "text/x-python",
   "name": "python",
   "nbconvert_exporter": "python",
   "pygments_lexer": "ipython3",
   "version": "3.8.5"
  },
  "varInspector": {
   "cols": {
    "lenName": 16,
    "lenType": 16,
    "lenVar": 40
   },
   "kernels_config": {
    "python": {
     "delete_cmd_postfix": "",
     "delete_cmd_prefix": "del ",
     "library": "var_list.py",
     "varRefreshCmd": "print(var_dic_list())"
    },
    "r": {
     "delete_cmd_postfix": ") ",
     "delete_cmd_prefix": "rm(",
     "library": "var_list.r",
     "varRefreshCmd": "cat(var_dic_list()) "
    }
   },
   "types_to_exclude": [
    "module",
    "function",
    "builtin_function_or_method",
    "instance",
    "_Feature"
   ],
   "window_display": false
  }
 },
 "nbformat": 4,
 "nbformat_minor": 2
}
