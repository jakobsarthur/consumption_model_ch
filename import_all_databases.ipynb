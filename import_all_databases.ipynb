{
 "cells": [
  {
   "cell_type": "code",
   "execution_count": null,
   "metadata": {},
   "outputs": [],
   "source": [
    "import brightway2 as bw\n",
    "import numpy as np\n",
    "import json, os\n",
    "\n",
    "#Local files\n",
    "from import_databases import *"
   ]
  },
  {
   "cell_type": "code",
   "execution_count": null,
   "metadata": {},
   "outputs": [],
   "source": [
    "with open('global_settings.json', 'rb') as f:\n",
    "    settings = json.load(f)\n",
    "which_pc = settings['which_pc']\n",
    "which_pc"
   ]
  },
  {
   "cell_type": "markdown",
   "metadata": {},
   "source": [
    "### TODO -> give paths to databases files"
   ]
  },
  {
   "cell_type": "code",
   "execution_count": null,
   "metadata": {},
   "outputs": [],
   "source": [
    "if which_pc == 'local':\n",
    "    # Older databases\n",
    "    ei33_path = '/Users/akim/Documents/LCA_files/ecoinvent 3.3 cutoff/datasets'  \n",
    "    ex22_path = '/Users/akim/Documents/LCA_files/exiobase 2.2/mrIOT_IxI_fpa_coefficient_version2.2.2'\n",
    "    ag12_path = '/Users/akim/Documents/LCA_files/agribalyse 1.2/AGRIBALYSEv1.2_Complete.xml'\n",
    "    ei36_path = '/Users/akim/Documents/LCA_files/ecoinvent 3.6 cutoff/datasets'  \n",
    "    # Newer databases\n",
    "    ei371_path = '/Users/akim/Documents/LCA_files/ecoinvent 3.7.1 cutoff/datasets'  \n",
    "    # ex34_path = '/Users/akim/Documents/LCA_files/exiobase 3.4/IOT_2011_pxp/' #TODO\n",
    "    ag13_path = '/Users/akim/Documents/LCA_files/agribalyse 1.3/Agribalyse CSV FINAL_no links_Nov2016v3.CSV'\n",
    "    habe_path = '/Users/akim/Documents/LCA_files/HABE_2017/'\n",
    "    co_path = 'data/es8b01452_si_002.xlsx'\n",
    "elif which_pc == 'merlin':\n",
    "    ex22_path = '/data/user/kim_a/LCA_files/exiobase_22/mrIOT_IxI_fpa_coefficient_version2.2.2'\n",
    "    ei33_path = '/data/user/kim_a/LCA_files/ecoinvent_33_cutoff/datasets'  \n",
    "    ei36_path = '/data/user/kim_a/LCA_files/ecoinvent_36_cutoff/datasets'  \n",
    "    ag13_path = '/data/user/kim_a/LCA_files/agribalyse_13/Agribalyse CSV FINAL_no links_Nov2016v3.CSV'\n",
    "    habe_path = '/data/user/kim_a/LCA_files/HABE_2017'\n",
    "    co_path = 'data/es8b01452_si_002.xlsx'"
   ]
  },
  {
   "cell_type": "markdown",
   "metadata": {},
   "source": [
    "# TODO -> choose project"
   ]
  },
  {
   "cell_type": "code",
   "execution_count": null,
   "metadata": {},
   "outputs": [],
   "source": [
    "project = 'GSA for paper'\n",
    "bw.projects.set_current(project)\n",
    "# bw.projects.delete_project(project, delete_dir=True)\n",
    "\n",
    "ei36_name = 'ecoinvent 3.6 cutoff'\n",
    "ei371_name = 'ecoinvent 3.7.1 cutoff'\n",
    "ei_name = ei36_name"
   ]
  },
  {
   "cell_type": "code",
   "execution_count": null,
   "metadata": {},
   "outputs": [],
   "source": [
    "bw.databases"
   ]
  },
  {
   "cell_type": "code",
   "execution_count": null,
   "metadata": {},
   "outputs": [],
   "source": [
    "try:\n",
    "#     del bw.databases[\"Agribalyse 1.3 - {} - new biosphere\".format(ei_name)]\n",
    "#     del bw.databases[\"Agribalyse 1.3 - {}\".format(ei_name)]\n",
    "    del bw.databases[\"CH consumption 1.0\"]\n",
    "except:\n",
    "    pass"
   ]
  },
  {
   "cell_type": "markdown",
   "metadata": {},
   "source": [
    "### Import necessary databases"
   ]
  },
  {
   "cell_type": "code",
   "execution_count": null,
   "metadata": {
    "scrolled": false
   },
   "outputs": [],
   "source": [
    "%%time \n",
    "\n",
    "co_name = CONSUMPTION_DB_NAME\n",
    "\n",
    "if project == 'GSA for ecoinvent':\n",
    "    bw.bw2setup()\n",
    "    import_exiobase_22(ex22_path)\n",
    "    import_ecoinvent(ei36_path, ei36_name)\n",
    "    import_agribalyse_13(ag13_path, ei36_name)\n",
    "    # Consumption DB\n",
    "    create_ecoinvent_33_project(ei33_path)\n",
    "    import_consumption_db(co_path, habe_path, exclude_dbs=['heia'])\n",
    "    add_consumption_activities(co_name, habe_path)\n",
    "\n",
    "elif project == 'GSA for paper':\n",
    "    bw.bw2setup()\n",
    "    import_ecoinvent(ei36_path, ei36_name)\n",
    "    # Consumption DB\n",
    "    create_ecoinvent_33_project(ei33_path)\n",
    "    exclude_dbs = [\n",
    "        'heia', \n",
    "        'EXIOBASE 2.2',\n",
    "        'Agribalyse 1.2',\n",
    "        'Agribalyse 1.3 - ecoinvent 3.6 cutoff',\n",
    "    ]\n",
    "    import_consumption_db(co_path, habe_path, exclude_dbs=exclude_dbs)\n",
    "    add_consumption_activities(co_name, habe_path)\n",
    "    add_consumption_categories(co_name, co_path)\n",
    "    add_consumption_sectors(co_name)\n",
    "    \n",
    "elif project == 'GSA no exiobase':\n",
    "    bw.bw2setup()\n",
    "    import_ecoinvent(ei36_path, ei36_name)\n",
    "    import_agribalyse_13(ag13_path, ei36_name)\n",
    "    # Consumption DB\n",
    "    create_ecoinvent_33_project(ei33_path)\n",
    "    exclude_dbs = [\n",
    "        'heia', \n",
    "        'EXIOBASE 2.2',\n",
    "    ]\n",
    "    import_consumption_db(co_path, habe_path, exclude_dbs=exclude_dbs)\n",
    "    add_consumption_activities(co_name, habe_path)\n",
    "    \n",
    "elif project == 'GSA for setac':\n",
    "    bw.bw2setup()\n",
    "    import_ecoinvent(ei36_path, ei36_name)\n",
    "    # Consumption DB\n",
    "    create_ecoinvent_33_project(ei33_path)\n",
    "    exclude_dbs = [\n",
    "        'heia', \n",
    "        'EXIOBASE 2.2',\n",
    "        'Agribalyse 1.2',\n",
    "        'Agribalyse 1.3 - ecoinvent 3.6 cutoff',\n",
    "    ]\n",
    "    import_consumption_db(co_path, habe_path, exclude_dbs=exclude_dbs)\n",
    "    add_consumption_activities(co_name, habe_path)\n",
    "    add_consumption_categories(co_name, co_path)\n",
    "    add_consumption_sectors(co_name)\n",
    "    \n",
    "elif 'GSA for oases' in project:\n",
    "    bw.bw2setup()\n",
    "    import_ecoinvent(ei371_path, ei371_name)\n",
    "    # Consumption DB\n",
    "    create_ecoinvent_33_project(ei33_path)\n",
    "    import_agribalyse_13(ag13_path, ei371_name)\n",
    "    exclude_dbs = [\n",
    "        'heia', \n",
    "        'EXIOBASE 2.2',\n",
    "    ]\n",
    "    import_consumption_db(co_path, habe_path, exclude_dbs=exclude_dbs, ei_name=ei371_name)\n",
    "    add_consumption_activities(co_name, habe_path)\n",
    "    add_consumption_categories(co_name, co_path)\n",
    "    add_consumption_sectors(co_name)"
   ]
  },
  {
   "cell_type": "code",
   "execution_count": null,
   "metadata": {},
   "outputs": [],
   "source": [
    "co = bw.Database('CH consumption 1.0')\n",
    "act = co.search('average consumption')[0]\n",
    "demand = {act: 1}\n",
    "method = ('IPCC 2013', 'climate change', 'GWP 100a')\n",
    "act"
   ]
  },
  {
   "cell_type": "code",
   "execution_count": null,
   "metadata": {},
   "outputs": [],
   "source": [
    "%%time\n",
    "lca = bw.LCA(demand, method)\n",
    "lca.lci()\n",
    "lca.lcia()\n",
    "lca.score"
   ]
  },
  {
   "cell_type": "code",
   "execution_count": null,
   "metadata": {},
   "outputs": [],
   "source": [
    "from bw2calc import MonteCarloLCA\n",
    "mc = MonteCarloLCA(demand, method)\n",
    "[next(mc) for _ in range(5)]"
   ]
  },
  {
   "cell_type": "markdown",
   "metadata": {},
   "source": [
    "# ecoinvent 3.4 changes"
   ]
  },
  {
   "cell_type": "code",
   "execution_count": null,
   "metadata": {},
   "outputs": [],
   "source": [
    "import pandas as pd"
   ]
  },
  {
   "cell_type": "code",
   "execution_count": null,
   "metadata": {},
   "outputs": [],
   "source": [
    "path = \"/Users/akim/Downloads/correspondence_file_eiv3.3_to_eiv3.4_20170921_final.xlsx\""
   ]
  },
  {
   "cell_type": "code",
   "execution_count": null,
   "metadata": {},
   "outputs": [],
   "source": [
    "df_raw = pd.read_excel(path, sheet_name=\"cut-off\")"
   ]
  },
  {
   "cell_type": "code",
   "execution_count": null,
   "metadata": {},
   "outputs": [],
   "source": [
    "df = df_raw[13963].dropna()"
   ]
  },
  {
   "cell_type": "code",
   "execution_count": null,
   "metadata": {},
   "outputs": [],
   "source": [
    "for i,a in enumerate(df.values):\n",
    "    if 'steam' in a:\n",
    "        print(i,a)"
   ]
  },
  {
   "cell_type": "code",
   "execution_count": null,
   "metadata": {},
   "outputs": [],
   "source": [
    "df_raw.iloc[[11401,11403]][\"Unnamed: 31\"].values"
   ]
  },
  {
   "cell_type": "code",
   "execution_count": null,
   "metadata": {},
   "outputs": [],
   "source": [
    "df_raw.iloc[11401]"
   ]
  },
  {
   "cell_type": "code",
   "execution_count": null,
   "metadata": {},
   "outputs": [],
   "source": []
  },
  {
   "cell_type": "code",
   "execution_count": null,
   "metadata": {},
   "outputs": [],
   "source": []
  },
  {
   "cell_type": "code",
   "execution_count": null,
   "metadata": {},
   "outputs": [],
   "source": []
  },
  {
   "cell_type": "code",
   "execution_count": null,
   "metadata": {},
   "outputs": [],
   "source": []
  }
 ],
 "metadata": {
  "kernelspec": {
   "display_name": "Python 3",
   "language": "python",
   "name": "python3"
  },
  "language_info": {
   "codemirror_mode": {
    "name": "ipython",
    "version": 3
   },
   "file_extension": ".py",
   "mimetype": "text/x-python",
   "name": "python",
   "nbconvert_exporter": "python",
   "pygments_lexer": "ipython3",
   "version": "3.8.6"
  },
  "varInspector": {
   "cols": {
    "lenName": 16,
    "lenType": 16,
    "lenVar": 40
   },
   "kernels_config": {
    "python": {
     "delete_cmd_postfix": "",
     "delete_cmd_prefix": "del ",
     "library": "var_list.py",
     "varRefreshCmd": "print(var_dic_list())"
    },
    "r": {
     "delete_cmd_postfix": ") ",
     "delete_cmd_prefix": "rm(",
     "library": "var_list.r",
     "varRefreshCmd": "cat(var_dic_list()) "
    }
   },
   "types_to_exclude": [
    "module",
    "function",
    "builtin_function_or_method",
    "instance",
    "_Feature"
   ],
   "window_display": false
  }
 },
 "nbformat": 4,
 "nbformat_minor": 2
}
