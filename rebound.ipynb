{
 "cells": [
  {
   "cell_type": "code",
   "execution_count": null,
   "metadata": {},
   "outputs": [],
   "source": [
    "import brightway2 as bw\n",
    "import numpy as np\n",
    "from pathlib import Path\n",
    "import pickle, json\n",
    "from pypardiso import spsolve\n",
    "\n",
    "#Local files\n",
    "from import_databases import *\n",
    "from utils_exiobase import exiobaseLCA\n",
    "\n",
    "write_dir = Path(\"write_files\")"
   ]
  },
  {
   "cell_type": "markdown",
   "metadata": {},
   "source": [
    "# 1. Get exiobase scores"
   ]
  },
  {
   "cell_type": "code",
   "execution_count": null,
   "metadata": {},
   "outputs": [],
   "source": [
    "bw.projects.set_current(\"exiobase_industry_workaround\")\n",
    "exiobase_name = \"EXIOBASE 2.2\"\n",
    "ex = bw.Database(exiobase_name)\n",
    "methods = [\n",
    "    ('IPCC 2013', 'climate change', 'GTP 100a'),\n",
    "]"
   ]
  },
  {
   "cell_type": "code",
   "execution_count": null,
   "metadata": {},
   "outputs": [],
   "source": [
    "%%time\n",
    "# takes 20 min or so\n",
    "filepath = write_dir / \"exiobase_lca.pickle\"\n",
    "if not filepath.exists():\n",
    "    exiobase_scores_industry_workaround = {}\n",
    "    for i,act in enumerate(ex):\n",
    "        if i%500==0:\n",
    "            print(\"lca for act {0:4d}/{1}\".format(i,len(ex)))\n",
    "        db_code = (act.as_dict()[\"database\"], act.as_dict()[\"code\"])\n",
    "        demand = {act: 1}\n",
    "        lca = bw.LCA(demand, methods[0])\n",
    "        lca.lci()\n",
    "        lca.lcia()\n",
    "        exiobase_scores_industry_workaround[db_code] = {}\n",
    "        for method in methods:\n",
    "            lca.switch_method(method)\n",
    "            lca.redo_lcia()\n",
    "            exiobase_scores_industry_workaround[db_code].update({\n",
    "                method: lca.score\n",
    "            })\n",
    "    with open(filepath, 'wb') as f:\n",
    "        pickle.dump(exiobase_scores_industry_workaround, f)\n",
    "else:\n",
    "    with open(filepath, 'rb') as f:\n",
    "        exiobase_scores_industry_workaround = pickle.load(f)"
   ]
  },
  {
   "cell_type": "markdown",
   "metadata": {},
   "source": [
    "# 2. Import databases"
   ]
  },
  {
   "cell_type": "code",
   "execution_count": null,
   "metadata": {},
   "outputs": [],
   "source": [
    "which_pc = \"sasha\"\n",
    "\n",
    "project = \"rebound\"\n",
    "bw.projects.set_current(project)\n",
    "# del bw.databases['CH consumption 1.0']"
   ]
  },
  {
   "cell_type": "code",
   "execution_count": null,
   "metadata": {},
   "outputs": [],
   "source": [
    "if which_pc == 'sasha':\n",
    "    # Older databases\n",
    "    ei33_path = '/Users/akim/Documents/LCA_files/ecoinvent 3.3 cutoff/datasets'  \n",
    "    ex22_path = '/Users/akim/Documents/LCA_files/exiobase 2.2/mrIOT_IxI_fpa_coefficient_version2.2.2'\n",
    "    ag12_path = '/Users/akim/Documents/LCA_files/agribalyse 1.2/AGRIBALYSEv1.2_Complete.xml'\n",
    "    # Newer databases\n",
    "    ei36_path = '/Users/akim/Documents/LCA_files/ecoinvent 3.6 cutoff/datasets'  \n",
    "    # ex34_path = '/Users/akim/Documents/LCA_files/exiobase 3.4/IOT_2011_pxp/' #TODO\n",
    "    ag13_path = '/Users/akim/Documents/LCA_files/agribalyse 1.3/Agribalyse CSV FINAL_no links_Nov2016v3.CSV'\n",
    "    habe_path = '/Users/akim/Documents/LCA_files/HABE_2017/'\n",
    "    co_path = 'data/es8b01452_si_002.xlsx'"
   ]
  },
  {
   "cell_type": "code",
   "execution_count": null,
   "metadata": {},
   "outputs": [],
   "source": [
    "%%time \n",
    "# This takes a while\n",
    "ei36_name = 'ecoinvent 3.6 cutoff'\n",
    "co_name = CONSUMPTION_DB_NAME\n",
    "\n",
    "if project == 'rebound':\n",
    "    bw.bw2setup()\n",
    "    import_exiobase_22(ex22_path)\n",
    "    import_ecoinvent(ei36_path, ei36_name)\n",
    "    import_agribalyse_13(ag13_path, ei36_name)\n",
    "    # Consumption DB\n",
    "    create_ecoinvent_33_project(ei33_path)\n",
    "    exclude_dbs = [\n",
    "        'heia', \n",
    "    ]\n",
    "    import_consumption_db(co_path, habe_path, exclude_dbs=exclude_dbs)\n",
    "    add_consumption_activities(co_name, habe_path)\n",
    "    add_consumption_categories(co_name, co_path)\n",
    "    add_consumption_sectors(co_name)"
   ]
  },
  {
   "cell_type": "markdown",
   "metadata": {},
   "source": [
    "# 3. Compute total score for a given demand"
   ]
  },
  {
   "cell_type": "code",
   "execution_count": null,
   "metadata": {},
   "outputs": [],
   "source": [
    "co = bw.Database(CONSUMPTION_DB_NAME)\n",
    "demand_act = co.search('ch hh average consumption')\n",
    "assert len(demand_act) == 1\n",
    "demand = {demand_act[0]: 1}\n",
    "sectors = [act for act in co if 'sector' in act[\"name\"]]"
   ]
  },
  {
   "cell_type": "code",
   "execution_count": null,
   "metadata": {},
   "outputs": [],
   "source": [
    "%%time\n",
    "# This takes 30s or so\n",
    "exio_lca = exiobaseLCA(\n",
    "    project, \n",
    "    demand,\n",
    "    exiobase_scores_industry_workaround,\n",
    ")\n",
    "scores = exio_lca.compute_total_scores()\n",
    "scores"
   ]
  },
  {
   "cell_type": "markdown",
   "metadata": {},
   "source": [
    "# Contribution analysis"
   ]
  },
  {
   "cell_type": "code",
   "execution_count": null,
   "metadata": {},
   "outputs": [],
   "source": [
    "%%time\n",
    "project = 'rebound'\n",
    "co = bw.Database(\"CH consumption 1.0\")\n",
    "contribution_scores = {}\n",
    "i = 0\n",
    "# for act in sectors:\n",
    "for act in list(co):\n",
    "    demand = {act: 1}\n",
    "    exio_lca = exiobaseLCA(\n",
    "        project, \n",
    "        demand,\n",
    "        exiobase_scores_industry_workaround,\n",
    "    )\n",
    "    act_name = act[\"name\"]\n",
    "    score = exio_lca.compute_total_scores()\n",
    "    contribution_scores[act] = score\n",
    "    print(i, score[methods[0]], act)\n",
    "    i+=1"
   ]
  },
  {
   "cell_type": "code",
   "execution_count": null,
   "metadata": {},
   "outputs": [],
   "source": [
    "filepath = write_dir / \"contribution_scores.pickle\"\n",
    "with open(filepath, 'wb') as f:\n",
    "    pickle.dump(contribution_scores, f)"
   ]
  },
  {
   "cell_type": "code",
   "execution_count": null,
   "metadata": {},
   "outputs": [],
   "source": [
    "contribution_scores"
   ]
  },
  {
   "cell_type": "code",
   "execution_count": null,
   "metadata": {},
   "outputs": [],
   "source": []
  },
  {
   "cell_type": "code",
   "execution_count": null,
   "metadata": {},
   "outputs": [],
   "source": []
  }
 ],
 "metadata": {
  "kernelspec": {
   "display_name": "Python 3",
   "language": "python",
   "name": "python3"
  },
  "language_info": {
   "codemirror_mode": {
    "name": "ipython",
    "version": 3
   },
   "file_extension": ".py",
   "mimetype": "text/x-python",
   "name": "python",
   "nbconvert_exporter": "python",
   "pygments_lexer": "ipython3",
   "version": "3.8.5"
  },
  "pycharm": {
   "stem_cell": {
    "cell_type": "raw",
    "metadata": {
     "collapsed": false
    },
    "source": []
   }
  },
  "varInspector": {
   "cols": {
    "lenName": 16,
    "lenType": 16,
    "lenVar": 40
   },
   "kernels_config": {
    "python": {
     "delete_cmd_postfix": "",
     "delete_cmd_prefix": "del ",
     "library": "var_list.py",
     "varRefreshCmd": "print(var_dic_list())"
    },
    "r": {
     "delete_cmd_postfix": ") ",
     "delete_cmd_prefix": "rm(",
     "library": "var_list.r",
     "varRefreshCmd": "cat(var_dic_list()) "
    }
   },
   "types_to_exclude": [
    "module",
    "function",
    "builtin_function_or_method",
    "instance",
    "_Feature"
   ],
   "window_display": false
  }
 },
 "nbformat": 4,
 "nbformat_minor": 4
}
